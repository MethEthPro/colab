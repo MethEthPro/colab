{
  "nbformat": 4,
  "nbformat_minor": 0,
  "metadata": {
    "colab": {
      "provenance": [],
      "include_colab_link": true
    },
    "kernelspec": {
      "name": "python3",
      "display_name": "Python 3"
    },
    "language_info": {
      "name": "python"
    }
  },
  "cells": [
    {
      "cell_type": "markdown",
      "metadata": {
        "id": "view-in-github",
        "colab_type": "text"
      },
      "source": [
        "<a href=\"https://colab.research.google.com/github/MethEthPro/colab/blob/main/workshop/Day_4_RNN_GNN_Workshop.ipynb\" target=\"_parent\"><img src=\"https://colab.research.google.com/assets/colab-badge.svg\" alt=\"Open In Colab\"/></a>"
      ]
    },
    {
      "cell_type": "code",
      "execution_count": null,
      "metadata": {
        "id": "m0P9g7En8h7t",
        "collapsed": true,
        "colab": {
          "base_uri": "https://localhost:8080/"
        },
        "outputId": "1a17b615-83d6-4557-fa7d-363c69ae6b31"
      },
      "outputs": [
        {
          "output_type": "stream",
          "name": "stdout",
          "text": [
            "Collecting torch==2.0.1\n",
            "  Downloading torch-2.0.1-cp311-cp311-manylinux1_x86_64.whl.metadata (24 kB)\n",
            "Collecting torchtext==0.15.2\n",
            "  Downloading torchtext-0.15.2-cp311-cp311-manylinux1_x86_64.whl.metadata (7.4 kB)\n",
            "Collecting portalocker==2.8.2\n",
            "  Downloading portalocker-2.8.2-py3-none-any.whl.metadata (8.5 kB)\n",
            "Requirement already satisfied: filelock in /usr/local/lib/python3.11/dist-packages (from torch==2.0.1) (3.17.0)\n",
            "Requirement already satisfied: typing-extensions in /usr/local/lib/python3.11/dist-packages (from torch==2.0.1) (4.12.2)\n",
            "Requirement already satisfied: sympy in /usr/local/lib/python3.11/dist-packages (from torch==2.0.1) (1.13.1)\n",
            "Requirement already satisfied: networkx in /usr/local/lib/python3.11/dist-packages (from torch==2.0.1) (3.4.2)\n",
            "Requirement already satisfied: jinja2 in /usr/local/lib/python3.11/dist-packages (from torch==2.0.1) (3.1.5)\n",
            "Collecting nvidia-cuda-nvrtc-cu11==11.7.99 (from torch==2.0.1)\n",
            "  Downloading nvidia_cuda_nvrtc_cu11-11.7.99-2-py3-none-manylinux1_x86_64.whl.metadata (1.5 kB)\n",
            "Collecting nvidia-cuda-runtime-cu11==11.7.99 (from torch==2.0.1)\n",
            "  Downloading nvidia_cuda_runtime_cu11-11.7.99-py3-none-manylinux1_x86_64.whl.metadata (1.6 kB)\n",
            "Collecting nvidia-cuda-cupti-cu11==11.7.101 (from torch==2.0.1)\n",
            "  Downloading nvidia_cuda_cupti_cu11-11.7.101-py3-none-manylinux1_x86_64.whl.metadata (1.6 kB)\n",
            "Collecting nvidia-cudnn-cu11==8.5.0.96 (from torch==2.0.1)\n",
            "  Downloading nvidia_cudnn_cu11-8.5.0.96-2-py3-none-manylinux1_x86_64.whl.metadata (1.6 kB)\n",
            "Collecting nvidia-cublas-cu11==11.10.3.66 (from torch==2.0.1)\n",
            "  Downloading nvidia_cublas_cu11-11.10.3.66-py3-none-manylinux1_x86_64.whl.metadata (1.6 kB)\n",
            "Collecting nvidia-cufft-cu11==10.9.0.58 (from torch==2.0.1)\n",
            "  Downloading nvidia_cufft_cu11-10.9.0.58-py3-none-manylinux2014_x86_64.whl.metadata (1.5 kB)\n",
            "Collecting nvidia-curand-cu11==10.2.10.91 (from torch==2.0.1)\n",
            "  Downloading nvidia_curand_cu11-10.2.10.91-py3-none-manylinux1_x86_64.whl.metadata (1.6 kB)\n",
            "Collecting nvidia-cusolver-cu11==11.4.0.1 (from torch==2.0.1)\n",
            "  Downloading nvidia_cusolver_cu11-11.4.0.1-2-py3-none-manylinux1_x86_64.whl.metadata (1.6 kB)\n",
            "Collecting nvidia-cusparse-cu11==11.7.4.91 (from torch==2.0.1)\n",
            "  Downloading nvidia_cusparse_cu11-11.7.4.91-py3-none-manylinux1_x86_64.whl.metadata (1.6 kB)\n",
            "Collecting nvidia-nccl-cu11==2.14.3 (from torch==2.0.1)\n",
            "  Downloading nvidia_nccl_cu11-2.14.3-py3-none-manylinux1_x86_64.whl.metadata (1.8 kB)\n",
            "Collecting nvidia-nvtx-cu11==11.7.91 (from torch==2.0.1)\n",
            "  Downloading nvidia_nvtx_cu11-11.7.91-py3-none-manylinux1_x86_64.whl.metadata (1.7 kB)\n",
            "Collecting triton==2.0.0 (from torch==2.0.1)\n",
            "  Downloading triton-2.0.0-1-cp311-cp311-manylinux2014_x86_64.manylinux_2_17_x86_64.whl.metadata (1.0 kB)\n",
            "Requirement already satisfied: tqdm in /usr/local/lib/python3.11/dist-packages (from torchtext==0.15.2) (4.67.1)\n",
            "Requirement already satisfied: requests in /usr/local/lib/python3.11/dist-packages (from torchtext==0.15.2) (2.32.3)\n",
            "Requirement already satisfied: numpy in /usr/local/lib/python3.11/dist-packages (from torchtext==0.15.2) (1.26.4)\n",
            "Collecting torchdata==0.6.1 (from torchtext==0.15.2)\n",
            "  Downloading torchdata-0.6.1-cp311-cp311-manylinux_2_17_x86_64.manylinux2014_x86_64.whl.metadata (13 kB)\n",
            "Requirement already satisfied: setuptools in /usr/local/lib/python3.11/dist-packages (from nvidia-cublas-cu11==11.10.3.66->torch==2.0.1) (75.1.0)\n",
            "Requirement already satisfied: wheel in /usr/local/lib/python3.11/dist-packages (from nvidia-cublas-cu11==11.10.3.66->torch==2.0.1) (0.45.1)\n",
            "Requirement already satisfied: urllib3>=1.25 in /usr/local/lib/python3.11/dist-packages (from torchdata==0.6.1->torchtext==0.15.2) (2.3.0)\n",
            "Requirement already satisfied: cmake in /usr/local/lib/python3.11/dist-packages (from triton==2.0.0->torch==2.0.1) (3.31.4)\n",
            "Collecting lit (from triton==2.0.0->torch==2.0.1)\n",
            "  Downloading lit-18.1.8-py3-none-any.whl.metadata (2.5 kB)\n",
            "Requirement already satisfied: MarkupSafe>=2.0 in /usr/local/lib/python3.11/dist-packages (from jinja2->torch==2.0.1) (3.0.2)\n",
            "Requirement already satisfied: charset-normalizer<4,>=2 in /usr/local/lib/python3.11/dist-packages (from requests->torchtext==0.15.2) (3.4.1)\n",
            "Requirement already satisfied: idna<4,>=2.5 in /usr/local/lib/python3.11/dist-packages (from requests->torchtext==0.15.2) (3.10)\n",
            "Requirement already satisfied: certifi>=2017.4.17 in /usr/local/lib/python3.11/dist-packages (from requests->torchtext==0.15.2) (2024.12.14)\n",
            "Requirement already satisfied: mpmath<1.4,>=1.1.0 in /usr/local/lib/python3.11/dist-packages (from sympy->torch==2.0.1) (1.3.0)\n",
            "Downloading torch-2.0.1-cp311-cp311-manylinux1_x86_64.whl (619.9 MB)\n",
            "\u001b[2K   \u001b[90m━━━━━━━━━━━━━━━━━━━━━━━━━━━━━━━━━━━━━━━━\u001b[0m \u001b[32m619.9/619.9 MB\u001b[0m \u001b[31m2.3 MB/s\u001b[0m eta \u001b[36m0:00:00\u001b[0m\n",
            "\u001b[?25hDownloading torchtext-0.15.2-cp311-cp311-manylinux1_x86_64.whl (2.0 MB)\n",
            "\u001b[2K   \u001b[90m━━━━━━━━━━━━━━━━━━━━━━━━━━━━━━━━━━━━━━━━\u001b[0m \u001b[32m2.0/2.0 MB\u001b[0m \u001b[31m36.5 MB/s\u001b[0m eta \u001b[36m0:00:00\u001b[0m\n",
            "\u001b[?25hDownloading portalocker-2.8.2-py3-none-any.whl (17 kB)\n",
            "Downloading nvidia_cublas_cu11-11.10.3.66-py3-none-manylinux1_x86_64.whl (317.1 MB)\n",
            "\u001b[2K   \u001b[90m━━━━━━━━━━━━━━━━━━━━━━━━━━━━━━━━━━━━━━━━\u001b[0m \u001b[32m317.1/317.1 MB\u001b[0m \u001b[31m5.0 MB/s\u001b[0m eta \u001b[36m0:00:00\u001b[0m\n",
            "\u001b[?25hDownloading nvidia_cuda_cupti_cu11-11.7.101-py3-none-manylinux1_x86_64.whl (11.8 MB)\n",
            "\u001b[2K   \u001b[90m━━━━━━━━━━━━━━━━━━━━━━━━━━━━━━━━━━━━━━━━\u001b[0m \u001b[32m11.8/11.8 MB\u001b[0m \u001b[31m100.8 MB/s\u001b[0m eta \u001b[36m0:00:00\u001b[0m\n",
            "\u001b[?25hDownloading nvidia_cuda_nvrtc_cu11-11.7.99-2-py3-none-manylinux1_x86_64.whl (21.0 MB)\n",
            "\u001b[2K   \u001b[90m━━━━━━━━━━━━━━━━━━━━━━━━━━━━━━━━━━━━━━━━\u001b[0m \u001b[32m21.0/21.0 MB\u001b[0m \u001b[31m79.4 MB/s\u001b[0m eta \u001b[36m0:00:00\u001b[0m\n",
            "\u001b[?25hDownloading nvidia_cuda_runtime_cu11-11.7.99-py3-none-manylinux1_x86_64.whl (849 kB)\n",
            "\u001b[2K   \u001b[90m━━━━━━━━━━━━━━━━━━━━━━━━━━━━━━━━━━━━━━━━\u001b[0m \u001b[32m849.3/849.3 kB\u001b[0m \u001b[31m44.9 MB/s\u001b[0m eta \u001b[36m0:00:00\u001b[0m\n",
            "\u001b[?25hDownloading nvidia_cudnn_cu11-8.5.0.96-2-py3-none-manylinux1_x86_64.whl (557.1 MB)\n",
            "\u001b[2K   \u001b[90m━━━━━━━━━━━━━━━━━━━━━━━━━━━━━━━━━━━━━━━━\u001b[0m \u001b[32m557.1/557.1 MB\u001b[0m \u001b[31m2.0 MB/s\u001b[0m eta \u001b[36m0:00:00\u001b[0m\n",
            "\u001b[?25hDownloading nvidia_cufft_cu11-10.9.0.58-py3-none-manylinux2014_x86_64.whl (168.4 MB)\n",
            "\u001b[2K   \u001b[90m━━━━━━━━━━━━━━━━━━━━━━━━━━━━━━━━━━━━━━━━\u001b[0m \u001b[32m168.4/168.4 MB\u001b[0m \u001b[31m6.6 MB/s\u001b[0m eta \u001b[36m0:00:00\u001b[0m\n",
            "\u001b[?25hDownloading nvidia_curand_cu11-10.2.10.91-py3-none-manylinux1_x86_64.whl (54.6 MB)\n",
            "\u001b[2K   \u001b[90m━━━━━━━━━━━━━━━━━━━━━━━━━━━━━━━━━━━━━━━━\u001b[0m \u001b[32m54.6/54.6 MB\u001b[0m \u001b[31m11.9 MB/s\u001b[0m eta \u001b[36m0:00:00\u001b[0m\n",
            "\u001b[?25hDownloading nvidia_cusolver_cu11-11.4.0.1-2-py3-none-manylinux1_x86_64.whl (102.6 MB)\n",
            "\u001b[2K   \u001b[90m━━━━━━━━━━━━━━━━━━━━━━━━━━━━━━━━━━━━━━━━\u001b[0m \u001b[32m102.6/102.6 MB\u001b[0m \u001b[31m8.1 MB/s\u001b[0m eta \u001b[36m0:00:00\u001b[0m\n",
            "\u001b[?25hDownloading nvidia_cusparse_cu11-11.7.4.91-py3-none-manylinux1_x86_64.whl (173.2 MB)\n",
            "\u001b[2K   \u001b[90m━━━━━━━━━━━━━━━━━━━━━━━━━━━━━━━━━━━━━━━━\u001b[0m \u001b[32m173.2/173.2 MB\u001b[0m \u001b[31m6.5 MB/s\u001b[0m eta \u001b[36m0:00:00\u001b[0m\n",
            "\u001b[?25hDownloading nvidia_nccl_cu11-2.14.3-py3-none-manylinux1_x86_64.whl (177.1 MB)\n",
            "\u001b[2K   \u001b[90m━━━━━━━━━━━━━━━━━━━━━━━━━━━━━━━━━━━━━━━━\u001b[0m \u001b[32m177.1/177.1 MB\u001b[0m \u001b[31m6.3 MB/s\u001b[0m eta \u001b[36m0:00:00\u001b[0m\n",
            "\u001b[?25hDownloading nvidia_nvtx_cu11-11.7.91-py3-none-manylinux1_x86_64.whl (98 kB)\n",
            "\u001b[2K   \u001b[90m━━━━━━━━━━━━━━━━━━━━━━━━━━━━━━━━━━━━━━━━\u001b[0m \u001b[32m98.6/98.6 kB\u001b[0m \u001b[31m7.8 MB/s\u001b[0m eta \u001b[36m0:00:00\u001b[0m\n",
            "\u001b[?25hDownloading torchdata-0.6.1-cp311-cp311-manylinux_2_17_x86_64.manylinux2014_x86_64.whl (4.6 MB)\n",
            "\u001b[2K   \u001b[90m━━━━━━━━━━━━━━━━━━━━━━━━━━━━━━━━━━━━━━━━\u001b[0m \u001b[32m4.6/4.6 MB\u001b[0m \u001b[31m7.2 MB/s\u001b[0m eta \u001b[36m0:00:00\u001b[0m\n",
            "\u001b[?25hDownloading triton-2.0.0-1-cp311-cp311-manylinux2014_x86_64.manylinux_2_17_x86_64.whl (63.3 MB)\n",
            "\u001b[2K   \u001b[90m━━━━━━━━━━━━━━━━━━━━━━━━━━━━━━━━━━━━━━━━\u001b[0m \u001b[32m63.3/63.3 MB\u001b[0m \u001b[31m11.8 MB/s\u001b[0m eta \u001b[36m0:00:00\u001b[0m\n",
            "\u001b[?25hDownloading lit-18.1.8-py3-none-any.whl (96 kB)\n",
            "\u001b[2K   \u001b[90m━━━━━━━━━━━━━━━━━━━━━━━━━━━━━━━━━━━━━━━━\u001b[0m \u001b[32m96.4/96.4 kB\u001b[0m \u001b[31m7.7 MB/s\u001b[0m eta \u001b[36m0:00:00\u001b[0m\n",
            "\u001b[?25hInstalling collected packages: lit, portalocker, nvidia-nvtx-cu11, nvidia-nccl-cu11, nvidia-cusparse-cu11, nvidia-curand-cu11, nvidia-cufft-cu11, nvidia-cuda-runtime-cu11, nvidia-cuda-nvrtc-cu11, nvidia-cuda-cupti-cu11, nvidia-cublas-cu11, nvidia-cusolver-cu11, nvidia-cudnn-cu11, triton, torch, torchdata, torchtext\n",
            "  Attempting uninstall: triton\n",
            "    Found existing installation: triton 3.1.0\n",
            "    Uninstalling triton-3.1.0:\n",
            "      Successfully uninstalled triton-3.1.0\n",
            "  Attempting uninstall: torch\n",
            "    Found existing installation: torch 2.5.1+cu121\n",
            "    Uninstalling torch-2.5.1+cu121:\n",
            "      Successfully uninstalled torch-2.5.1+cu121\n",
            "\u001b[31mERROR: pip's dependency resolver does not currently take into account all the packages that are installed. This behaviour is the source of the following dependency conflicts.\n",
            "torchaudio 2.5.1+cu121 requires torch==2.5.1, but you have torch 2.0.1 which is incompatible.\n",
            "torchvision 0.20.1+cu121 requires torch==2.5.1, but you have torch 2.0.1 which is incompatible.\u001b[0m\u001b[31m\n",
            "\u001b[0mSuccessfully installed lit-18.1.8 nvidia-cublas-cu11-11.10.3.66 nvidia-cuda-cupti-cu11-11.7.101 nvidia-cuda-nvrtc-cu11-11.7.99 nvidia-cuda-runtime-cu11-11.7.99 nvidia-cudnn-cu11-8.5.0.96 nvidia-cufft-cu11-10.9.0.58 nvidia-curand-cu11-10.2.10.91 nvidia-cusolver-cu11-11.4.0.1 nvidia-cusparse-cu11-11.7.4.91 nvidia-nccl-cu11-2.14.3 nvidia-nvtx-cu11-11.7.91 portalocker-2.8.2 torch-2.0.1 torchdata-0.6.1 torchtext-0.15.2 triton-2.0.0\n"
          ]
        }
      ],
      "source": [
        "!pip install torch==2.0.1 torchtext==0.15.2 portalocker==2.8.2\n"
      ]
    },
    {
      "cell_type": "code",
      "source": [
        "import torch\n",
        "import torch.nn as nn\n",
        "import torch.optim as optim\n",
        "import torch.nn.functional as F\n"
      ],
      "metadata": {
        "id": "3xVKdL-rwtOP"
      },
      "execution_count": null,
      "outputs": []
    },
    {
      "cell_type": "markdown",
      "source": [
        "Simulate  batch-size=3 with sequences of length=10, where single data input is 5 dimensional"
      ],
      "metadata": {
        "id": "DcRSx4p1oUOl"
      }
    },
    {
      "cell_type": "code",
      "source": [
        "## (batch size, sequence length, input_size)\n",
        "\n",
        "X = torch.randint(1, 10, (3, 10, 5), dtype = torch.float32)\n",
        "y = torch.tensor([1, 0, 1], dtype = torch.long)"
      ],
      "metadata": {
        "id": "88gW0bdh015J"
      },
      "execution_count": null,
      "outputs": []
    },
    {
      "cell_type": "code",
      "source": [
        "print(X.shape, X)\n",
        "print(y.shape, y)\n",
        "y"
      ],
      "metadata": {
        "colab": {
          "base_uri": "https://localhost:8080/"
        },
        "id": "kkcMmCZ21Uft",
        "outputId": "23140bee-b1d9-4216-d0e7-ff6bc30794a1"
      },
      "execution_count": null,
      "outputs": [
        {
          "output_type": "stream",
          "name": "stdout",
          "text": [
            "torch.Size([3, 10, 5]) tensor([[[8., 2., 1., 3., 6.],\n",
            "         [4., 8., 8., 7., 1.],\n",
            "         [8., 9., 4., 7., 5.],\n",
            "         [8., 2., 3., 6., 5.],\n",
            "         [9., 7., 1., 6., 9.],\n",
            "         [5., 5., 8., 5., 5.],\n",
            "         [2., 9., 2., 2., 8.],\n",
            "         [7., 3., 9., 9., 1.],\n",
            "         [5., 3., 1., 6., 1.],\n",
            "         [3., 2., 2., 1., 9.]],\n",
            "\n",
            "        [[2., 1., 8., 4., 6.],\n",
            "         [8., 8., 3., 1., 8.],\n",
            "         [9., 1., 8., 3., 7.],\n",
            "         [6., 5., 5., 3., 1.],\n",
            "         [3., 8., 1., 5., 3.],\n",
            "         [8., 5., 2., 6., 8.],\n",
            "         [8., 6., 5., 1., 9.],\n",
            "         [8., 9., 2., 6., 1.],\n",
            "         [9., 3., 7., 2., 6.],\n",
            "         [5., 2., 1., 6., 9.]],\n",
            "\n",
            "        [[6., 3., 8., 7., 6.],\n",
            "         [8., 5., 1., 9., 6.],\n",
            "         [1., 2., 3., 1., 7.],\n",
            "         [6., 2., 7., 7., 9.],\n",
            "         [5., 7., 9., 5., 2.],\n",
            "         [2., 5., 6., 2., 3.],\n",
            "         [7., 7., 7., 5., 6.],\n",
            "         [4., 5., 5., 8., 5.],\n",
            "         [6., 1., 2., 8., 6.],\n",
            "         [5., 3., 3., 1., 1.]]])\n",
            "torch.Size([3]) tensor([1, 0, 1])\n"
          ]
        },
        {
          "output_type": "execute_result",
          "data": {
            "text/plain": [
              "tensor([1, 0, 1])"
            ]
          },
          "metadata": {},
          "execution_count": 5
        }
      ]
    },
    {
      "cell_type": "markdown",
      "source": [
        "https://pytorch.org/docs/stable/generated/torch.nn.RNN.html"
      ],
      "metadata": {
        "id": "NIQzgxlhnqyu"
      }
    },
    {
      "cell_type": "code",
      "source": [
        "## input_size, hidden_size, num_layers\n",
        "rnn = nn.RNN(5, 3, 2, batch_first = True, nonlinearity = 'relu')"
      ],
      "metadata": {
        "id": "jsHVzG2I1ioH"
      },
      "execution_count": null,
      "outputs": []
    },
    {
      "cell_type": "code",
      "source": [
        "output, hidden = rnn(X)  ## (batch_size, sequence_length, input_size)"
      ],
      "metadata": {
        "id": "-xaz-ZvU2NAz"
      },
      "execution_count": null,
      "outputs": []
    },
    {
      "cell_type": "code",
      "source": [
        "print(\"Output State:\", output.shape, output, \"\\n\\n\")    ## (batch_size, sequence_length, output_size)\n",
        "\n",
        "\n",
        "## the final hidden state for each element in the batch.\n",
        "print(\"Hidden State:\", hidden.shape, hidden)    ## (num_layers, batch_size, output_size)"
      ],
      "metadata": {
        "colab": {
          "base_uri": "https://localhost:8080/"
        },
        "id": "sOMdbmQk2bpy",
        "outputId": "68d9dd37-7b68-472c-99d1-4682d40844e5"
      },
      "execution_count": null,
      "outputs": [
        {
          "output_type": "stream",
          "name": "stdout",
          "text": [
            "Output State: torch.Size([3, 10, 3]) tensor([[[0.0000, 1.4807, 0.6795],\n",
            "         [0.0000, 0.0000, 0.0000],\n",
            "         [0.3624, 0.3062, 0.0000],\n",
            "         [0.3615, 0.0000, 0.0000],\n",
            "         [0.0000, 2.1668, 0.7849],\n",
            "         [0.0000, 1.1149, 0.0000],\n",
            "         [0.0000, 0.4459, 0.0000],\n",
            "         [0.0000, 0.9631, 0.0000],\n",
            "         [0.0000, 1.0516, 0.0000],\n",
            "         [0.0000, 1.8234, 0.4883]],\n",
            "\n",
            "        [[0.0000, 1.6229, 0.7770],\n",
            "         [0.0000, 1.7532, 0.1737],\n",
            "         [0.1203, 0.0000, 0.0000],\n",
            "         [0.0000, 1.2227, 0.4531],\n",
            "         [0.0000, 0.7418, 0.0000],\n",
            "         [0.0000, 2.4568, 0.8396],\n",
            "         [0.2108, 0.0781, 0.0000],\n",
            "         [0.0297, 1.2762, 0.5030],\n",
            "         [0.1383, 0.3183, 0.0000],\n",
            "         [0.0000, 1.6335, 0.1168]],\n",
            "\n",
            "        [[0.0467, 0.1129, 0.0000],\n",
            "         [0.0000, 1.4788, 0.7272],\n",
            "         [0.0000, 1.1455, 0.0000],\n",
            "         [0.2792, 0.0596, 0.0000],\n",
            "         [0.0000, 0.0000, 0.0000],\n",
            "         [0.0000, 2.5418, 0.4779],\n",
            "         [0.0000, 0.0000, 0.0000],\n",
            "         [0.0000, 2.1049, 1.3202],\n",
            "         [0.1744, 0.3196, 0.0000],\n",
            "         [0.0000, 2.0891, 1.3747]]], grad_fn=<TransposeBackward1>) \n",
            "\n",
            "\n",
            "Hidden State: torch.Size([2, 3, 3]) tensor([[[4.7938, 0.0000, 1.2666],\n",
            "         [2.9538, 1.3428, 2.8912],\n",
            "         [6.1172, 0.0000, 0.0000]],\n",
            "\n",
            "        [[0.0000, 1.8234, 0.4883],\n",
            "         [0.0000, 1.6335, 0.1168],\n",
            "         [0.0000, 2.0891, 1.3747]]], grad_fn=<StackBackward0>)\n"
          ]
        }
      ]
    },
    {
      "cell_type": "code",
      "source": [
        "## the learnable input-hidden weights of the rnn layer, of shape (hidden_size, input_size)\n",
        "rnn.weight_ih_l0"
      ],
      "metadata": {
        "colab": {
          "base_uri": "https://localhost:8080/"
        },
        "id": "oyW83S1321F2",
        "outputId": "51b954ea-2cdf-4e40-ba9d-3df1c92d06e0"
      },
      "execution_count": null,
      "outputs": [
        {
          "output_type": "execute_result",
          "data": {
            "text/plain": [
              "Parameter containing:\n",
              "tensor([[ 0.1259, -0.1443, -0.2956,  0.5486,  0.3926],\n",
              "        [-0.4711,  0.4479,  0.5329,  0.0552, -0.4238],\n",
              "        [ 0.0595, -0.5001,  0.1705,  0.4033, -0.3533]], requires_grad=True)"
            ]
          },
          "metadata": {},
          "execution_count": 8
        }
      ]
    },
    {
      "cell_type": "code",
      "source": [
        "class simplernn(nn.Module):\n",
        "  def __init__(self, input_size, hidden_size, output_size):\n",
        "    super(simplernn, self).__init__()\n",
        "    self.rnn = nn.RNN(input_size, hidden_size, batch_first = True)\n",
        "    self.fc = nn.Linear(hidden_size, output_size)\n",
        "\n",
        "  def forward(self, x):\n",
        "    out, hidd = self.rnn(x)\n",
        "    final_hidden_state = hidd[-1]\n",
        "    return self.fc(final_hidden_state)"
      ],
      "metadata": {
        "id": "kD2dPhCm4rDR"
      },
      "execution_count": null,
      "outputs": []
    },
    {
      "cell_type": "code",
      "source": [
        "input_size = 5\n",
        "hidden_size = 3\n",
        "output_size = 2\n",
        "\n",
        "model = simplernn(input_size, hidden_size, output_size)\n",
        "\n"
      ],
      "metadata": {
        "id": "YWqYmzHm5zU9"
      },
      "execution_count": null,
      "outputs": []
    },
    {
      "cell_type": "code",
      "source": [
        "criterion = nn.CrossEntropyLoss()\n",
        "optimizer = optim.Adam(model.parameters(), lr = 0.1)"
      ],
      "metadata": {
        "id": "jNJxtLKB6JNN"
      },
      "execution_count": null,
      "outputs": []
    },
    {
      "cell_type": "code",
      "source": [
        "# forward pass\n",
        "for epoch in range(3):\n",
        "  running_loss = 0\n",
        "  model.train()\n",
        "  output = model(X)\n",
        "  loss = criterion(output, y)\n",
        "\n",
        "  ## backprop\n",
        "\n",
        "  optimizer.zero_grad()\n",
        "  loss.backward()\n",
        "  optimizer.step()\n",
        "\n",
        "  running_loss += loss.item()\n",
        "\n",
        "  print(running_loss)\n",
        "\n"
      ],
      "metadata": {
        "colab": {
          "base_uri": "https://localhost:8080/"
        },
        "collapsed": true,
        "id": "lx7yhbYb6YXv",
        "outputId": "4b191130-29c7-4644-80e0-37fea9bf792d"
      },
      "execution_count": null,
      "outputs": [
        {
          "output_type": "stream",
          "name": "stdout",
          "text": [
            "0.8661236763000488\n",
            "0.655304491519928\n",
            "0.6500042080879211\n"
          ]
        }
      ]
    },
    {
      "cell_type": "code",
      "source": [
        "import torchtext\n",
        "import torchtext.datasets as datasets"
      ],
      "metadata": {
        "id": "hIbQVkAi72G1"
      },
      "execution_count": null,
      "outputs": []
    },
    {
      "cell_type": "code",
      "source": [
        "dir(datasets)"
      ],
      "metadata": {
        "colab": {
          "base_uri": "https://localhost:8080/"
        },
        "collapsed": true,
        "id": "YBTlrW1W7_14",
        "outputId": "064b443e-7830-417c-9b92-36f8a9556280"
      },
      "execution_count": null,
      "outputs": [
        {
          "output_type": "execute_result",
          "data": {
            "text/plain": [
              "['AG_NEWS',\n",
              " 'AmazonReviewFull',\n",
              " 'AmazonReviewPolarity',\n",
              " 'CC100',\n",
              " 'CNNDM',\n",
              " 'CoLA',\n",
              " 'CoNLL2000Chunking',\n",
              " 'DATASETS',\n",
              " 'DBpedia',\n",
              " 'EnWik9',\n",
              " 'IMDB',\n",
              " 'IWSLT2016',\n",
              " 'IWSLT2017',\n",
              " 'MD5',\n",
              " 'MNLI',\n",
              " 'MRPC',\n",
              " 'Multi30k',\n",
              " 'NUM_LINES',\n",
              " 'PennTreebank',\n",
              " 'QNLI',\n",
              " 'QQP',\n",
              " 'RTE',\n",
              " 'SQuAD1',\n",
              " 'SQuAD2',\n",
              " 'SST2',\n",
              " 'STSB',\n",
              " 'SogouNews',\n",
              " 'UDPOS',\n",
              " 'URLS',\n",
              " 'WNLI',\n",
              " 'WikiText103',\n",
              " 'WikiText2',\n",
              " 'YahooAnswers',\n",
              " 'YelpReviewFull',\n",
              " 'YelpReviewPolarity',\n",
              " '__all__',\n",
              " '__builtins__',\n",
              " '__cached__',\n",
              " '__doc__',\n",
              " '__file__',\n",
              " '__loader__',\n",
              " '__name__',\n",
              " '__package__',\n",
              " '__path__',\n",
              " '__spec__',\n",
              " 'ag_news',\n",
              " 'amazonreviewfull',\n",
              " 'amazonreviewpolarity',\n",
              " 'cc100',\n",
              " 'cnndm',\n",
              " 'cola',\n",
              " 'conll2000chunking',\n",
              " 'dataset',\n",
              " 'dataset_module',\n",
              " 'dataset_module_path',\n",
              " 'dbpedia',\n",
              " 'enwik9',\n",
              " 'imdb',\n",
              " 'importlib',\n",
              " 'iwslt2016',\n",
              " 'iwslt2017',\n",
              " 'mnli',\n",
              " 'mrpc',\n",
              " 'multi30k',\n",
              " 'penntreebank',\n",
              " 'qnli',\n",
              " 'qqp',\n",
              " 'rte',\n",
              " 'sogounews',\n",
              " 'squad1',\n",
              " 'squad2',\n",
              " 'sst2',\n",
              " 'stsb',\n",
              " 'udpos',\n",
              " 'wikitext103',\n",
              " 'wikitext2',\n",
              " 'wnli',\n",
              " 'yahooanswers',\n",
              " 'yelpreviewfull',\n",
              " 'yelpreviewpolarity']"
            ]
          },
          "metadata": {},
          "execution_count": 14
        }
      ]
    },
    {
      "cell_type": "code",
      "source": [
        "train_iter = datasets.IMDB(split = 'train')"
      ],
      "metadata": {
        "id": "UNBJ63uH8HIS"
      },
      "execution_count": null,
      "outputs": []
    },
    {
      "cell_type": "code",
      "source": [
        "train_iter"
      ],
      "metadata": {
        "colab": {
          "base_uri": "https://localhost:8080/"
        },
        "id": "AUUtC6u28W5G",
        "outputId": "5b9779d3-91ec-43ed-ea87-898ddce3c409"
      },
      "execution_count": null,
      "outputs": [
        {
          "output_type": "execute_result",
          "data": {
            "text/plain": [
              "ShardingFilterIterDataPipe"
            ]
          },
          "metadata": {},
          "execution_count": 16
        }
      ]
    },
    {
      "cell_type": "code",
      "source": [
        "for idx, (label, sent) in enumerate(train_iter):\n",
        "  print(sent)\n",
        "  print(\"Label:\", label)\n",
        "\n",
        "  if idx ==10:\n",
        "    break"
      ],
      "metadata": {
        "colab": {
          "base_uri": "https://localhost:8080/"
        },
        "id": "nlf57pDZ8bON",
        "outputId": "8f2c11a9-7f23-4e04-bc35-a67fd50c5288"
      },
      "execution_count": null,
      "outputs": [
        {
          "output_type": "stream",
          "name": "stdout",
          "text": [
            "I rented I AM CURIOUS-YELLOW from my video store because of all the controversy that surrounded it when it was first released in 1967. I also heard that at first it was seized by U.S. customs if it ever tried to enter this country, therefore being a fan of films considered \"controversial\" I really had to see this for myself.<br /><br />The plot is centered around a young Swedish drama student named Lena who wants to learn everything she can about life. In particular she wants to focus her attentions to making some sort of documentary on what the average Swede thought about certain political issues such as the Vietnam War and race issues in the United States. In between asking politicians and ordinary denizens of Stockholm about their opinions on politics, she has sex with her drama teacher, classmates, and married men.<br /><br />What kills me about I AM CURIOUS-YELLOW is that 40 years ago, this was considered pornographic. Really, the sex and nudity scenes are few and far between, even then it's not shot like some cheaply made porno. While my countrymen mind find it shocking, in reality sex and nudity are a major staple in Swedish cinema. Even Ingmar Bergman, arguably their answer to good old boy John Ford, had sex scenes in his films.<br /><br />I do commend the filmmakers for the fact that any sex shown in the film is shown for artistic purposes rather than just to shock people and make money to be shown in pornographic theaters in America. I AM CURIOUS-YELLOW is a good film for anyone wanting to study the meat and potatoes (no pun intended) of Swedish cinema. But really, this film doesn't have much of a plot.\n",
            "Label: 1\n",
            "\"I Am Curious: Yellow\" is a risible and pretentious steaming pile. It doesn't matter what one's political views are because this film can hardly be taken seriously on any level. As for the claim that frontal male nudity is an automatic NC-17, that isn't true. I've seen R-rated films with male nudity. Granted, they only offer some fleeting views, but where are the R-rated films with gaping vulvas and flapping labia? Nowhere, because they don't exist. The same goes for those crappy cable shows: schlongs swinging in the breeze but not a clitoris in sight. And those pretentious indie movies like The Brown Bunny, in which we're treated to the site of Vincent Gallo's throbbing johnson, but not a trace of pink visible on Chloe Sevigny. Before crying (or implying) \"double-standard\" in matters of nudity, the mentally obtuse should take into account one unavoidably obvious anatomical difference between men and women: there are no genitals on display when actresses appears nude, and the same cannot be said for a man. In fact, you generally won't see female genitals in an American film in anything short of porn or explicit erotica. This alleged double-standard is less a double standard than an admittedly depressing ability to come to terms culturally with the insides of women's bodies.\n",
            "Label: 1\n",
            "If only to avoid making this type of film in the future. This film is interesting as an experiment but tells no cogent story.<br /><br />One might feel virtuous for sitting thru it because it touches on so many IMPORTANT issues but it does so without any discernable motive. The viewer comes away with no new perspectives (unless one comes up with one while one's mind wanders, as it will invariably do during this pointless film).<br /><br />One might better spend one's time staring out a window at a tree growing.<br /><br />\n",
            "Label: 1\n",
            "This film was probably inspired by Godard's Masculin, féminin and I urge you to see that film instead.<br /><br />The film has two strong elements and those are, (1) the realistic acting (2) the impressive, undeservedly good, photo. Apart from that, what strikes me most is the endless stream of silliness. Lena Nyman has to be most annoying actress in the world. She acts so stupid and with all the nudity in this film,...it's unattractive. Comparing to Godard's film, intellectuality has been replaced with stupidity. Without going too far on this subject, I would say that follows from the difference in ideals between the French and the Swedish society.<br /><br />A movie of its time, and place. 2/10.\n",
            "Label: 1\n",
            "Oh, brother...after hearing about this ridiculous film for umpteen years all I can think of is that old Peggy Lee song..<br /><br />\"Is that all there is??\" ...I was just an early teen when this smoked fish hit the U.S. I was too young to get in the theater (although I did manage to sneak into \"Goodbye Columbus\"). Then a screening at a local film museum beckoned - Finally I could see this film, except now I was as old as my parents were when they schlepped to see it!!<br /><br />The ONLY reason this film was not condemned to the anonymous sands of time was because of the obscenity case sparked by its U.S. release. MILLIONS of people flocked to this stinker, thinking they were going to see a sex film...Instead, they got lots of closeups of gnarly, repulsive Swedes, on-street interviews in bland shopping malls, asinie political pretension...and feeble who-cares simulated sex scenes with saggy, pale actors.<br /><br />Cultural icon, holy grail, historic artifact..whatever this thing was, shred it, burn it, then stuff the ashes in a lead box!<br /><br />Elite esthetes still scrape to find value in its boring pseudo revolutionary political spewings..But if it weren't for the censorship scandal, it would have been ignored, then forgotten.<br /><br />Instead, the \"I Am Blank, Blank\" rhythymed title was repeated endlessly for years as a titilation for porno films (I am Curious, Lavender - for gay films, I Am Curious, Black - for blaxploitation films, etc..) and every ten years or so the thing rises from the dead, to be viewed by a new generation of suckers who want to see that \"naughty sex film\" that \"revolutionized the film industry\"...<br /><br />Yeesh, avoid like the plague..Or if you MUST see it - rent the video and fast forward to the \"dirty\" parts, just to get it over with.<br /><br />\n",
            "Label: 1\n",
            "I would put this at the top of my list of films in the category of unwatchable trash! There are films that are bad, but the worst kind are the ones that are unwatchable but you are suppose to like them because they are supposed to be good for you! The sex sequences, so shocking in its day, couldn't even arouse a rabbit. The so called controversial politics is strictly high school sophomore amateur night Marxism. The film is self-consciously arty in the worst sense of the term. The photography is in a harsh grainy black and white. Some scenes are out of focus or taken from the wrong angle. Even the sound is bad! And some people call this art?<br /><br />\n",
            "Label: 1\n",
            "Whoever wrote the screenplay for this movie obviously never consulted any books about Lucille Ball, especially her autobiography. I've never seen so many mistakes in a biopic, ranging from her early years in Celoron and Jamestown to her later years with Desi. I could write a whole list of factual errors, but it would go on for pages. In all, I believe that Lucille Ball is one of those inimitable people who simply cannot be portrayed by anyone other than themselves. If I were Lucie Arnaz and Desi, Jr., I would be irate at how many mistakes were made in this film. The filmmakers tried hard, but the movie seems awfully sloppy to me.\n",
            "Label: 1\n",
            "When I first saw a glimpse of this movie, I quickly noticed the actress who was playing the role of Lucille Ball. Rachel York's portrayal of Lucy is absolutely awful. Lucille Ball was an astounding comedian with incredible talent. To think about a legend like Lucille Ball being portrayed the way she was in the movie is horrendous. I cannot believe out of all the actresses in the world who could play a much better Lucy, the producers decided to get Rachel York. She might be a good actress in other roles but to play the role of Lucille Ball is tough. It is pretty hard to find someone who could resemble Lucille Ball, but they could at least find someone a bit similar in looks and talent. If you noticed York's portrayal of Lucy in episodes of I Love Lucy like the chocolate factory or vitavetavegamin, nothing is similar in any way-her expression, voice, or movement.<br /><br />To top it all off, Danny Pino playing Desi Arnaz is horrible. Pino does not qualify to play as Ricky. He's small and skinny, his accent is unreal, and once again, his acting is unbelievable. Although Fred and Ethel were not similar either, they were not as bad as the characters of Lucy and Ricky.<br /><br />Overall, extremely horrible casting and the story is badly told. If people want to understand the real life situation of Lucille Ball, I suggest watching A&E Biography of Lucy and Desi, read the book from Lucille Ball herself, or PBS' American Masters: Finding Lucy. If you want to see a docudrama, \"Before the Laughter\" would be a better choice. The casting of Lucille Ball and Desi Arnaz in \"Before the Laughter\" is much better compared to this. At least, a similar aspect is shown rather than nothing.\n",
            "Label: 1\n",
            "Who are these \"They\"- the actors? the filmmakers? Certainly couldn't be the audience- this is among the most air-puffed productions in existence. It's the kind of movie that looks like it was a lot of fun to shoot TOO much fun, nobody is getting any actual work done, and that almost always makes for a movie that's no fun to watch.<br /><br />Ritter dons glasses so as to hammer home his character's status as a sort of doppleganger of the bespectacled Bogdanovich; the scenes with the breezy Ms. Stratten are sweet, but have an embarrassing, look-guys-I'm-dating-the-prom-queen feel to them. Ben Gazzara sports his usual cat's-got-canary grin in a futile attempt to elevate the meager plot, which requires him to pursue Audrey Hepburn with all the interest of a narcoleptic at an insomnia clinic. In the meantime, the budding couple's respective children (nepotism alert: Bogdanovich's daughters) spew cute and pick up some fairly disturbing pointers on 'love' while observing their parents. (Ms. Hepburn, drawing on her dignity, manages to rise above the proceedings- but she has the monumental challenge of playing herself, ostensibly.) Everybody looks great, but so what? It's a movie and we can expect that much, if that's what you're looking for you'd be better off picking up a copy of Vogue.<br /><br />Oh- and it has to be mentioned that Colleen Camp thoroughly annoys, even apart from her singing, which, while competent, is wholly unconvincing... the country and western numbers are woefully mismatched with the standards on the soundtrack. Surely this is NOT what Gershwin (who wrote the song from which the movie's title is derived) had in mind; his stage musicals of the 20's may have been slight, but at least they were long on charm. \"They All Laughed\" tries to coast on its good intentions, but nobody- least of all Peter Bogdanovich - has the good sense to put on the brakes.<br /><br />Due in no small part to the tragic death of Dorothy Stratten, this movie has a special place in the heart of Mr. Bogdanovich- he even bought it back from its producers, then distributed it on his own and went bankrupt when it didn't prove popular. His rise and fall is among the more sympathetic and tragic of Hollywood stories, so there's no joy in criticizing the film... there _is_ real emotional investment in Ms. Stratten's scenes. But \"Laughed\" is a faint echo of \"The Last Picture Show\", \"Paper Moon\" or \"What's Up, Doc\"- following \"Daisy Miller\" and \"At Long Last Love\", it was a thundering confirmation of the phase from which P.B. has never emerged.<br /><br />All in all, though, the movie is harmless, only a waste of rental. I want to watch people having a good time, I'll go to the park on a sunny day. For filmic expressions of joy and love, I'll stick to Ernest Lubitsch and Jaques Demy...\n",
            "Label: 1\n",
            "This is said to be a personal film for Peter Bogdonavitch. He based it on his life but changed things around to fit the characters, who are detectives. These detectives date beautiful models and have no problem getting them. Sounds more like a millionaire playboy filmmaker than a detective, doesn't it? This entire movie was written by Peter, and it shows how out of touch with real people he was. You're supposed to write what you know, and he did that, indeed. And leaves the audience bored and confused, and jealous, for that matter. This is a curio for people who want to see Dorothy Stratten, who was murdered right after filming. But Patti Hanson, who would, in real life, marry Keith Richards, was also a model, like Stratten, but is a lot better and has a more ample part. In fact, Stratten's part seemed forced; added. She doesn't have a lot to do with the story, which is pretty convoluted to begin with. All in all, every character in this film is somebody that very few people can relate with, unless you're millionaire from Manhattan with beautiful supermodels at your beckon call. For the rest of us, it's an irritating snore fest. That's what happens when you're out of touch. You entertain your few friends with inside jokes, and bore all the rest.\n",
            "Label: 1\n",
            "It was great to see some of my favorite stars of 30 years ago including John Ritter, Ben Gazarra and Audrey Hepburn. They looked quite wonderful. But that was it. They were not given any characters or good lines to work with. I neither understood or cared what the characters were doing.<br /><br />Some of the smaller female roles were fine, Patty Henson and Colleen Camp were quite competent and confident in their small sidekick parts. They showed some talent and it is sad they didn't go on to star in more and better films. Sadly, I didn't think Dorothy Stratten got a chance to act in this her only important film role.<br /><br />The film appears to have some fans, and I was very open-minded when I started watching it. I am a big Peter Bogdanovich fan and I enjoyed his last movie, \"Cat's Meow\" and all his early ones from \"Targets\" to \"Nickleodeon\". So, it really surprised me that I was barely able to keep awake watching this one.<br /><br />It is ironic that this movie is about a detective agency where the detectives and clients get romantically involved with each other. Five years later, Bogdanovich's ex-girlfriend, Cybil Shepherd had a hit television series called \"Moonlighting\" stealing the story idea from Bogdanovich. Of course, there was a great difference in that the series relied on tons of witty dialogue, while this tries to make do with slapstick and a few screwball lines.<br /><br />Bottom line: It ain't no \"Paper Moon\" and only a very pale version of \"What's Up, Doc\".\n",
            "Label: 1\n"
          ]
        }
      ]
    },
    {
      "cell_type": "markdown",
      "source": [
        "### Preprocessing\n",
        "\n",
        "- Tokenization\n",
        "- Create a Vocabulary\n",
        "\n",
        " - numericalization\n",
        "\n",
        "- word embedding\n"
      ],
      "metadata": {
        "id": "zNdeqwBg8stx"
      }
    },
    {
      "cell_type": "code",
      "source": [
        "from torchtext.data.utils import get_tokenizer"
      ],
      "metadata": {
        "id": "ZUv3gTHZ8_lz"
      },
      "execution_count": null,
      "outputs": []
    },
    {
      "cell_type": "code",
      "source": [
        "tokenizer = get_tokenizer('basic_english') ## spacy, nltk"
      ],
      "metadata": {
        "id": "QkuuNLKr9IOL"
      },
      "execution_count": null,
      "outputs": []
    },
    {
      "cell_type": "code",
      "source": [
        "string = 'Hello! This is the 4th day of DL workshop.'\n",
        "tokenizer(string)"
      ],
      "metadata": {
        "colab": {
          "base_uri": "https://localhost:8080/"
        },
        "id": "JeM5uO3J9UcG",
        "outputId": "d12ed33d-2e96-4d25-819d-16d20297d257"
      },
      "execution_count": null,
      "outputs": [
        {
          "output_type": "execute_result",
          "data": {
            "text/plain": [
              "['hello', '!', 'this', 'is', 'the', '4th', 'day', 'of', 'dl', 'workshop', '.']"
            ]
          },
          "metadata": {},
          "execution_count": 20
        }
      ]
    },
    {
      "cell_type": "code",
      "source": [
        "def yield_tokens(data_iter):\n",
        "  for lab, text in data_iter:\n",
        "    yield tokenizer(text)"
      ],
      "metadata": {
        "id": "YxrAAexY9hWU"
      },
      "execution_count": null,
      "outputs": []
    },
    {
      "cell_type": "code",
      "source": [
        "from torchtext.vocab import build_vocab_from_iterator"
      ],
      "metadata": {
        "id": "XA6gj6ZQ96Qk"
      },
      "execution_count": null,
      "outputs": []
    },
    {
      "cell_type": "code",
      "source": [
        "vocab = build_vocab_from_iterator(yield_tokens(train_iter), min_freq = 20, max_tokens= 20000, specials = ['<unk>', '<pad>'])\n",
        "vocab.set_default_index(vocab['<unk>'])"
      ],
      "metadata": {
        "id": "CjbZHag--JOV",
        "colab": {
          "base_uri": "https://localhost:8080/"
        },
        "outputId": "b925a889-6b1c-4ae5-c853-43c94d8b4a44"
      },
      "execution_count": null,
      "outputs": [
        {
          "output_type": "stream",
          "name": "stderr",
          "text": [
            "/usr/local/lib/python3.10/dist-packages/torch/utils/data/datapipes/iter/combining.py:297: UserWarning: Some child DataPipes are not exhausted when __iter__ is called. We are resetting the buffer and each child DataPipe will read from the start again.\n",
            "  warnings.warn(\"Some child DataPipes are not exhausted when __iter__ is called. We are resetting \"\n"
          ]
        }
      ]
    },
    {
      "cell_type": "code",
      "source": [
        "vocab['i']\n",
        "vocab['nnnn']\n",
        "# vocab['<unk>']"
      ],
      "metadata": {
        "colab": {
          "base_uri": "https://localhost:8080/"
        },
        "id": "L81vOMvP-phu",
        "outputId": "18833fcb-1e45-4217-f0a2-78c38fa1a649"
      },
      "execution_count": null,
      "outputs": [
        {
          "output_type": "execute_result",
          "data": {
            "text/plain": [
              "0"
            ]
          },
          "metadata": {},
          "execution_count": 24
        }
      ]
    },
    {
      "cell_type": "code",
      "source": [
        "len(vocab)"
      ],
      "metadata": {
        "colab": {
          "base_uri": "https://localhost:8080/"
        },
        "id": "2M4Fyzew_gYm",
        "outputId": "c45e5f45-5812-43bc-a42c-073cb0861e20"
      },
      "execution_count": null,
      "outputs": [
        {
          "output_type": "execute_result",
          "data": {
            "text/plain": [
              "8096"
            ]
          },
          "metadata": {},
          "execution_count": 25
        }
      ]
    },
    {
      "cell_type": "code",
      "source": [
        "vocab.get_stoi()['i']"
      ],
      "metadata": {
        "colab": {
          "base_uri": "https://localhost:8080/"
        },
        "collapsed": true,
        "id": "NR9WDqIS_kLA",
        "outputId": "2e64549e-2d11-4b6e-b6c3-fcaa2f67b092"
      },
      "execution_count": null,
      "outputs": [
        {
          "output_type": "execute_result",
          "data": {
            "text/plain": [
              "12"
            ]
          },
          "metadata": {},
          "execution_count": 26
        }
      ]
    },
    {
      "cell_type": "code",
      "source": [
        "vocab.get_itos()[13]"
      ],
      "metadata": {
        "colab": {
          "base_uri": "https://localhost:8080/",
          "height": 55
        },
        "id": "XKpPZN2d_wgU",
        "outputId": "26bb9b51-4eca-47b1-d0f8-630f7031776d"
      },
      "execution_count": null,
      "outputs": [
        {
          "output_type": "execute_result",
          "data": {
            "text/plain": [
              "'in'"
            ],
            "application/vnd.google.colaboratory.intrinsic+json": {
              "type": "string"
            }
          },
          "metadata": {},
          "execution_count": 27
        }
      ]
    },
    {
      "cell_type": "code",
      "source": [
        "tokenizer(string)"
      ],
      "metadata": {
        "colab": {
          "base_uri": "https://localhost:8080/"
        },
        "id": "SQYormm0ACf5",
        "outputId": "69d68802-5af0-4d95-d0d6-0ed34da2fb7f"
      },
      "execution_count": null,
      "outputs": [
        {
          "output_type": "execute_result",
          "data": {
            "text/plain": [
              "['hello', '!', 'this', 'is', 'the', '4th', 'day', 'of', 'dl', 'workshop', '.']"
            ]
          },
          "metadata": {},
          "execution_count": 28
        }
      ]
    },
    {
      "cell_type": "code",
      "source": [
        "vocab(tokenizer(string))"
      ],
      "metadata": {
        "colab": {
          "base_uri": "https://localhost:8080/"
        },
        "id": "UoZBFRHV_3rh",
        "outputId": "fce84af7-16b1-4546-8bfb-22777f6bd28a"
      },
      "execution_count": null,
      "outputs": [
        {
          "output_type": "execute_result",
          "data": {
            "text/plain": [
              "[3807, 35, 14, 10, 3, 6331, 311, 8, 0, 0, 2]"
            ]
          },
          "metadata": {},
          "execution_count": 29
        }
      ]
    },
    {
      "cell_type": "code",
      "source": [
        "from torch.nn.utils.rnn import pad_sequence"
      ],
      "metadata": {
        "id": "bOWcioyZARKn"
      },
      "execution_count": null,
      "outputs": []
    },
    {
      "cell_type": "code",
      "source": [
        "sentences = [torch.tensor([1, 2, 3, 4]), torch.tensor([4, 5]), torch.tensor([1, 7, 6])]"
      ],
      "metadata": {
        "id": "_8fMxw6HAixK"
      },
      "execution_count": null,
      "outputs": []
    },
    {
      "cell_type": "code",
      "source": [
        "pad_sequence(sentences, batch_first = True, padding_value= 1)"
      ],
      "metadata": {
        "colab": {
          "base_uri": "https://localhost:8080/"
        },
        "id": "Kv0V5UmUA5mk",
        "outputId": "ed7310c7-9229-4453-d7c7-6fa63abbbc22"
      },
      "execution_count": null,
      "outputs": [
        {
          "output_type": "execute_result",
          "data": {
            "text/plain": [
              "tensor([[1, 2, 3, 4],\n",
              "        [4, 5, 1, 1],\n",
              "        [1, 7, 6, 1]])"
            ]
          },
          "metadata": {},
          "execution_count": 32
        }
      ]
    },
    {
      "cell_type": "markdown",
      "source": [],
      "metadata": {
        "id": "36Kq439zA41m"
      }
    },
    {
      "cell_type": "code",
      "source": [
        "#(1, sent1) (2, sent2)\n",
        "\n",
        "## (1, 2) (sent, sent)"
      ],
      "metadata": {
        "id": "yt37c7jUBkWo"
      },
      "execution_count": null,
      "outputs": []
    },
    {
      "cell_type": "code",
      "source": [
        "bt = [(1, '2') ,(4, '5'), (5 ,'t'), (6, 'op')]\n",
        "lab, text = zip(*bt)\n",
        "lab, text"
      ],
      "metadata": {
        "colab": {
          "base_uri": "https://localhost:8080/"
        },
        "id": "g0st1CCpB5j6",
        "outputId": "78182973-aacb-432c-c2e6-8f45d8c46919"
      },
      "execution_count": null,
      "outputs": [
        {
          "output_type": "execute_result",
          "data": {
            "text/plain": [
              "((1, 4, 5, 6), ('2', '5', 't', 'op'))"
            ]
          },
          "metadata": {},
          "execution_count": 34
        }
      ]
    },
    {
      "cell_type": "code",
      "source": [
        "def text_to_tensor(text):\n",
        "  tokens =  tokenizer(text)\n",
        "  return torch.tensor(vocab(tokens))"
      ],
      "metadata": {
        "id": "vmSOHioMCfsM"
      },
      "execution_count": null,
      "outputs": []
    },
    {
      "cell_type": "code",
      "source": [
        "def collate_fn(batch):\n",
        "  labels, texts = zip(*batch)\n",
        "  texts = [text_to_tensor(text) for text in texts]\n",
        "  texts = pad_sequence(texts, batch_first = True, padding_value = vocab['<pad>'])\n",
        "  labels = torch.tensor([label for label in labels])\n",
        "  return labels, texts\n",
        "\n",
        "\n"
      ],
      "metadata": {
        "id": "luyDPYgzBY3O"
      },
      "execution_count": null,
      "outputs": []
    },
    {
      "cell_type": "code",
      "source": [
        "from torch.utils.data import DataLoader"
      ],
      "metadata": {
        "id": "3sC6cmwOD3H3"
      },
      "execution_count": null,
      "outputs": []
    },
    {
      "cell_type": "code",
      "source": [
        "train_iter = datasets.IMDB(split = 'train')"
      ],
      "metadata": {
        "id": "4KP2VrkKD_yz"
      },
      "execution_count": null,
      "outputs": []
    },
    {
      "cell_type": "code",
      "source": [
        "train_loader = DataLoader(train_iter, batch_size = 100, collate_fn = collate_fn)"
      ],
      "metadata": {
        "id": "ollfSV8QEGNe"
      },
      "execution_count": null,
      "outputs": []
    },
    {
      "cell_type": "code",
      "source": [
        "for targets, sents in train_loader:\n",
        "  print(sents.shape)\n",
        "  break"
      ],
      "metadata": {
        "colab": {
          "base_uri": "https://localhost:8080/"
        },
        "id": "jrYTzOuTEiW_",
        "outputId": "03dbda60-7992-4272-875f-eb800a7d5670"
      },
      "execution_count": null,
      "outputs": [
        {
          "output_type": "stream",
          "name": "stdout",
          "text": [
            "torch.Size([100, 1043])\n"
          ]
        }
      ]
    },
    {
      "cell_type": "code",
      "source": [
        "class Rnn(nn.Module):\n",
        "  def __init__(self, vocab_size, embedding_dim,hidden_dim, output_dim):\n",
        "    super(Rnn, self).__init__()\n",
        "    self.embedding = nn.Embedding(vocab_size, embedding_dim)\n",
        "    self.rnn = nn.RNN(embedding_dim, hidden_dim, batch_first = True)\n",
        "    self.fc = nn.Linear(hidden_dim, output_dim)\n",
        "\n",
        "  def forward(self, x):\n",
        "    embedded = self.embedding(x)\n",
        "    output, hidden = self.rnn(embedded)\n",
        "    hidden = hidden[-1]\n",
        "    return self.fc(hidden)\n"
      ],
      "metadata": {
        "id": "BwrXbSc7E2Cy"
      },
      "execution_count": null,
      "outputs": []
    },
    {
      "cell_type": "code",
      "source": [
        "iterator = iter(train_loader)\n"
      ],
      "metadata": {
        "id": "lAlnLMGAGzfA"
      },
      "execution_count": null,
      "outputs": []
    },
    {
      "cell_type": "code",
      "source": [
        "y, feature = next(iterator)"
      ],
      "metadata": {
        "id": "XjDSNxMXHAm8"
      },
      "execution_count": null,
      "outputs": []
    },
    {
      "cell_type": "code",
      "source": [
        "feature.shape"
      ],
      "metadata": {
        "id": "UldYprr5HE_T",
        "colab": {
          "base_uri": "https://localhost:8080/"
        },
        "outputId": "9afc986a-9924-4d03-eb7a-b124e9eee374"
      },
      "execution_count": null,
      "outputs": [
        {
          "output_type": "execute_result",
          "data": {
            "text/plain": [
              "torch.Size([100, 1043])"
            ]
          },
          "metadata": {},
          "execution_count": 44
        }
      ]
    },
    {
      "cell_type": "code",
      "source": [
        "embedded_dim = 1500\n",
        "vocab_size = len(vocab)\n",
        "output_dim = 1\n",
        "hidden_dim = 1200"
      ],
      "metadata": {
        "id": "_ii0VQnPHMEy"
      },
      "execution_count": null,
      "outputs": []
    },
    {
      "cell_type": "code",
      "source": [
        "rnn_model = Rnn(vocab_size, embedded_dim,hidden_dim, output_dim)"
      ],
      "metadata": {
        "id": "ubL6lVDnHH_N"
      },
      "execution_count": null,
      "outputs": []
    },
    {
      "cell_type": "code",
      "source": [
        "rnn_model(feature).shape"
      ],
      "metadata": {
        "id": "T268abKXHi6F",
        "colab": {
          "base_uri": "https://localhost:8080/"
        },
        "outputId": "2e8036c5-a60c-42db-f4f3-bcb26ddc863f"
      },
      "execution_count": null,
      "outputs": [
        {
          "output_type": "execute_result",
          "data": {
            "text/plain": [
              "torch.Size([100, 1])"
            ]
          },
          "metadata": {},
          "execution_count": 47
        }
      ]
    },
    {
      "cell_type": "code",
      "source": [
        "criterion = nn.BCEWithLogitsLoss()\n",
        "optimizer = optim.Adam(rnn_model.parameters(), lr = 0.1)"
      ],
      "metadata": {
        "id": "DfsJnHs4IONp"
      },
      "execution_count": null,
      "outputs": []
    },
    {
      "cell_type": "code",
      "source": [
        "# device = torch.device('cuda')\n",
        "# rnn_model.to_device(device)"
      ],
      "metadata": {
        "id": "Ea3Qp9TAKZkp"
      },
      "execution_count": null,
      "outputs": []
    },
    {
      "cell_type": "code",
      "source": [
        "rnn_model.train()\n",
        "\n",
        "for epoch in range(3):\n",
        "  running_loss = 0\n",
        "  for data in train_loader:\n",
        "    labels, texts = data\n",
        "\n",
        "    # labels  = labels.to_device(device)\n",
        "\n",
        "    output = rnn_model(texts)\n",
        "    loss = criterion(output.squeeze(1), labels.float())\n",
        "\n",
        "    optimizer.zero_grad()\n",
        "    loss.backward()\n",
        "    optimizer.step()\n",
        "    running_loss += loss.item()\n",
        "\n",
        "  print(running_loss)\n",
        "\n"
      ],
      "metadata": {
        "id": "mJWnzJY2IdAR",
        "colab": {
          "base_uri": "https://localhost:8080/",
          "height": 376
        },
        "outputId": "99226af0-9cae-4492-a55c-bec9b77bc69a"
      },
      "execution_count": null,
      "outputs": [
        {
          "output_type": "error",
          "ename": "KeyboardInterrupt",
          "evalue": "",
          "traceback": [
            "\u001b[0;31m---------------------------------------------------------------------------\u001b[0m",
            "\u001b[0;31mKeyboardInterrupt\u001b[0m                         Traceback (most recent call last)",
            "\u001b[0;32m<ipython-input-50-277911cbfcfc>\u001b[0m in \u001b[0;36m<cell line: 3>\u001b[0;34m()\u001b[0m\n\u001b[1;32m      8\u001b[0m     \u001b[0;31m# labels  = labels.to_device(device)\u001b[0m\u001b[0;34m\u001b[0m\u001b[0;34m\u001b[0m\u001b[0m\n\u001b[1;32m      9\u001b[0m \u001b[0;34m\u001b[0m\u001b[0m\n\u001b[0;32m---> 10\u001b[0;31m     \u001b[0moutput\u001b[0m \u001b[0;34m=\u001b[0m \u001b[0mrnn_model\u001b[0m\u001b[0;34m(\u001b[0m\u001b[0mtexts\u001b[0m\u001b[0;34m)\u001b[0m\u001b[0;34m\u001b[0m\u001b[0;34m\u001b[0m\u001b[0m\n\u001b[0m\u001b[1;32m     11\u001b[0m     \u001b[0mloss\u001b[0m \u001b[0;34m=\u001b[0m \u001b[0mcriterion\u001b[0m\u001b[0;34m(\u001b[0m\u001b[0moutput\u001b[0m\u001b[0;34m.\u001b[0m\u001b[0msqueeze\u001b[0m\u001b[0;34m(\u001b[0m\u001b[0;36m1\u001b[0m\u001b[0;34m)\u001b[0m\u001b[0;34m,\u001b[0m \u001b[0mlabels\u001b[0m\u001b[0;34m.\u001b[0m\u001b[0mfloat\u001b[0m\u001b[0;34m(\u001b[0m\u001b[0;34m)\u001b[0m\u001b[0;34m)\u001b[0m\u001b[0;34m\u001b[0m\u001b[0;34m\u001b[0m\u001b[0m\n\u001b[1;32m     12\u001b[0m \u001b[0;34m\u001b[0m\u001b[0m\n",
            "\u001b[0;32m/usr/local/lib/python3.10/dist-packages/torch/nn/modules/module.py\u001b[0m in \u001b[0;36m_call_impl\u001b[0;34m(self, *args, **kwargs)\u001b[0m\n\u001b[1;32m   1499\u001b[0m                 \u001b[0;32mor\u001b[0m \u001b[0m_global_backward_pre_hooks\u001b[0m \u001b[0;32mor\u001b[0m \u001b[0m_global_backward_hooks\u001b[0m\u001b[0;34m\u001b[0m\u001b[0;34m\u001b[0m\u001b[0m\n\u001b[1;32m   1500\u001b[0m                 or _global_forward_hooks or _global_forward_pre_hooks):\n\u001b[0;32m-> 1501\u001b[0;31m             \u001b[0;32mreturn\u001b[0m \u001b[0mforward_call\u001b[0m\u001b[0;34m(\u001b[0m\u001b[0;34m*\u001b[0m\u001b[0margs\u001b[0m\u001b[0;34m,\u001b[0m \u001b[0;34m**\u001b[0m\u001b[0mkwargs\u001b[0m\u001b[0;34m)\u001b[0m\u001b[0;34m\u001b[0m\u001b[0;34m\u001b[0m\u001b[0m\n\u001b[0m\u001b[1;32m   1502\u001b[0m         \u001b[0;31m# Do not call functions when jit is used\u001b[0m\u001b[0;34m\u001b[0m\u001b[0;34m\u001b[0m\u001b[0m\n\u001b[1;32m   1503\u001b[0m         \u001b[0mfull_backward_hooks\u001b[0m\u001b[0;34m,\u001b[0m \u001b[0mnon_full_backward_hooks\u001b[0m \u001b[0;34m=\u001b[0m \u001b[0;34m[\u001b[0m\u001b[0;34m]\u001b[0m\u001b[0;34m,\u001b[0m \u001b[0;34m[\u001b[0m\u001b[0;34m]\u001b[0m\u001b[0;34m\u001b[0m\u001b[0;34m\u001b[0m\u001b[0m\n",
            "\u001b[0;32m<ipython-input-41-b9cfc2ec01ca>\u001b[0m in \u001b[0;36mforward\u001b[0;34m(self, x)\u001b[0m\n\u001b[1;32m      8\u001b[0m   \u001b[0;32mdef\u001b[0m \u001b[0mforward\u001b[0m\u001b[0;34m(\u001b[0m\u001b[0mself\u001b[0m\u001b[0;34m,\u001b[0m \u001b[0mx\u001b[0m\u001b[0;34m)\u001b[0m\u001b[0;34m:\u001b[0m\u001b[0;34m\u001b[0m\u001b[0;34m\u001b[0m\u001b[0m\n\u001b[1;32m      9\u001b[0m     \u001b[0membedded\u001b[0m \u001b[0;34m=\u001b[0m \u001b[0mself\u001b[0m\u001b[0;34m.\u001b[0m\u001b[0membedding\u001b[0m\u001b[0;34m(\u001b[0m\u001b[0mx\u001b[0m\u001b[0;34m)\u001b[0m\u001b[0;34m\u001b[0m\u001b[0;34m\u001b[0m\u001b[0m\n\u001b[0;32m---> 10\u001b[0;31m     \u001b[0moutput\u001b[0m\u001b[0;34m,\u001b[0m \u001b[0mhidden\u001b[0m \u001b[0;34m=\u001b[0m \u001b[0mself\u001b[0m\u001b[0;34m.\u001b[0m\u001b[0mrnn\u001b[0m\u001b[0;34m(\u001b[0m\u001b[0membedded\u001b[0m\u001b[0;34m)\u001b[0m\u001b[0;34m\u001b[0m\u001b[0;34m\u001b[0m\u001b[0m\n\u001b[0m\u001b[1;32m     11\u001b[0m     \u001b[0mhidden\u001b[0m \u001b[0;34m=\u001b[0m \u001b[0mhidden\u001b[0m\u001b[0;34m[\u001b[0m\u001b[0;34m-\u001b[0m\u001b[0;36m1\u001b[0m\u001b[0;34m]\u001b[0m\u001b[0;34m\u001b[0m\u001b[0;34m\u001b[0m\u001b[0m\n\u001b[1;32m     12\u001b[0m     \u001b[0;32mreturn\u001b[0m \u001b[0mself\u001b[0m\u001b[0;34m.\u001b[0m\u001b[0mfc\u001b[0m\u001b[0;34m(\u001b[0m\u001b[0mhidden\u001b[0m\u001b[0;34m)\u001b[0m\u001b[0;34m\u001b[0m\u001b[0;34m\u001b[0m\u001b[0m\n",
            "\u001b[0;32m/usr/local/lib/python3.10/dist-packages/torch/nn/modules/module.py\u001b[0m in \u001b[0;36m_call_impl\u001b[0;34m(self, *args, **kwargs)\u001b[0m\n\u001b[1;32m   1499\u001b[0m                 \u001b[0;32mor\u001b[0m \u001b[0m_global_backward_pre_hooks\u001b[0m \u001b[0;32mor\u001b[0m \u001b[0m_global_backward_hooks\u001b[0m\u001b[0;34m\u001b[0m\u001b[0;34m\u001b[0m\u001b[0m\n\u001b[1;32m   1500\u001b[0m                 or _global_forward_hooks or _global_forward_pre_hooks):\n\u001b[0;32m-> 1501\u001b[0;31m             \u001b[0;32mreturn\u001b[0m \u001b[0mforward_call\u001b[0m\u001b[0;34m(\u001b[0m\u001b[0;34m*\u001b[0m\u001b[0margs\u001b[0m\u001b[0;34m,\u001b[0m \u001b[0;34m**\u001b[0m\u001b[0mkwargs\u001b[0m\u001b[0;34m)\u001b[0m\u001b[0;34m\u001b[0m\u001b[0;34m\u001b[0m\u001b[0m\n\u001b[0m\u001b[1;32m   1502\u001b[0m         \u001b[0;31m# Do not call functions when jit is used\u001b[0m\u001b[0;34m\u001b[0m\u001b[0;34m\u001b[0m\u001b[0m\n\u001b[1;32m   1503\u001b[0m         \u001b[0mfull_backward_hooks\u001b[0m\u001b[0;34m,\u001b[0m \u001b[0mnon_full_backward_hooks\u001b[0m \u001b[0;34m=\u001b[0m \u001b[0;34m[\u001b[0m\u001b[0;34m]\u001b[0m\u001b[0;34m,\u001b[0m \u001b[0;34m[\u001b[0m\u001b[0;34m]\u001b[0m\u001b[0;34m\u001b[0m\u001b[0;34m\u001b[0m\u001b[0m\n",
            "\u001b[0;32m/usr/local/lib/python3.10/dist-packages/torch/nn/modules/rnn.py\u001b[0m in \u001b[0;36mforward\u001b[0;34m(self, input, hx)\u001b[0m\n\u001b[1;32m    507\u001b[0m         \u001b[0;32mif\u001b[0m \u001b[0mbatch_sizes\u001b[0m \u001b[0;32mis\u001b[0m \u001b[0;32mNone\u001b[0m\u001b[0;34m:\u001b[0m\u001b[0;34m\u001b[0m\u001b[0;34m\u001b[0m\u001b[0m\n\u001b[1;32m    508\u001b[0m             \u001b[0;32mif\u001b[0m \u001b[0mself\u001b[0m\u001b[0;34m.\u001b[0m\u001b[0mmode\u001b[0m \u001b[0;34m==\u001b[0m \u001b[0;34m'RNN_TANH'\u001b[0m\u001b[0;34m:\u001b[0m\u001b[0;34m\u001b[0m\u001b[0;34m\u001b[0m\u001b[0m\n\u001b[0;32m--> 509\u001b[0;31m                 result = _VF.rnn_tanh(input, hx, self._flat_weights, self.bias, self.num_layers,\n\u001b[0m\u001b[1;32m    510\u001b[0m                                       \u001b[0mself\u001b[0m\u001b[0;34m.\u001b[0m\u001b[0mdropout\u001b[0m\u001b[0;34m,\u001b[0m \u001b[0mself\u001b[0m\u001b[0;34m.\u001b[0m\u001b[0mtraining\u001b[0m\u001b[0;34m,\u001b[0m \u001b[0mself\u001b[0m\u001b[0;34m.\u001b[0m\u001b[0mbidirectional\u001b[0m\u001b[0;34m,\u001b[0m\u001b[0;34m\u001b[0m\u001b[0;34m\u001b[0m\u001b[0m\n\u001b[1;32m    511\u001b[0m                                       self.batch_first)\n",
            "\u001b[0;31mKeyboardInterrupt\u001b[0m: "
          ]
        }
      ]
    },
    {
      "cell_type": "code",
      "source": [],
      "metadata": {
        "id": "EtojcU6uLMra"
      },
      "execution_count": null,
      "outputs": []
    },
    {
      "cell_type": "markdown",
      "source": [
        "# GNN"
      ],
      "metadata": {
        "id": "v-q_Evx2bNye"
      }
    },
    {
      "cell_type": "code",
      "execution_count": null,
      "metadata": {
        "colab": {
          "base_uri": "https://localhost:8080/"
        },
        "id": "TFAPh8W7DpXT",
        "outputId": "f2388500-fd46-44dd-ab7e-297407c23852"
      },
      "outputs": [
        {
          "output_type": "stream",
          "name": "stdout",
          "text": [
            "Collecting torch_geometric\n",
            "  Downloading torch_geometric-2.6.1-py3-none-any.whl.metadata (63 kB)\n",
            "\u001b[?25l     \u001b[90m━━━━━━━━━━━━━━━━━━━━━━━━━━━━━━━━━━━━━━━━\u001b[0m \u001b[32m0.0/63.1 kB\u001b[0m \u001b[31m?\u001b[0m eta \u001b[36m-:--:--\u001b[0m\r\u001b[2K     \u001b[90m━━━━━━━━━━━━━━━━━━━━━━━━━━━━━━━━━━━━━━━━\u001b[0m \u001b[32m63.1/63.1 kB\u001b[0m \u001b[31m2.6 MB/s\u001b[0m eta \u001b[36m0:00:00\u001b[0m\n",
            "\u001b[?25hRequirement already satisfied: aiohttp in /usr/local/lib/python3.10/dist-packages (from torch_geometric) (3.11.10)\n",
            "Requirement already satisfied: fsspec in /usr/local/lib/python3.10/dist-packages (from torch_geometric) (2024.10.0)\n",
            "Requirement already satisfied: jinja2 in /usr/local/lib/python3.10/dist-packages (from torch_geometric) (3.1.4)\n",
            "Requirement already satisfied: numpy in /usr/local/lib/python3.10/dist-packages (from torch_geometric) (1.26.4)\n",
            "Requirement already satisfied: psutil>=5.8.0 in /usr/local/lib/python3.10/dist-packages (from torch_geometric) (5.9.5)\n",
            "Requirement already satisfied: pyparsing in /usr/local/lib/python3.10/dist-packages (from torch_geometric) (3.2.0)\n",
            "Requirement already satisfied: requests in /usr/local/lib/python3.10/dist-packages (from torch_geometric) (2.32.3)\n",
            "Requirement already satisfied: tqdm in /usr/local/lib/python3.10/dist-packages (from torch_geometric) (4.67.1)\n",
            "Requirement already satisfied: aiohappyeyeballs>=2.3.0 in /usr/local/lib/python3.10/dist-packages (from aiohttp->torch_geometric) (2.4.4)\n",
            "Requirement already satisfied: aiosignal>=1.1.2 in /usr/local/lib/python3.10/dist-packages (from aiohttp->torch_geometric) (1.3.2)\n",
            "Requirement already satisfied: async-timeout<6.0,>=4.0 in /usr/local/lib/python3.10/dist-packages (from aiohttp->torch_geometric) (4.0.3)\n",
            "Requirement already satisfied: attrs>=17.3.0 in /usr/local/lib/python3.10/dist-packages (from aiohttp->torch_geometric) (24.3.0)\n",
            "Requirement already satisfied: frozenlist>=1.1.1 in /usr/local/lib/python3.10/dist-packages (from aiohttp->torch_geometric) (1.5.0)\n",
            "Requirement already satisfied: multidict<7.0,>=4.5 in /usr/local/lib/python3.10/dist-packages (from aiohttp->torch_geometric) (6.1.0)\n",
            "Requirement already satisfied: propcache>=0.2.0 in /usr/local/lib/python3.10/dist-packages (from aiohttp->torch_geometric) (0.2.1)\n",
            "Requirement already satisfied: yarl<2.0,>=1.17.0 in /usr/local/lib/python3.10/dist-packages (from aiohttp->torch_geometric) (1.18.3)\n",
            "Requirement already satisfied: MarkupSafe>=2.0 in /usr/local/lib/python3.10/dist-packages (from jinja2->torch_geometric) (3.0.2)\n",
            "Requirement already satisfied: charset-normalizer<4,>=2 in /usr/local/lib/python3.10/dist-packages (from requests->torch_geometric) (3.4.0)\n",
            "Requirement already satisfied: idna<4,>=2.5 in /usr/local/lib/python3.10/dist-packages (from requests->torch_geometric) (3.10)\n",
            "Requirement already satisfied: urllib3<3,>=1.21.1 in /usr/local/lib/python3.10/dist-packages (from requests->torch_geometric) (2.2.3)\n",
            "Requirement already satisfied: certifi>=2017.4.17 in /usr/local/lib/python3.10/dist-packages (from requests->torch_geometric) (2024.12.14)\n",
            "Requirement already satisfied: typing-extensions>=4.1.0 in /usr/local/lib/python3.10/dist-packages (from multidict<7.0,>=4.5->aiohttp->torch_geometric) (4.12.2)\n",
            "Downloading torch_geometric-2.6.1-py3-none-any.whl (1.1 MB)\n",
            "\u001b[2K   \u001b[90m━━━━━━━━━━━━━━━━━━━━━━━━━━━━━━━━━━━━━━━━\u001b[0m \u001b[32m1.1/1.1 MB\u001b[0m \u001b[31m22.7 MB/s\u001b[0m eta \u001b[36m0:00:00\u001b[0m\n",
            "\u001b[?25hInstalling collected packages: torch_geometric\n",
            "Successfully installed torch_geometric-2.6.1\n"
          ]
        }
      ],
      "source": [
        "#Install the required libraries\n",
        "!pip install torch_geometric                                                     # provides necessary tools and layers for implementing GNNs                                                            # hyperparameter optimization library"
      ]
    },
    {
      "cell_type": "code",
      "source": [
        "import torch\n",
        "from torch_geometric.datasets import KarateClub\n",
        "from torch_geometric.utils import to_networkx\n",
        "import networkx as nx                                                           #Library for creating, manipulating, and studying the structure, dynamics, functions of complex networks.\n",
        "import matplotlib.pyplot as plt\n",
        "import numpy as np\n",
        "from torch.nn import Linear\n",
        "from torch_geometric.nn import GCNConv"
      ],
      "metadata": {
        "id": "2ps2r6RHDtPw"
      },
      "execution_count": null,
      "outputs": []
    },
    {
      "cell_type": "code",
      "source": [
        "# Load the Karate Club dataset\n",
        "dataset = KarateClub()\n",
        "data = dataset[0]"
      ],
      "metadata": {
        "id": "3ed6i7OoFxCI"
      },
      "execution_count": null,
      "outputs": []
    },
    {
      "cell_type": "code",
      "source": [
        "print(dataset.num_features)"
      ],
      "metadata": {
        "colab": {
          "base_uri": "https://localhost:8080/"
        },
        "id": "z6zuSKO6R0sk",
        "outputId": "42cb2124-2a6d-4056-9587-c494d6b05f87"
      },
      "execution_count": null,
      "outputs": [
        {
          "output_type": "stream",
          "name": "stdout",
          "text": [
            "34\n"
          ]
        }
      ]
    },
    {
      "cell_type": "code",
      "source": [
        "import pandas as pd\n",
        "# Convert node features to a pandas DataFrame\n",
        "node_features_df = pd.DataFrame(data.x.numpy(), columns=[f'feature_{i}' for i in range(data.x.shape[1])])\n",
        "node_features_df['node'] = node_features_df.index\n",
        "node_features_df.set_index('node', inplace=True)\n",
        "\n",
        "# Convert edge indices to a pandas DataFrame\n",
        "edge_index_df = pd.DataFrame(data.edge_index.numpy().T, columns=['source', 'target'])\n",
        "\n",
        "# Convert labels to a pandas DataFrame\n",
        "labels_df = pd.DataFrame(data.y.numpy(), columns=['label'])\n",
        "labels_df['node'] = labels_df.index\n",
        "labels_df.set_index('node', inplace=True)"
      ],
      "metadata": {
        "id": "WrQX0NL804Cf"
      },
      "execution_count": null,
      "outputs": []
    },
    {
      "cell_type": "code",
      "source": [
        "print(node_features_df)"
      ],
      "metadata": {
        "colab": {
          "base_uri": "https://localhost:8080/"
        },
        "id": "Rz7-WNVUVTYs",
        "outputId": "6b6537eb-418c-4918-fd78-4e15f524da0d"
      },
      "execution_count": null,
      "outputs": [
        {
          "output_type": "stream",
          "name": "stdout",
          "text": [
            "      feature_0  feature_1  feature_2  feature_3  feature_4  feature_5  \\\n",
            "node                                                                     \n",
            "0           1.0        0.0        0.0        0.0        0.0        0.0   \n",
            "1           0.0        1.0        0.0        0.0        0.0        0.0   \n",
            "2           0.0        0.0        1.0        0.0        0.0        0.0   \n",
            "3           0.0        0.0        0.0        1.0        0.0        0.0   \n",
            "4           0.0        0.0        0.0        0.0        1.0        0.0   \n",
            "5           0.0        0.0        0.0        0.0        0.0        1.0   \n",
            "6           0.0        0.0        0.0        0.0        0.0        0.0   \n",
            "7           0.0        0.0        0.0        0.0        0.0        0.0   \n",
            "8           0.0        0.0        0.0        0.0        0.0        0.0   \n",
            "9           0.0        0.0        0.0        0.0        0.0        0.0   \n",
            "10          0.0        0.0        0.0        0.0        0.0        0.0   \n",
            "11          0.0        0.0        0.0        0.0        0.0        0.0   \n",
            "12          0.0        0.0        0.0        0.0        0.0        0.0   \n",
            "13          0.0        0.0        0.0        0.0        0.0        0.0   \n",
            "14          0.0        0.0        0.0        0.0        0.0        0.0   \n",
            "15          0.0        0.0        0.0        0.0        0.0        0.0   \n",
            "16          0.0        0.0        0.0        0.0        0.0        0.0   \n",
            "17          0.0        0.0        0.0        0.0        0.0        0.0   \n",
            "18          0.0        0.0        0.0        0.0        0.0        0.0   \n",
            "19          0.0        0.0        0.0        0.0        0.0        0.0   \n",
            "20          0.0        0.0        0.0        0.0        0.0        0.0   \n",
            "21          0.0        0.0        0.0        0.0        0.0        0.0   \n",
            "22          0.0        0.0        0.0        0.0        0.0        0.0   \n",
            "23          0.0        0.0        0.0        0.0        0.0        0.0   \n",
            "24          0.0        0.0        0.0        0.0        0.0        0.0   \n",
            "25          0.0        0.0        0.0        0.0        0.0        0.0   \n",
            "26          0.0        0.0        0.0        0.0        0.0        0.0   \n",
            "27          0.0        0.0        0.0        0.0        0.0        0.0   \n",
            "28          0.0        0.0        0.0        0.0        0.0        0.0   \n",
            "29          0.0        0.0        0.0        0.0        0.0        0.0   \n",
            "30          0.0        0.0        0.0        0.0        0.0        0.0   \n",
            "31          0.0        0.0        0.0        0.0        0.0        0.0   \n",
            "32          0.0        0.0        0.0        0.0        0.0        0.0   \n",
            "33          0.0        0.0        0.0        0.0        0.0        0.0   \n",
            "\n",
            "      feature_6  feature_7  feature_8  feature_9  ...  feature_24  feature_25  \\\n",
            "node                                              ...                           \n",
            "0           0.0        0.0        0.0        0.0  ...         0.0         0.0   \n",
            "1           0.0        0.0        0.0        0.0  ...         0.0         0.0   \n",
            "2           0.0        0.0        0.0        0.0  ...         0.0         0.0   \n",
            "3           0.0        0.0        0.0        0.0  ...         0.0         0.0   \n",
            "4           0.0        0.0        0.0        0.0  ...         0.0         0.0   \n",
            "5           0.0        0.0        0.0        0.0  ...         0.0         0.0   \n",
            "6           1.0        0.0        0.0        0.0  ...         0.0         0.0   \n",
            "7           0.0        1.0        0.0        0.0  ...         0.0         0.0   \n",
            "8           0.0        0.0        1.0        0.0  ...         0.0         0.0   \n",
            "9           0.0        0.0        0.0        1.0  ...         0.0         0.0   \n",
            "10          0.0        0.0        0.0        0.0  ...         0.0         0.0   \n",
            "11          0.0        0.0        0.0        0.0  ...         0.0         0.0   \n",
            "12          0.0        0.0        0.0        0.0  ...         0.0         0.0   \n",
            "13          0.0        0.0        0.0        0.0  ...         0.0         0.0   \n",
            "14          0.0        0.0        0.0        0.0  ...         0.0         0.0   \n",
            "15          0.0        0.0        0.0        0.0  ...         0.0         0.0   \n",
            "16          0.0        0.0        0.0        0.0  ...         0.0         0.0   \n",
            "17          0.0        0.0        0.0        0.0  ...         0.0         0.0   \n",
            "18          0.0        0.0        0.0        0.0  ...         0.0         0.0   \n",
            "19          0.0        0.0        0.0        0.0  ...         0.0         0.0   \n",
            "20          0.0        0.0        0.0        0.0  ...         0.0         0.0   \n",
            "21          0.0        0.0        0.0        0.0  ...         0.0         0.0   \n",
            "22          0.0        0.0        0.0        0.0  ...         0.0         0.0   \n",
            "23          0.0        0.0        0.0        0.0  ...         0.0         0.0   \n",
            "24          0.0        0.0        0.0        0.0  ...         1.0         0.0   \n",
            "25          0.0        0.0        0.0        0.0  ...         0.0         1.0   \n",
            "26          0.0        0.0        0.0        0.0  ...         0.0         0.0   \n",
            "27          0.0        0.0        0.0        0.0  ...         0.0         0.0   \n",
            "28          0.0        0.0        0.0        0.0  ...         0.0         0.0   \n",
            "29          0.0        0.0        0.0        0.0  ...         0.0         0.0   \n",
            "30          0.0        0.0        0.0        0.0  ...         0.0         0.0   \n",
            "31          0.0        0.0        0.0        0.0  ...         0.0         0.0   \n",
            "32          0.0        0.0        0.0        0.0  ...         0.0         0.0   \n",
            "33          0.0        0.0        0.0        0.0  ...         0.0         0.0   \n",
            "\n",
            "      feature_26  feature_27  feature_28  feature_29  feature_30  feature_31  \\\n",
            "node                                                                           \n",
            "0            0.0         0.0         0.0         0.0         0.0         0.0   \n",
            "1            0.0         0.0         0.0         0.0         0.0         0.0   \n",
            "2            0.0         0.0         0.0         0.0         0.0         0.0   \n",
            "3            0.0         0.0         0.0         0.0         0.0         0.0   \n",
            "4            0.0         0.0         0.0         0.0         0.0         0.0   \n",
            "5            0.0         0.0         0.0         0.0         0.0         0.0   \n",
            "6            0.0         0.0         0.0         0.0         0.0         0.0   \n",
            "7            0.0         0.0         0.0         0.0         0.0         0.0   \n",
            "8            0.0         0.0         0.0         0.0         0.0         0.0   \n",
            "9            0.0         0.0         0.0         0.0         0.0         0.0   \n",
            "10           0.0         0.0         0.0         0.0         0.0         0.0   \n",
            "11           0.0         0.0         0.0         0.0         0.0         0.0   \n",
            "12           0.0         0.0         0.0         0.0         0.0         0.0   \n",
            "13           0.0         0.0         0.0         0.0         0.0         0.0   \n",
            "14           0.0         0.0         0.0         0.0         0.0         0.0   \n",
            "15           0.0         0.0         0.0         0.0         0.0         0.0   \n",
            "16           0.0         0.0         0.0         0.0         0.0         0.0   \n",
            "17           0.0         0.0         0.0         0.0         0.0         0.0   \n",
            "18           0.0         0.0         0.0         0.0         0.0         0.0   \n",
            "19           0.0         0.0         0.0         0.0         0.0         0.0   \n",
            "20           0.0         0.0         0.0         0.0         0.0         0.0   \n",
            "21           0.0         0.0         0.0         0.0         0.0         0.0   \n",
            "22           0.0         0.0         0.0         0.0         0.0         0.0   \n",
            "23           0.0         0.0         0.0         0.0         0.0         0.0   \n",
            "24           0.0         0.0         0.0         0.0         0.0         0.0   \n",
            "25           0.0         0.0         0.0         0.0         0.0         0.0   \n",
            "26           1.0         0.0         0.0         0.0         0.0         0.0   \n",
            "27           0.0         1.0         0.0         0.0         0.0         0.0   \n",
            "28           0.0         0.0         1.0         0.0         0.0         0.0   \n",
            "29           0.0         0.0         0.0         1.0         0.0         0.0   \n",
            "30           0.0         0.0         0.0         0.0         1.0         0.0   \n",
            "31           0.0         0.0         0.0         0.0         0.0         1.0   \n",
            "32           0.0         0.0         0.0         0.0         0.0         0.0   \n",
            "33           0.0         0.0         0.0         0.0         0.0         0.0   \n",
            "\n",
            "      feature_32  feature_33  \n",
            "node                          \n",
            "0            0.0         0.0  \n",
            "1            0.0         0.0  \n",
            "2            0.0         0.0  \n",
            "3            0.0         0.0  \n",
            "4            0.0         0.0  \n",
            "5            0.0         0.0  \n",
            "6            0.0         0.0  \n",
            "7            0.0         0.0  \n",
            "8            0.0         0.0  \n",
            "9            0.0         0.0  \n",
            "10           0.0         0.0  \n",
            "11           0.0         0.0  \n",
            "12           0.0         0.0  \n",
            "13           0.0         0.0  \n",
            "14           0.0         0.0  \n",
            "15           0.0         0.0  \n",
            "16           0.0         0.0  \n",
            "17           0.0         0.0  \n",
            "18           0.0         0.0  \n",
            "19           0.0         0.0  \n",
            "20           0.0         0.0  \n",
            "21           0.0         0.0  \n",
            "22           0.0         0.0  \n",
            "23           0.0         0.0  \n",
            "24           0.0         0.0  \n",
            "25           0.0         0.0  \n",
            "26           0.0         0.0  \n",
            "27           0.0         0.0  \n",
            "28           0.0         0.0  \n",
            "29           0.0         0.0  \n",
            "30           0.0         0.0  \n",
            "31           0.0         0.0  \n",
            "32           1.0         0.0  \n",
            "33           0.0         1.0  \n",
            "\n",
            "[34 rows x 34 columns]\n"
          ]
        }
      ]
    },
    {
      "cell_type": "code",
      "source": [
        "# Print the number of nodes\n",
        "num_nodes = data.num_nodes\n",
        "print(f\"Number of nodes: {num_nodes}\")"
      ],
      "metadata": {
        "colab": {
          "base_uri": "https://localhost:8080/"
        },
        "id": "7saz9cGu07d9",
        "outputId": "b60b861a-cac0-448f-ef49-eef44b815527"
      },
      "execution_count": null,
      "outputs": [
        {
          "output_type": "stream",
          "name": "stdout",
          "text": [
            "Number of nodes: 34\n"
          ]
        }
      ]
    },
    {
      "cell_type": "code",
      "source": [
        "# Print the number of edges\n",
        "num_edges = data.edge_index.shape[1]\n",
        "print(f\"Number of edges: {num_edges}\")"
      ],
      "metadata": {
        "colab": {
          "base_uri": "https://localhost:8080/"
        },
        "id": "rcsx4w5f07gW",
        "outputId": "296722bb-5577-4494-d456-654db7cd0a46"
      },
      "execution_count": null,
      "outputs": [
        {
          "output_type": "stream",
          "name": "stdout",
          "text": [
            "Number of edges: 156\n"
          ]
        }
      ]
    },
    {
      "cell_type": "code",
      "source": [
        "# Print node features DataFrame\n",
        "print(f\"\\nNode features (shape: {node_features_df.shape}):\")\n",
        "print(node_features_df.head())  # Print only the first few rows for brevity"
      ],
      "metadata": {
        "colab": {
          "base_uri": "https://localhost:8080/"
        },
        "id": "IaLTUYV-07j1",
        "outputId": "389eea41-baaf-409a-b94a-c9ec664ef6dc"
      },
      "execution_count": null,
      "outputs": [
        {
          "output_type": "stream",
          "name": "stdout",
          "text": [
            "\n",
            "Node features (shape: (34, 34)):\n",
            "      feature_0  feature_1  feature_2  feature_3  feature_4  feature_5  \\\n",
            "node                                                                     \n",
            "0           1.0        0.0        0.0        0.0        0.0        0.0   \n",
            "1           0.0        1.0        0.0        0.0        0.0        0.0   \n",
            "2           0.0        0.0        1.0        0.0        0.0        0.0   \n",
            "3           0.0        0.0        0.0        1.0        0.0        0.0   \n",
            "4           0.0        0.0        0.0        0.0        1.0        0.0   \n",
            "\n",
            "      feature_6  feature_7  feature_8  feature_9  ...  feature_24  feature_25  \\\n",
            "node                                              ...                           \n",
            "0           0.0        0.0        0.0        0.0  ...         0.0         0.0   \n",
            "1           0.0        0.0        0.0        0.0  ...         0.0         0.0   \n",
            "2           0.0        0.0        0.0        0.0  ...         0.0         0.0   \n",
            "3           0.0        0.0        0.0        0.0  ...         0.0         0.0   \n",
            "4           0.0        0.0        0.0        0.0  ...         0.0         0.0   \n",
            "\n",
            "      feature_26  feature_27  feature_28  feature_29  feature_30  feature_31  \\\n",
            "node                                                                           \n",
            "0            0.0         0.0         0.0         0.0         0.0         0.0   \n",
            "1            0.0         0.0         0.0         0.0         0.0         0.0   \n",
            "2            0.0         0.0         0.0         0.0         0.0         0.0   \n",
            "3            0.0         0.0         0.0         0.0         0.0         0.0   \n",
            "4            0.0         0.0         0.0         0.0         0.0         0.0   \n",
            "\n",
            "      feature_32  feature_33  \n",
            "node                          \n",
            "0            0.0         0.0  \n",
            "1            0.0         0.0  \n",
            "2            0.0         0.0  \n",
            "3            0.0         0.0  \n",
            "4            0.0         0.0  \n",
            "\n",
            "[5 rows x 34 columns]\n"
          ]
        }
      ]
    },
    {
      "cell_type": "code",
      "source": [
        "# Print edge indices DataFrame\n",
        "print(f\"\\nEdge indices (shape: {edge_index_df.shape}):\")\n",
        "print(edge_index_df.head())  # Print only the first few rows for brevity"
      ],
      "metadata": {
        "colab": {
          "base_uri": "https://localhost:8080/"
        },
        "id": "W05aqk0w1O1S",
        "outputId": "d47d15f3-ceb8-4028-d1f1-3d866d708edb"
      },
      "execution_count": null,
      "outputs": [
        {
          "output_type": "stream",
          "name": "stdout",
          "text": [
            "\n",
            "Edge indices (shape: (156, 2)):\n",
            "   source  target\n",
            "0       0       1\n",
            "1       0       2\n",
            "2       0       3\n",
            "3       0       4\n",
            "4       0       5\n"
          ]
        }
      ]
    },
    {
      "cell_type": "code",
      "source": [
        "# Print labels DataFrame\n",
        "print(f\"\\nLabels (shape: {labels_df.shape}):\")\n",
        "print(labels_df.head())  # Print only the first few rows for brevity"
      ],
      "metadata": {
        "colab": {
          "base_uri": "https://localhost:8080/"
        },
        "id": "g7ZJ1bE21TUT",
        "outputId": "39084329-175d-4e93-b1c1-f52f12d53df9"
      },
      "execution_count": null,
      "outputs": [
        {
          "output_type": "stream",
          "name": "stdout",
          "text": [
            "\n",
            "Labels (shape: (34, 1)):\n",
            "      label\n",
            "node       \n",
            "0         1\n",
            "1         1\n",
            "2         1\n",
            "3         1\n",
            "4         3\n"
          ]
        }
      ]
    },
    {
      "cell_type": "code",
      "source": [
        "# Number of countries\n",
        "num_countries = 4\n",
        "\n",
        "# Assign students to countries (labels)\n",
        "np.random.seed(42)  # For reproducibility\n",
        "countries = torch.tensor(np.random.choice(num_countries, data.num_nodes))\n",
        "\n",
        "# Update the labels in the data object\n",
        "data.y = countries"
      ],
      "metadata": {
        "id": "q00H7G7KF09y"
      },
      "execution_count": null,
      "outputs": []
    },
    {
      "cell_type": "code",
      "source": [
        "# Verify the data\n",
        "print(data)\n",
        "print(f'x = {data.x.shape}')\n",
        "print(data.x)\n",
        "print(f'edge_index = {data.edge_index.shape}')\n",
        "print(data.edge_index)\n",
        "print(f'y = {data.y.shape}')\n",
        "print(data.y)"
      ],
      "metadata": {
        "colab": {
          "base_uri": "https://localhost:8080/"
        },
        "id": "j9cAoVrHF3xI",
        "outputId": "24d65359-1de8-4d26-cf57-77b9f64cb927"
      },
      "execution_count": null,
      "outputs": [
        {
          "output_type": "stream",
          "name": "stdout",
          "text": [
            "Data(x=[34, 34], edge_index=[2, 156], y=[34], train_mask=[34])\n",
            "x = torch.Size([34, 34])\n",
            "tensor([[1., 0., 0.,  ..., 0., 0., 0.],\n",
            "        [0., 1., 0.,  ..., 0., 0., 0.],\n",
            "        [0., 0., 1.,  ..., 0., 0., 0.],\n",
            "        ...,\n",
            "        [0., 0., 0.,  ..., 1., 0., 0.],\n",
            "        [0., 0., 0.,  ..., 0., 1., 0.],\n",
            "        [0., 0., 0.,  ..., 0., 0., 1.]])\n",
            "edge_index = torch.Size([2, 156])\n",
            "tensor([[ 0,  0,  0,  0,  0,  0,  0,  0,  0,  0,  0,  0,  0,  0,  0,  0,  1,  1,\n",
            "          1,  1,  1,  1,  1,  1,  1,  2,  2,  2,  2,  2,  2,  2,  2,  2,  2,  3,\n",
            "          3,  3,  3,  3,  3,  4,  4,  4,  5,  5,  5,  5,  6,  6,  6,  6,  7,  7,\n",
            "          7,  7,  8,  8,  8,  8,  8,  9,  9, 10, 10, 10, 11, 12, 12, 13, 13, 13,\n",
            "         13, 13, 14, 14, 15, 15, 16, 16, 17, 17, 18, 18, 19, 19, 19, 20, 20, 21,\n",
            "         21, 22, 22, 23, 23, 23, 23, 23, 24, 24, 24, 25, 25, 25, 26, 26, 27, 27,\n",
            "         27, 27, 28, 28, 28, 29, 29, 29, 29, 30, 30, 30, 30, 31, 31, 31, 31, 31,\n",
            "         31, 32, 32, 32, 32, 32, 32, 32, 32, 32, 32, 32, 32, 33, 33, 33, 33, 33,\n",
            "         33, 33, 33, 33, 33, 33, 33, 33, 33, 33, 33, 33],\n",
            "        [ 1,  2,  3,  4,  5,  6,  7,  8, 10, 11, 12, 13, 17, 19, 21, 31,  0,  2,\n",
            "          3,  7, 13, 17, 19, 21, 30,  0,  1,  3,  7,  8,  9, 13, 27, 28, 32,  0,\n",
            "          1,  2,  7, 12, 13,  0,  6, 10,  0,  6, 10, 16,  0,  4,  5, 16,  0,  1,\n",
            "          2,  3,  0,  2, 30, 32, 33,  2, 33,  0,  4,  5,  0,  0,  3,  0,  1,  2,\n",
            "          3, 33, 32, 33, 32, 33,  5,  6,  0,  1, 32, 33,  0,  1, 33, 32, 33,  0,\n",
            "          1, 32, 33, 25, 27, 29, 32, 33, 25, 27, 31, 23, 24, 31, 29, 33,  2, 23,\n",
            "         24, 33,  2, 31, 33, 23, 26, 32, 33,  1,  8, 32, 33,  0, 24, 25, 28, 32,\n",
            "         33,  2,  8, 14, 15, 18, 20, 22, 23, 29, 30, 31, 33,  8,  9, 13, 14, 15,\n",
            "         18, 19, 20, 22, 23, 26, 27, 28, 29, 30, 31, 32]])\n",
            "y = torch.Size([34])\n",
            "tensor([2, 3, 0, 2, 2, 3, 0, 0, 2, 1, 2, 2, 2, 2, 3, 0, 3, 3, 3, 2, 1, 0, 1, 3,\n",
            "        3, 1, 1, 1, 3, 3, 0, 0, 3, 1])\n"
          ]
        }
      ]
    },
    {
      "cell_type": "code",
      "source": [
        "# Check if the graph is as expected\n",
        "G = to_networkx(data, to_undirected=True)\n",
        "plt.figure(figsize=(12,12))\n",
        "plt.axis('off')\n",
        "nx.draw_networkx(G,\n",
        "                pos=nx.spring_layout(G, seed=0),\n",
        "                with_labels=True,\n",
        "                node_size=800,\n",
        "                node_color=data.y,\n",
        "                cmap=\"hsv\",\n",
        "                vmin=-2,\n",
        "                vmax=3,\n",
        "                width=0.8,\n",
        "                edge_color=\"grey\",\n",
        "                font_size=14\n",
        "                )\n",
        "plt.show()"
      ],
      "metadata": {
        "colab": {
          "base_uri": "https://localhost:8080/",
          "height": 904
        },
        "id": "nV5fM6QrF8IO",
        "outputId": "6cee8328-474f-4f04-9ed4-4a135f72072b"
      },
      "execution_count": null,
      "outputs": [
        {
          "output_type": "display_data",
          "data": {
            "text/plain": [
              "<Figure size 1200x1200 with 1 Axes>"
            ],
            "image/png": "[encoded data removed]"
          },
          "metadata": {}
        }
      ]
    },
    {
      "cell_type": "code",
      "source": [
        "# Define the model\n",
        "class GCN(torch.nn.Module):\n",
        "    def __init__(self):\n",
        "        super().__init__()\n",
        "        self.gcn = GCNConv(dataset.num_features, 3)\n",
        "        self.out = Linear(3, num_countries)\n",
        "    def forward(self, x, edge_index):\n",
        "        h = self.gcn(x, edge_index).relu()\n",
        "        z = self.out(h)\n",
        "        return h, z\n",
        "\n",
        "model = GCN()\n",
        "print(model)\n"
      ],
      "metadata": {
        "colab": {
          "base_uri": "https://localhost:8080/"
        },
        "id": "xG4_WrAFGAkj",
        "outputId": "4a61a186-a480-4a55-d188-167ee7d55097"
      },
      "execution_count": null,
      "outputs": [
        {
          "output_type": "stream",
          "name": "stdout",
          "text": [
            "GCN(\n",
            "  (gcn): GCNConv(34, 3)\n",
            "  (out): Linear(in_features=3, out_features=4, bias=True)\n",
            ")\n"
          ]
        }
      ]
    },
    {
      "cell_type": "code",
      "source": [
        "criterion = torch.nn.CrossEntropyLoss()\n",
        "optimizer = torch.optim.Adam(model.parameters(), lr=0.02)\n",
        "\n",
        "# Calculate accuracy\n",
        "def accuracy(pred_y, y):\n",
        "    return (pred_y == y).sum() / len(y)\n"
      ],
      "metadata": {
        "id": "lfRvT5vkGFty"
      },
      "execution_count": null,
      "outputs": []
    },
    {
      "cell_type": "code",
      "source": [
        "# Data for animations\n",
        "embeddings = []\n",
        "losses = []\n",
        "accuracies = []\n",
        "outputs = []\n",
        "\n",
        "# Training loop\n",
        "for epoch in range(200):\n",
        "    optimizer.zero_grad()\n",
        "    h, z = model(data.x, data.edge_index)\n",
        "    loss = criterion(z, data.y)\n",
        "    acc = accuracy(z.argmax(dim=1), data.y)\n",
        "    loss.backward()\n",
        "    optimizer.step()\n",
        "    embeddings.append(h)\n",
        "    losses.append(loss)\n",
        "    accuracies.append(acc)\n",
        "    outputs.append(z.argmax(dim=1))\n",
        "    if epoch % 10 == 0:\n",
        "        print(f'Epoch {epoch:>3} | Loss: {loss:.2f} | Acc: {acc*100:.2f}%')\n"
      ],
      "metadata": {
        "colab": {
          "base_uri": "https://localhost:8080/"
        },
        "id": "muU8ttuDGIzv",
        "outputId": "2c61b047-481a-4add-ca0e-7f52d5a392e9"
      },
      "execution_count": null,
      "outputs": [
        {
          "output_type": "stream",
          "name": "stdout",
          "text": [
            "Epoch   0 | Loss: 1.39 | Acc: 26.47%\n",
            "Epoch  10 | Loss: 1.31 | Acc: 32.35%\n",
            "Epoch  20 | Loss: 1.18 | Acc: 52.94%\n",
            "Epoch  30 | Loss: 1.03 | Acc: 55.88%\n",
            "Epoch  40 | Loss: 0.87 | Acc: 73.53%\n",
            "Epoch  50 | Loss: 0.72 | Acc: 85.29%\n",
            "Epoch  60 | Loss: 0.59 | Acc: 88.24%\n",
            "Epoch  70 | Loss: 0.48 | Acc: 94.12%\n",
            "Epoch  80 | Loss: 0.38 | Acc: 97.06%\n",
            "Epoch  90 | Loss: 0.31 | Acc: 97.06%\n",
            "Epoch 100 | Loss: 0.25 | Acc: 97.06%\n",
            "Epoch 110 | Loss: 0.21 | Acc: 97.06%\n",
            "Epoch 120 | Loss: 0.18 | Acc: 97.06%\n",
            "Epoch 130 | Loss: 0.15 | Acc: 97.06%\n",
            "Epoch 140 | Loss: 0.13 | Acc: 97.06%\n",
            "Epoch 150 | Loss: 0.11 | Acc: 97.06%\n",
            "Epoch 160 | Loss: 0.09 | Acc: 100.00%\n",
            "Epoch 170 | Loss: 0.08 | Acc: 100.00%\n",
            "Epoch 180 | Loss: 0.06 | Acc: 100.00%\n",
            "Epoch 190 | Loss: 0.05 | Acc: 100.00%\n"
          ]
        }
      ]
    }
  ]
}