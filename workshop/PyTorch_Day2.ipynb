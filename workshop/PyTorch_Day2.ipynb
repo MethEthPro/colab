{
  "nbformat": 4,
  "nbformat_minor": 0,
  "metadata": {
    "colab": {
      "provenance": [],
      "include_colab_link": true
    },
    "kernelspec": {
      "name": "python3",
      "display_name": "Python 3"
    },
    "language_info": {
      "name": "python"
    }
  },
  "cells": [
    {
      "cell_type": "markdown",
      "metadata": {
        "id": "view-in-github",
        "colab_type": "text"
      },
      "source": [
        "<a href=\"https://colab.research.google.com/github/MethEthPro/colab/blob/main/workshop/PyTorch_Day2.ipynb\" target=\"_parent\"><img src=\"https://colab.research.google.com/assets/colab-badge.svg\" alt=\"Open In Colab\"/></a>"
      ]
    },
    {
      "cell_type": "code",
      "source": [
        "import torch\n",
        "import torch.nn as nn\n",
        "from torch import optim # optimizers\n",
        "from sklearn.datasets import load_diabetes"
      ],
      "metadata": {
        "id": "6RxSjASlLuuE"
      },
      "execution_count": 1,
      "outputs": []
    },
    {
      "cell_type": "code",
      "source": [
        "t1 = torch.tensor([1,2,3])\n",
        "t1"
      ],
      "metadata": {
        "colab": {
          "base_uri": "https://localhost:8080/"
        },
        "id": "BZr1ju70mHyM",
        "outputId": "cb009f08-a9d0-43ac-dfa0-ec6f8e378de1"
      },
      "execution_count": 6,
      "outputs": [
        {
          "output_type": "execute_result",
          "data": {
            "text/plain": [
              "tensor([1, 2, 3])"
            ]
          },
          "metadata": {},
          "execution_count": 6
        }
      ]
    },
    {
      "cell_type": "code",
      "source": [
        "x = torch.randn(2, 3)\n",
        "x"
      ],
      "metadata": {
        "colab": {
          "base_uri": "https://localhost:8080/"
        },
        "id": "tv9dA7OpnHzg",
        "outputId": "7163b569-ab05-4a9f-e904-38478cfe5c2d"
      },
      "execution_count": 7,
      "outputs": [
        {
          "output_type": "execute_result",
          "data": {
            "text/plain": [
              "tensor([[ 1.6271, -1.1113,  1.2059],\n",
              "        [ 1.1628, -0.0231, -0.8914]])"
            ]
          },
          "metadata": {},
          "execution_count": 7
        }
      ]
    },
    {
      "cell_type": "markdown",
      "source": [
        "RGB (256X256X3)\n",
        "\n",
        "Grey (256X256X1)"
      ],
      "metadata": {
        "id": "ugqdE_9iM6mx"
      }
    },
    {
      "cell_type": "code",
      "source": [
        "torch.unsqueeze(x,0)"
      ],
      "metadata": {
        "colab": {
          "base_uri": "https://localhost:8080/"
        },
        "id": "AzDMBYmdn7WF",
        "outputId": "578bdf52-7da4-4ad5-d80b-131f6d7f64a4"
      },
      "execution_count": 9,
      "outputs": [
        {
          "output_type": "execute_result",
          "data": {
            "text/plain": [
              "tensor([[[ 1.6271, -1.1113,  1.2059],\n",
              "         [ 1.1628, -0.0231, -0.8914]]])"
            ]
          },
          "metadata": {},
          "execution_count": 9
        }
      ]
    },
    {
      "cell_type": "code",
      "source": [
        "torch.unsqueeze(x,1)"
      ],
      "metadata": {
        "colab": {
          "base_uri": "https://localhost:8080/"
        },
        "id": "tazBJzVLo9kh",
        "outputId": "89303b61-f700-4eff-ad09-de9977b2277f"
      },
      "execution_count": 10,
      "outputs": [
        {
          "output_type": "execute_result",
          "data": {
            "text/plain": [
              "tensor([[[ 1.6271, -1.1113,  1.2059]],\n",
              "\n",
              "        [[ 1.1628, -0.0231, -0.8914]]])"
            ]
          },
          "metadata": {},
          "execution_count": 10
        }
      ]
    },
    {
      "cell_type": "code",
      "source": [
        "torch.unsqueeze(x,2)"
      ],
      "metadata": {
        "colab": {
          "base_uri": "https://localhost:8080/"
        },
        "id": "kIYhFzvvpDX-",
        "outputId": "d805b457-cd58-4114-f872-588d6c7709c8"
      },
      "execution_count": 11,
      "outputs": [
        {
          "output_type": "execute_result",
          "data": {
            "text/plain": [
              "tensor([[[ 1.6271],\n",
              "         [-1.1113],\n",
              "         [ 1.2059]],\n",
              "\n",
              "        [[ 1.1628],\n",
              "         [-0.0231],\n",
              "         [-0.8914]]])"
            ]
          },
          "metadata": {},
          "execution_count": 11
        }
      ]
    },
    {
      "cell_type": "code",
      "source": [
        "y_pred = torch.tensor([[1], [2], [3]])\n",
        "y = torch.tensor([1,2,5])"
      ],
      "metadata": {
        "id": "tLh9rOOzos9Y"
      },
      "execution_count": 12,
      "outputs": []
    },
    {
      "cell_type": "code",
      "source": [
        "torch.squeeze(y_pred,1)"
      ],
      "metadata": {
        "colab": {
          "base_uri": "https://localhost:8080/"
        },
        "id": "rBsTpIPwpoxX",
        "outputId": "e87f20c9-49b3-424d-b135-684f0ef6db41"
      },
      "execution_count": 13,
      "outputs": [
        {
          "output_type": "execute_result",
          "data": {
            "text/plain": [
              "tensor([1, 2, 3])"
            ]
          },
          "metadata": {},
          "execution_count": 13
        }
      ]
    },
    {
      "cell_type": "code",
      "source": [
        "y_new = torch.unsqueeze(y,1)\n",
        "y_new"
      ],
      "metadata": {
        "colab": {
          "base_uri": "https://localhost:8080/"
        },
        "id": "_wsLCxqBqQHD",
        "outputId": "5a6af387-9c70-471a-d02c-5bba89365d27"
      },
      "execution_count": 14,
      "outputs": [
        {
          "output_type": "execute_result",
          "data": {
            "text/plain": [
              "tensor([[1],\n",
              "        [2],\n",
              "        [5]])"
            ]
          },
          "metadata": {},
          "execution_count": 14
        }
      ]
    },
    {
      "cell_type": "code",
      "source": [
        "from sklearn.metrics import mean_squared_error"
      ],
      "metadata": {
        "id": "YgLo6MFgqpL8"
      },
      "execution_count": 15,
      "outputs": []
    },
    {
      "cell_type": "code",
      "source": [
        "(4/3)"
      ],
      "metadata": {
        "colab": {
          "base_uri": "https://localhost:8080/"
        },
        "id": "SyRCqht2OHMz",
        "outputId": "70d24902-4aa8-4b91-f86c-0e495787a5ba"
      },
      "execution_count": 18,
      "outputs": [
        {
          "output_type": "execute_result",
          "data": {
            "text/plain": [
              "1.3333333333333333"
            ]
          },
          "metadata": {},
          "execution_count": 18
        }
      ]
    },
    {
      "cell_type": "code",
      "source": [
        "mean_squared_error(y, y_pred)"
      ],
      "metadata": {
        "colab": {
          "base_uri": "https://localhost:8080/"
        },
        "id": "Rv1uLF8oqsrZ",
        "outputId": "77266589-1d03-48a5-ad6f-835bce1111b5"
      },
      "execution_count": 16,
      "outputs": [
        {
          "output_type": "execute_result",
          "data": {
            "text/plain": [
              "1.3333333333333333"
            ]
          },
          "metadata": {},
          "execution_count": 16
        }
      ]
    },
    {
      "cell_type": "code",
      "source": [
        "x"
      ],
      "metadata": {
        "colab": {
          "base_uri": "https://localhost:8080/"
        },
        "id": "m-QbvczTOe47",
        "outputId": "505e2be4-62d3-4c50-e2fd-142c4cbbdbe1"
      },
      "execution_count": 19,
      "outputs": [
        {
          "output_type": "execute_result",
          "data": {
            "text/plain": [
              "tensor([[ 1.6271, -1.1113,  1.2059],\n",
              "        [ 1.1628, -0.0231, -0.8914]])"
            ]
          },
          "metadata": {},
          "execution_count": 19
        }
      ]
    },
    {
      "cell_type": "code",
      "source": [
        "torch.permute(x,(0,1))"
      ],
      "metadata": {
        "colab": {
          "base_uri": "https://localhost:8080/"
        },
        "id": "FaTZFPFHnVDR",
        "outputId": "729343aa-94bf-407d-812f-13b254765074"
      },
      "execution_count": 20,
      "outputs": [
        {
          "output_type": "execute_result",
          "data": {
            "text/plain": [
              "tensor([[ 1.6271, -1.1113,  1.2059],\n",
              "        [ 1.1628, -0.0231, -0.8914]])"
            ]
          },
          "metadata": {},
          "execution_count": 20
        }
      ]
    },
    {
      "cell_type": "code",
      "source": [
        "torch.permute(x,(1,0))"
      ],
      "metadata": {
        "colab": {
          "base_uri": "https://localhost:8080/"
        },
        "id": "v4u1H7UTngKI",
        "outputId": "0bc29dcb-91a4-4709-9b75-838fe4897511"
      },
      "execution_count": 21,
      "outputs": [
        {
          "output_type": "execute_result",
          "data": {
            "text/plain": [
              "tensor([[ 1.6271,  1.1628],\n",
              "        [-1.1113, -0.0231],\n",
              "        [ 1.2059, -0.8914]])"
            ]
          },
          "metadata": {},
          "execution_count": 21
        }
      ]
    },
    {
      "cell_type": "code",
      "source": [
        "x = torch.randn(2, 3)\n",
        "x.size()\n",
        "torch.permute(x, ( 1, 0)).size()"
      ],
      "metadata": {
        "colab": {
          "base_uri": "https://localhost:8080/"
        },
        "id": "iBpbMmaznEYO",
        "outputId": "52edd512-f20f-414f-90ec-4a4e8e595ecc"
      },
      "execution_count": 24,
      "outputs": [
        {
          "output_type": "execute_result",
          "data": {
            "text/plain": [
              "torch.Size([3, 2])"
            ]
          },
          "metadata": {},
          "execution_count": 24
        }
      ]
    },
    {
      "cell_type": "code",
      "source": [
        "# Load the dataset\n",
        "X_numpy ,y_numpy = load_diabetes(return_X_y=True, scaled = True)"
      ],
      "metadata": {
        "id": "dxF4zLzzL4GO"
      },
      "execution_count": 26,
      "outputs": []
    },
    {
      "cell_type": "code",
      "source": [
        "from sklearn.model_selection import train_test_split\n",
        "X_train, X_test, y_train, y_test = train_test_split(X_numpy, y_numpy, test_size=0.2, random_state=42)"
      ],
      "metadata": {
        "id": "SyTZB82asS6z"
      },
      "execution_count": 27,
      "outputs": []
    },
    {
      "cell_type": "code",
      "source": [
        "X_train = torch.tensor(X_train, dtype=torch.float32)\n",
        "X_test = torch.tensor(X_test, dtype=torch.float32)\n",
        "y_train = torch.tensor(y_train, dtype=torch.float32)\n",
        "y_test = torch.tensor(y_test, dtype=torch.float32)"
      ],
      "metadata": {
        "id": "1C9EnEQDshaJ"
      },
      "execution_count": 28,
      "outputs": []
    },
    {
      "cell_type": "code",
      "source": [
        "X_train.shape"
      ],
      "metadata": {
        "colab": {
          "base_uri": "https://localhost:8080/"
        },
        "id": "5p3ocQXSs6Go",
        "outputId": "201f77fa-57aa-4cbf-a4b3-216982b7efb6"
      },
      "execution_count": 29,
      "outputs": [
        {
          "output_type": "execute_result",
          "data": {
            "text/plain": [
              "torch.Size([353, 10])"
            ]
          },
          "metadata": {},
          "execution_count": 29
        }
      ]
    },
    {
      "cell_type": "code",
      "source": [
        "X_test.shape"
      ],
      "metadata": {
        "colab": {
          "base_uri": "https://localhost:8080/"
        },
        "id": "k1Ax2N5ts8sv",
        "outputId": "d84e0fd8-c06c-47ff-8c50-8955014f9ba9"
      },
      "execution_count": 30,
      "outputs": [
        {
          "output_type": "execute_result",
          "data": {
            "text/plain": [
              "torch.Size([89, 10])"
            ]
          },
          "metadata": {},
          "execution_count": 30
        }
      ]
    },
    {
      "cell_type": "code",
      "source": [
        "y_test.shape"
      ],
      "metadata": {
        "colab": {
          "base_uri": "https://localhost:8080/"
        },
        "id": "lCFK6azJXU5M",
        "outputId": "804e187f-b07f-4098-a6f7-793c06356f16"
      },
      "execution_count": 59,
      "outputs": [
        {
          "output_type": "execute_result",
          "data": {
            "text/plain": [
              "torch.Size([89])"
            ]
          },
          "metadata": {},
          "execution_count": 59
        }
      ]
    },
    {
      "cell_type": "code",
      "source": [
        "X_train.shape[1]"
      ],
      "metadata": {
        "colab": {
          "base_uri": "https://localhost:8080/"
        },
        "id": "3sta5eUctZZr",
        "outputId": "edcdc050-3132-4b2c-f235-39cc8771f5d4"
      },
      "execution_count": 31,
      "outputs": [
        {
          "output_type": "execute_result",
          "data": {
            "text/plain": [
              "10"
            ]
          },
          "metadata": {},
          "execution_count": 31
        }
      ]
    },
    {
      "cell_type": "code",
      "source": [
        "num_neurons = 5\n",
        "# layer1 = nn.Linear(10, 5)\n",
        "a1_layer = nn.Linear(X_train.shape[1], num_neurons)\n",
        "a1 = a1_layer.forward(X_train)\n",
        "a1\n",
        "\n",
        "# no of parameters = 10*5 = 50 weights and 5 biases = 55"
      ],
      "metadata": {
        "colab": {
          "base_uri": "https://localhost:8080/"
        },
        "id": "RWKUUBcQr5xr",
        "outputId": "4d59ec7d-000a-426f-a403-1758de09e8af"
      },
      "execution_count": 54,
      "outputs": [
        {
          "output_type": "execute_result",
          "data": {
            "text/plain": [
              "tensor([[-0.1838, -0.1015,  0.3063, -0.0902, -0.3157],\n",
              "        [-0.1630, -0.1332,  0.2966, -0.0516, -0.3186],\n",
              "        [-0.2146, -0.0588,  0.3082, -0.0987, -0.2305],\n",
              "        ...,\n",
              "        [-0.1809, -0.0904,  0.2738, -0.0729, -0.2478],\n",
              "        [-0.1661, -0.0849,  0.2727, -0.0321, -0.2735],\n",
              "        [-0.1926, -0.0667,  0.2271, -0.0601, -0.2424]],\n",
              "       grad_fn=<AddmmBackward0>)"
            ]
          },
          "metadata": {},
          "execution_count": 54
        }
      ]
    },
    {
      "cell_type": "code",
      "source": [
        "a1_layer.weight"
      ],
      "metadata": {
        "colab": {
          "base_uri": "https://localhost:8080/"
        },
        "id": "Xfv9h634WuvF",
        "outputId": "985ff344-4ccf-4564-ccf3-1611b21f11da"
      },
      "execution_count": 55,
      "outputs": [
        {
          "output_type": "execute_result",
          "data": {
            "text/plain": [
              "Parameter containing:\n",
              "tensor([[ 0.0818,  0.1838, -0.1205, -0.2737,  0.2298, -0.2594, -0.3048, -0.3083,\n",
              "         -0.1148,  0.0189],\n",
              "        [-0.1171, -0.2801,  0.0232,  0.1956, -0.0422,  0.1764, -0.0500, -0.2480,\n",
              "          0.1966, -0.2801],\n",
              "        [ 0.2295,  0.1454,  0.0669,  0.2922, -0.3036, -0.1043, -0.0569,  0.1766,\n",
              "         -0.2775,  0.0166],\n",
              "        [-0.0641, -0.2544, -0.1486, -0.2946,  0.0540,  0.1284, -0.0234,  0.2952,\n",
              "         -0.1086, -0.2046],\n",
              "        [-0.2109, -0.1113,  0.1825,  0.2087, -0.2079, -0.2840,  0.1511, -0.2675,\n",
              "          0.0072, -0.1231]], requires_grad=True)"
            ]
          },
          "metadata": {},
          "execution_count": 55
        }
      ]
    },
    {
      "cell_type": "code",
      "source": [
        "torch.matmul(a1_layer.weight.data, X_train.T).T + a1_layer.bias.data"
      ],
      "metadata": {
        "colab": {
          "base_uri": "https://localhost:8080/"
        },
        "id": "vE1q66_nweeZ",
        "outputId": "84ebf799-89e2-404b-9a5a-73bc69bec839"
      },
      "execution_count": 56,
      "outputs": [
        {
          "output_type": "execute_result",
          "data": {
            "text/plain": [
              "tensor([[-0.1838, -0.1015,  0.3063, -0.0902, -0.3157],\n",
              "        [-0.1630, -0.1332,  0.2966, -0.0516, -0.3186],\n",
              "        [-0.2146, -0.0588,  0.3082, -0.0987, -0.2305],\n",
              "        ...,\n",
              "        [-0.1809, -0.0904,  0.2738, -0.0729, -0.2478],\n",
              "        [-0.1661, -0.0849,  0.2727, -0.0321, -0.2735],\n",
              "        [-0.1926, -0.0667,  0.2271, -0.0601, -0.2424]])"
            ]
          },
          "metadata": {},
          "execution_count": 56
        }
      ]
    },
    {
      "cell_type": "code",
      "source": [
        "a1_layer.forward(X_train)"
      ],
      "metadata": {
        "colab": {
          "base_uri": "https://localhost:8080/"
        },
        "id": "FKctlpnuvLi_",
        "outputId": "523d32df-f364-4eb7-d23b-2451a8f5f437"
      },
      "execution_count": 57,
      "outputs": [
        {
          "output_type": "execute_result",
          "data": {
            "text/plain": [
              "tensor([[-0.1838, -0.1015,  0.3063, -0.0902, -0.3157],\n",
              "        [-0.1630, -0.1332,  0.2966, -0.0516, -0.3186],\n",
              "        [-0.2146, -0.0588,  0.3082, -0.0987, -0.2305],\n",
              "        ...,\n",
              "        [-0.1809, -0.0904,  0.2738, -0.0729, -0.2478],\n",
              "        [-0.1661, -0.0849,  0.2727, -0.0321, -0.2735],\n",
              "        [-0.1926, -0.0667,  0.2271, -0.0601, -0.2424]],\n",
              "       grad_fn=<AddmmBackward0>)"
            ]
          },
          "metadata": {},
          "execution_count": 57
        }
      ]
    },
    {
      "cell_type": "code",
      "source": [
        "a1_layer(X_train) # pytorch recommends"
      ],
      "metadata": {
        "colab": {
          "base_uri": "https://localhost:8080/"
        },
        "id": "eKrFdxpvvUAd",
        "outputId": "625dec74-aac6-4464-c84c-2406b27db2b2"
      },
      "execution_count": 58,
      "outputs": [
        {
          "output_type": "execute_result",
          "data": {
            "text/plain": [
              "tensor([[-0.1838, -0.1015,  0.3063, -0.0902, -0.3157],\n",
              "        [-0.1630, -0.1332,  0.2966, -0.0516, -0.3186],\n",
              "        [-0.2146, -0.0588,  0.3082, -0.0987, -0.2305],\n",
              "        ...,\n",
              "        [-0.1809, -0.0904,  0.2738, -0.0729, -0.2478],\n",
              "        [-0.1661, -0.0849,  0.2727, -0.0321, -0.2735],\n",
              "        [-0.1926, -0.0667,  0.2271, -0.0601, -0.2424]],\n",
              "       grad_fn=<AddmmBackward0>)"
            ]
          },
          "metadata": {},
          "execution_count": 58
        }
      ]
    },
    {
      "cell_type": "markdown",
      "source": [
        "so we see that\n",
        "\n",
        "if we make a layer\n",
        "\n",
        "layer = nn.Linear(10,5)\n",
        "\n",
        "and use its weight and biases\n",
        "\n",
        "\n",
        "doing w*x.T + b\n",
        "\n",
        "or layer.forward(x)\n",
        "\n",
        "or layer(x)\n",
        "\n",
        "all 3 of these give us the same results\n",
        "\n",
        "\n",
        "\n",
        "\n"
      ],
      "metadata": {
        "id": "2GxHcUFzXE5V"
      }
    },
    {
      "cell_type": "code",
      "source": [
        "a1_layer.weight.shape"
      ],
      "metadata": {
        "colab": {
          "base_uri": "https://localhost:8080/"
        },
        "id": "Pq0QOiz0ukUA",
        "outputId": "84bb4408-2775-479d-aadc-724f85b93016"
      },
      "execution_count": 61,
      "outputs": [
        {
          "output_type": "execute_result",
          "data": {
            "text/plain": [
              "torch.Size([5, 10])"
            ]
          },
          "metadata": {},
          "execution_count": 61
        }
      ]
    },
    {
      "cell_type": "code",
      "source": [
        "a1_layer.weight"
      ],
      "metadata": {
        "colab": {
          "base_uri": "https://localhost:8080/"
        },
        "id": "thEnMO8MTLoZ",
        "outputId": "1acb05ae-7ce5-48eb-d9c5-7b4c26269231"
      },
      "execution_count": 62,
      "outputs": [
        {
          "output_type": "execute_result",
          "data": {
            "text/plain": [
              "Parameter containing:\n",
              "tensor([[ 0.0818,  0.1838, -0.1205, -0.2737,  0.2298, -0.2594, -0.3048, -0.3083,\n",
              "         -0.1148,  0.0189],\n",
              "        [-0.1171, -0.2801,  0.0232,  0.1956, -0.0422,  0.1764, -0.0500, -0.2480,\n",
              "          0.1966, -0.2801],\n",
              "        [ 0.2295,  0.1454,  0.0669,  0.2922, -0.3036, -0.1043, -0.0569,  0.1766,\n",
              "         -0.2775,  0.0166],\n",
              "        [-0.0641, -0.2544, -0.1486, -0.2946,  0.0540,  0.1284, -0.0234,  0.2952,\n",
              "         -0.1086, -0.2046],\n",
              "        [-0.2109, -0.1113,  0.1825,  0.2087, -0.2079, -0.2840,  0.1511, -0.2675,\n",
              "          0.0072, -0.1231]], requires_grad=True)"
            ]
          },
          "metadata": {},
          "execution_count": 62
        }
      ]
    },
    {
      "cell_type": "code",
      "source": [
        "a1_layer.bias"
      ],
      "metadata": {
        "colab": {
          "base_uri": "https://localhost:8080/"
        },
        "id": "B4Yke3ktuM9S",
        "outputId": "1fb366af-1381-47e5-c29b-eace6b5719f3"
      },
      "execution_count": 63,
      "outputs": [
        {
          "output_type": "execute_result",
          "data": {
            "text/plain": [
              "Parameter containing:\n",
              "tensor([-0.1755, -0.0968,  0.2803, -0.0709, -0.2731], requires_grad=True)"
            ]
          },
          "metadata": {},
          "execution_count": 63
        }
      ]
    },
    {
      "cell_type": "code",
      "source": [
        "torch.sigmoid(a1)"
      ],
      "metadata": {
        "colab": {
          "base_uri": "https://localhost:8080/"
        },
        "id": "qIy8YTNOxerh",
        "outputId": "dec7d633-e65f-47d5-aac9-1aeea14a2622"
      },
      "execution_count": 64,
      "outputs": [
        {
          "output_type": "execute_result",
          "data": {
            "text/plain": [
              "tensor([[0.4542, 0.4746, 0.5760, 0.4775, 0.4217],\n",
              "        [0.4593, 0.4667, 0.5736, 0.4871, 0.4210],\n",
              "        [0.4465, 0.4853, 0.5764, 0.4754, 0.4426],\n",
              "        ...,\n",
              "        [0.4549, 0.4774, 0.5680, 0.4818, 0.4384],\n",
              "        [0.4586, 0.4788, 0.5678, 0.4920, 0.4321],\n",
              "        [0.4520, 0.4833, 0.5565, 0.4850, 0.4397]], grad_fn=<SigmoidBackward0>)"
            ]
          },
          "metadata": {},
          "execution_count": 64
        }
      ]
    },
    {
      "cell_type": "code",
      "source": [
        "# activation\n",
        "# sigmoid\n",
        "h1_layer = nn.Sigmoid() # Sigmoid class\n",
        "h1 = h1_layer.forward(a1)"
      ],
      "metadata": {
        "id": "1F7yR-ztubCP"
      },
      "execution_count": 65,
      "outputs": []
    },
    {
      "cell_type": "code",
      "source": [
        "y_pred_layer = nn.Linear(5, 1)\n",
        "y_pred = y_pred_layer.forward(h1)\n",
        "y_pred"
      ],
      "metadata": {
        "colab": {
          "base_uri": "https://localhost:8080/"
        },
        "id": "SKu3PmPPw-s7",
        "outputId": "b1334e3e-bfbf-4165-e691-d3050423bab4",
        "collapsed": true
      },
      "execution_count": 66,
      "outputs": [
        {
          "output_type": "execute_result",
          "data": {
            "text/plain": [
              "tensor([[-0.4029],\n",
              "        [-0.3999],\n",
              "        [-0.4060],\n",
              "        [-0.4032],\n",
              "        [-0.4015],\n",
              "        [-0.4015],\n",
              "        [-0.4033],\n",
              "        [-0.4031],\n",
              "        [-0.4019],\n",
              "        [-0.4043],\n",
              "        [-0.4006],\n",
              "        [-0.4032],\n",
              "        [-0.3993],\n",
              "        [-0.4052],\n",
              "        [-0.4017],\n",
              "        [-0.4015],\n",
              "        [-0.4038],\n",
              "        [-0.4024],\n",
              "        [-0.4021],\n",
              "        [-0.4036],\n",
              "        [-0.4041],\n",
              "        [-0.3984],\n",
              "        [-0.4053],\n",
              "        [-0.4050],\n",
              "        [-0.4029],\n",
              "        [-0.4016],\n",
              "        [-0.4031],\n",
              "        [-0.4023],\n",
              "        [-0.4017],\n",
              "        [-0.4026],\n",
              "        [-0.4040],\n",
              "        [-0.4036],\n",
              "        [-0.4025],\n",
              "        [-0.3988],\n",
              "        [-0.4032],\n",
              "        [-0.4008],\n",
              "        [-0.4028],\n",
              "        [-0.4019],\n",
              "        [-0.3996],\n",
              "        [-0.4023],\n",
              "        [-0.4023],\n",
              "        [-0.4030],\n",
              "        [-0.4009],\n",
              "        [-0.4018],\n",
              "        [-0.4027],\n",
              "        [-0.4039],\n",
              "        [-0.4021],\n",
              "        [-0.4055],\n",
              "        [-0.3999],\n",
              "        [-0.4006],\n",
              "        [-0.4044],\n",
              "        [-0.4007],\n",
              "        [-0.4034],\n",
              "        [-0.4008],\n",
              "        [-0.4023],\n",
              "        [-0.4007],\n",
              "        [-0.4034],\n",
              "        [-0.4035],\n",
              "        [-0.4020],\n",
              "        [-0.4003],\n",
              "        [-0.3996],\n",
              "        [-0.4018],\n",
              "        [-0.4063],\n",
              "        [-0.4047],\n",
              "        [-0.4024],\n",
              "        [-0.4006],\n",
              "        [-0.4027],\n",
              "        [-0.4026],\n",
              "        [-0.4022],\n",
              "        [-0.4024],\n",
              "        [-0.4027],\n",
              "        [-0.4024],\n",
              "        [-0.4015],\n",
              "        [-0.4006],\n",
              "        [-0.4028],\n",
              "        [-0.4031],\n",
              "        [-0.4019],\n",
              "        [-0.4056],\n",
              "        [-0.4007],\n",
              "        [-0.4016],\n",
              "        [-0.4011],\n",
              "        [-0.4011],\n",
              "        [-0.4001],\n",
              "        [-0.3992],\n",
              "        [-0.4057],\n",
              "        [-0.4049],\n",
              "        [-0.4018],\n",
              "        [-0.4054],\n",
              "        [-0.4055],\n",
              "        [-0.4049],\n",
              "        [-0.4021],\n",
              "        [-0.4033],\n",
              "        [-0.4003],\n",
              "        [-0.4029],\n",
              "        [-0.4011],\n",
              "        [-0.4020],\n",
              "        [-0.4009],\n",
              "        [-0.4016],\n",
              "        [-0.4038],\n",
              "        [-0.4022],\n",
              "        [-0.4025],\n",
              "        [-0.4029],\n",
              "        [-0.4018],\n",
              "        [-0.4022],\n",
              "        [-0.4006],\n",
              "        [-0.4049],\n",
              "        [-0.4028],\n",
              "        [-0.4033],\n",
              "        [-0.4017],\n",
              "        [-0.4021],\n",
              "        [-0.4030],\n",
              "        [-0.4056],\n",
              "        [-0.4035],\n",
              "        [-0.4043],\n",
              "        [-0.4037],\n",
              "        [-0.4026],\n",
              "        [-0.4024],\n",
              "        [-0.4029],\n",
              "        [-0.4036],\n",
              "        [-0.4035],\n",
              "        [-0.4013],\n",
              "        [-0.4060],\n",
              "        [-0.4033],\n",
              "        [-0.4015],\n",
              "        [-0.3999],\n",
              "        [-0.4010],\n",
              "        [-0.4065],\n",
              "        [-0.4024],\n",
              "        [-0.4038],\n",
              "        [-0.4030],\n",
              "        [-0.4039],\n",
              "        [-0.4012],\n",
              "        [-0.4025],\n",
              "        [-0.4024],\n",
              "        [-0.3999],\n",
              "        [-0.4011],\n",
              "        [-0.4024],\n",
              "        [-0.4010],\n",
              "        [-0.4020],\n",
              "        [-0.4028],\n",
              "        [-0.4037],\n",
              "        [-0.4030],\n",
              "        [-0.4008],\n",
              "        [-0.4042],\n",
              "        [-0.4032],\n",
              "        [-0.4051],\n",
              "        [-0.4039],\n",
              "        [-0.4029],\n",
              "        [-0.4027],\n",
              "        [-0.4054],\n",
              "        [-0.4019],\n",
              "        [-0.4023],\n",
              "        [-0.4032],\n",
              "        [-0.4014],\n",
              "        [-0.4025],\n",
              "        [-0.4024],\n",
              "        [-0.3996],\n",
              "        [-0.4033],\n",
              "        [-0.4032],\n",
              "        [-0.4021],\n",
              "        [-0.4030],\n",
              "        [-0.4017],\n",
              "        [-0.4025],\n",
              "        [-0.4009],\n",
              "        [-0.4021],\n",
              "        [-0.4035],\n",
              "        [-0.4036],\n",
              "        [-0.4028],\n",
              "        [-0.4022],\n",
              "        [-0.4031],\n",
              "        [-0.4031],\n",
              "        [-0.4019],\n",
              "        [-0.4005],\n",
              "        [-0.4019],\n",
              "        [-0.4018],\n",
              "        [-0.4035],\n",
              "        [-0.4021],\n",
              "        [-0.4037],\n",
              "        [-0.4041],\n",
              "        [-0.4016],\n",
              "        [-0.4024],\n",
              "        [-0.3984],\n",
              "        [-0.4011],\n",
              "        [-0.4020],\n",
              "        [-0.4034],\n",
              "        [-0.4000],\n",
              "        [-0.4018],\n",
              "        [-0.4016],\n",
              "        [-0.4030],\n",
              "        [-0.4017],\n",
              "        [-0.4011],\n",
              "        [-0.4008],\n",
              "        [-0.3998],\n",
              "        [-0.4018],\n",
              "        [-0.4018],\n",
              "        [-0.4021],\n",
              "        [-0.4029],\n",
              "        [-0.4017],\n",
              "        [-0.4040],\n",
              "        [-0.4012],\n",
              "        [-0.4024],\n",
              "        [-0.4063],\n",
              "        [-0.4031],\n",
              "        [-0.4009],\n",
              "        [-0.4016],\n",
              "        [-0.3998],\n",
              "        [-0.4033],\n",
              "        [-0.4005],\n",
              "        [-0.4043],\n",
              "        [-0.4030],\n",
              "        [-0.4012],\n",
              "        [-0.4020],\n",
              "        [-0.4031],\n",
              "        [-0.4018],\n",
              "        [-0.4026],\n",
              "        [-0.4026],\n",
              "        [-0.4002],\n",
              "        [-0.4015],\n",
              "        [-0.4017],\n",
              "        [-0.4026],\n",
              "        [-0.4030],\n",
              "        [-0.4024],\n",
              "        [-0.4037],\n",
              "        [-0.4032],\n",
              "        [-0.4006],\n",
              "        [-0.4036],\n",
              "        [-0.4018],\n",
              "        [-0.4025],\n",
              "        [-0.4022],\n",
              "        [-0.4004],\n",
              "        [-0.4023],\n",
              "        [-0.4021],\n",
              "        [-0.4033],\n",
              "        [-0.4000],\n",
              "        [-0.4024],\n",
              "        [-0.4013],\n",
              "        [-0.4011],\n",
              "        [-0.4021],\n",
              "        [-0.4043],\n",
              "        [-0.4022],\n",
              "        [-0.4011],\n",
              "        [-0.4015],\n",
              "        [-0.4014],\n",
              "        [-0.4014],\n",
              "        [-0.4016],\n",
              "        [-0.4042],\n",
              "        [-0.4032],\n",
              "        [-0.4005],\n",
              "        [-0.4019],\n",
              "        [-0.4033],\n",
              "        [-0.4006],\n",
              "        [-0.4002],\n",
              "        [-0.3996],\n",
              "        [-0.4025],\n",
              "        [-0.4034],\n",
              "        [-0.4035],\n",
              "        [-0.4014],\n",
              "        [-0.4040],\n",
              "        [-0.4039],\n",
              "        [-0.4021],\n",
              "        [-0.4017],\n",
              "        [-0.4028],\n",
              "        [-0.4028],\n",
              "        [-0.4045],\n",
              "        [-0.4046],\n",
              "        [-0.4041],\n",
              "        [-0.4019],\n",
              "        [-0.4039],\n",
              "        [-0.4045],\n",
              "        [-0.4014],\n",
              "        [-0.4052],\n",
              "        [-0.4064],\n",
              "        [-0.4039],\n",
              "        [-0.4036],\n",
              "        [-0.4005],\n",
              "        [-0.4039],\n",
              "        [-0.4008],\n",
              "        [-0.4055],\n",
              "        [-0.4036],\n",
              "        [-0.4018],\n",
              "        [-0.4031],\n",
              "        [-0.3999],\n",
              "        [-0.4040],\n",
              "        [-0.4028],\n",
              "        [-0.4016],\n",
              "        [-0.4018],\n",
              "        [-0.4047],\n",
              "        [-0.4048],\n",
              "        [-0.4013],\n",
              "        [-0.3999],\n",
              "        [-0.4023],\n",
              "        [-0.4024],\n",
              "        [-0.4027],\n",
              "        [-0.4037],\n",
              "        [-0.4005],\n",
              "        [-0.4001],\n",
              "        [-0.4008],\n",
              "        [-0.4024],\n",
              "        [-0.4023],\n",
              "        [-0.3991],\n",
              "        [-0.4011],\n",
              "        [-0.4023],\n",
              "        [-0.4007],\n",
              "        [-0.4021],\n",
              "        [-0.4028],\n",
              "        [-0.4039],\n",
              "        [-0.4019],\n",
              "        [-0.4009],\n",
              "        [-0.4039],\n",
              "        [-0.4013],\n",
              "        [-0.4039],\n",
              "        [-0.4013],\n",
              "        [-0.4029],\n",
              "        [-0.4003],\n",
              "        [-0.4029],\n",
              "        [-0.3996],\n",
              "        [-0.4028],\n",
              "        [-0.4043],\n",
              "        [-0.4046],\n",
              "        [-0.4012],\n",
              "        [-0.4035],\n",
              "        [-0.4013],\n",
              "        [-0.4024],\n",
              "        [-0.4016],\n",
              "        [-0.4034],\n",
              "        [-0.4014],\n",
              "        [-0.4066],\n",
              "        [-0.4004],\n",
              "        [-0.4022],\n",
              "        [-0.4042],\n",
              "        [-0.4028],\n",
              "        [-0.4052],\n",
              "        [-0.4029],\n",
              "        [-0.4023],\n",
              "        [-0.4011],\n",
              "        [-0.4046],\n",
              "        [-0.4034],\n",
              "        [-0.4015],\n",
              "        [-0.4038],\n",
              "        [-0.4017],\n",
              "        [-0.4048],\n",
              "        [-0.4018],\n",
              "        [-0.4026],\n",
              "        [-0.4033],\n",
              "        [-0.4021],\n",
              "        [-0.4018],\n",
              "        [-0.4050],\n",
              "        [-0.4061],\n",
              "        [-0.4026],\n",
              "        [-0.4037],\n",
              "        [-0.4029],\n",
              "        [-0.4021],\n",
              "        [-0.4043]], grad_fn=<AddmmBackward0>)"
            ]
          },
          "metadata": {},
          "execution_count": 66
        }
      ]
    },
    {
      "cell_type": "code",
      "source": [
        "y_pred.reshape(y_pred.shape[0])"
      ],
      "metadata": {
        "colab": {
          "base_uri": "https://localhost:8080/"
        },
        "id": "IaGBhVQcyAmW",
        "outputId": "f85182b5-af61-4ad5-fe5d-4487af63f8ec",
        "collapsed": true
      },
      "execution_count": 67,
      "outputs": [
        {
          "output_type": "execute_result",
          "data": {
            "text/plain": [
              "tensor([-0.4029, -0.3999, -0.4060, -0.4032, -0.4015, -0.4015, -0.4033, -0.4031,\n",
              "        -0.4019, -0.4043, -0.4006, -0.4032, -0.3993, -0.4052, -0.4017, -0.4015,\n",
              "        -0.4038, -0.4024, -0.4021, -0.4036, -0.4041, -0.3984, -0.4053, -0.4050,\n",
              "        -0.4029, -0.4016, -0.4031, -0.4023, -0.4017, -0.4026, -0.4040, -0.4036,\n",
              "        -0.4025, -0.3988, -0.4032, -0.4008, -0.4028, -0.4019, -0.3996, -0.4023,\n",
              "        -0.4023, -0.4030, -0.4009, -0.4018, -0.4027, -0.4039, -0.4021, -0.4055,\n",
              "        -0.3999, -0.4006, -0.4044, -0.4007, -0.4034, -0.4008, -0.4023, -0.4007,\n",
              "        -0.4034, -0.4035, -0.4020, -0.4003, -0.3996, -0.4018, -0.4063, -0.4047,\n",
              "        -0.4024, -0.4006, -0.4027, -0.4026, -0.4022, -0.4024, -0.4027, -0.4024,\n",
              "        -0.4015, -0.4006, -0.4028, -0.4031, -0.4019, -0.4056, -0.4007, -0.4016,\n",
              "        -0.4011, -0.4011, -0.4001, -0.3992, -0.4057, -0.4049, -0.4018, -0.4054,\n",
              "        -0.4055, -0.4049, -0.4021, -0.4033, -0.4003, -0.4029, -0.4011, -0.4020,\n",
              "        -0.4009, -0.4016, -0.4038, -0.4022, -0.4025, -0.4029, -0.4018, -0.4022,\n",
              "        -0.4006, -0.4049, -0.4028, -0.4033, -0.4017, -0.4021, -0.4030, -0.4056,\n",
              "        -0.4035, -0.4043, -0.4037, -0.4026, -0.4024, -0.4029, -0.4036, -0.4035,\n",
              "        -0.4013, -0.4060, -0.4033, -0.4015, -0.3999, -0.4010, -0.4065, -0.4024,\n",
              "        -0.4038, -0.4030, -0.4039, -0.4012, -0.4025, -0.4024, -0.3999, -0.4011,\n",
              "        -0.4024, -0.4010, -0.4020, -0.4028, -0.4037, -0.4030, -0.4008, -0.4042,\n",
              "        -0.4032, -0.4051, -0.4039, -0.4029, -0.4027, -0.4054, -0.4019, -0.4023,\n",
              "        -0.4032, -0.4014, -0.4025, -0.4024, -0.3996, -0.4033, -0.4032, -0.4021,\n",
              "        -0.4030, -0.4017, -0.4025, -0.4009, -0.4021, -0.4035, -0.4036, -0.4028,\n",
              "        -0.4022, -0.4031, -0.4031, -0.4019, -0.4005, -0.4019, -0.4018, -0.4035,\n",
              "        -0.4021, -0.4037, -0.4041, -0.4016, -0.4024, -0.3984, -0.4011, -0.4020,\n",
              "        -0.4034, -0.4000, -0.4018, -0.4016, -0.4030, -0.4017, -0.4011, -0.4008,\n",
              "        -0.3998, -0.4018, -0.4018, -0.4021, -0.4029, -0.4017, -0.4040, -0.4012,\n",
              "        -0.4024, -0.4063, -0.4031, -0.4009, -0.4016, -0.3998, -0.4033, -0.4005,\n",
              "        -0.4043, -0.4030, -0.4012, -0.4020, -0.4031, -0.4018, -0.4026, -0.4026,\n",
              "        -0.4002, -0.4015, -0.4017, -0.4026, -0.4030, -0.4024, -0.4037, -0.4032,\n",
              "        -0.4006, -0.4036, -0.4018, -0.4025, -0.4022, -0.4004, -0.4023, -0.4021,\n",
              "        -0.4033, -0.4000, -0.4024, -0.4013, -0.4011, -0.4021, -0.4043, -0.4022,\n",
              "        -0.4011, -0.4015, -0.4014, -0.4014, -0.4016, -0.4042, -0.4032, -0.4005,\n",
              "        -0.4019, -0.4033, -0.4006, -0.4002, -0.3996, -0.4025, -0.4034, -0.4035,\n",
              "        -0.4014, -0.4040, -0.4039, -0.4021, -0.4017, -0.4028, -0.4028, -0.4045,\n",
              "        -0.4046, -0.4041, -0.4019, -0.4039, -0.4045, -0.4014, -0.4052, -0.4064,\n",
              "        -0.4039, -0.4036, -0.4005, -0.4039, -0.4008, -0.4055, -0.4036, -0.4018,\n",
              "        -0.4031, -0.3999, -0.4040, -0.4028, -0.4016, -0.4018, -0.4047, -0.4048,\n",
              "        -0.4013, -0.3999, -0.4023, -0.4024, -0.4027, -0.4037, -0.4005, -0.4001,\n",
              "        -0.4008, -0.4024, -0.4023, -0.3991, -0.4011, -0.4023, -0.4007, -0.4021,\n",
              "        -0.4028, -0.4039, -0.4019, -0.4009, -0.4039, -0.4013, -0.4039, -0.4013,\n",
              "        -0.4029, -0.4003, -0.4029, -0.3996, -0.4028, -0.4043, -0.4046, -0.4012,\n",
              "        -0.4035, -0.4013, -0.4024, -0.4016, -0.4034, -0.4014, -0.4066, -0.4004,\n",
              "        -0.4022, -0.4042, -0.4028, -0.4052, -0.4029, -0.4023, -0.4011, -0.4046,\n",
              "        -0.4034, -0.4015, -0.4038, -0.4017, -0.4048, -0.4018, -0.4026, -0.4033,\n",
              "        -0.4021, -0.4018, -0.4050, -0.4061, -0.4026, -0.4037, -0.4029, -0.4021,\n",
              "        -0.4043], grad_fn=<ViewBackward0>)"
            ]
          },
          "metadata": {},
          "execution_count": 67
        }
      ]
    },
    {
      "cell_type": "code",
      "source": [
        "torch.manual_seed(42)\n",
        "# Define Model\n",
        "a1_layer = nn.Linear(X_train.shape[1], 5)\n",
        "h1_layer = nn.Sigmoid()\n",
        "\n",
        "y_pred_layer = nn.Linear(5,1)\n",
        "\n",
        "# Forward Pass\n",
        "a1 = a1_layer.forward(X_train)\n",
        "h1 = h1_layer.forward(a1)\n",
        "y_pred = y_pred_layer.forward(h1)\n",
        "\n",
        "# Loss calculation\n",
        "loss_func = nn.MSELoss()\n",
        "total_loss = loss_func(y_pred.reshape(y_pred.shape[0]), y_train)\n",
        "print(f\"loss: {total_loss}\")\n",
        "\n",
        "# Backpropagation\n",
        "total_loss.backward()\n",
        "\n",
        "# Gradient Updates with a learning rate\n",
        "eta = 0.01\n",
        "with torch.no_grad():\n",
        "    a1_layer.weight -= eta * a1_layer.weight.grad\n",
        "    a1_layer.bias -= eta * a1_layer.bias.grad\n",
        "    y_pred_layer.weight -= eta * y_pred_layer.weight.grad\n",
        "    y_pred_layer.bias -= eta * y_pred_layer.bias.grad\n"
      ],
      "metadata": {
        "colab": {
          "base_uri": "https://localhost:8080/"
        },
        "id": "l31YvXgtL7zo",
        "outputId": "b8f22cc9-1e1d-4699-eaa3-f32f21481fde"
      },
      "execution_count": 68,
      "outputs": [
        {
          "output_type": "stream",
          "name": "stdout",
          "text": [
            "loss: 29649.365234375\n"
          ]
        }
      ]
    },
    {
      "cell_type": "markdown",
      "source": [
        "This is the model architecture"
      ],
      "metadata": {
        "id": "F0s3d52rriPn"
      }
    },
    {
      "cell_type": "markdown",
      "source": [
        "![Screenshot 2025-01-25 002810.png](data:image/png;base64,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)"
      ],
      "metadata": {
        "id": "Z_ejCn_Crdk9"
      }
    },
    {
      "cell_type": "code",
      "source": [
        "torch.manual_seed(42)\n",
        "# Define Model\n",
        "a1_layer = nn.Linear(X_train.shape[1], 5)\n",
        "h1_layer = nn.Sigmoid()\n",
        "\n",
        "y_pred_layer = nn.Linear(5,1)\n",
        "\n",
        "epochs = 1000\n",
        "\n",
        "for epoch in range(epochs):\n",
        "  # Forward Pass\n",
        "  a1 = a1_layer.forward(X_train)\n",
        "  h1 = h1_layer.forward(a1)\n",
        "  y_pred = y_pred_layer.forward(h1)\n",
        "\n",
        "  # Loss calculation\n",
        "  loss_func = nn.MSELoss()\n",
        "  total_loss = loss_func(y_pred.reshape(y_pred.shape[0]), y_train)\n",
        "  if epoch % 100 == 0:\n",
        "    print(f\" epoch {epoch} loss: {total_loss}\")\n",
        "\n",
        "  # Backpropagation\n",
        "  total_loss.backward()\n",
        "\n",
        "  # Gradient Updates with a learning rate\n",
        "  eta = 0.01\n",
        "  with torch.no_grad():\n",
        "      a1_layer.weight -= eta * a1_layer.weight.grad\n",
        "      a1_layer.bias -= eta * a1_layer.bias.grad\n",
        "      y_pred_layer.weight -= eta * y_pred_layer.weight.grad\n",
        "      y_pred_layer.bias -= eta * y_pred_layer.bias.grad\n",
        "\n",
        "  # Reset gradients\n",
        "  a1_layer.weight.grad.zero_()\n",
        "  a1_layer.bias.grad.zero_()\n",
        "  y_pred_layer.weight.grad.zero_()\n",
        "  y_pred_layer.bias.grad.zero_()\n"
      ],
      "metadata": {
        "colab": {
          "base_uri": "https://localhost:8080/"
        },
        "id": "u-R_np2Bzq2X",
        "outputId": "55c879c2-ff1d-4150-921f-e1ac2419da8f"
      },
      "execution_count": 69,
      "outputs": [
        {
          "output_type": "stream",
          "name": "stdout",
          "text": [
            " epoch 0 loss: 29649.365234375\n",
            " epoch 100 loss: 6069.484375\n",
            " epoch 200 loss: 4207.7939453125\n",
            " epoch 300 loss: 3715.472412109375\n",
            " epoch 400 loss: 3299.378662109375\n",
            " epoch 500 loss: 3085.05517578125\n",
            " epoch 600 loss: 2963.66796875\n",
            " epoch 700 loss: 2897.3759765625\n",
            " epoch 800 loss: 2853.37060546875\n",
            " epoch 900 loss: 2821.2578125\n"
          ]
        }
      ]
    },
    {
      "cell_type": "code",
      "source": [
        "from sklearn.metrics import r2_score"
      ],
      "metadata": {
        "id": "KD07sKzw0udT"
      },
      "execution_count": 70,
      "outputs": []
    },
    {
      "cell_type": "code",
      "source": [
        "print(r2_score(y_train.numpy(), y_pred.detach().numpy().reshape(-1)))"
      ],
      "metadata": {
        "colab": {
          "base_uri": "https://localhost:8080/"
        },
        "id": "TOcMiH3K0yW7",
        "outputId": "215a198d-89a5-4f20-f4ca-f1c21c054be5"
      },
      "execution_count": 71,
      "outputs": [
        {
          "output_type": "stream",
          "name": "stdout",
          "text": [
            "0.5387930870056152\n"
          ]
        }
      ]
    },
    {
      "cell_type": "code",
      "source": [
        "a1_layer.weight.grad"
      ],
      "metadata": {
        "colab": {
          "base_uri": "https://localhost:8080/"
        },
        "id": "8ALtZX480etW",
        "outputId": "2d73569e-cdc3-445f-a7d8-9cc8dd6834b3"
      },
      "execution_count": 72,
      "outputs": [
        {
          "output_type": "execute_result",
          "data": {
            "text/plain": [
              "tensor([[0., 0., 0., 0., 0., 0., 0., 0., 0., 0.],\n",
              "        [0., 0., 0., 0., 0., 0., 0., 0., 0., 0.],\n",
              "        [0., 0., 0., 0., 0., 0., 0., 0., 0., 0.],\n",
              "        [0., 0., 0., 0., 0., 0., 0., 0., 0., 0.],\n",
              "        [0., 0., 0., 0., 0., 0., 0., 0., 0., 0.]])"
            ]
          },
          "metadata": {},
          "execution_count": 72
        }
      ]
    },
    {
      "cell_type": "code",
      "source": [
        "a1_layer.weight.grad.zero_()\n"
      ],
      "metadata": {
        "colab": {
          "base_uri": "https://localhost:8080/"
        },
        "id": "Rn3T_SWS0Z6D",
        "outputId": "ddca510f-1015-4d36-ef8f-04eaac4f3e5e"
      },
      "execution_count": 73,
      "outputs": [
        {
          "output_type": "execute_result",
          "data": {
            "text/plain": [
              "tensor([[0., 0., 0., 0., 0., 0., 0., 0., 0., 0.],\n",
              "        [0., 0., 0., 0., 0., 0., 0., 0., 0., 0.],\n",
              "        [0., 0., 0., 0., 0., 0., 0., 0., 0., 0.],\n",
              "        [0., 0., 0., 0., 0., 0., 0., 0., 0., 0.],\n",
              "        [0., 0., 0., 0., 0., 0., 0., 0., 0., 0.]])"
            ]
          },
          "metadata": {},
          "execution_count": 73
        }
      ]
    },
    {
      "cell_type": "code",
      "source": [
        "abcd = nn.Sequential(\n",
        "    nn.Linear(X_train.shape[1], 5),\n",
        "    nn.Sigmoid(),\n",
        "    nn.Linear(5,1)\n",
        "    )"
      ],
      "metadata": {
        "id": "yxdZWi483OPf"
      },
      "execution_count": 75,
      "outputs": []
    },
    {
      "cell_type": "code",
      "source": [
        "#container\n",
        "model  = nn.Sequential(\n",
        "    nn.Linear(X_train.shape[1], 5),\n",
        "    nn.Sigmoid(),\n",
        "    nn.Linear(5,1)\n",
        "    )\n",
        "\n",
        "model.forward(X_train) # y_pred"
      ],
      "metadata": {
        "colab": {
          "base_uri": "https://localhost:8080/"
        },
        "id": "2bJROMV22mXD",
        "outputId": "64f9b9e4-d301-4a38-e694-cd266e3f5464",
        "collapsed": true
      },
      "execution_count": 76,
      "outputs": [
        {
          "output_type": "execute_result",
          "data": {
            "text/plain": [
              "tensor([[0.0866],\n",
              "        [0.0868],\n",
              "        [0.0846],\n",
              "        [0.0867],\n",
              "        [0.0877],\n",
              "        [0.0883],\n",
              "        [0.0854],\n",
              "        [0.0843],\n",
              "        [0.0860],\n",
              "        [0.0887],\n",
              "        [0.0880],\n",
              "        [0.0854],\n",
              "        [0.0852],\n",
              "        [0.0834],\n",
              "        [0.0862],\n",
              "        [0.0873],\n",
              "        [0.0865],\n",
              "        [0.0868],\n",
              "        [0.0865],\n",
              "        [0.0885],\n",
              "        [0.0842],\n",
              "        [0.0873],\n",
              "        [0.0864],\n",
              "        [0.0851],\n",
              "        [0.0871],\n",
              "        [0.0857],\n",
              "        [0.0879],\n",
              "        [0.0863],\n",
              "        [0.0868],\n",
              "        [0.0864],\n",
              "        [0.0877],\n",
              "        [0.0857],\n",
              "        [0.0889],\n",
              "        [0.0867],\n",
              "        [0.0873],\n",
              "        [0.0858],\n",
              "        [0.0839],\n",
              "        [0.0878],\n",
              "        [0.0850],\n",
              "        [0.0849],\n",
              "        [0.0858],\n",
              "        [0.0894],\n",
              "        [0.0870],\n",
              "        [0.0834],\n",
              "        [0.0837],\n",
              "        [0.0852],\n",
              "        [0.0876],\n",
              "        [0.0836],\n",
              "        [0.0866],\n",
              "        [0.0890],\n",
              "        [0.0862],\n",
              "        [0.0865],\n",
              "        [0.0898],\n",
              "        [0.0874],\n",
              "        [0.0875],\n",
              "        [0.0871],\n",
              "        [0.0877],\n",
              "        [0.0866],\n",
              "        [0.0878],\n",
              "        [0.0895],\n",
              "        [0.0867],\n",
              "        [0.0873],\n",
              "        [0.0849],\n",
              "        [0.0890],\n",
              "        [0.0873],\n",
              "        [0.0872],\n",
              "        [0.0864],\n",
              "        [0.0858],\n",
              "        [0.0881],\n",
              "        [0.0891],\n",
              "        [0.0873],\n",
              "        [0.0851],\n",
              "        [0.0875],\n",
              "        [0.0868],\n",
              "        [0.0859],\n",
              "        [0.0897],\n",
              "        [0.0866],\n",
              "        [0.0858],\n",
              "        [0.0862],\n",
              "        [0.0858],\n",
              "        [0.0885],\n",
              "        [0.0861],\n",
              "        [0.0879],\n",
              "        [0.0851],\n",
              "        [0.0856],\n",
              "        [0.0835],\n",
              "        [0.0848],\n",
              "        [0.0853],\n",
              "        [0.0862],\n",
              "        [0.0830],\n",
              "        [0.0885],\n",
              "        [0.0883],\n",
              "        [0.0847],\n",
              "        [0.0879],\n",
              "        [0.0874],\n",
              "        [0.0845],\n",
              "        [0.0875],\n",
              "        [0.0884],\n",
              "        [0.0848],\n",
              "        [0.0857],\n",
              "        [0.0851],\n",
              "        [0.0848],\n",
              "        [0.0876],\n",
              "        [0.0878],\n",
              "        [0.0880],\n",
              "        [0.0874],\n",
              "        [0.0860],\n",
              "        [0.0842],\n",
              "        [0.0893],\n",
              "        [0.0871],\n",
              "        [0.0860],\n",
              "        [0.0877],\n",
              "        [0.0854],\n",
              "        [0.0896],\n",
              "        [0.0852],\n",
              "        [0.0881],\n",
              "        [0.0880],\n",
              "        [0.0857],\n",
              "        [0.0892],\n",
              "        [0.0868],\n",
              "        [0.0849],\n",
              "        [0.0861],\n",
              "        [0.0876],\n",
              "        [0.0846],\n",
              "        [0.0878],\n",
              "        [0.0916],\n",
              "        [0.0855],\n",
              "        [0.0849],\n",
              "        [0.0886],\n",
              "        [0.0881],\n",
              "        [0.0877],\n",
              "        [0.0877],\n",
              "        [0.0871],\n",
              "        [0.0851],\n",
              "        [0.0867],\n",
              "        [0.0834],\n",
              "        [0.0866],\n",
              "        [0.0874],\n",
              "        [0.0869],\n",
              "        [0.0867],\n",
              "        [0.0890],\n",
              "        [0.0880],\n",
              "        [0.0871],\n",
              "        [0.0847],\n",
              "        [0.0844],\n",
              "        [0.0857],\n",
              "        [0.0859],\n",
              "        [0.0901],\n",
              "        [0.0854],\n",
              "        [0.0891],\n",
              "        [0.0847],\n",
              "        [0.0872],\n",
              "        [0.0880],\n",
              "        [0.0890],\n",
              "        [0.0869],\n",
              "        [0.0884],\n",
              "        [0.0876],\n",
              "        [0.0854],\n",
              "        [0.0858],\n",
              "        [0.0858],\n",
              "        [0.0851],\n",
              "        [0.0861],\n",
              "        [0.0889],\n",
              "        [0.0866],\n",
              "        [0.0858],\n",
              "        [0.0873],\n",
              "        [0.0868],\n",
              "        [0.0856],\n",
              "        [0.0858],\n",
              "        [0.0880],\n",
              "        [0.0874],\n",
              "        [0.0850],\n",
              "        [0.0863],\n",
              "        [0.0854],\n",
              "        [0.0857],\n",
              "        [0.0868],\n",
              "        [0.0865],\n",
              "        [0.0857],\n",
              "        [0.0875],\n",
              "        [0.0873],\n",
              "        [0.0852],\n",
              "        [0.0874],\n",
              "        [0.0881],\n",
              "        [0.0882],\n",
              "        [0.0861],\n",
              "        [0.0872],\n",
              "        [0.0886],\n",
              "        [0.0869],\n",
              "        [0.0892],\n",
              "        [0.0863],\n",
              "        [0.0870],\n",
              "        [0.0887],\n",
              "        [0.0863],\n",
              "        [0.0833],\n",
              "        [0.0853],\n",
              "        [0.0884],\n",
              "        [0.0865],\n",
              "        [0.0868],\n",
              "        [0.0863],\n",
              "        [0.0864],\n",
              "        [0.0886],\n",
              "        [0.0853],\n",
              "        [0.0873],\n",
              "        [0.0898],\n",
              "        [0.0860],\n",
              "        [0.0883],\n",
              "        [0.0876],\n",
              "        [0.0876],\n",
              "        [0.0865],\n",
              "        [0.0869],\n",
              "        [0.0867],\n",
              "        [0.0850],\n",
              "        [0.0848],\n",
              "        [0.0884],\n",
              "        [0.0882],\n",
              "        [0.0884],\n",
              "        [0.0873],\n",
              "        [0.0866],\n",
              "        [0.0879],\n",
              "        [0.0892],\n",
              "        [0.0845],\n",
              "        [0.0835],\n",
              "        [0.0872],\n",
              "        [0.0854],\n",
              "        [0.0873],\n",
              "        [0.0884],\n",
              "        [0.0886],\n",
              "        [0.0872],\n",
              "        [0.0875],\n",
              "        [0.0862],\n",
              "        [0.0872],\n",
              "        [0.0866],\n",
              "        [0.0833],\n",
              "        [0.0860],\n",
              "        [0.0859],\n",
              "        [0.0840],\n",
              "        [0.0893],\n",
              "        [0.0887],\n",
              "        [0.0827],\n",
              "        [0.0858],\n",
              "        [0.0866],\n",
              "        [0.0921],\n",
              "        [0.0890],\n",
              "        [0.0888],\n",
              "        [0.0874],\n",
              "        [0.0866],\n",
              "        [0.0839],\n",
              "        [0.0888],\n",
              "        [0.0841],\n",
              "        [0.0882],\n",
              "        [0.0866],\n",
              "        [0.0865],\n",
              "        [0.0854],\n",
              "        [0.0857],\n",
              "        [0.0882],\n",
              "        [0.0860],\n",
              "        [0.0882],\n",
              "        [0.0812],\n",
              "        [0.0862],\n",
              "        [0.0873],\n",
              "        [0.0865],\n",
              "        [0.0830],\n",
              "        [0.0858],\n",
              "        [0.0882],\n",
              "        [0.0858],\n",
              "        [0.0876],\n",
              "        [0.0876],\n",
              "        [0.0850],\n",
              "        [0.0865],\n",
              "        [0.0858],\n",
              "        [0.0849],\n",
              "        [0.0856],\n",
              "        [0.0848],\n",
              "        [0.0897],\n",
              "        [0.0883],\n",
              "        [0.0892],\n",
              "        [0.0890],\n",
              "        [0.0857],\n",
              "        [0.0853],\n",
              "        [0.0895],\n",
              "        [0.0860],\n",
              "        [0.0867],\n",
              "        [0.0867],\n",
              "        [0.0883],\n",
              "        [0.0877],\n",
              "        [0.0865],\n",
              "        [0.0879],\n",
              "        [0.0852],\n",
              "        [0.0864],\n",
              "        [0.0879],\n",
              "        [0.0871],\n",
              "        [0.0882],\n",
              "        [0.0891],\n",
              "        [0.0889],\n",
              "        [0.0885],\n",
              "        [0.0860],\n",
              "        [0.0877],\n",
              "        [0.0866],\n",
              "        [0.0888],\n",
              "        [0.0880],\n",
              "        [0.0870],\n",
              "        [0.0863],\n",
              "        [0.0864],\n",
              "        [0.0864],\n",
              "        [0.0870],\n",
              "        [0.0887],\n",
              "        [0.0860],\n",
              "        [0.0864],\n",
              "        [0.0853],\n",
              "        [0.0867],\n",
              "        [0.0881],\n",
              "        [0.0857],\n",
              "        [0.0849],\n",
              "        [0.0840],\n",
              "        [0.0873],\n",
              "        [0.0897],\n",
              "        [0.0866],\n",
              "        [0.0847],\n",
              "        [0.0880],\n",
              "        [0.0877],\n",
              "        [0.0896],\n",
              "        [0.0838],\n",
              "        [0.0878],\n",
              "        [0.0875],\n",
              "        [0.0862],\n",
              "        [0.0876],\n",
              "        [0.0893],\n",
              "        [0.0851],\n",
              "        [0.0849],\n",
              "        [0.0878],\n",
              "        [0.0883],\n",
              "        [0.0864],\n",
              "        [0.0878],\n",
              "        [0.0859],\n",
              "        [0.0866],\n",
              "        [0.0855],\n",
              "        [0.0869],\n",
              "        [0.0864],\n",
              "        [0.0878],\n",
              "        [0.0887],\n",
              "        [0.0884],\n",
              "        [0.0864],\n",
              "        [0.0866],\n",
              "        [0.0857],\n",
              "        [0.0923],\n",
              "        [0.0864],\n",
              "        [0.0888],\n",
              "        [0.0852],\n",
              "        [0.0876],\n",
              "        [0.0849],\n",
              "        [0.0871],\n",
              "        [0.0872],\n",
              "        [0.0890]], grad_fn=<AddmmBackward0>)"
            ]
          },
          "metadata": {},
          "execution_count": 76
        }
      ]
    },
    {
      "cell_type": "code",
      "source": [
        "for params in model.parameters():\n",
        "  print(params)"
      ],
      "metadata": {
        "colab": {
          "base_uri": "https://localhost:8080/"
        },
        "id": "oDn5dEg92v15",
        "outputId": "af56e614-7179-4768-83c5-390dfc460b69"
      },
      "execution_count": 77,
      "outputs": [
        {
          "output_type": "stream",
          "name": "stdout",
          "text": [
            "Parameter containing:\n",
            "tensor([[ 0.1128,  0.2448, -0.2977,  0.0734,  0.1634,  0.0573, -0.1126,  0.1651,\n",
            "          0.1662,  0.1182],\n",
            "        [-0.0556, -0.0837,  0.0338, -0.0559, -0.0942,  0.2021,  0.2718, -0.0313,\n",
            "         -0.0708,  0.0046],\n",
            "        [-0.0189,  0.0760,  0.0886, -0.2872, -0.1167,  0.2663,  0.1232, -0.0157,\n",
            "         -0.1907, -0.1935],\n",
            "        [-0.2833, -0.1031,  0.1068,  0.2016,  0.1460, -0.2795, -0.1902, -0.0499,\n",
            "          0.3059,  0.0457],\n",
            "        [-0.0819,  0.1308, -0.1204, -0.2047,  0.2308, -0.1438, -0.0634, -0.3146,\n",
            "          0.2116,  0.2396]], requires_grad=True)\n",
            "Parameter containing:\n",
            "tensor([ 0.1152, -0.2205, -0.3121, -0.2568,  0.2358], requires_grad=True)\n",
            "Parameter containing:\n",
            "tensor([[ 0.2147,  0.3763,  0.2343,  0.1132, -0.0044]], requires_grad=True)\n",
            "Parameter containing:\n",
            "tensor([-0.3401], requires_grad=True)\n"
          ]
        }
      ]
    },
    {
      "cell_type": "code",
      "source": [
        "# parameter and learning rate\n",
        "optim.SGD([a1_layer.weight,a1_layer.bias, ])"
      ],
      "metadata": {
        "id": "Dzz5bRqI3pmz",
        "colab": {
          "base_uri": "https://localhost:8080/"
        },
        "outputId": "ff071388-ae08-4b08-d1b9-0bf0f6e73e88"
      },
      "execution_count": 78,
      "outputs": [
        {
          "output_type": "execute_result",
          "data": {
            "text/plain": [
              "SGD (\n",
              "Parameter Group 0\n",
              "    dampening: 0\n",
              "    differentiable: False\n",
              "    foreach: None\n",
              "    fused: None\n",
              "    lr: 0.001\n",
              "    maximize: False\n",
              "    momentum: 0\n",
              "    nesterov: False\n",
              "    weight_decay: 0\n",
              ")"
            ]
          },
          "metadata": {},
          "execution_count": 78
        }
      ]
    },
    {
      "cell_type": "code",
      "source": [
        "sgd = optim.SGD(model.parameters(), lr=0.01)\n"
      ],
      "metadata": {
        "id": "MH9CIwpc4I8_"
      },
      "execution_count": 79,
      "outputs": []
    },
    {
      "cell_type": "markdown",
      "source": [
        "the below syntax explains why we did\n",
        "\n",
        "optimizer.zero_grad()\n",
        "\n",
        "loss.backward()\n",
        "\n",
        "optimizer.step()\n"
      ],
      "metadata": {
        "id": "FuLyfAyKxWFZ"
      }
    },
    {
      "cell_type": "code",
      "source": [
        "torch.manual_seed(42)\n",
        "\n",
        "# Define Model\n",
        "\n",
        "model  = nn.Sequential(\n",
        "    nn.Linear(X_train.shape[1], 5),\n",
        "    nn.Sigmoid(),\n",
        "    nn.Linear(5,1))\n",
        "\n",
        "sgd = optim.SGD(model.parameters(), lr=0.01)\n",
        "\n",
        "epochs = 1000\n",
        "\n",
        "for epoch in range(epochs):\n",
        "  # Forward Pass\n",
        "  y_pred = model.forward(X_train)\n",
        "\n",
        "  # Loss calculation\n",
        "  loss_func = nn.MSELoss()\n",
        "  total_loss = loss_func(y_pred.reshape(y_pred.shape[0]), y_train)\n",
        "  if epoch % 100 == 0:\n",
        "    print(f\" epoch {epoch} loss: {total_loss}\")\n",
        "\n",
        "  # reset the gradient\n",
        "  sgd.zero_grad()\n",
        "\n",
        "  # Backpropagation\n",
        "  total_loss.backward()\n",
        "\n",
        "  # Gradient Updates with a learning rate\n",
        "  sgd.step()\n"
      ],
      "metadata": {
        "colab": {
          "base_uri": "https://localhost:8080/"
        },
        "id": "8xYJ9pnN2TxS",
        "outputId": "54ebdad2-586f-48d9-f741-216fc75cf31f"
      },
      "execution_count": 85,
      "outputs": [
        {
          "output_type": "stream",
          "name": "stdout",
          "text": [
            " epoch 0 loss: 29649.365234375\n",
            " epoch 100 loss: 6069.484375\n",
            " epoch 200 loss: 4394.001953125\n",
            " epoch 300 loss: 3778.209716796875\n",
            " epoch 400 loss: 3326.9931640625\n",
            " epoch 500 loss: 3098.6083984375\n",
            " epoch 600 loss: 2974.92236328125\n",
            " epoch 700 loss: 2907.76708984375\n",
            " epoch 800 loss: 2862.36083984375\n",
            " epoch 900 loss: 2828.70068359375\n"
          ]
        }
      ]
    },
    {
      "cell_type": "code",
      "source": [
        "print(r2_score(y_train.numpy(), y_pred.detach().numpy().reshape(-1)))"
      ],
      "metadata": {
        "colab": {
          "base_uri": "https://localhost:8080/"
        },
        "id": "c-77jtX25hTu",
        "outputId": "2f308fac-f5c3-4e36-de6a-ab49b2d97f32"
      },
      "execution_count": 86,
      "outputs": [
        {
          "output_type": "stream",
          "name": "stdout",
          "text": [
            "0.5396661758422852\n"
          ]
        }
      ]
    },
    {
      "cell_type": "code",
      "source": [
        "torch.manual_seed(42)\n",
        "\n",
        "# Define Model\n",
        "\n",
        "model  = nn.Sequential(\n",
        "    nn.Linear(X_train.shape[1], 5),\n",
        "    nn.Sigmoid(),\n",
        "    nn.Linear(5,1))\n",
        "\n",
        "# this time we have used a different optimizer\n",
        "\n",
        "adam = optim.Adam(model.parameters(), lr=0.01)\n",
        "\n",
        "epochs = 1000\n",
        "\n",
        "for epoch in range(epochs):\n",
        "  # Forward Pass\n",
        "  y_pred = model.forward(X_train)\n",
        "\n",
        "  # Loss calculation\n",
        "  loss_func = nn.MSELoss()\n",
        "  total_loss = loss_func(y_pred.reshape(y_pred.shape[0]), y_train)\n",
        "  if epoch % 100 == 0:\n",
        "    print(f\" epoch {epoch} loss: {total_loss}\")\n",
        "\n",
        "  # reset the gradient\n",
        "  adam.zero_grad()\n",
        "\n",
        "  # Backpropagation\n",
        "  total_loss.backward()\n",
        "\n",
        "  # Gradient Updates with a learning rate\n",
        "  adam.step()\n"
      ],
      "metadata": {
        "colab": {
          "base_uri": "https://localhost:8080/"
        },
        "id": "iUdc32pD5r2u",
        "outputId": "698bacd7-24a0-4398-e113-958823194437"
      },
      "execution_count": 87,
      "outputs": [
        {
          "output_type": "stream",
          "name": "stdout",
          "text": [
            " epoch 0 loss: 29649.365234375\n",
            " epoch 100 loss: 28109.75\n",
            " epoch 200 loss: 25992.85546875\n",
            " epoch 300 loss: 24059.263671875\n",
            " epoch 400 loss: 22356.244140625\n",
            " epoch 500 loss: 20827.775390625\n",
            " epoch 600 loss: 19438.4765625\n",
            " epoch 700 loss: 18166.89453125\n",
            " epoch 800 loss: 16998.826171875\n",
            " epoch 900 loss: 15924.0322265625\n"
          ]
        }
      ]
    },
    {
      "cell_type": "code",
      "source": [
        "print(r2_score(y_train.numpy(), y_pred.detach().numpy().reshape(-1)))"
      ],
      "metadata": {
        "colab": {
          "base_uri": "https://localhost:8080/"
        },
        "id": "ti9SMrU0568r",
        "outputId": "1f051cc5-ac81-41b2-c502-619543dac0a7"
      },
      "execution_count": 88,
      "outputs": [
        {
          "output_type": "stream",
          "name": "stdout",
          "text": [
            "-1.4593653678894043\n"
          ]
        }
      ]
    },
    {
      "cell_type": "code",
      "source": [
        "torch.manual_seed(42)\n",
        "\n",
        "# Define Model\n",
        "# this time we have structured our model a bit differently\n",
        "model  = nn.Sequential(\n",
        "    nn.Linear(X_train.shape[1], 5),\n",
        "    nn.Sigmoid(),\n",
        "    nn.Linear(5,6),\n",
        "    nn.ReLU(),\n",
        "    nn.Linear(6,1))\n",
        "\n",
        "adam = optim.Adam(model.parameters(), lr=0.01)\n",
        "\n",
        "epochs = 1000\n",
        "\n",
        "for epoch in range(epochs):\n",
        "  # Forward Pass\n",
        "  y_pred = model.forward(X_train)\n",
        "\n",
        "  # Loss calculation\n",
        "  loss_func = nn.MSELoss()\n",
        "  total_loss = loss_func(y_pred.reshape(y_pred.shape[0]), y_train)\n",
        "  if epoch % 100 == 0:\n",
        "    print(f\" epoch {epoch} loss: {total_loss}\")\n",
        "\n",
        "  # reset the gradient\n",
        "  adam.zero_grad()\n",
        "\n",
        "  # Backpropagation\n",
        "  total_loss.backward()\n",
        "\n",
        "  # Gradient Updates with a learning rate\n",
        "  adam.step()\n"
      ],
      "metadata": {
        "colab": {
          "base_uri": "https://localhost:8080/"
        },
        "id": "fArRqPuK6C8r",
        "outputId": "8c4e2b7d-edd4-461c-b7e6-910186316c5d"
      },
      "execution_count": 89,
      "outputs": [
        {
          "output_type": "stream",
          "name": "stdout",
          "text": [
            " epoch 0 loss: 29757.2578125\n",
            " epoch 100 loss: 23464.60546875\n",
            " epoch 200 loss: 8872.326171875\n",
            " epoch 300 loss: 5260.25439453125\n",
            " epoch 400 loss: 4402.37353515625\n",
            " epoch 500 loss: 3801.452880859375\n",
            " epoch 600 loss: 3392.584716796875\n",
            " epoch 700 loss: 3152.626708984375\n",
            " epoch 800 loss: 3023.119384765625\n",
            " epoch 900 loss: 2955.099853515625\n"
          ]
        }
      ]
    },
    {
      "cell_type": "markdown",
      "source": [
        "use this format by subclassing nn.Module"
      ],
      "metadata": {
        "id": "ArhcBKYtzvVQ"
      }
    },
    {
      "cell_type": "code",
      "source": [
        "class MyModel(nn.Module):\n",
        "  def __init__(self, num_features):\n",
        "    super().__init__()\n",
        "\n",
        "    self.network = nn.Sequential(\n",
        "        nn.Linear(num_features, 5),\n",
        "        nn.Sigmoid(),\n",
        "        nn.Linear(5, 1))\n",
        "\n",
        "  def forward(self, Xdata):\n",
        "    out = self.network(Xdata)\n",
        "    return out"
      ],
      "metadata": {
        "id": "K5-_uVXo8GQq"
      },
      "execution_count": 90,
      "outputs": []
    },
    {
      "cell_type": "code",
      "source": [
        "model1 = MyModel(X_train.shape[1])\n",
        "model1"
      ],
      "metadata": {
        "colab": {
          "base_uri": "https://localhost:8080/"
        },
        "id": "9VJCQYEc8HLd",
        "outputId": "ae33921e-2602-4c17-dc63-70e2bdb008e8"
      },
      "execution_count": 91,
      "outputs": [
        {
          "output_type": "execute_result",
          "data": {
            "text/plain": [
              "MyModel(\n",
              "  (network): Sequential(\n",
              "    (0): Linear(in_features=10, out_features=5, bias=True)\n",
              "    (1): Sigmoid()\n",
              "    (2): Linear(in_features=5, out_features=1, bias=True)\n",
              "  )\n",
              ")"
            ]
          },
          "metadata": {},
          "execution_count": 91
        }
      ]
    },
    {
      "cell_type": "code",
      "source": [
        "torch.manual_seed(42)\n",
        "\n",
        "model = MyModel(X_train.shape[1])\n",
        "\n",
        "adam = optim.Adam(model.parameters(), lr=0.01)\n",
        "\n",
        "epochs = 1000\n",
        "\n",
        "for epoch in range(epochs):\n",
        "  # for batches\n",
        "  # Forward Pass\n",
        "  y_pred = model.forward(X_train)\n",
        "\n",
        "  # Loss calculation\n",
        "  loss_func = nn.MSELoss()\n",
        "  total_loss = loss_func(y_pred.reshape(y_pred.shape[0]), y_train)\n",
        "  if epoch % 100 == 0:\n",
        "    print(f\" epoch {epoch} loss: {total_loss}\")\n",
        "\n",
        "  # reset the gradient\n",
        "  adam.zero_grad()\n",
        "\n",
        "  # Backpropagation\n",
        "  total_loss.backward()\n",
        "\n",
        "  # Gradient Updates with a learning rate\n",
        "  adam.step()\n"
      ],
      "metadata": {
        "colab": {
          "base_uri": "https://localhost:8080/"
        },
        "id": "1jqRnLiq6smt",
        "outputId": "22ef6034-c48d-4c5f-b428-1ecfd6000eb4"
      },
      "execution_count": 93,
      "outputs": [
        {
          "output_type": "stream",
          "name": "stdout",
          "text": [
            " epoch 0 loss: 29649.365234375\n",
            " epoch 100 loss: 28109.75\n",
            " epoch 200 loss: 25992.85546875\n",
            " epoch 300 loss: 24059.263671875\n",
            " epoch 400 loss: 22356.244140625\n",
            " epoch 500 loss: 20827.775390625\n",
            " epoch 600 loss: 19438.4765625\n",
            " epoch 700 loss: 18166.89453125\n",
            " epoch 800 loss: 16998.826171875\n",
            " epoch 900 loss: 15924.0322265625\n"
          ]
        }
      ]
    },
    {
      "cell_type": "markdown",
      "source": [
        "# dataset\n",
        "images, documents, videos, audio\n",
        "folder1 == class0\n",
        "folder2 = class1\n",
        "- transformation\n",
        "  - cropping\n",
        "  - augment\n",
        "  - normalizing\n",
        "\n",
        "# dataloader\n",
        " - shuffling\n",
        " - streamline\n",
        " - batching\n",
        " -\n",
        "\n",
        "\n",
        "\n"
      ],
      "metadata": {
        "id": "5sZ2ek43-nDE"
      }
    },
    {
      "cell_type": "code",
      "source": [
        "from torch.utils.data import Dataset, DataLoader"
      ],
      "metadata": {
        "id": "YR735o49ABNr"
      },
      "execution_count": 94,
      "outputs": []
    },
    {
      "cell_type": "code",
      "source": [
        "class myCustomDataset(Dataset):\n",
        "  def __init__(self, X,y):\n",
        "    self.X = X\n",
        "    self.y = y\n",
        "\n",
        "  def __len__(self):\n",
        "    return len(self.X)\n",
        "\n",
        "  def __getitem__(self, idx):\n",
        "    #transformation\n",
        "\n",
        "\n",
        "    return self.X[idx], self.y[idx]\n"
      ],
      "metadata": {
        "id": "gzVDYiZMAEYi"
      },
      "execution_count": 95,
      "outputs": []
    },
    {
      "cell_type": "markdown",
      "source": [
        "https://machinelearningmastery.com/using-dataset-classes-in-pytorch/"
      ],
      "metadata": {
        "id": "2aJYKJpTBMxn"
      }
    },
    {
      "cell_type": "code",
      "source": [
        "class SimpleDataset(Dataset):\n",
        "    # defining values in the constructor\n",
        "    def __init__(self, data_length = 20, transform = None):\n",
        "        # data = pd.read_csv(\"file_path\")\n",
        "        self.x = 3 * torch.eye(data_length, 2)\n",
        "        self.y = torch.eye(data_length, 4)\n",
        "        self.transform = transform\n",
        "        self.len = data_length\n",
        "\n",
        "    # Getting the data samples\n",
        "    def __getitem__(self, idx):\n",
        "        sample = self.x[idx], self.y[idx]\n",
        "        if self.transform:\n",
        "            sample = self.transform(sample)\n",
        "        return sample\n",
        "\n",
        "    # Getting data size/length\n",
        "    def __len__(self):\n",
        "        return self.len"
      ],
      "metadata": {
        "id": "GhTlyBhSBNhM"
      },
      "execution_count": 97,
      "outputs": []
    },
    {
      "cell_type": "code",
      "source": [
        "dataset = SimpleDataset()\n",
        "print(\"length of the SimpleDataset object: \", len(dataset))\n",
        "print(\"accessing value at index 1 of the simple_dataset object: \", dataset[1])"
      ],
      "metadata": {
        "colab": {
          "base_uri": "https://localhost:8080/"
        },
        "id": "L5nfQLJeBdZs",
        "outputId": "7f56c464-f7f4-4f45-f043-abdd7c9b585b"
      },
      "execution_count": 99,
      "outputs": [
        {
          "output_type": "stream",
          "name": "stdout",
          "text": [
            "length of the SimpleDataset object:  20\n",
            "accessing value at index 1 of the simple_dataset object:  (tensor([0., 3.]), tensor([0., 1., 0., 0.]))\n"
          ]
        }
      ]
    },
    {
      "cell_type": "code",
      "source": [
        "# Creating a callable tranform class mult_divide\n",
        "class MultDivide:\n",
        "    # Constructor\n",
        "    def __init__(self, mult_x = 2, divide_y = 3):\n",
        "        self.mult_x = mult_x\n",
        "        self.divide_y = divide_y\n",
        "\n",
        "    # caller\n",
        "    def __call__(self, sample):\n",
        "        x = sample[0]\n",
        "        y = sample[1]\n",
        "        x = x * self.mult_x\n",
        "        y = y / self.divide_y\n",
        "        sample = x, y\n",
        "        return sample"
      ],
      "metadata": {
        "id": "6bK8AUTIBliG"
      },
      "execution_count": 100,
      "outputs": []
    },
    {
      "cell_type": "code",
      "source": [
        "# calling the transform object\n",
        "mul_div = MultDivide()\n",
        "custom_dataset = SimpleDataset(transform = mul_div)\n",
        "\n",
        "for i in range(4):\n",
        "    x, y = dataset[i]\n",
        "    print('Idx: ', i, 'Original_x: ', x, 'Original_y: ', y)\n",
        "    x_, y_ = custom_dataset[i]\n",
        "    print('Idx: ', i, 'Transformed_x:', x_, 'Transformed_y:', y_)"
      ],
      "metadata": {
        "colab": {
          "base_uri": "https://localhost:8080/"
        },
        "id": "bZecxi8QCekC",
        "outputId": "53f53cc8-f177-492c-a39a-c43d8aa45279"
      },
      "execution_count": 101,
      "outputs": [
        {
          "output_type": "stream",
          "name": "stdout",
          "text": [
            "Idx:  0 Original_x:  tensor([3., 0.]) Original_y:  tensor([1., 0., 0., 0.])\n",
            "Idx:  0 Transformed_x: tensor([6., 0.]) Transformed_y: tensor([0.3333, 0.0000, 0.0000, 0.0000])\n",
            "Idx:  1 Original_x:  tensor([0., 3.]) Original_y:  tensor([0., 1., 0., 0.])\n",
            "Idx:  1 Transformed_x: tensor([0., 6.]) Transformed_y: tensor([0.0000, 0.3333, 0.0000, 0.0000])\n",
            "Idx:  2 Original_x:  tensor([0., 0.]) Original_y:  tensor([0., 0., 1., 0.])\n",
            "Idx:  2 Transformed_x: tensor([0., 0.]) Transformed_y: tensor([0.0000, 0.0000, 0.3333, 0.0000])\n",
            "Idx:  3 Original_x:  tensor([0., 0.]) Original_y:  tensor([0., 0., 0., 1.])\n",
            "Idx:  3 Transformed_x: tensor([0., 0.]) Transformed_y: tensor([0.0000, 0.0000, 0.0000, 0.3333])\n"
          ]
        }
      ]
    },
    {
      "cell_type": "code",
      "source": [
        "import torch\n",
        "from torchvision import datasets, transforms\n",
        "import matplotlib.pyplot as plt\n",
        "\n",
        "# Define a transform to normalize the data\n",
        "transform = transforms.Compose([\n",
        "    transforms.ToTensor(),\n",
        "    transforms.Normalize((0.5,), (0.5,))  # Normalize to mean 0.5 and std 0.5\n",
        "])\n",
        "\n",
        "# Download and load the Fashion MNIST dataset with normalization\n",
        "train_dataset = datasets.FashionMNIST(root='./data', train=True, download=True, transform=transform)\n",
        "test_dataset = datasets.FashionMNIST(root='./data', train=False, download=True, transform=transform)\n",
        "\n",
        "# DataLoader for batch processing\n",
        "train_loader = torch.utils.data.DataLoader(train_dataset, batch_size=64, shuffle=True)\n",
        "test_loader = torch.utils.data.DataLoader(test_dataset, batch_size=64, shuffle=False)\n",
        "\n",
        "# Visualize a sample\n",
        "data_iter = iter(train_loader)\n",
        "images, labels = next(data_iter)\n",
        "\n",
        "# De-normalize for visualization (optional)\n",
        "image = images[0] * 0.5 + 0.5  # Reverse normalization for display\n",
        "plt.imshow(image.squeeze(), cmap='gray')\n",
        "plt.title(f\"Label: {labels[0]}\")\n",
        "plt.show()\n"
      ],
      "metadata": {
        "colab": {
          "base_uri": "https://localhost:8080/",
          "height": 799
        },
        "id": "cfnT5d1zCXXY",
        "outputId": "89bf42c2-061a-43ab-a2e7-788d71f56cd6"
      },
      "execution_count": 102,
      "outputs": [
        {
          "output_type": "stream",
          "name": "stdout",
          "text": [
            "Downloading http://fashion-mnist.s3-website.eu-central-1.amazonaws.com/train-images-idx3-ubyte.gz\n",
            "Downloading http://fashion-mnist.s3-website.eu-central-1.amazonaws.com/train-images-idx3-ubyte.gz to ./data/FashionMNIST/raw/train-images-idx3-ubyte.gz\n"
          ]
        },
        {
          "output_type": "stream",
          "name": "stderr",
          "text": [
            "100%|██████████| 26.4M/26.4M [00:01<00:00, 16.8MB/s]\n"
          ]
        },
        {
          "output_type": "stream",
          "name": "stdout",
          "text": [
            "Extracting ./data/FashionMNIST/raw/train-images-idx3-ubyte.gz to ./data/FashionMNIST/raw\n",
            "\n",
            "Downloading http://fashion-mnist.s3-website.eu-central-1.amazonaws.com/train-labels-idx1-ubyte.gz\n",
            "Downloading http://fashion-mnist.s3-website.eu-central-1.amazonaws.com/train-labels-idx1-ubyte.gz to ./data/FashionMNIST/raw/train-labels-idx1-ubyte.gz\n"
          ]
        },
        {
          "output_type": "stream",
          "name": "stderr",
          "text": [
            "100%|██████████| 29.5k/29.5k [00:00<00:00, 275kB/s]\n"
          ]
        },
        {
          "output_type": "stream",
          "name": "stdout",
          "text": [
            "Extracting ./data/FashionMNIST/raw/train-labels-idx1-ubyte.gz to ./data/FashionMNIST/raw\n",
            "\n",
            "Downloading http://fashion-mnist.s3-website.eu-central-1.amazonaws.com/t10k-images-idx3-ubyte.gz\n",
            "Downloading http://fashion-mnist.s3-website.eu-central-1.amazonaws.com/t10k-images-idx3-ubyte.gz to ./data/FashionMNIST/raw/t10k-images-idx3-ubyte.gz\n"
          ]
        },
        {
          "output_type": "stream",
          "name": "stderr",
          "text": [
            "100%|██████████| 4.42M/4.42M [00:00<00:00, 4.99MB/s]\n"
          ]
        },
        {
          "output_type": "stream",
          "name": "stdout",
          "text": [
            "Extracting ./data/FashionMNIST/raw/t10k-images-idx3-ubyte.gz to ./data/FashionMNIST/raw\n",
            "\n",
            "Downloading http://fashion-mnist.s3-website.eu-central-1.amazonaws.com/t10k-labels-idx1-ubyte.gz\n",
            "Downloading http://fashion-mnist.s3-website.eu-central-1.amazonaws.com/t10k-labels-idx1-ubyte.gz to ./data/FashionMNIST/raw/t10k-labels-idx1-ubyte.gz\n"
          ]
        },
        {
          "output_type": "stream",
          "name": "stderr",
          "text": [
            "100%|██████████| 5.15k/5.15k [00:00<00:00, 13.7MB/s]\n"
          ]
        },
        {
          "output_type": "stream",
          "name": "stdout",
          "text": [
            "Extracting ./data/FashionMNIST/raw/t10k-labels-idx1-ubyte.gz to ./data/FashionMNIST/raw\n",
            "\n"
          ]
        },
        {
          "output_type": "display_data",
          "data": {
            "text/plain": [
              "<Figure size 640x480 with 1 Axes>"
            ],
            "image/png": "[encoded data removed]"
          },
          "metadata": {}
        }
      ]
    },
    {
      "cell_type": "code",
      "source": [],
      "metadata": {
        "id": "HOYAqEaU29Gs"
      },
      "execution_count": null,
      "outputs": []
    }
  ]
}