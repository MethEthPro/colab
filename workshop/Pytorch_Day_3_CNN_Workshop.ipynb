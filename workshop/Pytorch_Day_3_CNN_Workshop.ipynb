{
  "nbformat": 4,
  "nbformat_minor": 0,
  "metadata": {
    "colab": {
      "provenance": [],
      "include_colab_link": true
    },
    "kernelspec": {
      "name": "python3",
      "display_name": "Python 3"
    },
    "language_info": {
      "name": "python"
    }
  },
  "cells": [
    {
      "cell_type": "markdown",
      "metadata": {
        "id": "view-in-github",
        "colab_type": "text"
      },
      "source": [
        "<a href=\"https://colab.research.google.com/github/MethEthPro/colab/blob/main/workshop/Pytorch_Day_3_CNN_Workshop.ipynb\" target=\"_parent\"><img src=\"https://colab.research.google.com/assets/colab-badge.svg\" alt=\"Open In Colab\"/></a>"
      ]
    },
    {
      "cell_type": "markdown",
      "source": [
        "## Libraries\n",
        "Install and import the PyTorch libraries we'll need."
      ],
      "metadata": {
        "id": "Hf1qcx5Jxmg8"
      }
    },
    {
      "cell_type": "code",
      "execution_count": 1,
      "metadata": {
        "id": "wR8wufY9kHkX"
      },
      "outputs": [],
      "source": [
        "import torch\n",
        "import torch.nn as nn\n",
        "import torch.optim as optim\n",
        "import torch.nn.functional as F"
      ]
    },
    {
      "cell_type": "code",
      "source": [
        "import torchvision\n",
        "from torchvision import datasets, transforms\n",
        "\n",
        "import matplotlib.pyplot as plt"
      ],
      "metadata": {
        "id": "iIxgs52KoD5G"
      },
      "execution_count": 2,
      "outputs": []
    },
    {
      "cell_type": "code",
      "source": [
        "from torch.utils.data import DataLoader\n",
        "## efficient in creating batches and in the process of iterationg through batches during training"
      ],
      "metadata": {
        "id": "3fMQzRIov9Sb"
      },
      "execution_count": 3,
      "outputs": []
    },
    {
      "cell_type": "markdown",
      "source": [
        "## Data Exploration\n",
        "\n",
        "Look at the classes of shape the model needs to identify."
      ],
      "metadata": {
        "id": "lKAm8m1wxvC0"
      }
    },
    {
      "cell_type": "code",
      "source": [
        "train_data = datasets.FashionMNIST('.data', train = True, download = True)"
      ],
      "metadata": {
        "collapsed": true,
        "id": "KW62Vcddpdvh",
        "colab": {
          "base_uri": "https://localhost:8080/"
        },
        "outputId": "a9323f17-8b6e-4ace-fdef-f501f5668016"
      },
      "execution_count": 4,
      "outputs": [
        {
          "output_type": "stream",
          "name": "stdout",
          "text": [
            "Downloading http://fashion-mnist.s3-website.eu-central-1.amazonaws.com/train-images-idx3-ubyte.gz\n",
            "Downloading http://fashion-mnist.s3-website.eu-central-1.amazonaws.com/train-images-idx3-ubyte.gz to .data/FashionMNIST/raw/train-images-idx3-ubyte.gz\n"
          ]
        },
        {
          "output_type": "stream",
          "name": "stderr",
          "text": [
            "100%|██████████| 26.4M/26.4M [00:01<00:00, 19.9MB/s]\n"
          ]
        },
        {
          "output_type": "stream",
          "name": "stdout",
          "text": [
            "Extracting .data/FashionMNIST/raw/train-images-idx3-ubyte.gz to .data/FashionMNIST/raw\n",
            "\n",
            "Downloading http://fashion-mnist.s3-website.eu-central-1.amazonaws.com/train-labels-idx1-ubyte.gz\n",
            "Downloading http://fashion-mnist.s3-website.eu-central-1.amazonaws.com/train-labels-idx1-ubyte.gz to .data/FashionMNIST/raw/train-labels-idx1-ubyte.gz\n"
          ]
        },
        {
          "output_type": "stream",
          "name": "stderr",
          "text": [
            "100%|██████████| 29.5k/29.5k [00:00<00:00, 318kB/s]\n"
          ]
        },
        {
          "output_type": "stream",
          "name": "stdout",
          "text": [
            "Extracting .data/FashionMNIST/raw/train-labels-idx1-ubyte.gz to .data/FashionMNIST/raw\n",
            "\n",
            "Downloading http://fashion-mnist.s3-website.eu-central-1.amazonaws.com/t10k-images-idx3-ubyte.gz\n",
            "Downloading http://fashion-mnist.s3-website.eu-central-1.amazonaws.com/t10k-images-idx3-ubyte.gz to .data/FashionMNIST/raw/t10k-images-idx3-ubyte.gz\n"
          ]
        },
        {
          "output_type": "stream",
          "name": "stderr",
          "text": [
            "100%|██████████| 4.42M/4.42M [00:00<00:00, 5.51MB/s]\n"
          ]
        },
        {
          "output_type": "stream",
          "name": "stdout",
          "text": [
            "Extracting .data/FashionMNIST/raw/t10k-images-idx3-ubyte.gz to .data/FashionMNIST/raw\n",
            "\n",
            "Downloading http://fashion-mnist.s3-website.eu-central-1.amazonaws.com/t10k-labels-idx1-ubyte.gz\n",
            "Downloading http://fashion-mnist.s3-website.eu-central-1.amazonaws.com/t10k-labels-idx1-ubyte.gz to .data/FashionMNIST/raw/t10k-labels-idx1-ubyte.gz\n"
          ]
        },
        {
          "output_type": "stream",
          "name": "stderr",
          "text": [
            "100%|██████████| 5.15k/5.15k [00:00<00:00, 13.6MB/s]\n"
          ]
        },
        {
          "output_type": "stream",
          "name": "stdout",
          "text": [
            "Extracting .data/FashionMNIST/raw/t10k-labels-idx1-ubyte.gz to .data/FashionMNIST/raw\n",
            "\n"
          ]
        }
      ]
    },
    {
      "cell_type": "code",
      "source": [
        "len(train_data)"
      ],
      "metadata": {
        "colab": {
          "base_uri": "https://localhost:8080/"
        },
        "id": "2tWn5aYsqIPg",
        "outputId": "ae772ddb-5f60-4160-aa4e-380483ba2af0"
      },
      "execution_count": 5,
      "outputs": [
        {
          "output_type": "execute_result",
          "data": {
            "text/plain": [
              "60000"
            ]
          },
          "metadata": {},
          "execution_count": 5
        }
      ]
    },
    {
      "cell_type": "code",
      "source": [
        "print(\"Shape:\", train_data.data.shape)\n",
        "print(\"Targets:\",train_data.targets.shape, train_data.targets)\n",
        "print(\"Classes: \", train_data.classes)\n",
        "print(\"Class to idx:\", train_data.class_to_idx)\n",
        "#help(datasets.FashionMNIST)"
      ],
      "metadata": {
        "colab": {
          "base_uri": "https://localhost:8080/"
        },
        "id": "yt02vDtUqPZD",
        "outputId": "64372ec4-090f-4a47-b09d-ab13adc0135c"
      },
      "execution_count": 7,
      "outputs": [
        {
          "output_type": "stream",
          "name": "stdout",
          "text": [
            "Shape: torch.Size([60000, 28, 28])\n",
            "Targets: torch.Size([60000]) tensor([9, 0, 0,  ..., 3, 0, 5])\n",
            "Classes:  ['T-shirt/top', 'Trouser', 'Pullover', 'Dress', 'Coat', 'Sandal', 'Shirt', 'Sneaker', 'Bag', 'Ankle boot']\n",
            "Class to idx: {'T-shirt/top': 0, 'Trouser': 1, 'Pullover': 2, 'Dress': 3, 'Coat': 4, 'Sandal': 5, 'Shirt': 6, 'Sneaker': 7, 'Bag': 8, 'Ankle boot': 9}\n"
          ]
        }
      ]
    },
    {
      "cell_type": "code",
      "source": [
        "train_data[0][0]"
      ],
      "metadata": {
        "id": "Hg0d5Majr_qs",
        "colab": {
          "base_uri": "https://localhost:8080/",
          "height": 45
        },
        "outputId": "1a1877fe-3cbc-4a53-806f-494a0bbfeac3"
      },
      "execution_count": 8,
      "outputs": [
        {
          "output_type": "execute_result",
          "data": {
            "text/plain": [
              "<PIL.Image.Image image mode=L size=28x28>"
            ],
            "image/png": "[encoded data removed]",
            "image/jpeg": "[encoded data removed]"
          },
          "metadata": {},
          "execution_count": 8
        }
      ]
    },
    {
      "cell_type": "code",
      "source": [
        "plt.imshow(train_data[0][0])"
      ],
      "metadata": {
        "colab": {
          "base_uri": "https://localhost:8080/",
          "height": 447
        },
        "id": "TjeAxK3usEea",
        "outputId": "c8063c0d-2384-4176-f538-875c4f336d55"
      },
      "execution_count": 9,
      "outputs": [
        {
          "output_type": "execute_result",
          "data": {
            "text/plain": [
              "<matplotlib.image.AxesImage at 0x7f89d06c4090>"
            ]
          },
          "metadata": {},
          "execution_count": 9
        },
        {
          "output_type": "display_data",
          "data": {
            "text/plain": [
              "<Figure size 640x480 with 1 Axes>"
            ],
            "image/png": "[encoded data removed]"
          },
          "metadata": {}
        }
      ]
    },
    {
      "cell_type": "code",
      "source": [
        "dir(transforms)"
      ],
      "metadata": {
        "id": "nEf0Wgd8riSq",
        "colab": {
          "base_uri": "https://localhost:8080/"
        },
        "outputId": "3129ab09-21bb-49f9-b8dc-97e8b4072c39"
      },
      "execution_count": 10,
      "outputs": [
        {
          "output_type": "execute_result",
          "data": {
            "text/plain": [
              "['AugMix',\n",
              " 'AutoAugment',\n",
              " 'AutoAugmentPolicy',\n",
              " 'CenterCrop',\n",
              " 'ColorJitter',\n",
              " 'Compose',\n",
              " 'ConvertImageDtype',\n",
              " 'ElasticTransform',\n",
              " 'FiveCrop',\n",
              " 'GaussianBlur',\n",
              " 'Grayscale',\n",
              " 'InterpolationMode',\n",
              " 'Lambda',\n",
              " 'LinearTransformation',\n",
              " 'Normalize',\n",
              " 'PILToTensor',\n",
              " 'Pad',\n",
              " 'RandAugment',\n",
              " 'RandomAdjustSharpness',\n",
              " 'RandomAffine',\n",
              " 'RandomApply',\n",
              " 'RandomAutocontrast',\n",
              " 'RandomChoice',\n",
              " 'RandomCrop',\n",
              " 'RandomEqualize',\n",
              " 'RandomErasing',\n",
              " 'RandomGrayscale',\n",
              " 'RandomHorizontalFlip',\n",
              " 'RandomInvert',\n",
              " 'RandomOrder',\n",
              " 'RandomPerspective',\n",
              " 'RandomPosterize',\n",
              " 'RandomResizedCrop',\n",
              " 'RandomRotation',\n",
              " 'RandomSolarize',\n",
              " 'RandomVerticalFlip',\n",
              " 'Resize',\n",
              " 'TenCrop',\n",
              " 'ToPILImage',\n",
              " 'ToTensor',\n",
              " 'TrivialAugmentWide',\n",
              " '__builtins__',\n",
              " '__cached__',\n",
              " '__doc__',\n",
              " '__file__',\n",
              " '__loader__',\n",
              " '__name__',\n",
              " '__package__',\n",
              " '__path__',\n",
              " '__spec__',\n",
              " '_functional_pil',\n",
              " '_functional_tensor',\n",
              " '_presets',\n",
              " 'autoaugment',\n",
              " 'functional',\n",
              " 'transforms']"
            ]
          },
          "metadata": {},
          "execution_count": 10
        }
      ]
    },
    {
      "cell_type": "code",
      "source": [
        "train_data.data.shape"
      ],
      "metadata": {
        "colab": {
          "base_uri": "https://localhost:8080/"
        },
        "id": "m_885yQJspJF",
        "outputId": "f3925ded-f586-4210-a190-b6a3c4e5e1c1"
      },
      "execution_count": 11,
      "outputs": [
        {
          "output_type": "execute_result",
          "data": {
            "text/plain": [
              "torch.Size([60000, 28, 28])"
            ]
          },
          "metadata": {},
          "execution_count": 11
        }
      ]
    },
    {
      "cell_type": "markdown",
      "source": [
        "## Transforms\n",
        "\n",
        "1. To transform the image data into tensors,\n",
        "> these are the core data structure used in PyTorch,\n",
        "2. Normalize them so that the pixel values are in scale\n",
        "> a mean of 0.5 and a standard deviation of 0.5"
      ],
      "metadata": {
        "id": "AF7sbIhNyX1e"
      }
    },
    {
      "cell_type": "code",
      "source": [
        "transform = transforms.ToTensor()\n",
        "\n",
        "##pipeline = first run transform 1, then run transform 2, transform3\n",
        "\n",
        "\n",
        "transform1 = transforms.Compose((transforms.ToTensor(), transforms.Normalize((0.5), (0.5))))"
      ],
      "metadata": {
        "id": "Rp2q5l7hriMK"
      },
      "execution_count": 13,
      "outputs": []
    },
    {
      "cell_type": "code",
      "source": [
        "type(train_data.data[0])"
      ],
      "metadata": {
        "colab": {
          "base_uri": "https://localhost:8080/"
        },
        "id": "yKlxEQsBlR06",
        "outputId": "7fbc225b-14a4-48b9-8dc0-354e209cd57b"
      },
      "execution_count": 14,
      "outputs": [
        {
          "output_type": "execute_result",
          "data": {
            "text/plain": [
              "torch.Tensor"
            ]
          },
          "metadata": {},
          "execution_count": 14
        }
      ]
    },
    {
      "cell_type": "code",
      "source": [
        "train_data = datasets.FashionMNIST('.data', train = True, transform = transform1)"
      ],
      "metadata": {
        "id": "4I-zqDATs9Rm"
      },
      "execution_count": 15,
      "outputs": []
    },
    {
      "cell_type": "markdown",
      "source": [
        "## ToTensor() -- converts images into tensor and then standardize your dataset (PIL)"
      ],
      "metadata": {
        "id": "42eqeN-0ta02"
      }
    },
    {
      "cell_type": "markdown",
      "source": [
        "PIL - python image library"
      ],
      "metadata": {
        "id": "S9WHip7V4T5Q"
      }
    },
    {
      "cell_type": "code",
      "source": [
        "train_data[0]"
      ],
      "metadata": {
        "colab": {
          "base_uri": "https://localhost:8080/"
        },
        "collapsed": true,
        "id": "Ai6hf9HMtOeN",
        "outputId": "3f7deae3-5d1e-4175-937f-76c001b89976"
      },
      "execution_count": 12,
      "outputs": [
        {
          "output_type": "execute_result",
          "data": {
            "text/plain": [
              "(<PIL.Image.Image image mode=L size=28x28>, 9)"
            ]
          },
          "metadata": {},
          "execution_count": 12
        }
      ]
    },
    {
      "cell_type": "markdown",
      "source": [
        "## Load data\n",
        "\n",
        "PyTorch includes functions for loading and transforming data.   \n",
        "- We'll use these to create\n",
        "1. an iterative loader for training data, and\n",
        "2. a second iterative loader for test data\n",
        "\n",
        "\n"
      ],
      "metadata": {
        "id": "shO3A4QHx-l5"
      }
    },
    {
      "cell_type": "markdown",
      "source": [
        "total dataset = 1000 images\n",
        "[200] [200] [200] [200] [200]  shuffle = True\n",
        "Index = 2\n",
        "EPOCHS = iterate over ALL datapoints"
      ],
      "metadata": {
        "id": "M11KsgsR2x1p"
      }
    },
    {
      "cell_type": "code",
      "source": [
        "train_iter = DataLoader(train_data, batch_size = 100, shuffle = True)"
      ],
      "metadata": {
        "id": "KtQGUwOJwltC"
      },
      "execution_count": 16,
      "outputs": []
    },
    {
      "cell_type": "code",
      "source": [
        "type(train_iter)"
      ],
      "metadata": {
        "collapsed": true,
        "colab": {
          "base_uri": "https://localhost:8080/",
          "height": 273
        },
        "id": "KMKtw9KVw7nU",
        "outputId": "58ab47db-cee5-4e18-97e2-edd1bc21b124"
      },
      "execution_count": 17,
      "outputs": [
        {
          "output_type": "execute_result",
          "data": {
            "text/plain": [
              "torch.utils.data.dataloader.DataLoader"
            ],
            "text/html": [
              "<div style=\"max-width:800px; border: 1px solid var(--colab-border-color);\"><style>\n",
              "      pre.function-repr-contents {\n",
              "        overflow-x: auto;\n",
              "        padding: 8px 12px;\n",
              "        max-height: 500px;\n",
              "      }\n",
              "\n",
              "      pre.function-repr-contents.function-repr-contents-collapsed {\n",
              "        cursor: pointer;\n",
              "        max-height: 100px;\n",
              "      }\n",
              "    </style>\n",
              "    <pre style=\"white-space: initial; background:\n",
              "         var(--colab-secondary-surface-color); padding: 8px 12px;\n",
              "         border-bottom: 1px solid var(--colab-border-color);\"><b>torch.utils.data.dataloader.DataLoader</b><br/>def __init__(dataset: Dataset[_T_co], batch_size: Optional[int]=1, shuffle: Optional[bool]=None, sampler: Union[Sampler, Iterable, None]=None, batch_sampler: Union[Sampler[List], Iterable[List], None]=None, num_workers: int=0, collate_fn: Optional[_collate_fn_t]=None, pin_memory: bool=False, drop_last: bool=False, timeout: float=0, worker_init_fn: Optional[_worker_init_fn_t]=None, multiprocessing_context=None, generator=None, *, prefetch_factor: Optional[int]=None, persistent_workers: bool=False, pin_memory_device: str=&#x27;&#x27;)</pre><pre class=\"function-repr-contents function-repr-contents-collapsed\" style=\"\"><a class=\"filepath\" style=\"display:none\" href=\"#\">/usr/local/lib/python3.11/dist-packages/torch/utils/data/dataloader.py</a>Data loader combines a dataset and a sampler, and provides an iterable over the given dataset.\n",
              "\n",
              "The :class:`~torch.utils.data.DataLoader` supports both map-style and\n",
              "iterable-style datasets with single- or multi-process loading, customizing\n",
              "loading order and optional automatic batching (collation) and memory pinning.\n",
              "\n",
              "See :py:mod:`torch.utils.data` documentation page for more details.\n",
              "\n",
              "Args:\n",
              "    dataset (Dataset): dataset from which to load the data.\n",
              "    batch_size (int, optional): how many samples per batch to load\n",
              "        (default: ``1``).\n",
              "    shuffle (bool, optional): set to ``True`` to have the data reshuffled\n",
              "        at every epoch (default: ``False``).\n",
              "    sampler (Sampler or Iterable, optional): defines the strategy to draw\n",
              "        samples from the dataset. Can be any ``Iterable`` with ``__len__``\n",
              "        implemented. If specified, :attr:`shuffle` must not be specified.\n",
              "    batch_sampler (Sampler or Iterable, optional): like :attr:`sampler`, but\n",
              "        returns a batch of indices at a time. Mutually exclusive with\n",
              "        :attr:`batch_size`, :attr:`shuffle`, :attr:`sampler`,\n",
              "        and :attr:`drop_last`.\n",
              "    num_workers (int, optional): how many subprocesses to use for data\n",
              "        loading. ``0`` means that the data will be loaded in the main process.\n",
              "        (default: ``0``)\n",
              "    collate_fn (Callable, optional): merges a list of samples to form a\n",
              "        mini-batch of Tensor(s).  Used when using batched loading from a\n",
              "        map-style dataset.\n",
              "    pin_memory (bool, optional): If ``True``, the data loader will copy Tensors\n",
              "        into device/CUDA pinned memory before returning them.  If your data elements\n",
              "        are a custom type, or your :attr:`collate_fn` returns a batch that is a custom type,\n",
              "        see the example below.\n",
              "    drop_last (bool, optional): set to ``True`` to drop the last incomplete batch,\n",
              "        if the dataset size is not divisible by the batch size. If ``False`` and\n",
              "        the size of dataset is not divisible by the batch size, then the last batch\n",
              "        will be smaller. (default: ``False``)\n",
              "    timeout (numeric, optional): if positive, the timeout value for collecting a batch\n",
              "        from workers. Should always be non-negative. (default: ``0``)\n",
              "    worker_init_fn (Callable, optional): If not ``None``, this will be called on each\n",
              "        worker subprocess with the worker id (an int in ``[0, num_workers - 1]``) as\n",
              "        input, after seeding and before data loading. (default: ``None``)\n",
              "    multiprocessing_context (str or multiprocessing.context.BaseContext, optional): If\n",
              "        ``None``, the default `multiprocessing context`_ of your operating system will\n",
              "        be used. (default: ``None``)\n",
              "    generator (torch.Generator, optional): If not ``None``, this RNG will be used\n",
              "        by RandomSampler to generate random indexes and multiprocessing to generate\n",
              "        ``base_seed`` for workers. (default: ``None``)\n",
              "    prefetch_factor (int, optional, keyword-only arg): Number of batches loaded\n",
              "        in advance by each worker. ``2`` means there will be a total of\n",
              "        2 * num_workers batches prefetched across all workers. (default value depends\n",
              "        on the set value for num_workers. If value of num_workers=0 default is ``None``.\n",
              "        Otherwise, if value of ``num_workers &gt; 0`` default is ``2``).\n",
              "    persistent_workers (bool, optional): If ``True``, the data loader will not shut down\n",
              "        the worker processes after a dataset has been consumed once. This allows to\n",
              "        maintain the workers `Dataset` instances alive. (default: ``False``)\n",
              "    pin_memory_device (str, optional): the device to :attr:`pin_memory` to if ``pin_memory`` is\n",
              "        ``True``.\n",
              "\n",
              "\n",
              ".. warning:: If the ``spawn`` start method is used, :attr:`worker_init_fn`\n",
              "             cannot be an unpicklable object, e.g., a lambda function. See\n",
              "             :ref:`multiprocessing-best-practices` on more details related\n",
              "             to multiprocessing in PyTorch.\n",
              "\n",
              ".. warning:: ``len(dataloader)`` heuristic is based on the length of the sampler used.\n",
              "             When :attr:`dataset` is an :class:`~torch.utils.data.IterableDataset`,\n",
              "             it instead returns an estimate based on ``len(dataset) / batch_size``, with proper\n",
              "             rounding depending on :attr:`drop_last`, regardless of multi-process loading\n",
              "             configurations. This represents the best guess PyTorch can make because PyTorch\n",
              "             trusts user :attr:`dataset` code in correctly handling multi-process\n",
              "             loading to avoid duplicate data.\n",
              "\n",
              "             However, if sharding results in multiple workers having incomplete last batches,\n",
              "             this estimate can still be inaccurate, because (1) an otherwise complete batch can\n",
              "             be broken into multiple ones and (2) more than one batch worth of samples can be\n",
              "             dropped when :attr:`drop_last` is set. Unfortunately, PyTorch can not detect such\n",
              "             cases in general.\n",
              "\n",
              "             See `Dataset Types`_ for more details on these two types of datasets and how\n",
              "             :class:`~torch.utils.data.IterableDataset` interacts with\n",
              "             `Multi-process data loading`_.\n",
              "\n",
              ".. warning:: See :ref:`reproducibility`, and :ref:`dataloader-workers-random-seed`, and\n",
              "             :ref:`data-loading-randomness` notes for random seed related questions.\n",
              "\n",
              ".. _multiprocessing context:\n",
              "    https://docs.python.org/3/library/multiprocessing.html#contexts-and-start-methods</pre>\n",
              "      <script>\n",
              "      if (google.colab.kernel.accessAllowed && google.colab.files && google.colab.files.view) {\n",
              "        for (const element of document.querySelectorAll('.filepath')) {\n",
              "          element.style.display = 'block'\n",
              "          element.onclick = (event) => {\n",
              "            event.preventDefault();\n",
              "            event.stopPropagation();\n",
              "            google.colab.files.view(element.textContent, 130);\n",
              "          };\n",
              "        }\n",
              "      }\n",
              "      for (const element of document.querySelectorAll('.function-repr-contents')) {\n",
              "        element.onclick = (event) => {\n",
              "          event.preventDefault();\n",
              "          event.stopPropagation();\n",
              "          element.classList.toggle('function-repr-contents-collapsed');\n",
              "        };\n",
              "      }\n",
              "      </script>\n",
              "      </div>"
            ]
          },
          "metadata": {},
          "execution_count": 17
        }
      ]
    },
    {
      "cell_type": "code",
      "source": [
        "for features, labels in train_iter:\n",
        "  print(labels)\n",
        "  break"
      ],
      "metadata": {
        "colab": {
          "base_uri": "https://localhost:8080/"
        },
        "collapsed": true,
        "id": "dcct0Glgw_rs",
        "outputId": "db9cf07e-6180-47bc-c462-33e9fe745a5f"
      },
      "execution_count": 18,
      "outputs": [
        {
          "output_type": "stream",
          "name": "stdout",
          "text": [
            "tensor([4, 0, 3, 8, 2, 0, 7, 4, 6, 3, 7, 8, 6, 1, 1, 4, 9, 2, 7, 8, 8, 5, 4, 4,\n",
            "        4, 4, 8, 1, 2, 1, 4, 3, 9, 2, 6, 8, 9, 7, 2, 8, 8, 7, 2, 7, 0, 2, 2, 1,\n",
            "        0, 2, 0, 2, 0, 3, 2, 4, 1, 4, 1, 7, 0, 5, 5, 6, 2, 1, 9, 3, 5, 1, 2, 5,\n",
            "        2, 1, 0, 2, 3, 5, 3, 4, 7, 3, 5, 6, 4, 3, 9, 2, 3, 6, 1, 8, 2, 1, 5, 0,\n",
            "        9, 6, 5, 3])\n"
          ]
        }
      ]
    },
    {
      "cell_type": "code",
      "source": [
        "## nn.Linear()"
      ],
      "metadata": {
        "id": "tOGql6tzxmsc"
      },
      "execution_count": null,
      "outputs": []
    },
    {
      "cell_type": "code",
      "source": [
        "iterator = iter(train_iter)"
      ],
      "metadata": {
        "id": "EMssSDQ_yHeD"
      },
      "execution_count": 19,
      "outputs": []
    },
    {
      "cell_type": "code",
      "source": [
        "feat, lab = next(iterator)"
      ],
      "metadata": {
        "id": "5uvwJ5ZvyOM-"
      },
      "execution_count": 20,
      "outputs": []
    },
    {
      "cell_type": "code",
      "source": [
        "feat.shape"
      ],
      "metadata": {
        "colab": {
          "base_uri": "https://localhost:8080/"
        },
        "id": "x-0ydo3t-N0W",
        "outputId": "a2d2e6c1-cd63-4f98-bd5e-3d02e90bb058"
      },
      "execution_count": 23,
      "outputs": [
        {
          "output_type": "execute_result",
          "data": {
            "text/plain": [
              "torch.Size([100, 1, 28, 28])"
            ]
          },
          "metadata": {},
          "execution_count": 23
        }
      ]
    },
    {
      "cell_type": "code",
      "source": [
        "x = feat[0]"
      ],
      "metadata": {
        "id": "6Vd17NhsyXbV"
      },
      "execution_count": 21,
      "outputs": []
    },
    {
      "cell_type": "code",
      "source": [
        "x.shape"
      ],
      "metadata": {
        "colab": {
          "base_uri": "https://localhost:8080/"
        },
        "id": "rXViesRuyZaw",
        "outputId": "c965e5f8-9c13-4b4c-c289-b1df8af64ee7"
      },
      "execution_count": 22,
      "outputs": [
        {
          "output_type": "execute_result",
          "data": {
            "text/plain": [
              "torch.Size([1, 28, 28])"
            ]
          },
          "metadata": {},
          "execution_count": 22
        }
      ]
    },
    {
      "cell_type": "markdown",
      "source": [
        "### CNN using sequential operators\n",
        " > (crude way, no one does this)\n",
        "\n",
        "Function definition\n",
        "`torch.nn.Conv2d(in_channels, out_channels, kernel_size,...)`   \n",
        "https://pytorch.org/docs/stable/generated/torch.nn.Conv2d.html"
      ],
      "metadata": {
        "id": "x8LSvMuXzk5Y"
      }
    },
    {
      "cell_type": "markdown",
      "source": [
        "![2_layer_conv.png](data:image/png;base64,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)"
      ],
      "metadata": {
        "id": "JvFNSu458f8Y"
      }
    },
    {
      "cell_type": "code",
      "source": [
        "conv = nn.Conv2d(1, 6, 5)"
      ],
      "metadata": {
        "id": "CmWFNXcmxtr1"
      },
      "execution_count": 24,
      "outputs": []
    },
    {
      "cell_type": "code",
      "source": [
        "conv.weight.shape     ## These are the weight parameter tensors"
      ],
      "metadata": {
        "colab": {
          "base_uri": "https://localhost:8080/"
        },
        "id": "8kxKHrod1h5G",
        "outputId": "1c953df5-a07c-479e-b049-f3555fe6ea2a"
      },
      "execution_count": 25,
      "outputs": [
        {
          "output_type": "execute_result",
          "data": {
            "text/plain": [
              "torch.Size([6, 1, 5, 5])"
            ]
          },
          "metadata": {},
          "execution_count": 25
        }
      ]
    },
    {
      "cell_type": "code",
      "source": [
        "conv.bias.shape"
      ],
      "metadata": {
        "colab": {
          "base_uri": "https://localhost:8080/"
        },
        "id": "zxrhIp77_tAa",
        "outputId": "9de2b859-86f8-434c-fa39-ff46f0d70a0e"
      },
      "execution_count": 26,
      "outputs": [
        {
          "output_type": "execute_result",
          "data": {
            "text/plain": [
              "torch.Size([6])"
            ]
          },
          "metadata": {},
          "execution_count": 26
        }
      ]
    },
    {
      "cell_type": "code",
      "source": [
        "x"
      ],
      "metadata": {
        "colab": {
          "base_uri": "https://localhost:8080/"
        },
        "collapsed": true,
        "id": "cVbPKD6C_6c1",
        "outputId": "75c36fa7-1fb5-4492-bd71-a241d81dadf0"
      },
      "execution_count": 28,
      "outputs": [
        {
          "output_type": "execute_result",
          "data": {
            "text/plain": [
              "tensor([[[-1.0000, -1.0000, -1.0000, -1.0000, -1.0000, -1.0000, -1.0000,\n",
              "          -1.0000, -1.0000,  0.2078,  0.6471,  0.4902,  0.6471,  0.2235,\n",
              "           0.0039,  0.6078,  0.5294,  0.6706,  0.4824, -1.0000, -1.0000,\n",
              "          -1.0000, -1.0000, -1.0000, -1.0000, -1.0000, -1.0000, -1.0000],\n",
              "         [-1.0000, -1.0000, -1.0000, -1.0000, -1.0000, -1.0000, -1.0000,\n",
              "          -1.0000, -1.0000,  0.9451,  0.7725,  0.6941,  0.6863,  0.6706,\n",
              "           0.4275,  0.7098,  0.7098,  0.7569,  0.9922, -1.0000, -1.0000,\n",
              "          -1.0000, -1.0000, -1.0000, -1.0000, -1.0000, -1.0000, -1.0000],\n",
              "         [-1.0000, -1.0000, -1.0000, -1.0000, -1.0000, -1.0000, -1.0000,\n",
              "          -1.0000, -1.0000,  0.9843,  0.6941,  0.6627,  0.6863,  0.7412,\n",
              "           0.6314,  0.6784,  0.6941,  0.6784,  0.9922, -0.4980, -1.0000,\n",
              "          -1.0000, -1.0000, -1.0000, -1.0000, -1.0000, -1.0000, -1.0000],\n",
              "         [-1.0000, -1.0000, -1.0000, -1.0000, -1.0000, -1.0000, -1.0000,\n",
              "          -1.0000, -0.4745,  0.9922,  0.6549,  0.6314,  0.6392,  0.7412,\n",
              "           0.7725,  0.7098,  0.7098,  0.6235,  0.9843, -0.1686, -1.0000,\n",
              "          -1.0000, -1.0000, -1.0000, -1.0000, -1.0000, -1.0000, -1.0000],\n",
              "         [-1.0000, -1.0000, -1.0000, -1.0000, -1.0000, -1.0000, -1.0000,\n",
              "          -1.0000,  0.0353,  0.9765,  0.6314,  0.6706,  0.6078,  0.7020,\n",
              "           0.7569,  0.6941,  0.6706,  0.6471,  0.9686,  0.0745, -1.0000,\n",
              "          -1.0000, -1.0000, -1.0000, -1.0000, -1.0000, -1.0000, -1.0000],\n",
              "         [-1.0000, -1.0000, -1.0000, -1.0000, -1.0000, -1.0000, -1.0000,\n",
              "          -1.0000,  0.2314,  0.8902,  0.6471,  0.6706,  0.6392,  0.7020,\n",
              "           0.7490,  0.7176,  0.6627,  0.6706,  0.9059,  0.2549, -1.0000,\n",
              "          -1.0000, -1.0000, -1.0000, -1.0000, -1.0000, -1.0000, -1.0000],\n",
              "         [-1.0000, -1.0000, -1.0000, -1.0000, -1.0000, -1.0000, -1.0000,\n",
              "          -1.0000,  0.3882,  0.8510,  0.6549,  0.6314,  0.6392,  0.7333,\n",
              "           0.7333,  0.7098,  0.6706,  0.6549,  0.8510,  0.3961, -1.0000,\n",
              "          -1.0000, -1.0000, -1.0000, -1.0000, -1.0000, -1.0000, -1.0000],\n",
              "         [-1.0000, -1.0000, -1.0000, -1.0000, -1.0000, -1.0000, -1.0000,\n",
              "          -1.0000,  0.3725,  0.8510,  0.6627,  0.6471,  0.6549,  0.7333,\n",
              "           0.7333,  0.6941,  0.6784,  0.6706,  0.8353,  0.4196, -1.0000,\n",
              "          -1.0000, -1.0000, -1.0000, -1.0000, -1.0000, -1.0000, -1.0000],\n",
              "         [-1.0000, -1.0000, -1.0000, -1.0000, -1.0000, -1.0000, -1.0000,\n",
              "          -1.0000,  0.3647,  0.8667,  0.6471,  0.6471,  0.6627,  0.7490,\n",
              "           0.7412,  0.6627,  0.6706,  0.6392,  0.8824,  0.3333, -1.0000,\n",
              "          -1.0000, -1.0000, -1.0000, -1.0000, -1.0000, -1.0000, -1.0000],\n",
              "         [-1.0000, -1.0000, -1.0000, -1.0000, -1.0000, -1.0000, -1.0000,\n",
              "          -1.0000,  0.2471,  0.9294,  0.6157,  0.6314,  0.6549,  0.8196,\n",
              "           0.9451,  0.6549,  0.6471,  0.6000,  0.9216,  0.2314, -1.0000,\n",
              "          -1.0000, -1.0000, -1.0000, -1.0000, -1.0000, -1.0000, -1.0000],\n",
              "         [-1.0000, -1.0000, -1.0000, -1.0000, -1.0000, -1.0000, -1.0000,\n",
              "          -1.0000, -0.0510,  0.9765,  0.5686,  0.6078,  0.8510,  0.4667,\n",
              "           0.1843,  0.9451,  0.6078,  0.5765,  0.9686,  0.0431, -1.0000,\n",
              "          -1.0000, -1.0000, -1.0000, -1.0000, -1.0000, -1.0000, -1.0000],\n",
              "         [-1.0000, -1.0000, -1.0000, -1.0000, -1.0000, -1.0000, -1.0000,\n",
              "          -1.0000, -0.1608,  0.9843,  0.5529,  0.5922,  0.9843, -0.0902,\n",
              "          -0.8667,  1.0000,  0.5608,  0.5608,  0.9843, -0.0745, -1.0000,\n",
              "          -1.0000, -1.0000, -1.0000, -1.0000, -1.0000, -1.0000, -1.0000],\n",
              "         [-1.0000, -1.0000, -1.0000, -1.0000, -1.0000, -1.0000, -1.0000,\n",
              "          -1.0000, -0.2706,  0.9922,  0.6235,  0.6314,  0.9922, -0.7412,\n",
              "          -1.0000,  1.0000,  0.6471,  0.6314,  0.9922, -0.1843, -1.0000,\n",
              "          -1.0000, -1.0000, -1.0000, -1.0000, -1.0000, -1.0000, -1.0000],\n",
              "         [-1.0000, -1.0000, -1.0000, -1.0000, -1.0000, -1.0000, -1.0000,\n",
              "          -1.0000, -0.5216,  0.9922,  0.6392,  0.6314,  0.9922, -0.9765,\n",
              "          -1.0000,  0.9922,  0.6549,  0.6314,  0.9922, -0.3255, -1.0000,\n",
              "          -1.0000, -1.0000, -1.0000, -1.0000, -1.0000, -1.0000, -1.0000],\n",
              "         [-1.0000, -1.0000, -1.0000, -1.0000, -1.0000, -1.0000, -1.0000,\n",
              "          -1.0000, -0.8588,  1.0000,  0.6471,  0.6392,  0.9843, -1.0000,\n",
              "          -1.0000,  0.9843,  0.6549,  0.6235,  0.9922, -0.4667, -1.0000,\n",
              "          -1.0000, -1.0000, -1.0000, -1.0000, -1.0000, -1.0000, -1.0000],\n",
              "         [-1.0000, -1.0000, -1.0000, -1.0000, -1.0000, -1.0000, -1.0000,\n",
              "          -1.0000, -1.0000,  0.9922,  0.6627,  0.6627,  0.9843, -1.0000,\n",
              "          -1.0000,  0.9843,  0.6941,  0.6314,  1.0000, -0.6000, -1.0000,\n",
              "          -1.0000, -1.0000, -1.0000, -1.0000, -1.0000, -1.0000, -1.0000],\n",
              "         [-1.0000, -1.0000, -1.0000, -1.0000, -1.0000, -1.0000, -1.0000,\n",
              "          -1.0000, -1.0000,  0.9922,  0.6784,  0.6549,  0.9765, -1.0000,\n",
              "          -1.0000,  0.9765,  0.7098,  0.6471,  1.0000, -0.6941, -1.0000,\n",
              "          -1.0000, -1.0000, -1.0000, -1.0000, -1.0000, -1.0000, -1.0000],\n",
              "         [-1.0000, -1.0000, -1.0000, -1.0000, -1.0000, -1.0000, -1.0000,\n",
              "          -1.0000, -1.0000,  0.9922,  0.6627,  0.6627,  0.9765, -1.0000,\n",
              "          -1.0000,  0.8902,  0.7098,  0.6314,  0.9922, -0.7882, -1.0000,\n",
              "          -1.0000, -1.0000, -1.0000, -1.0000, -1.0000, -1.0000, -1.0000],\n",
              "         [-1.0000, -1.0000, -1.0000, -1.0000, -1.0000, -1.0000, -1.0000,\n",
              "          -1.0000, -1.0000,  0.9922,  0.6627,  0.6706,  0.9294, -1.0000,\n",
              "          -1.0000,  0.8275,  0.7176,  0.6157,  0.9922, -0.8196, -1.0000,\n",
              "          -1.0000, -1.0000, -1.0000, -1.0000, -1.0000, -1.0000, -1.0000],\n",
              "         [-1.0000, -1.0000, -1.0000, -1.0000, -1.0000, -1.0000, -1.0000,\n",
              "          -1.0000, -1.0000,  0.9843,  0.6627,  0.6863,  0.8902, -1.0000,\n",
              "          -1.0000,  0.7882,  0.7176,  0.6235,  0.9922, -0.7882, -1.0000,\n",
              "          -1.0000, -1.0000, -1.0000, -1.0000, -1.0000, -1.0000, -1.0000],\n",
              "         [-1.0000, -1.0000, -1.0000, -1.0000, -1.0000, -1.0000, -1.0000,\n",
              "          -1.0000, -1.0000,  0.9843,  0.6706,  0.6941,  0.8510, -1.0000,\n",
              "          -1.0000,  0.7333,  0.7098,  0.6314,  0.9843, -0.8118, -1.0000,\n",
              "          -1.0000, -1.0000, -1.0000, -1.0000, -1.0000, -1.0000, -1.0000],\n",
              "         [-1.0000, -1.0000, -1.0000, -1.0000, -1.0000, -1.0000, -1.0000,\n",
              "          -1.0000, -1.0000,  0.9843,  0.6627,  0.6784,  0.8745, -1.0000,\n",
              "          -1.0000,  0.6941,  0.7098,  0.6314,  0.9843, -0.8118, -1.0000,\n",
              "          -1.0000, -1.0000, -1.0000, -1.0000, -1.0000, -1.0000, -1.0000],\n",
              "         [-1.0000, -1.0000, -1.0000, -1.0000, -1.0000, -1.0000, -1.0000,\n",
              "          -1.0000, -1.0000,  0.9843,  0.6314,  0.6627,  0.9059, -1.0000,\n",
              "          -1.0000,  0.7412,  0.7098,  0.6078,  0.9843, -0.8745, -1.0000,\n",
              "          -1.0000, -1.0000, -1.0000, -1.0000, -1.0000, -1.0000, -1.0000],\n",
              "         [-1.0000, -1.0000, -1.0000, -1.0000, -1.0000, -1.0000, -1.0000,\n",
              "          -1.0000, -1.0000,  0.9608,  0.6549,  0.6627,  0.9451, -1.0000,\n",
              "          -1.0000,  0.7412,  0.7098,  0.6157,  0.6941, -1.0000, -1.0000,\n",
              "          -1.0000, -1.0000, -1.0000, -1.0000, -1.0000, -1.0000, -1.0000],\n",
              "         [-1.0000, -1.0000, -1.0000, -1.0000, -1.0000, -1.0000, -1.0000,\n",
              "          -1.0000, -1.0000,  0.8196,  0.6863,  0.6784,  0.8667, -1.0000,\n",
              "          -1.0000,  0.7647,  0.6941,  0.6471,  0.6471, -1.0000, -1.0000,\n",
              "          -1.0000, -1.0000, -1.0000, -1.0000, -1.0000, -1.0000, -1.0000],\n",
              "         [-1.0000, -1.0000, -1.0000, -1.0000, -1.0000, -1.0000, -1.0000,\n",
              "          -1.0000, -1.0000,  0.4667,  0.7020,  0.6627,  0.7098, -1.0000,\n",
              "          -1.0000,  0.5451,  0.6784,  0.6784,  0.6627, -1.0000, -1.0000,\n",
              "          -1.0000, -1.0000, -1.0000, -1.0000, -1.0000, -1.0000, -1.0000],\n",
              "         [-1.0000, -1.0000, -1.0000, -1.0000, -1.0000, -1.0000, -1.0000,\n",
              "          -1.0000, -1.0000, -0.0824,  0.7961,  0.7490,  0.3569, -1.0000,\n",
              "          -1.0000,  0.0980,  0.7882,  0.7725,  0.1765, -1.0000, -1.0000,\n",
              "          -1.0000, -1.0000, -1.0000, -1.0000, -1.0000, -1.0000, -1.0000],\n",
              "         [-1.0000, -1.0000, -1.0000, -1.0000, -1.0000, -1.0000, -1.0000,\n",
              "          -1.0000, -1.0000, -0.7020,  0.6078,  0.5529, -0.3961, -1.0000,\n",
              "          -1.0000, -0.5843,  0.5216,  0.6314, -0.4745, -1.0000, -1.0000,\n",
              "          -1.0000, -1.0000, -1.0000, -1.0000, -1.0000, -1.0000, -1.0000]]])"
            ]
          },
          "metadata": {},
          "execution_count": 28
        }
      ]
    },
    {
      "cell_type": "code",
      "source": [
        "plt.imshow(x.squeeze())"
      ],
      "metadata": {
        "colab": {
          "base_uri": "https://localhost:8080/",
          "height": 447
        },
        "id": "QK_N8QbO_-bt",
        "outputId": "dc65b1f4-577f-411c-cee2-e3a8c3eeb3fd"
      },
      "execution_count": 30,
      "outputs": [
        {
          "output_type": "execute_result",
          "data": {
            "text/plain": [
              "<matplotlib.image.AxesImage at 0x7f89cfb1c090>"
            ]
          },
          "metadata": {},
          "execution_count": 30
        },
        {
          "output_type": "display_data",
          "data": {
            "text/plain": [
              "<Figure size 640x480 with 1 Axes>"
            ],
            "image/png": "[encoded data removed]"
          },
          "metadata": {}
        }
      ]
    },
    {
      "cell_type": "code",
      "source": [
        "x.shape"
      ],
      "metadata": {
        "colab": {
          "base_uri": "https://localhost:8080/"
        },
        "id": "DkaVM5HfAGeJ",
        "outputId": "01160371-2e94-444a-f6c8-6fdca66264e1"
      },
      "execution_count": 32,
      "outputs": [
        {
          "output_type": "execute_result",
          "data": {
            "text/plain": [
              "torch.Size([1, 28, 28])"
            ]
          },
          "metadata": {},
          "execution_count": 32
        }
      ]
    },
    {
      "cell_type": "code",
      "source": [
        "x1 = conv(x)"
      ],
      "metadata": {
        "id": "vyu30har0Ywz"
      },
      "execution_count": 27,
      "outputs": []
    },
    {
      "cell_type": "code",
      "source": [
        "x1.shape"
      ],
      "metadata": {
        "colab": {
          "base_uri": "https://localhost:8080/"
        },
        "id": "bgTBmm9z0gBI",
        "outputId": "759e3e33-0804-4a6e-82d6-0492cb5a3323"
      },
      "execution_count": 31,
      "outputs": [
        {
          "output_type": "execute_result",
          "data": {
            "text/plain": [
              "torch.Size([6, 24, 24])"
            ]
          },
          "metadata": {},
          "execution_count": 31
        }
      ]
    },
    {
      "cell_type": "markdown",
      "source": [
        "(N, C, H, W)"
      ],
      "metadata": {
        "id": "-5dKKLUP003e"
      }
    },
    {
      "cell_type": "code",
      "source": [
        "pooling = nn.MaxPool2d(2, 2)"
      ],
      "metadata": {
        "id": "9ugKUfoz08UG"
      },
      "execution_count": 40,
      "outputs": []
    },
    {
      "cell_type": "code",
      "source": [
        "x2 = pooling(x1)\n",
        "x2.shape            ## Notice the change in Dimensions"
      ],
      "metadata": {
        "colab": {
          "base_uri": "https://localhost:8080/"
        },
        "id": "6VrrHHf_1RpA",
        "outputId": "393ff96c-d771-4018-e6b1-198de6fd0601"
      },
      "execution_count": 41,
      "outputs": [
        {
          "output_type": "execute_result",
          "data": {
            "text/plain": [
              "torch.Size([6, 12, 12])"
            ]
          },
          "metadata": {},
          "execution_count": 41
        }
      ]
    },
    {
      "cell_type": "code",
      "source": [
        "pooling = nn.MaxPool2d(3,3)\n",
        "x3 = pooling(x1)\n",
        "x3.shape\n",
        "# notice the shape"
      ],
      "metadata": {
        "colab": {
          "base_uri": "https://localhost:8080/"
        },
        "id": "d7LwMjlpARvp",
        "outputId": "8fbf9a85-3282-4517-9f35-d65b6c5b36a0"
      },
      "execution_count": 42,
      "outputs": [
        {
          "output_type": "execute_result",
          "data": {
            "text/plain": [
              "torch.Size([6, 8, 8])"
            ]
          },
          "metadata": {},
          "execution_count": 42
        }
      ]
    },
    {
      "cell_type": "code",
      "source": [
        "## simply coding each step in CNN sequentially (not a good practice)\n",
        "x = feat[0]\n",
        "x = nn.Conv2d(1, 6, 5)(x)\n",
        "x = nn.MaxPool2d(2, 2)(x)\n",
        "x = nn.Conv2d(6, 6, 5)(x)\n",
        "x = nn.MaxPool2d(2, 2)(x)\n",
        "x.shape"
      ],
      "metadata": {
        "colab": {
          "base_uri": "https://localhost:8080/"
        },
        "id": "Y147fx_L3TY5",
        "outputId": "4651ed84-1f3a-488f-8a28-c8943d830b23"
      },
      "execution_count": 43,
      "outputs": [
        {
          "output_type": "execute_result",
          "data": {
            "text/plain": [
              "torch.Size([6, 4, 4])"
            ]
          },
          "metadata": {},
          "execution_count": 43
        }
      ]
    },
    {
      "cell_type": "code",
      "source": [
        "F.relu(x)"
      ],
      "metadata": {
        "collapsed": true,
        "colab": {
          "base_uri": "https://localhost:8080/"
        },
        "id": "oYxg11HT4Km1",
        "outputId": "7d43aa7d-6cd1-4253-c2fd-5a5205da1da8"
      },
      "execution_count": 44,
      "outputs": [
        {
          "output_type": "execute_result",
          "data": {
            "text/plain": [
              "tensor([[[0.5005, 0.0301, 0.2742, 0.2305],\n",
              "         [0.5568, 0.1402, 0.2214, 0.1701],\n",
              "         [0.6425, 0.1661, 0.2340, 0.2351],\n",
              "         [0.6426, 0.1294, 0.2697, 0.2407]],\n",
              "\n",
              "        [[0.0000, 0.0000, 0.0249, 0.2629],\n",
              "         [0.0000, 0.0957, 0.0522, 0.2429],\n",
              "         [0.0000, 0.0000, 0.0000, 0.2464],\n",
              "         [0.0000, 0.0000, 0.0000, 0.2243]],\n",
              "\n",
              "        [[0.3326, 0.0077, 0.3511, 0.0000],\n",
              "         [0.2091, 0.2105, 0.1378, 0.0000],\n",
              "         [0.2429, 0.1491, 0.1208, 0.0000],\n",
              "         [0.2796, 0.2053, 0.1426, 0.0000]],\n",
              "\n",
              "        [[0.1399, 0.0880, 0.2145, 0.2055],\n",
              "         [0.0883, 0.3288, 0.0819, 0.1522],\n",
              "         [0.2264, 0.3372, 0.0650, 0.1934],\n",
              "         [0.1983, 0.3587, 0.0342, 0.1943]],\n",
              "\n",
              "        [[0.4415, 0.3114, 0.3896, 0.0000],\n",
              "         [0.5250, 0.3964, 0.4725, 0.0000],\n",
              "         [0.5389, 0.2699, 0.4407, 0.0000],\n",
              "         [0.5699, 0.2899, 0.3991, 0.0000]],\n",
              "\n",
              "        [[0.6948, 0.2288, 0.0000, 0.0440],\n",
              "         [0.6811, 0.4589, 0.0000, 0.0000],\n",
              "         [0.5661, 0.5100, 0.0000, 0.0000],\n",
              "         [0.5497, 0.4313, 0.0000, 0.0000]]], grad_fn=<ReluBackward0>)"
            ]
          },
          "metadata": {},
          "execution_count": 44
        }
      ]
    },
    {
      "cell_type": "markdown",
      "source": [
        "## Define the CNN Model\n",
        "In PyTorch, you define a neural network model as a class that is derived from the `nn.Module` base class.\n",
        "\n",
        "You must  \n",
        "- Define the layers in your network,\n",
        "- Provide a forward method that is used to process data through the layers of the network."
      ],
      "metadata": {
        "id": "rOyecvB604eW"
      }
    },
    {
      "cell_type": "markdown",
      "source": [
        "visit this [site](https://poloclub.github.io/cnn-explainer/) for better understanding"
      ],
      "metadata": {
        "id": "tvsYtLYGDEuY"
      }
    },
    {
      "cell_type": "code",
      "source": [
        "class CNN(nn.Module):\n",
        "  def __init__(self):\n",
        "    super(CNN, self).__init__()\n",
        "\n",
        "    self.fc3 = nn.Linear(20, 10)\n",
        "    self.fc1 = nn.Linear(6*4*4, 80)\n",
        "    self.fc2 = nn.Linear(80, 20)\n",
        "\n",
        "    ## in_channels=1, out_channels=6, kernel_size=5\n",
        "    self.conv1 = nn.Conv2d(1, 6, 5)\n",
        "\n",
        "    ## apply max pooling with a kernel size of 2\n",
        "    self.pool = nn.MaxPool2d(2, 2)\n",
        "    self.conv2 = nn.Conv2d(6, 6, 5)\n",
        "\n",
        "    ## THESE ABOVE ARE THE COMPONENTS OF YOUR MODEL\n",
        "\n",
        "\n",
        "  ## FWD PASS WILL DEFINE THE ARCHITECTURE OF YOUR MODEL\n",
        "  def forward(self, x):   ## 1 x 28 x 28\n",
        "    x = self.conv1(x)     ## 6 x 24 x 24\n",
        "    x = F.relu(x)         ## 6 x 24 x 24\n",
        "    x = self.pool(x)      ## 6 x 12 x 12\n",
        "    x = self.conv2(x)      ## 6 x 8 x 8\n",
        "    x = F.relu(x)         ## 6 x 8 x 8\n",
        "    x = self.pool(x)      ## 6 x 4 x 4\n",
        "    x = x.view(-1, 6*4*4) ## x.flatten() x.Flatten()\n",
        "    x = self.fc1(x)   ## 1x80\n",
        "    x = F.relu(x)     ## 1x80\n",
        "    x = self.fc2(x)   ## 1x20\n",
        "    x = F.relu(x)     ## 1x20\n",
        "    x = self.fc3(x)   ## 1x10\n",
        "\n",
        "    return x\n",
        "\n",
        "\n"
      ],
      "metadata": {
        "id": "2aMEHAZv17a2"
      },
      "execution_count": 45,
      "outputs": []
    },
    {
      "cell_type": "code",
      "source": [
        "Model = CNN()"
      ],
      "metadata": {
        "id": "zdhSbHji46g4",
        "collapsed": true
      },
      "execution_count": 46,
      "outputs": []
    },
    {
      "cell_type": "code",
      "source": [
        "x = feat[0]"
      ],
      "metadata": {
        "id": "xhMavM6o5EGc"
      },
      "execution_count": 47,
      "outputs": []
    },
    {
      "cell_type": "code",
      "source": [
        "out = Model(feat)\n",
        "out.shape"
      ],
      "metadata": {
        "colab": {
          "base_uri": "https://localhost:8080/"
        },
        "id": "Df77gx1g49u3",
        "outputId": "f14546ae-8de3-4e36-dd49-30afbc295fc8"
      },
      "execution_count": 48,
      "outputs": [
        {
          "output_type": "execute_result",
          "data": {
            "text/plain": [
              "torch.Size([100, 10])"
            ]
          },
          "metadata": {},
          "execution_count": 48
        }
      ]
    },
    {
      "cell_type": "markdown",
      "source": [
        "## Training\n",
        "\n",
        "- Define Loss\n",
        "- Optimizer\n",
        "\n",
        "Consists of an iterative series of forward passes where\n",
        "- the training data is processed in batches,\n",
        "- the optimizer adjusts the weights.\n",
        "\n",
        "Forward pass \\\\\n",
        "Backprop\n",
        "\n",
        "Later, use a separate set of test images to test the model at the end of each iteration (or epoch) so we can track the performance improvement as the training process progresses.\n"
      ],
      "metadata": {
        "id": "pU8KTncd5UqR"
      }
    },
    {
      "cell_type": "markdown",
      "source": [
        "\n",
        "## CrossEntropyLoss = Softmax + cross entropy loss"
      ],
      "metadata": {
        "id": "mukLcToq5nX_"
      }
    },
    {
      "cell_type": "code",
      "source": [
        "Loss = nn.CrossEntropyLoss()\n",
        "optimizer = optim.SGD(Model.parameters(), lr = 0.1, momentum= 0.9)"
      ],
      "metadata": {
        "id": "wsazmNY35hcu"
      },
      "execution_count": 49,
      "outputs": []
    },
    {
      "cell_type": "markdown",
      "source": [
        "### 1 epoch = pass through entire dataset\n",
        "\n",
        "### 1 iteration = pass through 1 batch\n",
        "\n",
        "\n",
        "total points = 60000    \n",
        "batch size = 100    \n",
        "total batches = 600"
      ],
      "metadata": {
        "id": "Xs6rJ1g26jtO"
      }
    },
    {
      "cell_type": "markdown",
      "source": [
        "f(x) = 1 if x = 0.0    \n",
        "f(x) = 2 if x = 0.1   \n",
        "f(x) = 300 if x = 0.2"
      ],
      "metadata": {
        "id": "BLezhE7MEHYO"
      }
    },
    {
      "cell_type": "code",
      "source": [
        "for epoch in range(3):\n",
        "  ## HERE EPOCH STARTS -- so refresh all your counters\n",
        "  total_correct_pts = 0\n",
        "\n",
        "  for features, labels in train_iter:   ## will run for 600 batches\n",
        "\n",
        "    optimizer.zero_grad()   ## in order to remove any previous gradient info\n",
        "\n",
        "    output = Model(features)  ## forward pass     100x10 max along dim=1\n",
        "\n",
        "    ls = Loss(output, labels)   ## compute loss\n",
        "\n",
        "    ls.backward()   ## back propagate the loss\n",
        "\n",
        "    optimizer.step()  ## update the parameters\n",
        "\n",
        "    corr = torch.argmax(output, axis = 1) == torch.as_tensor(labels)\n",
        "\n",
        "    total_correct = torch.count_nonzero(corr)\n",
        "    total_correct_pts += total_correct\n",
        "\n",
        "  print(\"Accuracy: \", total_correct_pts/60000)\n",
        "\n",
        "\n",
        "\n"
      ],
      "metadata": {
        "colab": {
          "base_uri": "https://localhost:8080/"
        },
        "id": "LdRzrLyN6A4-",
        "outputId": "e6f5b0f0-4178-4d1a-b4ed-df5a0fa6cf5d"
      },
      "execution_count": 50,
      "outputs": [
        {
          "output_type": "stream",
          "name": "stdout",
          "text": [
            "Accuracy:  tensor(0.7264)\n",
            "Accuracy:  tensor(0.8324)\n",
            "Accuracy:  tensor(0.8438)\n"
          ]
        }
      ]
    },
    {
      "cell_type": "code",
      "source": [
        "output.shape"
      ],
      "metadata": {
        "colab": {
          "base_uri": "https://localhost:8080/"
        },
        "id": "10uBXCWmEqN5",
        "outputId": "06a99638-314e-44a2-937d-567803a3659a"
      },
      "execution_count": 51,
      "outputs": [
        {
          "output_type": "execute_result",
          "data": {
            "text/plain": [
              "torch.Size([100, 10])"
            ]
          },
          "metadata": {},
          "execution_count": 51
        }
      ]
    },
    {
      "cell_type": "markdown",
      "source": [
        "### Evaluate model performance on Test Data"
      ],
      "metadata": {
        "id": "O8HRpIfE7qqG"
      }
    },
    {
      "cell_type": "code",
      "source": [
        "test_data = datasets.FashionMNIST('.data', train = False, download = True, transform = transform1)"
      ],
      "metadata": {
        "id": "Y9e6qfPJ8aMD"
      },
      "execution_count": 52,
      "outputs": []
    },
    {
      "cell_type": "code",
      "source": [
        "test_iter = DataLoader(test_data, shuffle = False, batch_size = 100)"
      ],
      "metadata": {
        "id": "uCw-15ns8rwy"
      },
      "execution_count": 53,
      "outputs": []
    },
    {
      "cell_type": "code",
      "source": [
        "test_data.data.shape"
      ],
      "metadata": {
        "colab": {
          "base_uri": "https://localhost:8080/"
        },
        "id": "yRLxvmCz87XP",
        "outputId": "04a7e502-433a-4376-ef9a-3f657d089a26"
      },
      "execution_count": 54,
      "outputs": [
        {
          "output_type": "execute_result",
          "data": {
            "text/plain": [
              "torch.Size([10000, 28, 28])"
            ]
          },
          "metadata": {},
          "execution_count": 54
        }
      ]
    },
    {
      "cell_type": "code",
      "source": [
        "# with torch.no_grad()"
      ],
      "metadata": {
        "id": "2zYUmuAM9IV7"
      },
      "execution_count": 55,
      "outputs": []
    },
    {
      "cell_type": "code",
      "source": [
        "Model.eval()\n",
        "\n",
        "## Model.train()\n",
        "\n",
        "# test_output = Model()"
      ],
      "metadata": {
        "colab": {
          "base_uri": "https://localhost:8080/"
        },
        "id": "MyyrLCSg8-0y",
        "outputId": "bf752f2c-1a07-4678-cc49-53b6fc3bbf35"
      },
      "execution_count": 56,
      "outputs": [
        {
          "output_type": "execute_result",
          "data": {
            "text/plain": [
              "CNN(\n",
              "  (fc3): Linear(in_features=20, out_features=10, bias=True)\n",
              "  (fc1): Linear(in_features=96, out_features=80, bias=True)\n",
              "  (fc2): Linear(in_features=80, out_features=20, bias=True)\n",
              "  (conv1): Conv2d(1, 6, kernel_size=(5, 5), stride=(1, 1))\n",
              "  (pool): MaxPool2d(kernel_size=2, stride=2, padding=0, dilation=1, ceil_mode=False)\n",
              "  (conv2): Conv2d(6, 6, kernel_size=(5, 5), stride=(1, 1))\n",
              ")"
            ]
          },
          "metadata": {},
          "execution_count": 56
        }
      ]
    },
    {
      "cell_type": "code",
      "source": [
        "with torch.inference_mode():\n",
        "  test_corr = 0\n",
        "  for data in test_iter:\n",
        "    feat, lab = data\n",
        "    test_out = Model(feat)\n",
        "\n",
        "    curr_classes = torch.argmax(test_out, axis = 1) == torch.as_tensor(lab)\n",
        "    tcd = torch.count_nonzero(curr_classes)\n",
        "    test_corr += tcd\n",
        "\n",
        "  print(test_corr/10000)"
      ],
      "metadata": {
        "colab": {
          "base_uri": "https://localhost:8080/"
        },
        "id": "1ZsxGHYr9UI4",
        "outputId": "9faf513b-8b13-4611-9553-b817c1be984e"
      },
      "execution_count": 57,
      "outputs": [
        {
          "output_type": "stream",
          "name": "stdout",
          "text": [
            "tensor(0.8447)\n"
          ]
        }
      ]
    },
    {
      "cell_type": "code",
      "source": [],
      "metadata": {
        "id": "JnKfvb6U7uqC"
      },
      "execution_count": null,
      "outputs": []
    },
    {
      "cell_type": "markdown",
      "source": [
        "## Many other Pre-defined Models"
      ],
      "metadata": {
        "id": "yO_0R8U47vGB"
      }
    },
    {
      "cell_type": "code",
      "source": [
        "from torchvision import models"
      ],
      "metadata": {
        "id": "No_aT0t7-No4"
      },
      "execution_count": 58,
      "outputs": []
    },
    {
      "cell_type": "code",
      "source": [
        "dir(models)"
      ],
      "metadata": {
        "colab": {
          "base_uri": "https://localhost:8080/"
        },
        "collapsed": true,
        "id": "Ffa0AXLI-mUr",
        "outputId": "d9a0508a-ed59-497d-b6d2-b23fc10baa31"
      },
      "execution_count": 59,
      "outputs": [
        {
          "output_type": "execute_result",
          "data": {
            "text/plain": [
              "['AlexNet',\n",
              " 'AlexNet_Weights',\n",
              " 'ConvNeXt',\n",
              " 'ConvNeXt_Base_Weights',\n",
              " 'ConvNeXt_Large_Weights',\n",
              " 'ConvNeXt_Small_Weights',\n",
              " 'ConvNeXt_Tiny_Weights',\n",
              " 'DenseNet',\n",
              " 'DenseNet121_Weights',\n",
              " 'DenseNet161_Weights',\n",
              " 'DenseNet169_Weights',\n",
              " 'DenseNet201_Weights',\n",
              " 'EfficientNet',\n",
              " 'EfficientNet_B0_Weights',\n",
              " 'EfficientNet_B1_Weights',\n",
              " 'EfficientNet_B2_Weights',\n",
              " 'EfficientNet_B3_Weights',\n",
              " 'EfficientNet_B4_Weights',\n",
              " 'EfficientNet_B5_Weights',\n",
              " 'EfficientNet_B6_Weights',\n",
              " 'EfficientNet_B7_Weights',\n",
              " 'EfficientNet_V2_L_Weights',\n",
              " 'EfficientNet_V2_M_Weights',\n",
              " 'EfficientNet_V2_S_Weights',\n",
              " 'GoogLeNet',\n",
              " 'GoogLeNetOutputs',\n",
              " 'GoogLeNet_Weights',\n",
              " 'Inception3',\n",
              " 'InceptionOutputs',\n",
              " 'Inception_V3_Weights',\n",
              " 'MNASNet',\n",
              " 'MNASNet0_5_Weights',\n",
              " 'MNASNet0_75_Weights',\n",
              " 'MNASNet1_0_Weights',\n",
              " 'MNASNet1_3_Weights',\n",
              " 'MaxVit',\n",
              " 'MaxVit_T_Weights',\n",
              " 'MobileNetV2',\n",
              " 'MobileNetV3',\n",
              " 'MobileNet_V2_Weights',\n",
              " 'MobileNet_V3_Large_Weights',\n",
              " 'MobileNet_V3_Small_Weights',\n",
              " 'RegNet',\n",
              " 'RegNet_X_16GF_Weights',\n",
              " 'RegNet_X_1_6GF_Weights',\n",
              " 'RegNet_X_32GF_Weights',\n",
              " 'RegNet_X_3_2GF_Weights',\n",
              " 'RegNet_X_400MF_Weights',\n",
              " 'RegNet_X_800MF_Weights',\n",
              " 'RegNet_X_8GF_Weights',\n",
              " 'RegNet_Y_128GF_Weights',\n",
              " 'RegNet_Y_16GF_Weights',\n",
              " 'RegNet_Y_1_6GF_Weights',\n",
              " 'RegNet_Y_32GF_Weights',\n",
              " 'RegNet_Y_3_2GF_Weights',\n",
              " 'RegNet_Y_400MF_Weights',\n",
              " 'RegNet_Y_800MF_Weights',\n",
              " 'RegNet_Y_8GF_Weights',\n",
              " 'ResNeXt101_32X8D_Weights',\n",
              " 'ResNeXt101_64X4D_Weights',\n",
              " 'ResNeXt50_32X4D_Weights',\n",
              " 'ResNet',\n",
              " 'ResNet101_Weights',\n",
              " 'ResNet152_Weights',\n",
              " 'ResNet18_Weights',\n",
              " 'ResNet34_Weights',\n",
              " 'ResNet50_Weights',\n",
              " 'ShuffleNetV2',\n",
              " 'ShuffleNet_V2_X0_5_Weights',\n",
              " 'ShuffleNet_V2_X1_0_Weights',\n",
              " 'ShuffleNet_V2_X1_5_Weights',\n",
              " 'ShuffleNet_V2_X2_0_Weights',\n",
              " 'SqueezeNet',\n",
              " 'SqueezeNet1_0_Weights',\n",
              " 'SqueezeNet1_1_Weights',\n",
              " 'SwinTransformer',\n",
              " 'Swin_B_Weights',\n",
              " 'Swin_S_Weights',\n",
              " 'Swin_T_Weights',\n",
              " 'Swin_V2_B_Weights',\n",
              " 'Swin_V2_S_Weights',\n",
              " 'Swin_V2_T_Weights',\n",
              " 'VGG',\n",
              " 'VGG11_BN_Weights',\n",
              " 'VGG11_Weights',\n",
              " 'VGG13_BN_Weights',\n",
              " 'VGG13_Weights',\n",
              " 'VGG16_BN_Weights',\n",
              " 'VGG16_Weights',\n",
              " 'VGG19_BN_Weights',\n",
              " 'VGG19_Weights',\n",
              " 'ViT_B_16_Weights',\n",
              " 'ViT_B_32_Weights',\n",
              " 'ViT_H_14_Weights',\n",
              " 'ViT_L_16_Weights',\n",
              " 'ViT_L_32_Weights',\n",
              " 'VisionTransformer',\n",
              " 'Weights',\n",
              " 'WeightsEnum',\n",
              " 'Wide_ResNet101_2_Weights',\n",
              " 'Wide_ResNet50_2_Weights',\n",
              " '_GoogLeNetOutputs',\n",
              " '_InceptionOutputs',\n",
              " '__builtins__',\n",
              " '__cached__',\n",
              " '__doc__',\n",
              " '__file__',\n",
              " '__loader__',\n",
              " '__name__',\n",
              " '__package__',\n",
              " '__path__',\n",
              " '__spec__',\n",
              " '_api',\n",
              " '_meta',\n",
              " '_utils',\n",
              " 'alexnet',\n",
              " 'convnext',\n",
              " 'convnext_base',\n",
              " 'convnext_large',\n",
              " 'convnext_small',\n",
              " 'convnext_tiny',\n",
              " 'densenet',\n",
              " 'densenet121',\n",
              " 'densenet161',\n",
              " 'densenet169',\n",
              " 'densenet201',\n",
              " 'detection',\n",
              " 'efficientnet',\n",
              " 'efficientnet_b0',\n",
              " 'efficientnet_b1',\n",
              " 'efficientnet_b2',\n",
              " 'efficientnet_b3',\n",
              " 'efficientnet_b4',\n",
              " 'efficientnet_b5',\n",
              " 'efficientnet_b6',\n",
              " 'efficientnet_b7',\n",
              " 'efficientnet_v2_l',\n",
              " 'efficientnet_v2_m',\n",
              " 'efficientnet_v2_s',\n",
              " 'get_model',\n",
              " 'get_model_builder',\n",
              " 'get_model_weights',\n",
              " 'get_weight',\n",
              " 'googlenet',\n",
              " 'inception',\n",
              " 'inception_v3',\n",
              " 'list_models',\n",
              " 'maxvit',\n",
              " 'maxvit_t',\n",
              " 'mnasnet',\n",
              " 'mnasnet0_5',\n",
              " 'mnasnet0_75',\n",
              " 'mnasnet1_0',\n",
              " 'mnasnet1_3',\n",
              " 'mobilenet',\n",
              " 'mobilenet_v2',\n",
              " 'mobilenet_v3_large',\n",
              " 'mobilenet_v3_small',\n",
              " 'mobilenetv2',\n",
              " 'mobilenetv3',\n",
              " 'optical_flow',\n",
              " 'quantization',\n",
              " 'regnet',\n",
              " 'regnet_x_16gf',\n",
              " 'regnet_x_1_6gf',\n",
              " 'regnet_x_32gf',\n",
              " 'regnet_x_3_2gf',\n",
              " 'regnet_x_400mf',\n",
              " 'regnet_x_800mf',\n",
              " 'regnet_x_8gf',\n",
              " 'regnet_y_128gf',\n",
              " 'regnet_y_16gf',\n",
              " 'regnet_y_1_6gf',\n",
              " 'regnet_y_32gf',\n",
              " 'regnet_y_3_2gf',\n",
              " 'regnet_y_400mf',\n",
              " 'regnet_y_800mf',\n",
              " 'regnet_y_8gf',\n",
              " 'resnet',\n",
              " 'resnet101',\n",
              " 'resnet152',\n",
              " 'resnet18',\n",
              " 'resnet34',\n",
              " 'resnet50',\n",
              " 'resnext101_32x8d',\n",
              " 'resnext101_64x4d',\n",
              " 'resnext50_32x4d',\n",
              " 'segmentation',\n",
              " 'shufflenet_v2_x0_5',\n",
              " 'shufflenet_v2_x1_0',\n",
              " 'shufflenet_v2_x1_5',\n",
              " 'shufflenet_v2_x2_0',\n",
              " 'shufflenetv2',\n",
              " 'squeezenet',\n",
              " 'squeezenet1_0',\n",
              " 'squeezenet1_1',\n",
              " 'swin_b',\n",
              " 'swin_s',\n",
              " 'swin_t',\n",
              " 'swin_transformer',\n",
              " 'swin_v2_b',\n",
              " 'swin_v2_s',\n",
              " 'swin_v2_t',\n",
              " 'vgg',\n",
              " 'vgg11',\n",
              " 'vgg11_bn',\n",
              " 'vgg13',\n",
              " 'vgg13_bn',\n",
              " 'vgg16',\n",
              " 'vgg16_bn',\n",
              " 'vgg19',\n",
              " 'vgg19_bn',\n",
              " 'video',\n",
              " 'vision_transformer',\n",
              " 'vit_b_16',\n",
              " 'vit_b_32',\n",
              " 'vit_h_14',\n",
              " 'vit_l_16',\n",
              " 'vit_l_32',\n",
              " 'wide_resnet101_2',\n",
              " 'wide_resnet50_2']"
            ]
          },
          "metadata": {},
          "execution_count": 59
        }
      ]
    },
    {
      "cell_type": "markdown",
      "source": [
        "## Links\n",
        "- https://pytorch.org/docs/stable/generated/torch.nn.Conv2d.html\n",
        "- https://pytorch.org/docs/stable/nn.html#maxpool2d"
      ],
      "metadata": {
        "id": "izpNQvwH8AGg"
      }
    },
    {
      "cell_type": "code",
      "source": [],
      "metadata": {
        "id": "C8X83C_Mvk6S"
      },
      "execution_count": null,
      "outputs": []
    }
  ]
}