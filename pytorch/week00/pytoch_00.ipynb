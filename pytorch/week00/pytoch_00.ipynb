{
  "nbformat": 4,
  "nbformat_minor": 0,
  "metadata": {
    "colab": {
      "provenance": [],
      "authorship_tag": "ABX9TyNNIhSXlekoi4cF8Ybx1Xz2",
      "include_colab_link": true
    },
    "kernelspec": {
      "name": "python3",
      "display_name": "Python 3"
    },
    "language_info": {
      "name": "python"
    }
  },
  "cells": [
    {
      "cell_type": "markdown",
      "metadata": {
        "id": "view-in-github",
        "colab_type": "text"
      },
      "source": [
        "<a href=\"https://colab.research.google.com/github/MethEthPro/colab/blob/main/pytorch/week00/pytoch_00.ipynb\" target=\"_parent\"><img src=\"https://colab.research.google.com/assets/colab-badge.svg\" alt=\"Open In Colab\"/></a>"
      ]
    },
    {
      "cell_type": "code",
      "execution_count": null,
      "metadata": {
        "id": "f2ZCGMZ7N7rs"
      },
      "outputs": [],
      "source": [
        "import torch"
      ]
    },
    {
      "cell_type": "code",
      "source": [
        "torch.__version__"
      ],
      "metadata": {
        "colab": {
          "base_uri": "https://localhost:8080/",
          "height": 35
        },
        "id": "W1ivsizZOiX_",
        "outputId": "6c0961ed-e1f0-4e97-97cd-1d8d843a7e90"
      },
      "execution_count": null,
      "outputs": [
        {
          "output_type": "execute_result",
          "data": {
            "text/plain": [
              "'2.5.1+cu121'"
            ],
            "application/vnd.google.colaboratory.intrinsic+json": {
              "type": "string"
            }
          },
          "metadata": {},
          "execution_count": 2
        }
      ]
    },
    {
      "cell_type": "code",
      "source": [
        "# scalar\n",
        "scalar = torch.tensor(7)\n",
        "scalar"
      ],
      "metadata": {
        "colab": {
          "base_uri": "https://localhost:8080/"
        },
        "id": "Q-6yEmSlPMHR",
        "outputId": "5f8b6ac8-5919-4f1b-b094-4527d4cec137"
      },
      "execution_count": null,
      "outputs": [
        {
          "output_type": "execute_result",
          "data": {
            "text/plain": [
              "tensor(7)"
            ]
          },
          "metadata": {},
          "execution_count": 4
        }
      ]
    },
    {
      "cell_type": "code",
      "source": [
        "scalar.ndim"
      ],
      "metadata": {
        "colab": {
          "base_uri": "https://localhost:8080/"
        },
        "id": "QPqD7P-sPTwf",
        "outputId": "7dcb2ef1-1dc0-4fbd-f174-e39cf0222aba"
      },
      "execution_count": null,
      "outputs": [
        {
          "output_type": "execute_result",
          "data": {
            "text/plain": [
              "0"
            ]
          },
          "metadata": {},
          "execution_count": 5
        }
      ]
    },
    {
      "cell_type": "code",
      "source": [
        "scalar.item()\n",
        "# this works for only one element tensor\n",
        "# it will give us an integer value and not a tensor object"
      ],
      "metadata": {
        "colab": {
          "base_uri": "https://localhost:8080/"
        },
        "id": "RPmRI4V2PWYu",
        "outputId": "7a63f05e-7bb5-47c2-f716-7772996b77c1"
      },
      "execution_count": null,
      "outputs": [
        {
          "output_type": "execute_result",
          "data": {
            "text/plain": [
              "7"
            ]
          },
          "metadata": {},
          "execution_count": 6
        }
      ]
    },
    {
      "cell_type": "code",
      "source": [
        "# vector\n",
        "vector = torch.tensor([2,4,6])\n",
        "vector"
      ],
      "metadata": {
        "colab": {
          "base_uri": "https://localhost:8080/"
        },
        "id": "gZKmmwEgPe0Q",
        "outputId": "ee95f703-d3b3-44ed-e733-b3b45a80a6ca"
      },
      "execution_count": null,
      "outputs": [
        {
          "output_type": "execute_result",
          "data": {
            "text/plain": [
              "tensor([2, 4, 6])"
            ]
          },
          "metadata": {},
          "execution_count": 7
        }
      ]
    },
    {
      "cell_type": "code",
      "source": [
        "vector.ndim"
      ],
      "metadata": {
        "colab": {
          "base_uri": "https://localhost:8080/"
        },
        "id": "0-F7sCSkQVJq",
        "outputId": "dbf25616-221e-460d-b91d-db0e1eb46a74"
      },
      "execution_count": null,
      "outputs": [
        {
          "output_type": "execute_result",
          "data": {
            "text/plain": [
              "1"
            ]
          },
          "metadata": {},
          "execution_count": 8
        }
      ]
    },
    {
      "cell_type": "code",
      "source": [
        "vector.shape\n",
        "# The shape tells you how the elements inside them are arranged."
      ],
      "metadata": {
        "colab": {
          "base_uri": "https://localhost:8080/"
        },
        "id": "mJUp91LTQWhK",
        "outputId": "8a5f51b4-5b87-4433-9279-6de1eaa7fcc4"
      },
      "execution_count": null,
      "outputs": [
        {
          "output_type": "execute_result",
          "data": {
            "text/plain": [
              "torch.Size([3])"
            ]
          },
          "metadata": {},
          "execution_count": 11
        }
      ]
    },
    {
      "cell_type": "code",
      "source": [
        "# Matrix\n",
        "MATRIX=torch.tensor([[1,2,3],[4,5,6]])\n",
        "MATRIX"
      ],
      "metadata": {
        "colab": {
          "base_uri": "https://localhost:8080/"
        },
        "id": "ralH6HJ1QbyD",
        "outputId": "19cc181f-68ad-4962-9e07-64451c25ed15"
      },
      "execution_count": null,
      "outputs": [
        {
          "output_type": "execute_result",
          "data": {
            "text/plain": [
              "tensor([[1, 2, 3],\n",
              "        [4, 5, 6]])"
            ]
          },
          "metadata": {},
          "execution_count": 18
        }
      ]
    },
    {
      "cell_type": "code",
      "source": [
        "MATRIX.ndim"
      ],
      "metadata": {
        "colab": {
          "base_uri": "https://localhost:8080/"
        },
        "id": "N-C9zlcjRIIB",
        "outputId": "54f9a8f0-1963-42fc-a08e-d445e714b029"
      },
      "execution_count": null,
      "outputs": [
        {
          "output_type": "execute_result",
          "data": {
            "text/plain": [
              "2"
            ]
          },
          "metadata": {},
          "execution_count": 16
        }
      ]
    },
    {
      "cell_type": "code",
      "source": [
        "MATRIX.shape"
      ],
      "metadata": {
        "colab": {
          "base_uri": "https://localhost:8080/"
        },
        "id": "Ums0w3mJRLHt",
        "outputId": "d03a313d-8521-407a-e2c3-625b9eaa2815"
      },
      "execution_count": null,
      "outputs": [
        {
          "output_type": "execute_result",
          "data": {
            "text/plain": [
              "torch.Size([2, 3])"
            ]
          },
          "metadata": {},
          "execution_count": 17
        }
      ]
    },
    {
      "cell_type": "code",
      "source": [
        "# TENSOR\n",
        "TENSOR = torch.tensor([[[2,4,6],[8,10,12],[14,16,18]]])\n",
        "TENSOR"
      ],
      "metadata": {
        "colab": {
          "base_uri": "https://localhost:8080/"
        },
        "id": "JKxXkMgZRORu",
        "outputId": "de1e4b18-b50f-4446-cac7-de62a8472a66"
      },
      "execution_count": null,
      "outputs": [
        {
          "output_type": "execute_result",
          "data": {
            "text/plain": [
              "tensor([[[ 2,  4,  6],\n",
              "         [ 8, 10, 12],\n",
              "         [14, 16, 18]]])"
            ]
          },
          "metadata": {},
          "execution_count": 20
        }
      ]
    },
    {
      "cell_type": "code",
      "source": [
        "TENSOR.ndim"
      ],
      "metadata": {
        "colab": {
          "base_uri": "https://localhost:8080/"
        },
        "id": "gGsJYIHoRsOP",
        "outputId": "dfba702f-0257-4b41-c9d9-ebb3cede02cc"
      },
      "execution_count": null,
      "outputs": [
        {
          "output_type": "execute_result",
          "data": {
            "text/plain": [
              "3"
            ]
          },
          "metadata": {},
          "execution_count": 21
        }
      ]
    },
    {
      "cell_type": "code",
      "source": [
        "TENSOR.shape\n",
        "# as we have depth of 1 , and then a matrix of 3 x 3\n",
        "# so shape becomes 1,3,3"
      ],
      "metadata": {
        "colab": {
          "base_uri": "https://localhost:8080/"
        },
        "id": "FTbpe_bvRvAI",
        "outputId": "13ca0cc6-92d8-44cd-a423-a47951313e41"
      },
      "execution_count": null,
      "outputs": [
        {
          "output_type": "execute_result",
          "data": {
            "text/plain": [
              "torch.Size([1, 3, 3])"
            ]
          },
          "metadata": {},
          "execution_count": 22
        }
      ]
    },
    {
      "cell_type": "code",
      "source": [
        "TENSOR_NEW = torch.tensor([[[1,2,3],[4,5,6],[7,8,9]],[[10,11,12],[13,14,15],[16,17,18]]])\n",
        "TENSOR_NEW"
      ],
      "metadata": {
        "colab": {
          "base_uri": "https://localhost:8080/"
        },
        "id": "EfNp4NQ0RxFL",
        "outputId": "4dd7f1cb-a231-4b3c-9f7d-ee63b38ce31e"
      },
      "execution_count": null,
      "outputs": [
        {
          "output_type": "execute_result",
          "data": {
            "text/plain": [
              "tensor([[[ 1,  2,  3],\n",
              "         [ 4,  5,  6],\n",
              "         [ 7,  8,  9]],\n",
              "\n",
              "        [[10, 11, 12],\n",
              "         [13, 14, 15],\n",
              "         [16, 17, 18]]])"
            ]
          },
          "metadata": {},
          "execution_count": 26
        }
      ]
    },
    {
      "cell_type": "code",
      "source": [
        "# so as we can clearly see that there are 2 matrix of 3x3 , so shape will be\n",
        "# 2,3,3\n",
        "# you can imagine these matrixes on top of each other\n",
        "TENSOR_NEW.shape"
      ],
      "metadata": {
        "colab": {
          "base_uri": "https://localhost:8080/"
        },
        "id": "xZlMVJQLSwbL",
        "outputId": "e6c4dab9-74ab-4a19-b32f-3e1cdf65b9ee"
      },
      "execution_count": null,
      "outputs": [
        {
          "output_type": "execute_result",
          "data": {
            "text/plain": [
              "torch.Size([2, 3, 3])"
            ]
          },
          "metadata": {},
          "execution_count": 27
        }
      ]
    },
    {
      "cell_type": "code",
      "source": [
        "# creating a random tensor\n",
        "random_tensor = torch.rand(size = (3,4))\n",
        "random_tensor, random_tensor.dtype, random_tensor.ndim"
      ],
      "metadata": {
        "colab": {
          "base_uri": "https://localhost:8080/"
        },
        "id": "dSEDwpbgTR2l",
        "outputId": "fb16a753-a222-411d-d7e6-c515dc94190b"
      },
      "execution_count": null,
      "outputs": [
        {
          "output_type": "execute_result",
          "data": {
            "text/plain": [
              "(tensor([[0.3443, 0.2130, 0.5524, 0.0631],\n",
              "         [0.1855, 0.8172, 0.2663, 0.9112],\n",
              "         [0.4264, 0.0509, 0.2679, 0.4080]]),\n",
              " torch.float32,\n",
              " 2)"
            ]
          },
          "metadata": {},
          "execution_count": 28
        }
      ]
    },
    {
      "cell_type": "code",
      "source": [
        "random_tensor_2 = torch.rand(size=(4,5,2))\n",
        "print(random_tensor_2)\n",
        "random_tensor_2.shape, random_tensor_2.ndim\n",
        "\n",
        "# so we get a tensor with depth 4 , and each matrix having 5 rows and 2 columns"
      ],
      "metadata": {
        "colab": {
          "base_uri": "https://localhost:8080/"
        },
        "id": "bzMXbWUKb2EM",
        "outputId": "359f5f1a-f8fb-4fb9-dd81-f4ecaf97323c"
      },
      "execution_count": null,
      "outputs": [
        {
          "output_type": "stream",
          "name": "stdout",
          "text": [
            "tensor([[[0.3704, 0.4799],\n",
            "         [0.1573, 0.8113],\n",
            "         [0.3635, 0.6082],\n",
            "         [0.0345, 0.7388],\n",
            "         [0.1743, 0.8287]],\n",
            "\n",
            "        [[0.0090, 0.8974],\n",
            "         [0.0700, 0.6782],\n",
            "         [0.7646, 0.1366],\n",
            "         [0.1815, 0.2176],\n",
            "         [0.2225, 0.3776]],\n",
            "\n",
            "        [[0.2983, 0.7215],\n",
            "         [0.3172, 0.7929],\n",
            "         [0.0964, 0.5221],\n",
            "         [0.8874, 0.9991],\n",
            "         [0.9390, 0.4951]],\n",
            "\n",
            "        [[0.9739, 0.2427],\n",
            "         [0.5811, 0.7157],\n",
            "         [0.7816, 0.3196],\n",
            "         [0.8995, 0.6431],\n",
            "         [0.4500, 0.4291]]])\n"
          ]
        },
        {
          "output_type": "execute_result",
          "data": {
            "text/plain": [
              "(torch.Size([4, 5, 2]), 3)"
            ]
          },
          "metadata": {},
          "execution_count": 29
        }
      ]
    },
    {
      "cell_type": "code",
      "source": [
        "# creating a tensor of all zeros or all ones\n",
        "tens_zer = torch.zeros(size=(2,3))\n",
        "tens_zer"
      ],
      "metadata": {
        "colab": {
          "base_uri": "https://localhost:8080/"
        },
        "id": "gFdgNM3hcQzt",
        "outputId": "d0044cef-d947-4270-c7cd-4109b8033efe"
      },
      "execution_count": null,
      "outputs": [
        {
          "output_type": "execute_result",
          "data": {
            "text/plain": [
              "tensor([[0., 0., 0.],\n",
              "        [0., 0., 0.]])"
            ]
          },
          "metadata": {},
          "execution_count": 30
        }
      ]
    },
    {
      "cell_type": "code",
      "source": [
        "tens_one = torch.ones(size=(2,2,3))\n",
        "tens_one"
      ],
      "metadata": {
        "colab": {
          "base_uri": "https://localhost:8080/"
        },
        "id": "9dgsbbnud9e1",
        "outputId": "b1b791bd-dd8d-44de-e1ba-6b3432053763"
      },
      "execution_count": null,
      "outputs": [
        {
          "output_type": "execute_result",
          "data": {
            "text/plain": [
              "tensor([[[1., 1., 1.],\n",
              "         [1., 1., 1.]],\n",
              "\n",
              "        [[1., 1., 1.],\n",
              "         [1., 1., 1.]]])"
            ]
          },
          "metadata": {},
          "execution_count": 31
        }
      ]
    },
    {
      "cell_type": "code",
      "source": [
        "# creating a range like tensor\n",
        "# we can use torch.arange(start,end,step)\n",
        "# where start value is included but the end value is not included\n",
        "zero_to_ten = torch.arange(start=0, end=11, step=1)\n",
        "zero_to_ten"
      ],
      "metadata": {
        "colab": {
          "base_uri": "https://localhost:8080/"
        },
        "id": "iHTXPjwNeFXX",
        "outputId": "b6f51e67-acd0-48e6-f6ce-3210848c7154"
      },
      "execution_count": null,
      "outputs": [
        {
          "output_type": "execute_result",
          "data": {
            "text/plain": [
              "tensor([ 0,  1,  2,  3,  4,  5,  6,  7,  8,  9, 10])"
            ]
          },
          "metadata": {},
          "execution_count": 32
        }
      ]
    },
    {
      "cell_type": "code",
      "source": [
        "# if you want a tensor of the same shape as that of another tensor you can use\n",
        "# zeros_like(input=tensor_name) or ones_like(input=tensoe_name)\n",
        "my_zero = torch.zeros_like(input=random_tensor)\n",
        "my_zero"
      ],
      "metadata": {
        "colab": {
          "base_uri": "https://localhost:8080/"
        },
        "id": "FvmeOYeZfS_g",
        "outputId": "3debf16f-6ffa-4675-b1c0-759894c73d6d"
      },
      "execution_count": null,
      "outputs": [
        {
          "output_type": "execute_result",
          "data": {
            "text/plain": [
              "tensor([[0., 0., 0., 0.],\n",
              "        [0., 0., 0., 0.],\n",
              "        [0., 0., 0., 0.]])"
            ]
          },
          "metadata": {},
          "execution_count": 33
        }
      ]
    },
    {
      "cell_type": "code",
      "source": [
        "my_ones = torch.ones_like(input=random_tensor_2)\n",
        "my_ones"
      ],
      "metadata": {
        "colab": {
          "base_uri": "https://localhost:8080/"
        },
        "id": "6T03ZHuQf2tt",
        "outputId": "5140b901-678c-43b8-a6f8-1c638f1f1215"
      },
      "execution_count": null,
      "outputs": [
        {
          "output_type": "execute_result",
          "data": {
            "text/plain": [
              "tensor([[[1., 1.],\n",
              "         [1., 1.],\n",
              "         [1., 1.],\n",
              "         [1., 1.],\n",
              "         [1., 1.]],\n",
              "\n",
              "        [[1., 1.],\n",
              "         [1., 1.],\n",
              "         [1., 1.],\n",
              "         [1., 1.],\n",
              "         [1., 1.]],\n",
              "\n",
              "        [[1., 1.],\n",
              "         [1., 1.],\n",
              "         [1., 1.],\n",
              "         [1., 1.],\n",
              "         [1., 1.]],\n",
              "\n",
              "        [[1., 1.],\n",
              "         [1., 1.],\n",
              "         [1., 1.],\n",
              "         [1., 1.],\n",
              "         [1., 1.]]])"
            ]
          },
          "metadata": {},
          "execution_count": 34
        }
      ]
    },
    {
      "cell_type": "code",
      "source": [
        "# default datatype for tensors is float32\n",
        "my_tensor = torch.tensor([[12.0,16.0,20.0],[24.0,28.0,32.0]],\n",
        "                         dtype=None,\n",
        "                         device=None,\n",
        "                         requires_grad=False  #if true operations performed on the tensors are recorded\n",
        "                         )\n",
        "print(my_tensor)\n",
        "my_tensor.shape, my_tensor.dtype, my_tensor.device,my_tensor.ndim"
      ],
      "metadata": {
        "colab": {
          "base_uri": "https://localhost:8080/"
        },
        "id": "r3FeIStohPn6",
        "outputId": "5a24b4ce-1d58-47df-f43d-df4b1bb171a0"
      },
      "execution_count": null,
      "outputs": [
        {
          "output_type": "stream",
          "name": "stdout",
          "text": [
            "tensor([[12., 16., 20.],\n",
            "        [24., 28., 32.]])\n"
          ]
        },
        {
          "output_type": "execute_result",
          "data": {
            "text/plain": [
              "(torch.Size([2, 3]), torch.float32, device(type='cpu'), 2)"
            ]
          },
          "metadata": {},
          "execution_count": 35
        }
      ]
    },
    {
      "cell_type": "code",
      "source": [
        "my_tensorr=torch.tensor([[1,2,3],[4,5,6]],\n",
        "                        dtype=torch.float64)\n",
        "my_tensorr,my_tensorr.dtype"
      ],
      "metadata": {
        "colab": {
          "base_uri": "https://localhost:8080/"
        },
        "id": "cd74BABMMc7x",
        "outputId": "47a4509d-944d-4308-a9ee-56577310f269"
      },
      "execution_count": null,
      "outputs": [
        {
          "output_type": "execute_result",
          "data": {
            "text/plain": [
              "(tensor([[1., 2., 3.],\n",
              "         [4., 5., 6.]], dtype=torch.float64),\n",
              " torch.float64)"
            ]
          },
          "metadata": {},
          "execution_count": 38
        }
      ]
    },
    {
      "cell_type": "code",
      "source": [
        "cuda0 = torch.device('cuda:0')\n",
        "my_new_tensor = torch.tensor([[12,10,8],[6,4,2]],\n",
        "                             dtype=torch.float64,\n",
        "                             device=cuda0,\n",
        "                             requires_grad=False,\n",
        "                             )\n",
        "print(my_new_tensor)\n",
        "my_new_tensor.shape, my_new_tensor.dtype, my_new_tensor.device\n",
        "\n",
        "# ab nvidia ka gpu kaaha se laaauuuu"
      ],
      "metadata": {
        "colab": {
          "base_uri": "https://localhost:8080/",
          "height": 332
        },
        "id": "m9K7bMOjH0Lz",
        "outputId": "1a279175-15aa-490e-b757-7c02b0c3710a"
      },
      "execution_count": null,
      "outputs": [
        {
          "output_type": "error",
          "ename": "RuntimeError",
          "evalue": "Found no NVIDIA driver on your system. Please check that you have an NVIDIA GPU and installed a driver from http://www.nvidia.com/Download/index.aspx",
          "traceback": [
            "\u001b[0;31m---------------------------------------------------------------------------\u001b[0m",
            "\u001b[0;31mRuntimeError\u001b[0m                              Traceback (most recent call last)",
            "\u001b[0;32m<ipython-input-39-3a2ff5c03545>\u001b[0m in \u001b[0;36m<cell line: 2>\u001b[0;34m()\u001b[0m\n\u001b[1;32m      1\u001b[0m \u001b[0mcuda0\u001b[0m \u001b[0;34m=\u001b[0m \u001b[0mtorch\u001b[0m\u001b[0;34m.\u001b[0m\u001b[0mdevice\u001b[0m\u001b[0;34m(\u001b[0m\u001b[0;34m'cuda:0'\u001b[0m\u001b[0;34m)\u001b[0m\u001b[0;34m\u001b[0m\u001b[0;34m\u001b[0m\u001b[0m\n\u001b[0;32m----> 2\u001b[0;31m my_new_tensor = torch.tensor([[12,10,8],[6,4,2]],\n\u001b[0m\u001b[1;32m      3\u001b[0m                              \u001b[0mdtype\u001b[0m\u001b[0;34m=\u001b[0m\u001b[0mtorch\u001b[0m\u001b[0;34m.\u001b[0m\u001b[0mfloat64\u001b[0m\u001b[0;34m,\u001b[0m\u001b[0;34m\u001b[0m\u001b[0;34m\u001b[0m\u001b[0m\n\u001b[1;32m      4\u001b[0m                              \u001b[0mdevice\u001b[0m\u001b[0;34m=\u001b[0m\u001b[0mcuda0\u001b[0m\u001b[0;34m,\u001b[0m\u001b[0;34m\u001b[0m\u001b[0;34m\u001b[0m\u001b[0m\n\u001b[1;32m      5\u001b[0m                              \u001b[0mrequires_grad\u001b[0m\u001b[0;34m=\u001b[0m\u001b[0;32mFalse\u001b[0m\u001b[0;34m,\u001b[0m\u001b[0;34m\u001b[0m\u001b[0;34m\u001b[0m\u001b[0m\n",
            "\u001b[0;32m/usr/local/lib/python3.10/dist-packages/torch/cuda/__init__.py\u001b[0m in \u001b[0;36m_lazy_init\u001b[0;34m()\u001b[0m\n\u001b[1;32m    317\u001b[0m         \u001b[0;32mif\u001b[0m \u001b[0;34m\"CUDA_MODULE_LOADING\"\u001b[0m \u001b[0;32mnot\u001b[0m \u001b[0;32min\u001b[0m \u001b[0mos\u001b[0m\u001b[0;34m.\u001b[0m\u001b[0menviron\u001b[0m\u001b[0;34m:\u001b[0m\u001b[0;34m\u001b[0m\u001b[0;34m\u001b[0m\u001b[0m\n\u001b[1;32m    318\u001b[0m             \u001b[0mos\u001b[0m\u001b[0;34m.\u001b[0m\u001b[0menviron\u001b[0m\u001b[0;34m[\u001b[0m\u001b[0;34m\"CUDA_MODULE_LOADING\"\u001b[0m\u001b[0;34m]\u001b[0m \u001b[0;34m=\u001b[0m \u001b[0;34m\"LAZY\"\u001b[0m\u001b[0;34m\u001b[0m\u001b[0;34m\u001b[0m\u001b[0m\n\u001b[0;32m--> 319\u001b[0;31m         \u001b[0mtorch\u001b[0m\u001b[0;34m.\u001b[0m\u001b[0m_C\u001b[0m\u001b[0;34m.\u001b[0m\u001b[0m_cuda_init\u001b[0m\u001b[0;34m(\u001b[0m\u001b[0;34m)\u001b[0m\u001b[0;34m\u001b[0m\u001b[0;34m\u001b[0m\u001b[0m\n\u001b[0m\u001b[1;32m    320\u001b[0m         \u001b[0;31m# Some of the queued calls may reentrantly call _lazy_init();\u001b[0m\u001b[0;34m\u001b[0m\u001b[0;34m\u001b[0m\u001b[0m\n\u001b[1;32m    321\u001b[0m         \u001b[0;31m# we need to just return without initializing in that case.\u001b[0m\u001b[0;34m\u001b[0m\u001b[0;34m\u001b[0m\u001b[0m\n",
            "\u001b[0;31mRuntimeError\u001b[0m: Found no NVIDIA driver on your system. Please check that you have an NVIDIA GPU and installed a driver from http://www.nvidia.com/Download/index.aspx"
          ]
        }
      ]
    },
    {
      "cell_type": "markdown",
      "source": [
        "commonly we get 3 types of information from a tensor , these include its shape,datatype and where it is stored , the cpu or gpu"
      ],
      "metadata": {
        "id": "9AOlcFsKMAA1"
      }
    },
    {
      "cell_type": "code",
      "source": [
        "# BASIC OPERATIONS\n",
        "# ADDITION\n",
        "# SUBTRACTION\n",
        "# MULTIPLICATION(ELEMENT WISE)\n",
        "# DIVISION\n",
        "# MATRIX MULTIPLICATION"
      ],
      "metadata": {
        "id": "_zfGqXeEJH_2"
      },
      "execution_count": null,
      "outputs": []
    },
    {
      "cell_type": "code",
      "source": [
        "tensor = torch.tensor([[2,4,6],[8,10,12]])\n",
        "tensor"
      ],
      "metadata": {
        "colab": {
          "base_uri": "https://localhost:8080/"
        },
        "id": "E3YWxz_2M7Aq",
        "outputId": "4417b28a-473c-4d38-8f1b-d512a321bc7c"
      },
      "execution_count": null,
      "outputs": [
        {
          "output_type": "execute_result",
          "data": {
            "text/plain": [
              "tensor([[ 2,  4,  6],\n",
              "        [ 8, 10, 12]])"
            ]
          },
          "metadata": {},
          "execution_count": 41
        }
      ]
    },
    {
      "cell_type": "code",
      "source": [
        "tensor*2"
      ],
      "metadata": {
        "colab": {
          "base_uri": "https://localhost:8080/"
        },
        "id": "3w4panPJNLj5",
        "outputId": "3739205f-0eca-4a77-a508-f2bba902e82a"
      },
      "execution_count": null,
      "outputs": [
        {
          "output_type": "execute_result",
          "data": {
            "text/plain": [
              "tensor([[ 4,  8, 12],\n",
              "        [16, 20, 24]])"
            ]
          },
          "metadata": {},
          "execution_count": 42
        }
      ]
    },
    {
      "cell_type": "code",
      "source": [
        "tensor\n",
        "# so we see that values inside tensor dont change unless it is reassigned"
      ],
      "metadata": {
        "colab": {
          "base_uri": "https://localhost:8080/"
        },
        "id": "mlGLPt6cNNlc",
        "outputId": "d5a4c101-0549-4d9e-a607-ed31f5990f76"
      },
      "execution_count": null,
      "outputs": [
        {
          "output_type": "execute_result",
          "data": {
            "text/plain": [
              "tensor([[ 2,  4,  6],\n",
              "        [ 8, 10, 12]])"
            ]
          },
          "metadata": {},
          "execution_count": 43
        }
      ]
    },
    {
      "cell_type": "code",
      "source": [
        "tensor = tensor * 2\n",
        "tensor"
      ],
      "metadata": {
        "colab": {
          "base_uri": "https://localhost:8080/"
        },
        "id": "moaeAKEWNPL4",
        "outputId": "0541af00-2af7-476d-ba9f-75f71ba8c08b"
      },
      "execution_count": null,
      "outputs": [
        {
          "output_type": "execute_result",
          "data": {
            "text/plain": [
              "tensor([[ 4,  8, 12],\n",
              "        [16, 20, 24]])"
            ]
          },
          "metadata": {},
          "execution_count": 44
        }
      ]
    },
    {
      "cell_type": "code",
      "source": [
        "tensor = tensor + 2\n",
        "tensor"
      ],
      "metadata": {
        "colab": {
          "base_uri": "https://localhost:8080/"
        },
        "id": "PJkUF0AUNmZ8",
        "outputId": "deee9b43-9431-4097-d9f9-5b10b4e432c0"
      },
      "execution_count": null,
      "outputs": [
        {
          "output_type": "execute_result",
          "data": {
            "text/plain": [
              "tensor([[ 6, 10, 14],\n",
              "        [18, 22, 26]])"
            ]
          },
          "metadata": {},
          "execution_count": 45
        }
      ]
    },
    {
      "cell_type": "code",
      "source": [
        "tensor = tensor -2\n",
        "tensor"
      ],
      "metadata": {
        "colab": {
          "base_uri": "https://localhost:8080/"
        },
        "id": "0Nk0n6DRNp82",
        "outputId": "c42bdc9a-9c61-42c5-b15d-9f8177400f46"
      },
      "execution_count": null,
      "outputs": [
        {
          "output_type": "execute_result",
          "data": {
            "text/plain": [
              "tensor([[ 4,  8, 12],\n",
              "        [16, 20, 24]])"
            ]
          },
          "metadata": {},
          "execution_count": 46
        }
      ]
    },
    {
      "cell_type": "code",
      "source": [
        "tensor = tensor / 2\n",
        "tensor"
      ],
      "metadata": {
        "colab": {
          "base_uri": "https://localhost:8080/"
        },
        "id": "KGf9zUAjNt_3",
        "outputId": "a196884b-7f86-46ce-88c0-49079b9f3ab0"
      },
      "execution_count": null,
      "outputs": [
        {
          "output_type": "execute_result",
          "data": {
            "text/plain": [
              "tensor([[ 2.,  4.,  6.],\n",
              "        [ 8., 10., 12.]])"
            ]
          },
          "metadata": {},
          "execution_count": 47
        }
      ]
    },
    {
      "cell_type": "code",
      "source": [
        "tensor_1 = torch.tensor([[1,2,3],[1,2,3]])\n",
        "tensor_2 = torch.tensor([[2,2,2],[2,2,2],[2,2,2]])\n",
        "tensor_1*tensor_1"
      ],
      "metadata": {
        "colab": {
          "base_uri": "https://localhost:8080/"
        },
        "id": "QVDwJaLcNwqY",
        "outputId": "de716a8c-1f1e-4098-8014-1ea559fdfba7"
      },
      "execution_count": null,
      "outputs": [
        {
          "output_type": "execute_result",
          "data": {
            "text/plain": [
              "tensor([[1, 4, 9],\n",
              "        [1, 4, 9]])"
            ]
          },
          "metadata": {},
          "execution_count": 48
        }
      ]
    },
    {
      "cell_type": "code",
      "source": [
        "tensor_2*tensor_2"
      ],
      "metadata": {
        "colab": {
          "base_uri": "https://localhost:8080/"
        },
        "id": "cp2uogofSI3S",
        "outputId": "d2f6ec5e-9821-4bb2-80e9-d2f07667b889"
      },
      "execution_count": null,
      "outputs": [
        {
          "output_type": "execute_result",
          "data": {
            "text/plain": [
              "tensor([[4, 4, 4],\n",
              "        [4, 4, 4],\n",
              "        [4, 4, 4]])"
            ]
          },
          "metadata": {},
          "execution_count": 49
        }
      ]
    },
    {
      "cell_type": "code",
      "source": [
        "tensor_1*tensor_2\n",
        "# so to multiply two tensors elementwise they should be of the same order/shape"
      ],
      "metadata": {
        "colab": {
          "base_uri": "https://localhost:8080/",
          "height": 158
        },
        "id": "DQTLJTw8SMXY",
        "outputId": "78ab3f0c-e1c5-4a5f-bee4-41b3482a5c8e"
      },
      "execution_count": null,
      "outputs": [
        {
          "output_type": "error",
          "ename": "RuntimeError",
          "evalue": "The size of tensor a (2) must match the size of tensor b (3) at non-singleton dimension 0",
          "traceback": [
            "\u001b[0;31m---------------------------------------------------------------------------\u001b[0m",
            "\u001b[0;31mRuntimeError\u001b[0m                              Traceback (most recent call last)",
            "\u001b[0;32m<ipython-input-50-d0a702bbdcbb>\u001b[0m in \u001b[0;36m<cell line: 1>\u001b[0;34m()\u001b[0m\n\u001b[0;32m----> 1\u001b[0;31m \u001b[0mtensor_1\u001b[0m\u001b[0;34m*\u001b[0m\u001b[0mtensor_2\u001b[0m\u001b[0;34m\u001b[0m\u001b[0;34m\u001b[0m\u001b[0m\n\u001b[0m\u001b[1;32m      2\u001b[0m \u001b[0;31m# so to multiply two tensors elementwise they should be of the same order/shape\u001b[0m\u001b[0;34m\u001b[0m\u001b[0;34m\u001b[0m\u001b[0m\n",
            "\u001b[0;31mRuntimeError\u001b[0m: The size of tensor a (2) must match the size of tensor b (3) at non-singleton dimension 0"
          ]
        }
      ]
    },
    {
      "cell_type": "markdown",
      "source": [
        "MATRIX MULTIPLICATION"
      ],
      "metadata": {
        "id": "O8bjlYoSTR33"
      }
    },
    {
      "cell_type": "code",
      "source": [
        "# we use @ symbol for matrix multiplication\n",
        "# rememeber the condition of orders of the matrices for matrix multiplication\n",
        "# to be possible, and what orders they give in return"
      ],
      "metadata": {
        "id": "aZ67EqkpSP2V"
      },
      "execution_count": null,
      "outputs": []
    },
    {
      "cell_type": "code",
      "source": [
        "# both tensors are one dimensional , the dot product(scalar) is returned\n",
        "tensor_1 = torch.tensor([1,2,3])\n",
        "tensor_2 = torch.tensor([2,4,6])\n",
        "torch.matmul(tensor_1, tensor_2)\n",
        "# we get 28 = 1*2 + 2*4 + 6*3  (dot product)"
      ],
      "metadata": {
        "colab": {
          "base_uri": "https://localhost:8080/"
        },
        "id": "ueuopy2UYf54",
        "outputId": "f479d3ee-e49e-4a8f-a131-a619bf6ea364"
      },
      "execution_count": null,
      "outputs": [
        {
          "output_type": "execute_result",
          "data": {
            "text/plain": [
              "tensor(28)"
            ]
          },
          "metadata": {},
          "execution_count": 52
        }
      ]
    },
    {
      "cell_type": "code",
      "source": [
        "# we can do the same thing manually but we avoid using for loops , as they are computationally expensive\n",
        "\n",
        "%%time\n",
        "value = 0\n",
        "for i in range(len(tensor_1)):\n",
        "  value += tensor_1[i] * tensor_2[i]\n",
        "value"
      ],
      "metadata": {
        "colab": {
          "base_uri": "https://localhost:8080/"
        },
        "id": "24yMi0ZXYrO4",
        "outputId": "da6c4d12-9103-411f-9e6e-13daa62b6ed0"
      },
      "execution_count": null,
      "outputs": [
        {
          "output_type": "stream",
          "name": "stdout",
          "text": [
            "CPU times: user 1.86 ms, sys: 0 ns, total: 1.86 ms\n",
            "Wall time: 1.97 ms\n"
          ]
        },
        {
          "output_type": "execute_result",
          "data": {
            "text/plain": [
              "tensor(28)"
            ]
          },
          "metadata": {},
          "execution_count": 53
        }
      ]
    },
    {
      "cell_type": "code",
      "source": [
        "%%time\n",
        "torch.matmul(tensor_1, tensor_2)\n",
        "# so this is much faster , and thus we avoid doing matrix multiplication by hand"
      ],
      "metadata": {
        "colab": {
          "base_uri": "https://localhost:8080/"
        },
        "id": "zXJFL8ZwbVtd",
        "outputId": "b726b621-f173-4071-af93-fed060af4e41"
      },
      "execution_count": null,
      "outputs": [
        {
          "output_type": "stream",
          "name": "stdout",
          "text": [
            "CPU times: user 93 µs, sys: 8 µs, total: 101 µs\n",
            "Wall time: 106 µs\n"
          ]
        },
        {
          "output_type": "execute_result",
          "data": {
            "text/plain": [
              "tensor(28)"
            ]
          },
          "metadata": {},
          "execution_count": 55
        }
      ]
    },
    {
      "cell_type": "code",
      "source": [
        "# if we have a matrix X matrix multiplication\n",
        "# i.e both the tensors have a dimension of 2 or more\n",
        "tensor_3 = torch.tensor([[1,2,3],[4,5,6]])  # order is 2x3\n",
        "tensor_4 = torch.tensor([[6,7,9,10],[11,12,13,14],[15,16,17,18]]) # order is 3x4\n",
        "# so matrix multiplication should give us 2x4 matrix1\n"
      ],
      "metadata": {
        "id": "xCH_gq8Jbmrh"
      },
      "execution_count": null,
      "outputs": []
    },
    {
      "cell_type": "code",
      "source": [
        "%%time\n",
        "torch.matmul(tensor_3, tensor_4)"
      ],
      "metadata": {
        "colab": {
          "base_uri": "https://localhost:8080/"
        },
        "id": "1PGgEbqxdGRQ",
        "outputId": "0a142317-fbeb-491d-ee3d-66400b8b1bff"
      },
      "execution_count": null,
      "outputs": [
        {
          "output_type": "stream",
          "name": "stdout",
          "text": [
            "CPU times: user 120 µs, sys: 11 µs, total: 131 µs\n",
            "Wall time: 135 µs\n"
          ]
        },
        {
          "output_type": "execute_result",
          "data": {
            "text/plain": [
              "tensor([[ 73,  79,  86,  92],\n",
              "        [169, 184, 203, 218]])"
            ]
          },
          "metadata": {},
          "execution_count": 61
        }
      ]
    },
    {
      "cell_type": "code",
      "source": [
        "len(tensor_3)"
      ],
      "metadata": {
        "colab": {
          "base_uri": "https://localhost:8080/"
        },
        "id": "Wrp8MKoskgZU",
        "outputId": "bb6cf8b9-4e60-4573-df13-11532c75b31b"
      },
      "execution_count": null,
      "outputs": [
        {
          "output_type": "execute_result",
          "data": {
            "text/plain": [
              "2"
            ]
          },
          "metadata": {},
          "execution_count": 62
        }
      ]
    },
    {
      "cell_type": "code",
      "source": [
        "len(tensor_4[0])"
      ],
      "metadata": {
        "colab": {
          "base_uri": "https://localhost:8080/"
        },
        "id": "nRYoVv8CoDmh",
        "outputId": "bf00312c-7c46-42e3-e698-6cba91cfc0a4"
      },
      "execution_count": null,
      "outputs": [
        {
          "output_type": "execute_result",
          "data": {
            "text/plain": [
              "4"
            ]
          },
          "metadata": {},
          "execution_count": 63
        }
      ]
    },
    {
      "cell_type": "code",
      "source": [
        "len(tensor_4)"
      ],
      "metadata": {
        "colab": {
          "base_uri": "https://localhost:8080/"
        },
        "id": "DJMiLQr_qZ8e",
        "outputId": "0070af5d-8104-43f8-bda2-a9c6c33edd0a"
      },
      "execution_count": null,
      "outputs": [
        {
          "output_type": "execute_result",
          "data": {
            "text/plain": [
              "3"
            ]
          },
          "metadata": {},
          "execution_count": 64
        }
      ]
    },
    {
      "cell_type": "code",
      "source": [
        "%%time\n",
        "value = 0\n",
        "rows = len(tensor_3)\n",
        "columns = len(tensor_4[0])\n",
        "common = len(tensor_4)  # it is either the number of columns of tensor 3 or number of rows of tensor_4\n",
        "new_tensor = torch.zeros(size=(rows,columns))\n",
        "for i in range(rows):\n",
        "  for j in range(columns):\n",
        "    for k in range(common):\n",
        "      new_tensor[i][j] += tensor_3[i][k] * tensor_4[k][j]\n",
        "\n",
        "new_tensor\n",
        "# we can clearly see the time difference"
      ],
      "metadata": {
        "colab": {
          "base_uri": "https://localhost:8080/"
        },
        "id": "WUht0pOSdMsi",
        "outputId": "b9f934bf-df17-4ddd-e1e4-0f9e8db7b39a"
      },
      "execution_count": null,
      "outputs": [
        {
          "output_type": "stream",
          "name": "stdout",
          "text": [
            "CPU times: user 3.21 ms, sys: 0 ns, total: 3.21 ms\n",
            "Wall time: 3.17 ms\n"
          ]
        },
        {
          "output_type": "execute_result",
          "data": {
            "text/plain": [
              "tensor([[ 73.,  79.,  86.,  92.],\n",
              "        [169., 184., 203., 218.]])"
            ]
          },
          "metadata": {},
          "execution_count": 67
        }
      ]
    },
    {
      "cell_type": "markdown",
      "source": [
        "**SHAPE ERRORS**"
      ],
      "metadata": {
        "id": "zC8QuUoh5_1o"
      }
    },
    {
      "cell_type": "code",
      "source": [
        "tensor_A = torch.tensor([[1,2],[3,4],[5,6]], dtype=torch.float32)\n",
        "tensor_B = torch.tensor([[7,10],[8,11],[9,12]], dtype=torch.float32)"
      ],
      "metadata": {
        "id": "6lbVyrvtmh7b"
      },
      "execution_count": null,
      "outputs": []
    },
    {
      "cell_type": "code",
      "source": [
        "print(tensor_A)\n",
        "print(tensor_B)"
      ],
      "metadata": {
        "colab": {
          "base_uri": "https://localhost:8080/"
        },
        "id": "9h4vpDuN6pdD",
        "outputId": "5c0de549-ac99-4909-86b4-88761bbcb635"
      },
      "execution_count": null,
      "outputs": [
        {
          "output_type": "stream",
          "name": "stdout",
          "text": [
            "tensor([[1., 2.],\n",
            "        [3., 4.],\n",
            "        [5., 6.]])\n",
            "tensor([[ 7., 10.],\n",
            "        [ 8., 11.],\n",
            "        [ 9., 12.]])\n"
          ]
        }
      ]
    },
    {
      "cell_type": "code",
      "source": [
        "# now clearly as they both have order of 3x2 and 3x2 , there matrix mul is not possible\n",
        "torch.matmul(tensor_A,tensor_B)"
      ],
      "metadata": {
        "colab": {
          "base_uri": "https://localhost:8080/",
          "height": 158
        },
        "id": "OMeMSp2Q6utI",
        "outputId": "0e055615-b4fb-476d-e151-456c9e6e4b18"
      },
      "execution_count": null,
      "outputs": [
        {
          "output_type": "error",
          "ename": "RuntimeError",
          "evalue": "mat1 and mat2 shapes cannot be multiplied (3x2 and 3x2)",
          "traceback": [
            "\u001b[0;31m---------------------------------------------------------------------------\u001b[0m",
            "\u001b[0;31mRuntimeError\u001b[0m                              Traceback (most recent call last)",
            "\u001b[0;32m<ipython-input-70-252785bc29d0>\u001b[0m in \u001b[0;36m<cell line: 2>\u001b[0;34m()\u001b[0m\n\u001b[1;32m      1\u001b[0m \u001b[0;31m# now clearly as they both have order of 3x2 and 3x2 , there matrix mul is not possible\u001b[0m\u001b[0;34m\u001b[0m\u001b[0;34m\u001b[0m\u001b[0m\n\u001b[0;32m----> 2\u001b[0;31m \u001b[0mtorch\u001b[0m\u001b[0;34m.\u001b[0m\u001b[0mmatmul\u001b[0m\u001b[0;34m(\u001b[0m\u001b[0mtensor_A\u001b[0m\u001b[0;34m,\u001b[0m\u001b[0mtensor_B\u001b[0m\u001b[0;34m)\u001b[0m\u001b[0;34m\u001b[0m\u001b[0;34m\u001b[0m\u001b[0m\n\u001b[0m",
            "\u001b[0;31mRuntimeError\u001b[0m: mat1 and mat2 shapes cannot be multiplied (3x2 and 3x2)"
          ]
        }
      ]
    },
    {
      "cell_type": "code",
      "source": [
        "# so we try to change the order of matrix B , we can do that by taking its transpose\n",
        "# we can do that by 2 methods\n",
        "# torch.transpose(input, dim0, dim1) - where input is the desired tensor to transpose and dim0 and dim1 are the dimensions to be swapped.\n",
        "# tensor.T - where tensor is the desired tensor to transpose."
      ],
      "metadata": {
        "id": "OtMAZG1N7TGT"
      },
      "execution_count": null,
      "outputs": []
    },
    {
      "cell_type": "code",
      "source": [
        "print(tensor_A)\n",
        "print(tensor_B.T)\n",
        "# now these 2 maatrices have order of 3x2 and 2x3 so mat mul is possible ,\n",
        "# and will give us a resulting matrix of order 3x3"
      ],
      "metadata": {
        "colab": {
          "base_uri": "https://localhost:8080/"
        },
        "id": "njLvripg7628",
        "outputId": "b553a484-5d10-4826-b1e5-12c64f7aa33c"
      },
      "execution_count": null,
      "outputs": [
        {
          "output_type": "stream",
          "name": "stdout",
          "text": [
            "tensor([[1., 2.],\n",
            "        [3., 4.],\n",
            "        [5., 6.]])\n",
            "tensor([[ 7.,  8.,  9.],\n",
            "        [10., 11., 12.]])\n"
          ]
        }
      ]
    },
    {
      "cell_type": "code",
      "source": [
        "# mm can also be used instead of matmul\n",
        "output = torch.mm(tensor_A,tensor_B.T)\n",
        "print(output)\n",
        "print(output.shape)"
      ],
      "metadata": {
        "colab": {
          "base_uri": "https://localhost:8080/"
        },
        "id": "K_AGzIVH7-yq",
        "outputId": "80d30cb0-9b29-4258-e8e6-bb61e7ef4fd8"
      },
      "execution_count": null,
      "outputs": [
        {
          "output_type": "stream",
          "name": "stdout",
          "text": [
            "tensor([[ 27.,  30.,  33.],\n",
            "        [ 61.,  68.,  75.],\n",
            "        [ 95., 106., 117.]])\n",
            "torch.Size([3, 3])\n"
          ]
        }
      ]
    },
    {
      "cell_type": "code",
      "source": [
        "# torch.nn.Linear() also called as feed forward layer implements a\n",
        "# matrux multiplication between an input x and a weights matrix A\n",
        "# y=xA.T + b\n",
        "# y is the output\n",
        "# x is the input\n",
        "# A is the wieghts matrix , we are taking its transpose , can be represented by  w also\n",
        "# b is the bias or the offset by which we offset the the weights and input"
      ],
      "metadata": {
        "id": "BggMb-Szm_i2"
      },
      "execution_count": null,
      "outputs": []
    },
    {
      "cell_type": "code",
      "source": [
        "print(tensor_A)\n",
        "tensor_A.shape"
      ],
      "metadata": {
        "colab": {
          "base_uri": "https://localhost:8080/"
        },
        "id": "WxpXi8qHpOw2",
        "outputId": "55ce4fb0-ba5c-4a59-a83b-67460395b0e1"
      },
      "execution_count": null,
      "outputs": [
        {
          "output_type": "stream",
          "name": "stdout",
          "text": [
            "tensor([[1., 2.],\n",
            "        [3., 4.],\n",
            "        [5., 6.]])\n"
          ]
        },
        {
          "output_type": "execute_result",
          "data": {
            "text/plain": [
              "torch.Size([3, 2])"
            ]
          },
          "metadata": {},
          "execution_count": 80
        }
      ]
    },
    {
      "cell_type": "code",
      "source": [
        "# playing with linear layer  torch.nn.Linear()\n",
        "torch.manual_seed(42)\n",
        "# this is basically a matrix multiplication\n",
        "linear = torch.nn.Linear(in_features=2,  #it matches inner dimension of input\n",
        "                         out_features=6) #it describes outer value\n",
        "\n",
        "x=tensor_A\n",
        "# we saw earlier that shape of tensor _A is 3x2 and\n",
        "# so we are multiplying 3x2 with 2x6,\n",
        "# this will give us a 3x6 matrix\n",
        "output = linear(x)\n",
        "print(f\"Input shape: {x.shape}\\n\")\n",
        "print(f\"Output:\\n{output}\\n\\nOutput shape: {output.shape}\")\n",
        "\n",
        "# in features is basically the # of columns of 1st matrix and  # of rows of 2nd matrix , basically the inner dimension of the 2 matrices\n",
        "# and out features is basically the columns of the output matrix, or the columns of the 2nd input matrix"
      ],
      "metadata": {
        "colab": {
          "base_uri": "https://localhost:8080/"
        },
        "id": "SpRBmkfo8Vvc",
        "outputId": "cc880e40-2b08-4ec0-da4b-8fe1c01ddca6"
      },
      "execution_count": null,
      "outputs": [
        {
          "output_type": "stream",
          "name": "stdout",
          "text": [
            "Input shape: torch.Size([3, 2])\n",
            "\n",
            "Output:\n",
            "tensor([[2.2368, 1.2292, 0.4714, 0.3864, 0.1309, 0.9838],\n",
            "        [4.4919, 2.1970, 0.4469, 0.5285, 0.3401, 2.4777],\n",
            "        [6.7469, 3.1648, 0.4224, 0.6705, 0.5493, 3.9716]],\n",
            "       grad_fn=<AddmmBackward0>)\n",
            "\n",
            "Output shape: torch.Size([3, 6])\n"
          ]
        }
      ]
    },
    {
      "cell_type": "code",
      "source": [
        "# playing with linear layer  torch.nn.Linear()\n",
        "torch.manual_seed(42)\n",
        "\n",
        "linear = torch.nn.Linear(in_features=3,\n",
        "                         out_features=5)\n",
        "\n",
        "x=tensor_A.T\n",
        "output = linear(x)\n",
        "print(f\"Input shape: {x.shape}\\n\")\n",
        "print(f\"Output:\\n{output}\\n\\nOutput shape: {output.shape}\")\n"
      ],
      "metadata": {
        "colab": {
          "base_uri": "https://localhost:8080/"
        },
        "id": "d9igQA1CFZEa",
        "outputId": "c706e488-31f3-4d1a-eb2e-ab9caaa803c7"
      },
      "execution_count": null,
      "outputs": [
        {
          "output_type": "stream",
          "name": "stdout",
          "text": [
            "Input shape: torch.Size([2, 3])\n",
            "\n",
            "Output:\n",
            "tensor([[1.1212, 1.1785, 3.3663, 1.3527, 2.2002],\n",
            "        [1.9066, 1.6988, 3.9332, 1.5390, 2.9834]], grad_fn=<AddmmBackward0>)\n",
            "\n",
            "Output shape: torch.Size([2, 5])\n"
          ]
        }
      ]
    },
    {
      "cell_type": "markdown",
      "source": [
        "min,max,mean,sum"
      ],
      "metadata": {
        "id": "7LswFFblGzT7"
      }
    },
    {
      "cell_type": "code",
      "source": [
        "x = torch.arange(start=10, end=100, step=10)\n",
        "x"
      ],
      "metadata": {
        "colab": {
          "base_uri": "https://localhost:8080/"
        },
        "id": "VlEU5tPzGagK",
        "outputId": "8c5c3cda-5b38-4991-f75a-a6d0b75c7f84"
      },
      "execution_count": null,
      "outputs": [
        {
          "output_type": "execute_result",
          "data": {
            "text/plain": [
              "tensor([10, 20, 30, 40, 50, 60, 70, 80, 90])"
            ]
          },
          "metadata": {},
          "execution_count": 85
        }
      ]
    },
    {
      "cell_type": "code",
      "source": [
        "# so there are 2 methods to get these and notice that\n",
        "# for mean we need to pass the type also\n",
        "print(x.min())\n",
        "print(torch.min(x))\n",
        "print(x.max())\n",
        "print(torch.max(x))\n",
        "print(x.sum())\n",
        "print(torch.sum(x))\n",
        "print(x.type(torch.float32).mean())\n",
        "print(torch.mean(x.type(torch.float32)))\n"
      ],
      "metadata": {
        "colab": {
          "base_uri": "https://localhost:8080/"
        },
        "id": "Uo8y7GPdL0VS",
        "outputId": "5a5186c4-2ac0-4f56-c9b1-f48c68eabdcd"
      },
      "execution_count": null,
      "outputs": [
        {
          "output_type": "stream",
          "name": "stdout",
          "text": [
            "tensor(10)\n",
            "tensor(10)\n",
            "tensor(90)\n",
            "tensor(90)\n",
            "tensor(450)\n",
            "tensor(450)\n",
            "tensor(50.)\n",
            "tensor(50.)\n"
          ]
        }
      ]
    },
    {
      "cell_type": "code",
      "source": [
        "# we can also get the index of the min and max value\n",
        "print(x.argmin())\n",
        "print(x.argmax())"
      ],
      "metadata": {
        "colab": {
          "base_uri": "https://localhost:8080/"
        },
        "id": "ctJ9tgZqMR_G",
        "outputId": "8cd58c92-27ef-41c4-dffa-f5caf5c3d8dc"
      },
      "execution_count": null,
      "outputs": [
        {
          "output_type": "stream",
          "name": "stdout",
          "text": [
            "tensor(0)\n",
            "tensor(8)\n"
          ]
        }
      ]
    },
    {
      "cell_type": "code",
      "source": [
        "# changing tensor datatypes\n",
        "x.dtype"
      ],
      "metadata": {
        "colab": {
          "base_uri": "https://localhost:8080/"
        },
        "id": "jn4LAJr8NEXJ",
        "outputId": "5cedf730-cf13-45a3-9b98-2508f50ae249"
      },
      "execution_count": null,
      "outputs": [
        {
          "output_type": "execute_result",
          "data": {
            "text/plain": [
              "torch.int64"
            ]
          },
          "metadata": {},
          "execution_count": 88
        }
      ]
    },
    {
      "cell_type": "code",
      "source": [
        "x_32 = x.type(torch.int32)\n",
        "x_16 = x.type(torch.float16)\n",
        "print(x_32.dtype,x_32)\n",
        "print(x_16.dtype,x_16)"
      ],
      "metadata": {
        "colab": {
          "base_uri": "https://localhost:8080/"
        },
        "id": "c0S4RMRyN9Qv",
        "outputId": "44cddc55-d5bb-4d41-9285-3cfc7d0031c9"
      },
      "execution_count": null,
      "outputs": [
        {
          "output_type": "stream",
          "name": "stdout",
          "text": [
            "torch.int32 tensor([10, 20, 30, 40, 50, 60, 70, 80, 90], dtype=torch.int32)\n",
            "torch.float16 tensor([10., 20., 30., 40., 50., 60., 70., 80., 90.], dtype=torch.float16)\n"
          ]
        }
      ]
    },
    {
      "cell_type": "code",
      "source": [
        "# 10-min-gang\n",
        "x=torch.tensor([[2,3,4,5],[6,7,8,9]])\n",
        "y=x.new_tensor([2,3,5])\n",
        "print(y)\n",
        "print(x)"
      ],
      "metadata": {
        "colab": {
          "base_uri": "https://localhost:8080/"
        },
        "id": "q2-9LOQQOQ1M",
        "outputId": "7c29b399-51b0-43b7-f80f-47fad13470ca"
      },
      "execution_count": null,
      "outputs": [
        {
          "output_type": "stream",
          "name": "stdout",
          "text": [
            "tensor([2, 3, 5])\n",
            "tensor([[2, 3, 4, 5],\n",
            "        [6, 7, 8, 9]])\n"
          ]
        }
      ]
    },
    {
      "cell_type": "code",
      "source": [
        "y=x.new_full(size=(4,3),fill_value=12)\n",
        "y"
      ],
      "metadata": {
        "colab": {
          "base_uri": "https://localhost:8080/"
        },
        "id": "2MTYtvJzTerN",
        "outputId": "01035659-3579-45b9-ee3e-e26fa4eeda5c"
      },
      "execution_count": null,
      "outputs": [
        {
          "output_type": "execute_result",
          "data": {
            "text/plain": [
              "tensor([[12, 12, 12],\n",
              "        [12, 12, 12],\n",
              "        [12, 12, 12],\n",
              "        [12, 12, 12]])"
            ]
          },
          "metadata": {},
          "execution_count": 98
        }
      ]
    },
    {
      "cell_type": "code",
      "source": [
        "y=x.new_empty(size=(4,3))\n",
        "y"
      ],
      "metadata": {
        "colab": {
          "base_uri": "https://localhost:8080/"
        },
        "id": "zE_idRahT_fE",
        "outputId": "20a8ca88-62aa-4524-9e8a-b1f200fa32c6"
      },
      "execution_count": null,
      "outputs": [
        {
          "output_type": "execute_result",
          "data": {
            "text/plain": [
              "tensor([[134145027932208, 134141256709200, 134141256709152],\n",
              "        [134141254549232, 134145025425696, 134141256709728],\n",
              "        [134145024409264, 134141254548976, 134145025425696],\n",
              "        [134141256707184, 134144986827888, 134141251003888]])"
            ]
          },
          "metadata": {},
          "execution_count": 99
        }
      ]
    },
    {
      "cell_type": "code",
      "source": [
        "y=x.new_ones(size=(4,3))\n",
        "y"
      ],
      "metadata": {
        "colab": {
          "base_uri": "https://localhost:8080/"
        },
        "id": "W-f9jpctUTnw",
        "outputId": "a3f457ed-05d8-447c-9647-c811f3b897a9"
      },
      "execution_count": null,
      "outputs": [
        {
          "output_type": "execute_result",
          "data": {
            "text/plain": [
              "tensor([[1, 1, 1],\n",
              "        [1, 1, 1],\n",
              "        [1, 1, 1],\n",
              "        [1, 1, 1]])"
            ]
          },
          "metadata": {},
          "execution_count": 100
        }
      ]
    },
    {
      "cell_type": "code",
      "source": [
        "y=x.new_zeros(size=(4,3))\n",
        "y"
      ],
      "metadata": {
        "colab": {
          "base_uri": "https://localhost:8080/"
        },
        "id": "0Pos0iv5UpOG",
        "outputId": "71f208e8-9127-4815-c001-8c28c3b02306"
      },
      "execution_count": null,
      "outputs": [
        {
          "output_type": "execute_result",
          "data": {
            "text/plain": [
              "tensor([[0, 0, 0],\n",
              "        [0, 0, 0],\n",
              "        [0, 0, 0],\n",
              "        [0, 0, 0]])"
            ]
          },
          "metadata": {},
          "execution_count": 101
        }
      ]
    },
    {
      "cell_type": "code",
      "source": [
        "x.is_cuda\n",
        "# Is True if the Tensor is stored on the GPU, False otherwise."
      ],
      "metadata": {
        "colab": {
          "base_uri": "https://localhost:8080/"
        },
        "id": "3x_umyp-VFp9",
        "outputId": "77ca24e5-d362-40e9-e4d8-c2371ad25a9b"
      },
      "execution_count": null,
      "outputs": [
        {
          "output_type": "execute_result",
          "data": {
            "text/plain": [
              "False"
            ]
          },
          "metadata": {},
          "execution_count": 104
        }
      ]
    },
    {
      "cell_type": "code",
      "source": [
        "x.is_quantized\n",
        "# Quantizing a tensor refers to reducing the precision of its values to make computations more efficient, especially in contexts like deep learning on edge devices or mobile platforms.\n",
        "#  It's commonly used to reduce memory usage and increase computational speed while maintaining acceptable accuracy."
      ],
      "metadata": {
        "colab": {
          "base_uri": "https://localhost:8080/"
        },
        "id": "1B-BYgvKVJC7",
        "outputId": "61b9ccb3-47ba-41da-f515-9d5337745417"
      },
      "execution_count": null,
      "outputs": [
        {
          "output_type": "execute_result",
          "data": {
            "text/plain": [
              "False"
            ]
          },
          "metadata": {},
          "execution_count": 105
        }
      ]
    },
    {
      "cell_type": "code",
      "source": [
        "x.is_meta\n",
        "# Is True if the Tensor is a meta tensor, False otherwise"
      ],
      "metadata": {
        "colab": {
          "base_uri": "https://localhost:8080/"
        },
        "id": "IB9YJFaVVR-8",
        "outputId": "32d8160c-cd37-4f55-8d1f-510a9207abf5"
      },
      "execution_count": null,
      "outputs": [
        {
          "output_type": "execute_result",
          "data": {
            "text/plain": [
              "False"
            ]
          },
          "metadata": {},
          "execution_count": 106
        }
      ]
    },
    {
      "cell_type": "code",
      "source": [
        "# Create a meta tensor\n",
        "meta_tensor = torch.empty(3, 4, device=\"meta\")\n",
        "\n",
        "print(meta_tensor)  # Tensor with shape (3, 4) but no data"
      ],
      "metadata": {
        "colab": {
          "base_uri": "https://localhost:8080/"
        },
        "id": "lN3ry3oCyTnw",
        "outputId": "46d8524f-583b-4fcc-e6dc-3ec1068c625b"
      },
      "execution_count": null,
      "outputs": [
        {
          "output_type": "stream",
          "name": "stdout",
          "text": [
            "tensor(..., device='meta', size=(3, 4))\n"
          ]
        }
      ]
    },
    {
      "cell_type": "code",
      "source": [
        "meta_tensor.is_meta"
      ],
      "metadata": {
        "colab": {
          "base_uri": "https://localhost:8080/"
        },
        "id": "3RUyovTlyaBO",
        "outputId": "673227fa-d027-4473-9d5d-e89cf90b6279"
      },
      "execution_count": null,
      "outputs": [
        {
          "output_type": "execute_result",
          "data": {
            "text/plain": [
              "True"
            ]
          },
          "metadata": {},
          "execution_count": 108
        }
      ]
    },
    {
      "cell_type": "code",
      "source": [
        "x.device"
      ],
      "metadata": {
        "colab": {
          "base_uri": "https://localhost:8080/"
        },
        "id": "rUIYM4Z7VYaf",
        "outputId": "5996f85f-b766-4186-ec93-bb94af1e99fa"
      },
      "execution_count": null,
      "outputs": [
        {
          "output_type": "execute_result",
          "data": {
            "text/plain": [
              "device(type='cpu')"
            ]
          },
          "metadata": {},
          "execution_count": 109
        }
      ]
    },
    {
      "cell_type": "code",
      "source": [
        "x.ndim"
      ],
      "metadata": {
        "colab": {
          "base_uri": "https://localhost:8080/"
        },
        "id": "wDDl1SpqVeLD",
        "outputId": "5984c242-77e5-4bf3-bc82-b0232387c31e"
      },
      "execution_count": null,
      "outputs": [
        {
          "output_type": "execute_result",
          "data": {
            "text/plain": [
              "2"
            ]
          },
          "metadata": {},
          "execution_count": 110
        }
      ]
    },
    {
      "cell_type": "code",
      "source": [
        "x.real"
      ],
      "metadata": {
        "colab": {
          "base_uri": "https://localhost:8080/"
        },
        "id": "DJ3jBth_ViiX",
        "outputId": "80b34e03-5e93-49dd-aa1a-611125181851"
      },
      "execution_count": null,
      "outputs": [
        {
          "output_type": "execute_result",
          "data": {
            "text/plain": [
              "tensor([[2, 3, 4, 5],\n",
              "        [6, 7, 8, 9]])"
            ]
          },
          "metadata": {},
          "execution_count": 111
        }
      ]
    },
    {
      "cell_type": "code",
      "source": [
        "x.imag"
      ],
      "metadata": {
        "colab": {
          "base_uri": "https://localhost:8080/",
          "height": 141
        },
        "id": "tFgN7-_zVxtV",
        "outputId": "0482b8b9-2c06-4146-c85a-d31db368b5f3"
      },
      "execution_count": null,
      "outputs": [
        {
          "output_type": "error",
          "ename": "RuntimeError",
          "evalue": "imag is not implemented for tensors with non-complex dtypes.",
          "traceback": [
            "\u001b[0;31m---------------------------------------------------------------------------\u001b[0m",
            "\u001b[0;31mRuntimeError\u001b[0m                              Traceback (most recent call last)",
            "\u001b[0;32m<ipython-input-112-f2d086c634a9>\u001b[0m in \u001b[0;36m<cell line: 1>\u001b[0;34m()\u001b[0m\n\u001b[0;32m----> 1\u001b[0;31m \u001b[0mx\u001b[0m\u001b[0;34m.\u001b[0m\u001b[0mimag\u001b[0m\u001b[0;34m\u001b[0m\u001b[0;34m\u001b[0m\u001b[0m\n\u001b[0m",
            "\u001b[0;31mRuntimeError\u001b[0m: imag is not implemented for tensors with non-complex dtypes."
          ]
        }
      ]
    },
    {
      "cell_type": "code",
      "source": [
        "x.dtype"
      ],
      "metadata": {
        "colab": {
          "base_uri": "https://localhost:8080/"
        },
        "id": "7P_J2yxyy9_3",
        "outputId": "d2292b63-17f4-4135-cc96-16934ef80089"
      },
      "execution_count": null,
      "outputs": [
        {
          "output_type": "execute_result",
          "data": {
            "text/plain": [
              "torch.int64"
            ]
          },
          "metadata": {},
          "execution_count": 113
        }
      ]
    },
    {
      "cell_type": "code",
      "source": [
        "x.nbytes"
      ],
      "metadata": {
        "colab": {
          "base_uri": "https://localhost:8080/"
        },
        "id": "YjMh2y2fVy5s",
        "outputId": "c2a66752-ff0c-4740-ef94-700b23f41fef"
      },
      "execution_count": null,
      "outputs": [
        {
          "output_type": "execute_result",
          "data": {
            "text/plain": [
              "64"
            ]
          },
          "metadata": {},
          "execution_count": 114
        }
      ]
    },
    {
      "cell_type": "code",
      "source": [
        "x.abs()"
      ],
      "metadata": {
        "colab": {
          "base_uri": "https://localhost:8080/"
        },
        "id": "YTpPingzV3BH",
        "outputId": "40739352-1927-442f-9e22-7422e3505e2b"
      },
      "execution_count": null,
      "outputs": [
        {
          "output_type": "execute_result",
          "data": {
            "text/plain": [
              "tensor([[2, 3, 4, 5],\n",
              "        [6, 7, 8, 9]])"
            ]
          },
          "metadata": {},
          "execution_count": 115
        }
      ]
    },
    {
      "cell_type": "code",
      "source": [
        "# a little about autograd\n",
        "x = torch.tensor([[1., -1.], [1., 1.]], requires_grad=True)\n",
        "out = x.pow(2).sum()\n",
        "out.backward()   # To compute gradients, you call .backward() on a scalar tensor (usually a loss function).\n",
        "# here out is of the form x^2 , so on diff wrt x we get , 2x\n",
        "# so on calling x.grad we get 2x\n",
        "x.grad"
      ],
      "metadata": {
        "colab": {
          "base_uri": "https://localhost:8080/"
        },
        "id": "Ag4Pw2nsu34P",
        "outputId": "bdf4d677-f873-41ab-fc59-58d631b3afd7"
      },
      "execution_count": null,
      "outputs": [
        {
          "output_type": "execute_result",
          "data": {
            "text/plain": [
              "tensor([[ 2., -2.],\n",
              "        [ 2.,  2.]])"
            ]
          },
          "metadata": {},
          "execution_count": 91
        }
      ]
    },
    {
      "cell_type": "code",
      "source": [
        "# another example\n",
        "\n",
        "# Define a tensor with gradient tracking\n",
        "x = torch.tensor(2.0, requires_grad=True)\n",
        "\n",
        "# Perform operations (forward pass)\n",
        "y = x ** 2 + 3 * x\n",
        "\n",
        "# Compute gradients (backward pass)\n",
        "y.backward()\n",
        "\n",
        "# Gradient of y with respect to x\n",
        "print(x.grad)  # dy/dx = 2*x + 3 = 2*2 + 3 = 7\n"
      ],
      "metadata": {
        "colab": {
          "base_uri": "https://localhost:8080/"
        },
        "id": "965dtGF_v1tg",
        "outputId": "5bd52f5d-21ae-4de2-f6d7-ced3d6ee8ff3"
      },
      "execution_count": null,
      "outputs": [
        {
          "output_type": "stream",
          "name": "stdout",
          "text": [
            "tensor(7.)\n"
          ]
        }
      ]
    },
    {
      "cell_type": "markdown",
      "source": [
        "reshaping,stacking,squeezing and unsqueezing"
      ],
      "metadata": {
        "id": "D5TNl7xOmj1a"
      }
    },
    {
      "cell_type": "code",
      "source": [
        "x=torch.arange(1.,8.)\n",
        "x, x.shape ,x.ndim"
      ],
      "metadata": {
        "colab": {
          "base_uri": "https://localhost:8080/"
        },
        "id": "IuaA0eXdmpCG",
        "outputId": "5b7236a9-6dc5-4245-ec1a-4a0c04dba28a"
      },
      "execution_count": null,
      "outputs": [
        {
          "output_type": "execute_result",
          "data": {
            "text/plain": [
              "(tensor([1., 2., 3., 4., 5., 6., 7.]), torch.Size([7]), 1)"
            ]
          },
          "metadata": {},
          "execution_count": 116
        }
      ]
    },
    {
      "cell_type": "code",
      "source": [
        "# reshaping\n",
        "# adding a dimension\n",
        "x_reshaped = x.reshape(1,7)\n",
        "x_reshaped, x_reshaped.shape, x_reshaped.ndim"
      ],
      "metadata": {
        "colab": {
          "base_uri": "https://localhost:8080/"
        },
        "id": "1-DgSNA1mywv",
        "outputId": "8b71ddf4-956e-448b-958d-bf359f0ea0b8"
      },
      "execution_count": null,
      "outputs": [
        {
          "output_type": "execute_result",
          "data": {
            "text/plain": [
              "(tensor([[1., 2., 3., 4., 5., 6., 7.]]), torch.Size([1, 7]), 2)"
            ]
          },
          "metadata": {},
          "execution_count": 117
        }
      ]
    },
    {
      "cell_type": "code",
      "source": [
        "# removing a dimension\n",
        "x_reshaped_2 = x_reshaped.reshape(7)\n",
        "x_reshaped_2, x_reshaped_2.shape, x_reshaped_2.ndim"
      ],
      "metadata": {
        "colab": {
          "base_uri": "https://localhost:8080/"
        },
        "id": "aRVL6DIo0s4h",
        "outputId": "68278ed9-158c-443e-e945-7304e60eaba2"
      },
      "execution_count": null,
      "outputs": [
        {
          "output_type": "execute_result",
          "data": {
            "text/plain": [
              "(tensor([1., 2., 3., 4., 5., 6., 7.]), torch.Size([7]), 1)"
            ]
          },
          "metadata": {},
          "execution_count": 123
        }
      ]
    },
    {
      "cell_type": "code",
      "source": [
        "# torch.view()\n",
        "z=x.view(1,7)\n",
        "z"
      ],
      "metadata": {
        "colab": {
          "base_uri": "https://localhost:8080/"
        },
        "id": "rrERXNjOoUSG",
        "outputId": "17402692-d2e0-4f28-968d-2af1fe77d3c3"
      },
      "execution_count": null,
      "outputs": [
        {
          "output_type": "execute_result",
          "data": {
            "text/plain": [
              "tensor([[1., 2., 3., 4., 5., 6., 7.]])"
            ]
          },
          "metadata": {},
          "execution_count": 124
        }
      ]
    },
    {
      "cell_type": "code",
      "source": [
        "z[:,0] = 5\n",
        "z,x"
      ],
      "metadata": {
        "colab": {
          "base_uri": "https://localhost:8080/"
        },
        "id": "HLGJvpQ1pHfB",
        "outputId": "811c8011-77d1-4b48-9551-27da9412439b"
      },
      "execution_count": null,
      "outputs": [
        {
          "output_type": "execute_result",
          "data": {
            "text/plain": [
              "(tensor([[5., 2., 3., 4., 5., 6., 7.]]), tensor([5., 2., 3., 4., 5., 6., 7.]))"
            ]
          },
          "metadata": {},
          "execution_count": 125
        }
      ]
    },
    {
      "cell_type": "code",
      "source": [
        "print(x.shape, x.ndim)"
      ],
      "metadata": {
        "colab": {
          "base_uri": "https://localhost:8080/"
        },
        "id": "V9mAaNv2qo-k",
        "outputId": "7a45fdbb-a56b-4b7e-8ac9-f4783099506c"
      },
      "execution_count": null,
      "outputs": [
        {
          "output_type": "stream",
          "name": "stdout",
          "text": [
            "torch.Size([7]) 1\n"
          ]
        }
      ]
    },
    {
      "cell_type": "code",
      "source": [
        "x=torch.arange(1.,8.)"
      ],
      "metadata": {
        "id": "srUnqQ588jaR"
      },
      "execution_count": null,
      "outputs": []
    },
    {
      "cell_type": "code",
      "source": [
        "# stacking tensors on top of each other\n",
        "x_stack = torch.stack([x,x,x,x], dim = 0)\n",
        "\n",
        "print(x_stack, x_stack.shape, x_stack.ndim)\n",
        "\n",
        "# if we put dim = 0, it stacks the tensors horizontally"
      ],
      "metadata": {
        "colab": {
          "base_uri": "https://localhost:8080/"
        },
        "id": "XI2Ph7hYpJ4O",
        "outputId": "9ee8858a-541f-43ba-e830-f2e987f44b70"
      },
      "execution_count": null,
      "outputs": [
        {
          "output_type": "stream",
          "name": "stdout",
          "text": [
            "tensor([[1., 2., 3., 4., 5., 6., 7.],\n",
            "        [1., 2., 3., 4., 5., 6., 7.],\n",
            "        [1., 2., 3., 4., 5., 6., 7.],\n",
            "        [1., 2., 3., 4., 5., 6., 7.]]) torch.Size([4, 7]) 2\n"
          ]
        }
      ]
    },
    {
      "cell_type": "code",
      "source": [
        "x_stack = torch.stack([x,x,x,x], dim = 1)\n",
        "\n",
        "print(x_stack, x_stack.shape, x_stack.ndim)\n",
        "# if we put dim = 1 , it stacks the tensors vertically"
      ],
      "metadata": {
        "colab": {
          "base_uri": "https://localhost:8080/"
        },
        "id": "pHNi_q5NqOW_",
        "outputId": "d7b9689e-eac2-4896-dbe5-f5eed8e6502b"
      },
      "execution_count": null,
      "outputs": [
        {
          "output_type": "stream",
          "name": "stdout",
          "text": [
            "tensor([[1., 1., 1., 1.],\n",
            "        [2., 2., 2., 2.],\n",
            "        [3., 3., 3., 3.],\n",
            "        [4., 4., 4., 4.],\n",
            "        [5., 5., 5., 5.],\n",
            "        [6., 6., 6., 6.],\n",
            "        [7., 7., 7., 7.]]) torch.Size([7, 4]) 2\n"
          ]
        }
      ]
    },
    {
      "cell_type": "code",
      "source": [
        "# squeezing and unsqeezing\n",
        "\n",
        "# we can do squeezing to remove all 1 dimensions from a tensor\n",
        "\n",
        "print(x_reshaped, x_reshaped.ndim, x_reshaped.shape)"
      ],
      "metadata": {
        "colab": {
          "base_uri": "https://localhost:8080/"
        },
        "id": "Pt68baUZsaj9",
        "outputId": "2ea456bd-0369-4f62-f672-30f50998424a"
      },
      "execution_count": null,
      "outputs": [
        {
          "output_type": "stream",
          "name": "stdout",
          "text": [
            "tensor([[5., 2., 3., 4., 5., 6., 7.]]) 2 torch.Size([1, 7])\n"
          ]
        }
      ]
    },
    {
      "cell_type": "code",
      "source": [
        "x_squeezed = x_reshaped.squeeze()\n",
        "\n",
        "print(x_squeezed, x_squeezed.ndim, x_squeezed.shape)"
      ],
      "metadata": {
        "colab": {
          "base_uri": "https://localhost:8080/"
        },
        "id": "zyX7YktBvdAq",
        "outputId": "d9c4ef47-10ba-4a55-e8fb-14442c80ca90"
      },
      "execution_count": null,
      "outputs": [
        {
          "output_type": "stream",
          "name": "stdout",
          "text": [
            "tensor([5., 2., 3., 4., 5., 6., 7.]) 1 torch.Size([7])\n"
          ]
        }
      ]
    },
    {
      "cell_type": "code",
      "source": [
        "# we can also add a dimension by using unsqueezed\n",
        "x_unsqueezed = x_squeezed.unsqueeze(dim=0)\n",
        "print(x_unsqueezed, x_unsqueezed.ndim, x_unsqueezed.shape)"
      ],
      "metadata": {
        "colab": {
          "base_uri": "https://localhost:8080/"
        },
        "id": "Zs4NSt5LvtZP",
        "outputId": "85c1fd7b-c2e7-4a9d-82d9-6537b1953e20"
      },
      "execution_count": null,
      "outputs": [
        {
          "output_type": "stream",
          "name": "stdout",
          "text": [
            "tensor([[5., 2., 3., 4., 5., 6., 7.]]) 2 torch.Size([1, 7])\n"
          ]
        }
      ]
    },
    {
      "cell_type": "code",
      "source": [
        "x_unsqueezed = x_squeezed.unsqueeze(dim=1)\n",
        "print(x_unsqueezed, x_unsqueezed.ndim, x_unsqueezed.shape)"
      ],
      "metadata": {
        "colab": {
          "base_uri": "https://localhost:8080/"
        },
        "id": "ycHPP-Tav7Y6",
        "outputId": "b54b7062-50b6-4969-c984-3807a8ff8a35"
      },
      "execution_count": null,
      "outputs": [
        {
          "output_type": "stream",
          "name": "stdout",
          "text": [
            "tensor([[5.],\n",
            "        [2.],\n",
            "        [3.],\n",
            "        [4.],\n",
            "        [5.],\n",
            "        [6.],\n",
            "        [7.]]) 2 torch.Size([7, 1])\n"
          ]
        }
      ]
    },
    {
      "cell_type": "code",
      "source": [
        "# we can also rearrange the shape with the help of permute\n",
        "x=torch.rand(size=(220,221,222))\n",
        "print(x.shape)\n",
        "\n",
        "x_permute= x.permute(1,2,0)\n",
        "print(x_permute.shape)\n",
        "\n",
        "# this just shifts axis so now , 0-->1 , 1-->2 , 2-->0\n",
        "# this works just lile view , so if you make changes in x_permute\n",
        "# similar changes will reflect in x"
      ],
      "metadata": {
        "colab": {
          "base_uri": "https://localhost:8080/"
        },
        "id": "g_hpY_ODwJbt",
        "outputId": "779d39e7-0ec9-4f18-da79-711f4e320108"
      },
      "execution_count": null,
      "outputs": [
        {
          "output_type": "stream",
          "name": "stdout",
          "text": [
            "torch.Size([220, 221, 222])\n",
            "torch.Size([221, 222, 220])\n"
          ]
        }
      ]
    },
    {
      "cell_type": "code",
      "source": [
        "# INDEXING\n",
        "x=torch.arange(1,10).reshape(1,3,3)\n",
        "x,x.shape"
      ],
      "metadata": {
        "colab": {
          "base_uri": "https://localhost:8080/"
        },
        "id": "qrLZZDE4xaY6",
        "outputId": "0812c72d-fbf4-460d-eeaf-bcc43d438da0"
      },
      "execution_count": null,
      "outputs": [
        {
          "output_type": "execute_result",
          "data": {
            "text/plain": [
              "(tensor([[[1, 2, 3],\n",
              "          [4, 5, 6],\n",
              "          [7, 8, 9]]]),\n",
              " torch.Size([1, 3, 3]))"
            ]
          },
          "metadata": {},
          "execution_count": 136
        }
      ]
    },
    {
      "cell_type": "code",
      "source": [
        "x[0][0][0]"
      ],
      "metadata": {
        "colab": {
          "base_uri": "https://localhost:8080/"
        },
        "id": "w8wv9WI4ySAK",
        "outputId": "17321b5a-0703-411b-a548-c5f8d9974914"
      },
      "execution_count": null,
      "outputs": [
        {
          "output_type": "execute_result",
          "data": {
            "text/plain": [
              "tensor(1)"
            ]
          },
          "metadata": {},
          "execution_count": 137
        }
      ]
    },
    {
      "cell_type": "code",
      "source": [
        "x[0][1][0]"
      ],
      "metadata": {
        "colab": {
          "base_uri": "https://localhost:8080/"
        },
        "id": "GiYrtML2yUrY",
        "outputId": "716a5a12-626c-4296-957f-3459fcaadcab"
      },
      "execution_count": null,
      "outputs": [
        {
          "output_type": "execute_result",
          "data": {
            "text/plain": [
              "tensor(4)"
            ]
          },
          "metadata": {},
          "execution_count": 138
        }
      ]
    },
    {
      "cell_type": "code",
      "source": [
        "x[0,:,2]  #3rd column"
      ],
      "metadata": {
        "colab": {
          "base_uri": "https://localhost:8080/"
        },
        "id": "dnqKWuHTyYTK",
        "outputId": "04302270-5734-44c7-a5ba-d148e3bb2a77"
      },
      "execution_count": null,
      "outputs": [
        {
          "output_type": "execute_result",
          "data": {
            "text/plain": [
              "tensor([3, 6, 9])"
            ]
          },
          "metadata": {},
          "execution_count": 139
        }
      ]
    },
    {
      "cell_type": "code",
      "source": [
        "x[0][1] # 2nd row"
      ],
      "metadata": {
        "colab": {
          "base_uri": "https://localhost:8080/"
        },
        "id": "kq_kACAWybmI",
        "outputId": "a1be2325-b161-440e-cfd3-0b077360d3e5"
      },
      "execution_count": null,
      "outputs": [
        {
          "output_type": "execute_result",
          "data": {
            "text/plain": [
              "tensor([4, 5, 6])"
            ]
          },
          "metadata": {},
          "execution_count": 140
        }
      ]
    },
    {
      "cell_type": "code",
      "source": [
        "import numpy as np"
      ],
      "metadata": {
        "id": "5ocgiZls0E2S"
      },
      "execution_count": null,
      "outputs": []
    },
    {
      "cell_type": "code",
      "source": [
        "# pytorch tensors and numpy , we can convert them form one form to another\n",
        "# numpy to pytorch tensor\n",
        "array = np.arange(1.0,8.0)\n",
        "tensor = torch.from_numpy(array).type(torch.float32)\n",
        "array, array.dtype,tensor, tensor.dtype"
      ],
      "metadata": {
        "colab": {
          "base_uri": "https://localhost:8080/"
        },
        "id": "quOSL_X3ypEU",
        "outputId": "e69ec2a2-773a-489d-9ec4-b6535b9eb51c"
      },
      "execution_count": null,
      "outputs": [
        {
          "output_type": "execute_result",
          "data": {
            "text/plain": [
              "(array([1., 2., 3., 4., 5., 6., 7.]),\n",
              " dtype('float64'),\n",
              " tensor([1., 2., 3., 4., 5., 6., 7.]),\n",
              " torch.float32)"
            ]
          },
          "metadata": {},
          "execution_count": 142
        }
      ]
    },
    {
      "cell_type": "code",
      "source": [
        "# from tensor to numpy\n",
        "x = torch.ones(7)\n",
        "my_array = x.numpy()\n",
        "\n",
        "x,my_array\n"
      ],
      "metadata": {
        "colab": {
          "base_uri": "https://localhost:8080/"
        },
        "id": "3OpjWeaz0Qtk",
        "outputId": "a4785dc6-765d-4a38-c38b-85851d257bf5"
      },
      "execution_count": null,
      "outputs": [
        {
          "output_type": "execute_result",
          "data": {
            "text/plain": [
              "(tensor([1., 1., 1., 1., 1., 1., 1.]),\n",
              " array([1., 1., 1., 1., 1., 1., 1.], dtype=float32))"
            ]
          },
          "metadata": {},
          "execution_count": 144
        }
      ]
    },
    {
      "cell_type": "markdown",
      "source": [
        "Reproducibility , we set a manual seed to limit the randomness or give it a flavor"
      ],
      "metadata": {
        "id": "-m_51OAZB-FH"
      }
    },
    {
      "cell_type": "code",
      "source": [
        "tensor_A = torch.rand(3,4)\n",
        "tensor_B = torch.rand(3,4)\n",
        "print(tensor_A)\n",
        "print(tensor_B)\n",
        "print(tensor_A == tensor_B)"
      ],
      "metadata": {
        "colab": {
          "base_uri": "https://localhost:8080/"
        },
        "id": "YvK5KWhu0j3d",
        "outputId": "b5b53854-6078-478b-d76c-66394f17d161"
      },
      "execution_count": null,
      "outputs": [
        {
          "output_type": "stream",
          "name": "stdout",
          "text": [
            "tensor([[0.2045, 0.4096, 0.7911, 0.3289],\n",
            "        [0.8452, 0.9631, 0.8412, 0.9319],\n",
            "        [0.2626, 0.6265, 0.2968, 0.0763]])\n",
            "tensor([[0.5386, 0.2221, 0.1170, 0.7985],\n",
            "        [0.6773, 0.1425, 0.1513, 0.6256],\n",
            "        [0.9912, 0.3122, 0.8270, 0.5236]])\n",
            "tensor([[False, False, False, False],\n",
            "        [False, False, False, False],\n",
            "        [False, False, False, False]])\n"
          ]
        }
      ]
    },
    {
      "cell_type": "code",
      "source": [
        "RANDOM_SEED=42\n",
        "\n",
        "torch.manual_seed(seed=RANDOM_SEED)\n",
        "tensor_A = torch.rand(3,4)\n",
        "torch.manual_seed(seed=RANDOM_SEED)\n",
        "tensor_B = torch.rand(3,4)\n",
        "print(tensor_A)\n",
        "print(tensor_B)\n",
        "print(tensor_A == tensor_B)"
      ],
      "metadata": {
        "colab": {
          "base_uri": "https://localhost:8080/"
        },
        "id": "_ULj0JSZCU26",
        "outputId": "48946c65-c553-4356-da90-27bc412ae340"
      },
      "execution_count": null,
      "outputs": [
        {
          "output_type": "stream",
          "name": "stdout",
          "text": [
            "tensor([[0.8823, 0.9150, 0.3829, 0.9593],\n",
            "        [0.3904, 0.6009, 0.2566, 0.7936],\n",
            "        [0.9408, 0.1332, 0.9346, 0.5936]])\n",
            "tensor([[0.8823, 0.9150, 0.3829, 0.9593],\n",
            "        [0.3904, 0.6009, 0.2566, 0.7936],\n",
            "        [0.9408, 0.1332, 0.9346, 0.5936]])\n",
            "tensor([[True, True, True, True],\n",
            "        [True, True, True, True],\n",
            "        [True, True, True, True]])\n"
          ]
        }
      ]
    },
    {
      "cell_type": "code",
      "source": [
        "!nvidia-smi"
      ],
      "metadata": {
        "colab": {
          "base_uri": "https://localhost:8080/"
        },
        "id": "ZWbdpoJGCoZg",
        "outputId": "ed702f36-5454-4ab5-a0b6-0dda48d5ec4d"
      },
      "execution_count": null,
      "outputs": [
        {
          "output_type": "stream",
          "name": "stdout",
          "text": [
            "/bin/bash: line 1: nvidia-smi: command not found\n"
          ]
        }
      ]
    },
    {
      "cell_type": "code",
      "source": [
        "lspci | grep VGA"
      ],
      "metadata": {
        "colab": {
          "base_uri": "https://localhost:8080/",
          "height": 106
        },
        "id": "0nvl8fpkD5xb",
        "outputId": "bf99465d-5748-4095-ff70-ee3d7705f2d8"
      },
      "execution_count": null,
      "outputs": [
        {
          "output_type": "error",
          "ename": "SyntaxError",
          "evalue": "invalid syntax (<ipython-input-168-0653cb4dd97f>, line 1)",
          "traceback": [
            "\u001b[0;36m  File \u001b[0;32m\"<ipython-input-168-0653cb4dd97f>\"\u001b[0;36m, line \u001b[0;32m1\u001b[0m\n\u001b[0;31m    lspci | grep VGA\u001b[0m\n\u001b[0m                 ^\u001b[0m\n\u001b[0;31mSyntaxError\u001b[0m\u001b[0;31m:\u001b[0m invalid syntax\n"
          ]
        }
      ]
    },
    {
      "cell_type": "code",
      "source": [
        "torch.cuda.is_avaialble()"
      ],
      "metadata": {
        "colab": {
          "base_uri": "https://localhost:8080/",
          "height": 141
        },
        "id": "rJkxKdwhS82g",
        "outputId": "87ca77bc-7256-4788-ab92-b43df8068928"
      },
      "execution_count": null,
      "outputs": [
        {
          "output_type": "error",
          "ename": "AttributeError",
          "evalue": "module 'torch.cuda' has no attribute 'is_avaialble'",
          "traceback": [
            "\u001b[0;31m---------------------------------------------------------------------------\u001b[0m",
            "\u001b[0;31mAttributeError\u001b[0m                            Traceback (most recent call last)",
            "\u001b[0;32m<ipython-input-4-aec5664ae248>\u001b[0m in \u001b[0;36m<cell line: 1>\u001b[0;34m()\u001b[0m\n\u001b[0;32m----> 1\u001b[0;31m \u001b[0mtorch\u001b[0m\u001b[0;34m.\u001b[0m\u001b[0mcuda\u001b[0m\u001b[0;34m.\u001b[0m\u001b[0mis_avaialble\u001b[0m\u001b[0;34m(\u001b[0m\u001b[0;34m)\u001b[0m\u001b[0;34m\u001b[0m\u001b[0;34m\u001b[0m\u001b[0m\n\u001b[0m",
            "\u001b[0;31mAttributeError\u001b[0m: module 'torch.cuda' has no attribute 'is_avaialble'"
          ]
        }
      ]
    },
    {
      "cell_type": "code",
      "source": [
        "# Set device type\n",
        "device = \"cuda\" if torch.cuda.is_available() else \"cpu\"\n",
        "device"
      ],
      "metadata": {
        "colab": {
          "base_uri": "https://localhost:8080/",
          "height": 35
        },
        "id": "Sv5hiVhcYCll",
        "outputId": "4c56ada7-f79a-47bf-c8ff-e3401b91badd"
      },
      "execution_count": null,
      "outputs": [
        {
          "output_type": "execute_result",
          "data": {
            "text/plain": [
              "'cpu'"
            ],
            "application/vnd.google.colaboratory.intrinsic+json": {
              "type": "string"
            }
          },
          "metadata": {},
          "execution_count": 148
        }
      ]
    },
    {
      "cell_type": "code",
      "source": [
        "# Create tensor (default on CPU)\n",
        "tensor = torch.tensor([1, 2, 3])\n",
        "\n",
        "# Tensor not on GPU\n",
        "print(tensor, tensor.device)\n",
        "\n",
        "# Move tensor to GPU (if available)\n",
        "tensor_on_gpu = tensor.to(device)\n",
        "print(tensor_on_gpu, tensor_on_gpu.device)"
      ],
      "metadata": {
        "colab": {
          "base_uri": "https://localhost:8080/"
        },
        "id": "3_SaI6Z5YYbL",
        "outputId": "919abb74-5d23-428f-e0de-26a29aba7268"
      },
      "execution_count": null,
      "outputs": [
        {
          "output_type": "stream",
          "name": "stdout",
          "text": [
            "tensor([1, 2, 3]) cpu\n",
            "tensor([1, 2, 3]) cpu\n"
          ]
        }
      ]
    },
    {
      "cell_type": "code",
      "source": [
        "# moving back to cpu\n",
        "# tensor_name.cpu().any_operation\n",
        "# eg  tensor_name.cpu().numpy()\n",
        "# as numpy arrays dont work on gpu tensors"
      ],
      "metadata": {
        "id": "0udTU4ieYrNI"
      },
      "execution_count": null,
      "outputs": []
    },
    {
      "cell_type": "markdown",
      "source": [
        "# **EXERCISES**"
      ],
      "metadata": {
        "id": "4hfJUgPtZQ_q"
      }
    },
    {
      "cell_type": "code",
      "source": [
        "# 2\n",
        "my_tensor = torch.rand(size=(7,7))\n",
        "my_tensor"
      ],
      "metadata": {
        "colab": {
          "base_uri": "https://localhost:8080/"
        },
        "id": "ASl_chH_ZTp6",
        "outputId": "94313b78-5580-4ebf-fb8c-588a5aaa43a1"
      },
      "execution_count": null,
      "outputs": [
        {
          "output_type": "execute_result",
          "data": {
            "text/plain": [
              "tensor([[0.4742, 0.3583, 0.7055, 0.6613, 0.1568, 0.8996, 0.8749],\n",
              "        [0.3203, 0.2300, 0.2886, 0.3450, 0.6449, 0.4961, 0.3373],\n",
              "        [0.0683, 0.9873, 0.7637, 0.5431, 0.0268, 0.6475, 0.5900],\n",
              "        [0.9524, 0.3917, 0.9342, 0.5656, 0.0705, 0.6009, 0.6590],\n",
              "        [0.6150, 0.0784, 0.1582, 0.4858, 0.3408, 0.3651, 0.0048],\n",
              "        [0.6004, 0.6545, 0.9008, 0.9215, 0.3718, 0.7380, 0.6952],\n",
              "        [0.9436, 0.1409, 0.8321, 0.5733, 0.8042, 0.9258, 0.3363]])"
            ]
          },
          "metadata": {},
          "execution_count": 9
        }
      ]
    },
    {
      "cell_type": "code",
      "source": [
        "my_tensor_2 = torch.rand(size=(1,7))\n",
        "# to do mat mul we have 7x7 and 1x7 , so we will have to take transpose of the second matrix\n",
        "# we will get 7x7 and 7x1 , to give us a resulting matrix of order 7x1\n",
        "mul = torch.matmul(my_tensor, my_tensor_2.T)\n",
        "mul, mul.shape"
      ],
      "metadata": {
        "colab": {
          "base_uri": "https://localhost:8080/"
        },
        "id": "3LFthEeFadJP",
        "outputId": "f7d5e3a8-e21d-473d-9512-e3e784f98f95"
      },
      "execution_count": null,
      "outputs": [
        {
          "output_type": "execute_result",
          "data": {
            "text/plain": [
              "(tensor([[1.7519],\n",
              "         [1.0899],\n",
              "         [1.3220],\n",
              "         [1.4455],\n",
              "         [0.6422],\n",
              "         [1.8220],\n",
              "         [1.5905]]),\n",
              " torch.Size([7, 1]))"
            ]
          },
          "metadata": {},
          "execution_count": 11
        }
      ]
    },
    {
      "cell_type": "code",
      "source": [
        "RANDOM_SEED = 0\n",
        "torch.manual_seed(seed=RANDOM_SEED)\n",
        "my_tensor = torch.rand(size=(7,7))\n",
        "torch.manual_seed(seed=RANDOM_SEED)\n",
        "my_tensor_2 = torch.rand(size=(1,7))\n",
        "mul = torch.matmul(my_tensor, my_tensor_2.T)\n",
        "mul, mul.shape"
      ],
      "metadata": {
        "colab": {
          "base_uri": "https://localhost:8080/"
        },
        "id": "mpiDTVSVa2Ca",
        "outputId": "218693e6-353c-4923-c3f4-4b40330cff2e"
      },
      "execution_count": null,
      "outputs": [
        {
          "output_type": "execute_result",
          "data": {
            "text/plain": [
              "(tensor([[1.5985],\n",
              "         [1.1173],\n",
              "         [1.2741],\n",
              "         [1.6838],\n",
              "         [0.8279],\n",
              "         [1.0347],\n",
              "         [1.2498]]),\n",
              " torch.Size([7, 1]))"
            ]
          },
          "metadata": {},
          "execution_count": 152
        }
      ]
    },
    {
      "cell_type": "code",
      "source": [
        "RANDOM_SEED = 1234\n",
        "torch.cuda.manual_seed(seed=RANDOM_SEED)\n",
        "my_tensor = torch.rand(size=(2,3)).to(device)\n",
        "torch.cuda.manual_seed(seed=RANDOM_SEED)\n",
        "my_tensor_2 = torch.rand(size=(2,3)).to(device)\n",
        "mul = torch.matmul(my_tensor, my_tensor_2.T)\n",
        "mul, mul.shape"
      ],
      "metadata": {
        "colab": {
          "base_uri": "https://localhost:8080/"
        },
        "id": "NNEFTDfBq7Gn",
        "outputId": "ec43ef73-69cb-4fb8-904d-604c38b1cb1b"
      },
      "execution_count": null,
      "outputs": [
        {
          "output_type": "execute_result",
          "data": {
            "text/plain": [
              "(tensor([[0.8386, 0.5860],\n",
              "         [1.0676, 0.5279]]),\n",
              " torch.Size([2, 2]))"
            ]
          },
          "metadata": {},
          "execution_count": 154
        }
      ]
    },
    {
      "cell_type": "code",
      "source": [
        "print(mul.min())\n",
        "print(mul.max())"
      ],
      "metadata": {
        "colab": {
          "base_uri": "https://localhost:8080/"
        },
        "id": "iw4paJAhrisu",
        "outputId": "82c094de-e556-4ce5-98b0-b4ec5ba356f3"
      },
      "execution_count": null,
      "outputs": [
        {
          "output_type": "stream",
          "name": "stdout",
          "text": [
            "tensor(0.2161)\n",
            "tensor(0.6287)\n"
          ]
        }
      ]
    },
    {
      "cell_type": "code",
      "source": [
        "print(mul.argmin())\n",
        "print(mul.argmax())"
      ],
      "metadata": {
        "colab": {
          "base_uri": "https://localhost:8080/"
        },
        "id": "FwFBGtbcr06B",
        "outputId": "8e613634-ce55-48c3-90b1-79b9454528f4"
      },
      "execution_count": null,
      "outputs": [
        {
          "output_type": "stream",
          "name": "stdout",
          "text": [
            "tensor(1)\n",
            "tensor(3)\n"
          ]
        }
      ]
    },
    {
      "cell_type": "code",
      "source": [
        "RANDOM_SEED = 7\n",
        "torch.manual_seed(seed=RANDOM_SEED)\n",
        "\n",
        "new_tensor = torch.rand(size=(1,1,1,10))\n",
        "print(new_tensor, new_tensor.shape)\n",
        "\n",
        "new_tensor_squeezed = new_tensor.squeeze()\n",
        "print(new_tensor_squeezed,new_tensor_squeezed.shape)"
      ],
      "metadata": {
        "colab": {
          "base_uri": "https://localhost:8080/"
        },
        "id": "_doyImJhr_Zc",
        "outputId": "650a5780-f114-4a3a-88c8-79570af305ea"
      },
      "execution_count": null,
      "outputs": [
        {
          "output_type": "stream",
          "name": "stdout",
          "text": [
            "tensor([[[[0.5349, 0.1988, 0.6592, 0.6569, 0.2328, 0.4251, 0.2071, 0.6297,\n",
            "           0.3653, 0.8513]]]]) torch.Size([1, 1, 1, 10])\n",
            "tensor([0.5349, 0.1988, 0.6592, 0.6569, 0.2328, 0.4251, 0.2071, 0.6297, 0.3653,\n",
            "        0.8513]) torch.Size([10])\n"
          ]
        }
      ]
    },
    {
      "cell_type": "code",
      "source": [],
      "metadata": {
        "id": "dlQVThrNslmQ"
      },
      "execution_count": null,
      "outputs": []
    }
  ]
}