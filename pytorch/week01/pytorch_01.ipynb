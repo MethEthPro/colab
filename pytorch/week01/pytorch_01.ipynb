{
  "nbformat": 4,
  "nbformat_minor": 0,
  "metadata": {
    "colab": {
      "provenance": [],
      "authorship_tag": "ABX9TyNKPi94vGmpZta+SDDifP5B",
      "include_colab_link": true
    },
    "kernelspec": {
      "name": "python3",
      "display_name": "Python 3"
    },
    "language_info": {
      "name": "python"
    }
  },
  "cells": [
    {
      "cell_type": "markdown",
      "metadata": {
        "id": "view-in-github",
        "colab_type": "text"
      },
      "source": [
        "<a href=\"https://colab.research.google.com/github/MethEthPro/colab/blob/main/pytorch/week01/pytorch_01.ipynb\" target=\"_parent\"><img src=\"https://colab.research.google.com/assets/colab-badge.svg\" alt=\"Open In Colab\"/></a>"
      ]
    },
    {
      "cell_type": "code",
      "execution_count": 25,
      "metadata": {
        "id": "M-8OBvZem03B"
      },
      "outputs": [],
      "source": [
        "what_were_covering = {1: \"data (prepare and load)\",\n",
        "    2: \"build model\",\n",
        "    3: \"fitting the model to data (training)\",\n",
        "    4: \"making predictions and evaluating a model (inference)\",\n",
        "    5: \"saving and loading a model\",\n",
        "    6: \"putting it all together\"\n",
        "}"
      ]
    },
    {
      "cell_type": "code",
      "source": [
        "import torch\n",
        "import matplotlib.pyplot as plt\n",
        "from torch import nn  # nn contains all of pytorchs building blocks for neural netowrks"
      ],
      "metadata": {
        "id": "JE_XjfhmpJPz"
      },
      "execution_count": 26,
      "outputs": []
    },
    {
      "cell_type": "markdown",
      "source": [
        "# **CREATING DATA**"
      ],
      "metadata": {
        "id": "Sgz7HvPAzMh4"
      }
    },
    {
      "cell_type": "code",
      "source": [
        "# STEP-1 CREATING OUR DATA\n",
        "\n",
        "# create known parameters\n",
        "weight = 0.7\n",
        "bias = 0.3\n",
        "\n",
        "# create data\n",
        "start = 0\n",
        "end = 1\n",
        "step = 0.02\n",
        "X = torch.arange(start, end, step).unsqueeze(dim = 1)  #features\n",
        "y = (weight * X) + bias   #label\n",
        "\n",
        "X[:10],y[:10]"
      ],
      "metadata": {
        "colab": {
          "base_uri": "https://localhost:8080/"
        },
        "id": "ylnLNUb3pcYt",
        "outputId": "ba94449d-193a-41c7-c33b-5a2bfeb55df4"
      },
      "execution_count": 59,
      "outputs": [
        {
          "output_type": "execute_result",
          "data": {
            "text/plain": [
              "(tensor([[0.0000],\n",
              "         [0.0200],\n",
              "         [0.0400],\n",
              "         [0.0600],\n",
              "         [0.0800],\n",
              "         [0.1000],\n",
              "         [0.1200],\n",
              "         [0.1400],\n",
              "         [0.1600],\n",
              "         [0.1800]]),\n",
              " tensor([[0.3000],\n",
              "         [0.3140],\n",
              "         [0.3280],\n",
              "         [0.3420],\n",
              "         [0.3560],\n",
              "         [0.3700],\n",
              "         [0.3840],\n",
              "         [0.3980],\n",
              "         [0.4120],\n",
              "         [0.4260]]))"
            ]
          },
          "metadata": {},
          "execution_count": 59
        }
      ]
    },
    {
      "cell_type": "code",
      "source": [
        "# now we split our data into trainig , validation and testing datasets\n",
        "# for now just trainig and testing sets\n",
        "\n",
        "train_split = int(0.8*len(X))\n",
        "X_train, y_train = X[:train_split], y[:train_split]\n",
        "X_test, y_test = X[train_split:], y[train_split:]\n"
      ],
      "metadata": {
        "id": "tqOjqn0orb-A"
      },
      "execution_count": 60,
      "outputs": []
    },
    {
      "cell_type": "code",
      "source": [
        "len(X_train) ,len(y_train), len(X_test), len(y_test)"
      ],
      "metadata": {
        "colab": {
          "base_uri": "https://localhost:8080/"
        },
        "id": "jduLjCHwt7Zn",
        "outputId": "1e295af9-bce7-4e28-d452-6e9365dfa743"
      },
      "execution_count": 61,
      "outputs": [
        {
          "output_type": "execute_result",
          "data": {
            "text/plain": [
              "(40, 40, 10, 10)"
            ]
          },
          "metadata": {},
          "execution_count": 61
        }
      ]
    },
    {
      "cell_type": "code",
      "source": [
        "# now we would like to plot our train data , test data , and our predictions\n",
        "\n",
        "def plot_prediction(train_data = X_train,\n",
        "                    train_labels = y_train,\n",
        "                    test_data = X_test,\n",
        "                    test_labels = y_test,\n",
        "                    predictions = None):\n",
        "  plt.figure(figsize=(10,7))\n",
        "\n",
        "  # plotting our traing data in blue\n",
        "  plt.scatter(train_data, train_labels,c='b',s=4, label='Training data')\n",
        "\n",
        "  # plotting out test data in green\n",
        "  plt.scatter(test_data, test_labels, c='g',s=4, label='Testing data')\n",
        "\n",
        "  if predictions is not None:\n",
        "    # plotting our predcitions in red ,(they are made on the train_data)\n",
        "    plt.scatter(test_data, predictions, c='r',s=4, label='Our predcitions')\n",
        "\n",
        "  plt.legend()\n",
        "  plt.show()\n"
      ],
      "metadata": {
        "id": "nmI3R691uEME"
      },
      "execution_count": 62,
      "outputs": []
    },
    {
      "cell_type": "code",
      "source": [
        "plot_prediction()"
      ],
      "metadata": {
        "colab": {
          "base_uri": "https://localhost:8080/",
          "height": 599
        },
        "id": "YdGw4DW0x2MM",
        "outputId": "4de5f83b-b9f1-4b3c-b5f2-3c90d06e1c98"
      },
      "execution_count": 63,
      "outputs": [
        {
          "output_type": "display_data",
          "data": {
            "text/plain": [
              "<Figure size 1000x700 with 1 Axes>"
            ],
            "image/png": "[encoded data removed]"
          },
          "metadata": {}
        }
      ]
    },
    {
      "cell_type": "markdown",
      "source": [
        "# **BUILDING A MODEL**"
      ],
      "metadata": {
        "id": "Pf1Ou7IkzWGl"
      }
    },
    {
      "cell_type": "code",
      "source": [
        "# creating a linear regression model class\n",
        "\n",
        "class LinearRegressionModel(nn.Module):   # <- almost everything in PyTorch is a nn.Module (think of this as neural network lego blocks)\n",
        "  def __init__(self):\n",
        "    super().__init__()\n",
        "    # initialise model parameters\n",
        "    self.weights = nn.Parameter(torch.randn(1,# <- start with random weights (this will get adjusted as the model learns)\n",
        "                                            dtype=torch.float,# <- PyTorch loves float32 by default\n",
        "                                            requires_grad=True)) # <- can we update this value with gradient descent? YES , so true\n",
        "\n",
        "\n",
        "    self.bias = nn.Parameter(torch.randn(1, # <- start with random weights (this will get adjusted as the model learns)\n",
        "                                          dtype=torch.float, # <- PyTorch loves float32 by default\n",
        "                                          requires_grad = True)) # <- can we update this value with gradient descent?, YES , so true\n",
        "\n",
        "  # Forward defines the computation in the model\n",
        "  def forward(self, x:torch.Tensor):  # <- \"x\" is the input data (e.g. training/testing features)\n",
        "    return self.weights * x + self.bias   # <- this is the linear regression formula (y = m*x + b)"
      ],
      "metadata": {
        "id": "cPRDx1t5x5Iy"
      },
      "execution_count": 64,
      "outputs": []
    },
    {
      "cell_type": "code",
      "source": [
        "# checking the contents of the pytorch model\n",
        "\n",
        "# Set manual seed since nn.Parameter are randomly initialized\n",
        "torch.manual_seed(42)\n",
        "\n",
        "# an instance of the model\n",
        "model_0 = LinearRegressionModel()\n",
        "\n",
        "# checking the parameters\n",
        "list(model_0.parameters())\n"
      ],
      "metadata": {
        "colab": {
          "base_uri": "https://localhost:8080/"
        },
        "id": "PiiZi5-q6RIE",
        "outputId": "ec474395-61ed-4241-b4cf-536ca0afb4b8"
      },
      "execution_count": 65,
      "outputs": [
        {
          "output_type": "execute_result",
          "data": {
            "text/plain": [
              "[Parameter containing:\n",
              " tensor([0.3367], requires_grad=True),\n",
              " Parameter containing:\n",
              " tensor([0.1288], requires_grad=True)]"
            ]
          },
          "metadata": {},
          "execution_count": 65
        }
      ]
    },
    {
      "cell_type": "code",
      "source": [
        "# List named parameters\n",
        "model_0.state_dict()"
      ],
      "metadata": {
        "colab": {
          "base_uri": "https://localhost:8080/"
        },
        "id": "R3kacxcZCimQ",
        "outputId": "a4cebe5b-bcb9-42fa-bf0c-bcfb21dfd858"
      },
      "execution_count": 66,
      "outputs": [
        {
          "output_type": "execute_result",
          "data": {
            "text/plain": [
              "OrderedDict([('weights', tensor([0.3367])), ('bias', tensor([0.1288]))])"
            ]
          },
          "metadata": {},
          "execution_count": 66
        }
      ]
    },
    {
      "cell_type": "code",
      "source": [
        "# Making predictions with the model\n",
        "# inference basically means prediction\n",
        "# torch.inference_mode() turns off a bunch of things (like gradient tracking,\n",
        "#  which is necessary for training but not for inference) to make forward-passes (data going through the forward() method) faster.\n",
        "with torch.inference_mode():\n",
        "  y_preds = model_0(X_test)"
      ],
      "metadata": {
        "id": "hN8M8LhFDDGb"
      },
      "execution_count": 67,
      "outputs": []
    },
    {
      "cell_type": "code",
      "source": [
        "print(f\"len of test dataset: {len(X_test)}\")\n",
        "print(f\"len of predictions dataset: {len(y_preds)}\")\n",
        "print(f\"predicted values: {y_preds}\")"
      ],
      "metadata": {
        "colab": {
          "base_uri": "https://localhost:8080/"
        },
        "id": "7j1indpGHoE8",
        "outputId": "3576979b-c570-4df9-e1dc-16efee734e49"
      },
      "execution_count": 68,
      "outputs": [
        {
          "output_type": "stream",
          "name": "stdout",
          "text": [
            "len of test dataset: 10\n",
            "len of predictions dataset: 10\n",
            "predicted values: tensor([[0.3982],\n",
            "        [0.4049],\n",
            "        [0.4116],\n",
            "        [0.4184],\n",
            "        [0.4251],\n",
            "        [0.4318],\n",
            "        [0.4386],\n",
            "        [0.4453],\n",
            "        [0.4520],\n",
            "        [0.4588]])\n"
          ]
        }
      ]
    },
    {
      "cell_type": "code",
      "source": [
        "plot_prediction(predictions = y_preds)\n",
        "\n",
        "# pretty bad predictions\n",
        "# obviously as we have not yet used the blue dots or the training dataset\n",
        "# to train our model and we have directly jumped to predict on the test dataset\n",
        "# with some random weight and bias"
      ],
      "metadata": {
        "colab": {
          "base_uri": "https://localhost:8080/",
          "height": 599
        },
        "id": "Jl2YgTccH9MB",
        "outputId": "bbcf9ef7-688c-481b-c24d-e3b22fa94ed6"
      },
      "execution_count": 69,
      "outputs": [
        {
          "output_type": "display_data",
          "data": {
            "text/plain": [
              "<Figure size 1000x700 with 1 Axes>"
            ],
            "image/png": "[encoded data removed]"
          },
          "metadata": {}
        }
      ]
    },
    {
      "cell_type": "code",
      "source": [
        "y_test-y_preds\n",
        "# PRETTY BAD PREDICTIONS"
      ],
      "metadata": {
        "colab": {
          "base_uri": "https://localhost:8080/"
        },
        "id": "A-5-uYphImz3",
        "outputId": "e70cbf96-99e0-4621-c3d0-646ea0613bb0"
      },
      "execution_count": 70,
      "outputs": [
        {
          "output_type": "execute_result",
          "data": {
            "text/plain": [
              "tensor([[0.4618],\n",
              "        [0.4691],\n",
              "        [0.4764],\n",
              "        [0.4836],\n",
              "        [0.4909],\n",
              "        [0.4982],\n",
              "        [0.5054],\n",
              "        [0.5127],\n",
              "        [0.5200],\n",
              "        [0.5272]])"
            ]
          },
          "metadata": {},
          "execution_count": 70
        }
      ]
    },
    {
      "cell_type": "markdown",
      "source": [
        "# **TRAINING OUR MODEL**"
      ],
      "metadata": {
        "id": "hQ0KZt7nKBs4"
      }
    },
    {
      "cell_type": "markdown",
      "source": [
        "LOSS\n",
        "\n",
        "[mean absolute error](https://wikimedia.org/api/rest_v1/media/math/render/svg/3ef87b78a9af65e308cf4aa9acf6f203efbdeded)\n",
        "\n",
        "[Binary Cross Entropy](https://chatgpt.com/share/676c9830-c79c-800b-b48d-ecf56c8bcb8c)\n",
        "\n",
        "\n",
        "Optimiser\n",
        "\n",
        "[Adam Optimiser](https://chatgpt.com/share/676c9830-c79c-800b-b48d-ecf56c8bcb8c)\n"
      ],
      "metadata": {
        "id": "F14rSqA4JW-0"
      }
    },
    {
      "cell_type": "code",
      "source": [
        "# we need a loss function and an optimiser\n",
        "# loss function will tell us how far we are from the actual values, lesser the loss better\n",
        "# and the optimiser will tell our model how to update its internal parameters\n",
        "\n",
        "# since we are trying to predict a number(regression) , we can use MAE loss function\n",
        "# MAE stands for mean absolute error , it will take the absolute error for each prediction\n",
        "# sum all of the errors and find the mean ,  torch.nn.L1LOSS()\n",
        "# or BCE(binary cross entropy) loss for classification problems\n",
        "\n",
        "\n",
        "\n",
        "# and we will use the SGD (stochastic gradient descent) optimiser\n",
        "# its just like gradient descent just that it takes small random sets out of the data and perform gradient descent on those\n",
        "#  torch.optim.SGD(params,lr)\n",
        "# params means the paramters we had like to optimise ,weight and bias\n",
        "# lr stands for learning rate , it is also called a hyperparamter\n",
        "# as it is decided by the machine learning engineers\n",
        "\n",
        "# creating the loss function\n",
        "\n",
        "loss_fn = nn.L1Loss()\n",
        "\n",
        "# creating the optimiser\n",
        "\n",
        "optimizer = torch.optim.SGD(params = model_0.parameters(),\n",
        "                   lr=0.01)\n",
        "# if learning rate is too high , you may overshoot\n",
        "# if its too low it may take a lot of time\n",
        "# hence it is a hyperparameter\n",
        "# even the learning rate can be adjusted over time using something called learning rate scheduling"
      ],
      "metadata": {
        "id": "AvK9MZ0FJJ3v"
      },
      "execution_count": 71,
      "outputs": []
    },
    {
      "cell_type": "code",
      "source": [
        "# Pytorch LOOP\n",
        "# training and testing loop\n",
        "\n",
        "torch.manual_seed(42)\n",
        "\n",
        "\n",
        "# Set the number of epochs (how many times the model will pass over the training data)\n",
        "epochs = 200\n",
        "\n",
        "# Create empty loss lists to track values\n",
        "train_loss_values = []\n",
        "test_loss_values = []\n",
        "epoch_count = []\n",
        "\n",
        "for epoch in range(epochs):\n",
        "  ### Training\n",
        "  # Put model in training mode (this is the default state of a model)\n",
        "  model_0.train()\n",
        "\n",
        "  # 1. Forward pass on train data using the forward() method inside\n",
        "  y_pred = model_0(X_train)\n",
        "  # print(y_pred)\n",
        "\n",
        "  # 2. Calculate the loss (how different are our models predictions to the ground truth)\n",
        "  loss = loss_fn(y_pred, y_train)\n",
        "\n",
        "  # 3. Zero grad of the optimizer\n",
        "  # optimizer gradients are set to zero\n",
        "  optimizer.zero_grad()\n",
        "\n",
        "  # 4. Loss backwards\n",
        "  # backpropagation on loss\n",
        "  loss.backward()\n",
        "\n",
        "  # 5. Progress the optimizer\n",
        "  optimizer.step()\n",
        "\n",
        "\n",
        "  # basically the order is something like\n",
        "  # calculate the loss first , then set all the gradients to zero as they acummulate over epochs\n",
        "  # then calculate new gradients for parameters which have requires_grad=true , with the help of backpropagation\n",
        "  # then update the gradients of the optimizer\n",
        "\n",
        "  ### Testing\n",
        "\n",
        "  # Put the model in evaluation mode\n",
        "  model_0.eval()\n",
        "\n",
        "  with torch.inference_mode():\n",
        "    # 1. Forward pass on test data\n",
        "    test_pred = model_0(X_test)\n",
        "\n",
        "    # 2. Caculate loss on test data\n",
        "    test_loss = loss_fn(test_pred, y_test.type(torch.float)) # predictions come in torch.float datatype, so comparisons need to be done with tensors of the same type\n",
        "\n",
        "    # Print out what's happening\n",
        "    if epoch % 10 == 0:\n",
        "          epoch_count.append(epoch)\n",
        "          train_loss_values.append(loss.detach().numpy())\n",
        "          test_loss_values.append(test_loss.detach().numpy())\n",
        "          print(f\"Epoch: {epoch} | MAE Train Loss: {loss} | MAE Test Loss: {test_loss} \")"
      ],
      "metadata": {
        "colab": {
          "base_uri": "https://localhost:8080/"
        },
        "id": "K9L4a5IMummv",
        "outputId": "ff86c95c-6a60-4522-8abe-f4a8d394e9fe"
      },
      "execution_count": 72,
      "outputs": [
        {
          "output_type": "stream",
          "name": "stdout",
          "text": [
            "Epoch: 0 | MAE Train Loss: 0.31288138031959534 | MAE Test Loss: 0.48106518387794495 \n",
            "Epoch: 10 | MAE Train Loss: 0.1976713240146637 | MAE Test Loss: 0.3463551998138428 \n",
            "Epoch: 20 | MAE Train Loss: 0.08908725529909134 | MAE Test Loss: 0.21729660034179688 \n",
            "Epoch: 30 | MAE Train Loss: 0.053148526698350906 | MAE Test Loss: 0.14464017748832703 \n",
            "Epoch: 40 | MAE Train Loss: 0.04543796554207802 | MAE Test Loss: 0.11360953003168106 \n",
            "Epoch: 50 | MAE Train Loss: 0.04167863354086876 | MAE Test Loss: 0.09919948130846024 \n",
            "Epoch: 60 | MAE Train Loss: 0.03818932920694351 | MAE Test Loss: 0.08886633068323135 \n",
            "Epoch: 70 | MAE Train Loss: 0.03476089984178543 | MAE Test Loss: 0.0805937647819519 \n",
            "Epoch: 80 | MAE Train Loss: 0.03132382780313492 | MAE Test Loss: 0.07232122868299484 \n",
            "Epoch: 90 | MAE Train Loss: 0.02788739837706089 | MAE Test Loss: 0.06473556160926819 \n",
            "Epoch: 100 | MAE Train Loss: 0.024458957836031914 | MAE Test Loss: 0.05646304413676262 \n",
            "Epoch: 110 | MAE Train Loss: 0.021020207554101944 | MAE Test Loss: 0.04819049686193466 \n",
            "Epoch: 120 | MAE Train Loss: 0.01758546568453312 | MAE Test Loss: 0.04060482233762741 \n",
            "Epoch: 130 | MAE Train Loss: 0.014155393466353416 | MAE Test Loss: 0.03233227878808975 \n",
            "Epoch: 140 | MAE Train Loss: 0.010716589167714119 | MAE Test Loss: 0.024059748277068138 \n",
            "Epoch: 150 | MAE Train Loss: 0.0072835334576666355 | MAE Test Loss: 0.016474086791276932 \n",
            "Epoch: 160 | MAE Train Loss: 0.0038517764769494534 | MAE Test Loss: 0.008201557211577892 \n",
            "Epoch: 170 | MAE Train Loss: 0.008932482451200485 | MAE Test Loss: 0.005023092031478882 \n",
            "Epoch: 180 | MAE Train Loss: 0.008932482451200485 | MAE Test Loss: 0.005023092031478882 \n",
            "Epoch: 190 | MAE Train Loss: 0.008932482451200485 | MAE Test Loss: 0.005023092031478882 \n"
          ]
        }
      ]
    },
    {
      "cell_type": "code",
      "source": [
        "# Plot the loss curves\n",
        "plt.plot(epoch_count, train_loss_values, label=\"Train loss\")\n",
        "plt.plot(epoch_count, test_loss_values, label=\"Test loss\")\n",
        "plt.title(\"Training and test loss curves\")\n",
        "plt.ylabel(\"Loss\")\n",
        "plt.xlabel(\"Epochs\")\n",
        "plt.legend();"
      ],
      "metadata": {
        "colab": {
          "base_uri": "https://localhost:8080/",
          "height": 472
        },
        "id": "_URJ2kTgOjHh",
        "outputId": "8ed8db4d-d284-4cfc-d8ed-4a8dc08f2ab8"
      },
      "execution_count": 73,
      "outputs": [
        {
          "output_type": "display_data",
          "data": {
            "text/plain": [
              "<Figure size 640x480 with 1 Axes>"
            ],
            "image/png": "[encoded data removed]"
          },
          "metadata": {}
        }
      ]
    },
    {
      "cell_type": "code",
      "source": [
        "# Find our model's learned parameters\n",
        "print(\"The model learned the following values for weights and bias:\")\n",
        "print(model_0.state_dict())\n",
        "print(\"\\nAnd the original values for weights and bias are:\")\n",
        "print(f\"weights: {weight}, bias: {bias}\")"
      ],
      "metadata": {
        "colab": {
          "base_uri": "https://localhost:8080/"
        },
        "id": "fq1lzXqqOvjQ",
        "outputId": "51131ba8-a2be-4f7a-de7e-bc568258e59c"
      },
      "execution_count": 74,
      "outputs": [
        {
          "output_type": "stream",
          "name": "stdout",
          "text": [
            "The model learned the following values for weights and bias:\n",
            "OrderedDict([('weights', tensor([0.6990])), ('bias', tensor([0.3093]))])\n",
            "\n",
            "And the original values for weights and bias are:\n",
            "weights: 0.7, bias: 0.3\n"
          ]
        }
      ]
    },
    {
      "cell_type": "markdown",
      "source": [
        "# MAKING PREDICTIONS WITH AN ALREADY TRAINED PyTorch MODEL"
      ],
      "metadata": {
        "id": "iSn8fpiKP1vb"
      }
    },
    {
      "cell_type": "code",
      "source": [
        "# MAKING PREDICTIONS WITH A TRAINED Pytorch MODEL\n",
        "\n",
        "# 1. Set the model in evaluation mode\n",
        "model_0.eval()\n",
        "\n",
        "# 2. Setup the inference mode context manager\n",
        "with torch.inference_mode():\n",
        "  # 3. Make sure the calculations are done with the model and data on the same device\n",
        "  # in our case, we haven't setup device-agnostic code yet so our data and model are\n",
        "  # on the CPU by default.\n",
        "  # model_0.to(device)\n",
        "  # X_test = X_test.to(device)\n",
        "  y_preds = model_0(X_test)\n",
        "y_preds"
      ],
      "metadata": {
        "colab": {
          "base_uri": "https://localhost:8080/"
        },
        "id": "mFGvekCcO8SN",
        "outputId": "ce9f098d-917d-432c-97af-507b899c3df6"
      },
      "execution_count": 75,
      "outputs": [
        {
          "output_type": "execute_result",
          "data": {
            "text/plain": [
              "tensor([[0.8685],\n",
              "        [0.8825],\n",
              "        [0.8965],\n",
              "        [0.9105],\n",
              "        [0.9245],\n",
              "        [0.9384],\n",
              "        [0.9524],\n",
              "        [0.9664],\n",
              "        [0.9804],\n",
              "        [0.9944]])"
            ]
          },
          "metadata": {},
          "execution_count": 75
        }
      ]
    },
    {
      "cell_type": "code",
      "source": [
        "plot_prediction(predictions=y_preds)"
      ],
      "metadata": {
        "colab": {
          "base_uri": "https://localhost:8080/",
          "height": 599
        },
        "id": "1GhhX6ghPqwY",
        "outputId": "2f1c6537-c0de-41dd-efb6-40944d232dda"
      },
      "execution_count": 76,
      "outputs": [
        {
          "output_type": "display_data",
          "data": {
            "text/plain": [
              "<Figure size 1000x700 with 1 Axes>"
            ],
            "image/png": "[encoded data removed]"
          },
          "metadata": {}
        }
      ]
    },
    {
      "cell_type": "markdown",
      "source": [
        "# **SAVING AND LOADING A PYTORCH MODEL**"
      ],
      "metadata": {
        "id": "WQJ1p6iwP97C"
      }
    },
    {
      "cell_type": "code",
      "source": [
        "# we only prefer to save the state_dict() or the parameters state of the model,\n",
        "# and not the model itself for various reasons\n",
        "\n",
        "# we use 3 syntax\n",
        "\n",
        "#  torch.save\n",
        "#  torch.load\n",
        "#  torch.nn.Module.load_state_dict\n"
      ],
      "metadata": {
        "id": "GtjU4IuLPtZS"
      },
      "execution_count": 77,
      "outputs": []
    },
    {
      "cell_type": "code",
      "source": [
        "# SAVING A MODELS state_dcit()\n",
        "from pathlib import Path\n",
        "\n",
        "# 1. Create models directory\n",
        "MODEL_PATH = Path(\"models\")\n",
        "MODEL_PATH.mkdir(parents=True, exist_ok=True)\n",
        "\n",
        "# 2. Create model save path\n",
        "MODEL_NAME = \"01_pytorch_workflow_model_0.pth\"\n",
        "MODEL_SAVE_PATH = MODEL_PATH / MODEL_NAME\n",
        "\n",
        "# 3. Save the model state dict\n",
        "print(f\"Saving model to: {MODEL_SAVE_PATH}\")\n",
        "torch.save(obj=model_0.state_dict(), # only saving the state_dict() only saves the models learned parameters\n",
        "           f=MODEL_SAVE_PATH)  # this is the file save path location"
      ],
      "metadata": {
        "colab": {
          "base_uri": "https://localhost:8080/"
        },
        "id": "CFntVMiPTVlv",
        "outputId": "22466e4e-4f83-48ef-816f-f2f71ba81255"
      },
      "execution_count": 78,
      "outputs": [
        {
          "output_type": "stream",
          "name": "stdout",
          "text": [
            "Saving model to: models/01_pytorch_workflow_model_0.pth\n"
          ]
        }
      ]
    },
    {
      "cell_type": "code",
      "source": [
        "# Check the saved file path\n",
        "!ls -l models/01_pytorch_workflow_model_0.pth"
      ],
      "metadata": {
        "colab": {
          "base_uri": "https://localhost:8080/"
        },
        "id": "sP8lLwKBT1Lv",
        "outputId": "e0aca5d8-505d-492d-8762-5b981e50fe8d"
      },
      "execution_count": 79,
      "outputs": [
        {
          "output_type": "stream",
          "name": "stdout",
          "text": [
            "-rw-r--r-- 1 root root 1680 Dec 26 00:34 models/01_pytorch_workflow_model_0.pth\n"
          ]
        }
      ]
    },
    {
      "cell_type": "code",
      "source": [
        "# Instantiate a new instance of our model (this will be instantiated with random weights)\n",
        "loaded_model_0 = LinearRegressionModel()\n",
        "\n",
        "# Load the state_dict of our saved model (this will update the new instance of our model with trained weights)\n",
        "loaded_model_0.load_state_dict(torch.load(f=MODEL_SAVE_PATH))"
      ],
      "metadata": {
        "colab": {
          "base_uri": "https://localhost:8080/"
        },
        "id": "xlvji3vAUD54",
        "outputId": "95ef22ed-9ef0-4acd-c68a-fd5a94d990f4"
      },
      "execution_count": 80,
      "outputs": [
        {
          "output_type": "stream",
          "name": "stderr",
          "text": [
            "<ipython-input-80-c3119fcaa06c>:5: FutureWarning: You are using `torch.load` with `weights_only=False` (the current default value), which uses the default pickle module implicitly. It is possible to construct malicious pickle data which will execute arbitrary code during unpickling (See https://github.com/pytorch/pytorch/blob/main/SECURITY.md#untrusted-models for more details). In a future release, the default value for `weights_only` will be flipped to `True`. This limits the functions that could be executed during unpickling. Arbitrary objects will no longer be allowed to be loaded via this mode unless they are explicitly allowlisted by the user via `torch.serialization.add_safe_globals`. We recommend you start setting `weights_only=True` for any use case where you don't have full control of the loaded file. Please open an issue on GitHub for any issues related to this experimental feature.\n",
            "  loaded_model_0.load_state_dict(torch.load(f=MODEL_SAVE_PATH))\n"
          ]
        },
        {
          "output_type": "execute_result",
          "data": {
            "text/plain": [
              "<All keys matched successfully>"
            ]
          },
          "metadata": {},
          "execution_count": 80
        }
      ]
    },
    {
      "cell_type": "code",
      "source": [
        "# 1. Put the loaded model into evaluation mode\n",
        "loaded_model_0.eval()\n",
        "\n",
        "# 2. Use the inference mode context manager to make predictions\n",
        "with torch.inference_mode():\n",
        "    loaded_model_preds = loaded_model_0(X_test) # perform a forward pass on the test data with the loaded model"
      ],
      "metadata": {
        "id": "nx-daEC3Ugqs"
      },
      "execution_count": 81,
      "outputs": []
    },
    {
      "cell_type": "code",
      "source": [
        "# Compare previous model predictions with loaded model predictions (these should be the same)\n",
        "y_preds == loaded_model_preds"
      ],
      "metadata": {
        "colab": {
          "base_uri": "https://localhost:8080/"
        },
        "id": "flUePI1nVqIt",
        "outputId": "6a78530e-b939-4dac-fe1e-5ed8a3da2ace"
      },
      "execution_count": 82,
      "outputs": [
        {
          "output_type": "execute_result",
          "data": {
            "text/plain": [
              "tensor([[True],\n",
              "        [True],\n",
              "        [True],\n",
              "        [True],\n",
              "        [True],\n",
              "        [True],\n",
              "        [True],\n",
              "        [True],\n",
              "        [True],\n",
              "        [True]])"
            ]
          },
          "metadata": {},
          "execution_count": 82
        }
      ]
    },
    {
      "cell_type": "markdown",
      "source": [
        "# Putting it all together"
      ],
      "metadata": {
        "id": "7H1N236WaL1D"
      }
    },
    {
      "cell_type": "markdown",
      "source": [
        "step-0\n",
        "Initial Setup\n"
      ],
      "metadata": {
        "id": "XhchMvb4a45a"
      }
    },
    {
      "cell_type": "code",
      "source": [
        "import torch\n",
        "from torch import nn\n",
        "import matplotlib.pyplot as plt"
      ],
      "metadata": {
        "id": "On8TSZzqa92A"
      },
      "execution_count": 90,
      "outputs": []
    },
    {
      "cell_type": "code",
      "source": [
        "device = \"cuda\" if torch.cuda.is_available() else \"cpu\"\n",
        "device"
      ],
      "metadata": {
        "colab": {
          "base_uri": "https://localhost:8080/",
          "height": 36
        },
        "id": "7zTm9NHEbNl6",
        "outputId": "eb57c59f-8598-4882-e1f2-687163905265"
      },
      "execution_count": 91,
      "outputs": [
        {
          "output_type": "execute_result",
          "data": {
            "text/plain": [
              "'cpu'"
            ],
            "application/vnd.google.colaboratory.intrinsic+json": {
              "type": "string"
            }
          },
          "metadata": {},
          "execution_count": 91
        }
      ]
    },
    {
      "cell_type": "markdown",
      "source": [
        "step-1\n",
        "creating our data"
      ],
      "metadata": {
        "id": "hgsVwe4SaQ2F"
      }
    },
    {
      "cell_type": "code",
      "source": [
        "weight=0.6\n",
        "bias=0.5\n",
        "\n",
        "x = torch.arange(0,2,0.1,device=device).unsqueeze(dim=1)\n",
        "y=weight*x + bias\n",
        "y"
      ],
      "metadata": {
        "id": "FyRtiazUVuUm",
        "colab": {
          "base_uri": "https://localhost:8080/"
        },
        "outputId": "fc97b233-3583-4431-f8be-9633cf10da92"
      },
      "execution_count": 140,
      "outputs": [
        {
          "output_type": "execute_result",
          "data": {
            "text/plain": [
              "tensor([[0.5000],\n",
              "        [0.5600],\n",
              "        [0.6200],\n",
              "        [0.6800],\n",
              "        [0.7400],\n",
              "        [0.8000],\n",
              "        [0.8600],\n",
              "        [0.9200],\n",
              "        [0.9800],\n",
              "        [1.0400],\n",
              "        [1.1000],\n",
              "        [1.1600],\n",
              "        [1.2200],\n",
              "        [1.2800],\n",
              "        [1.3400],\n",
              "        [1.4000],\n",
              "        [1.4600],\n",
              "        [1.5200],\n",
              "        [1.5800],\n",
              "        [1.6400]])"
            ]
          },
          "metadata": {},
          "execution_count": 140
        }
      ]
    },
    {
      "cell_type": "code",
      "source": [
        "split = int(0.8*len(x))\n",
        "X_train,y_train = x[:split] , y[:split]\n",
        "X_test , y_test = x[split:] , y[split:]"
      ],
      "metadata": {
        "id": "L7Mj1ADXcBHp"
      },
      "execution_count": 141,
      "outputs": []
    },
    {
      "cell_type": "code",
      "source": [
        "# now we would like to plot our train data , test data , and our predictions\n",
        "\n",
        "def plot_prediction(train_data = X_train,\n",
        "                    train_labels = y_train,\n",
        "                    test_data = X_test,\n",
        "                    test_labels = y_test,\n",
        "                    predictions = None):\n",
        "  plt.figure(figsize=(10,7))\n",
        "\n",
        "  # plotting our traing data in blue\n",
        "  plt.scatter(train_data, train_labels,c='b',s=4, label='Training data')\n",
        "\n",
        "  # plotting out test data in green\n",
        "  plt.scatter(test_data, test_labels, c='g',s=4, label='Testing data')\n",
        "\n",
        "  if predictions is not None:\n",
        "    # plotting our predcitions in red ,(they are made on the train_data)\n",
        "    plt.scatter(test_data, predictions, c='r',s=4, label='Our predcitions')\n",
        "\n",
        "  plt.legend()\n",
        "  plt.show()\n"
      ],
      "metadata": {
        "id": "-a90C-Czaict"
      },
      "execution_count": 142,
      "outputs": []
    },
    {
      "cell_type": "code",
      "source": [
        "plot_prediction()"
      ],
      "metadata": {
        "colab": {
          "base_uri": "https://localhost:8080/",
          "height": 599
        },
        "id": "TO7kRvxTb4V9",
        "outputId": "7708cd6c-bf1f-40ac-9d24-3f31a53a0c77"
      },
      "execution_count": 143,
      "outputs": [
        {
          "output_type": "display_data",
          "data": {
            "text/plain": [
              "<Figure size 1000x700 with 1 Axes>"
            ],
            "image/png": "[encoded data removed]"
          },
          "metadata": {}
        }
      ]
    },
    {
      "cell_type": "markdown",
      "source": [
        "Step-2\n",
        "Building a model\n"
      ],
      "metadata": {
        "id": "auKJgp8nctpV"
      }
    },
    {
      "cell_type": "code",
      "source": [
        "# a completely new LinearRegressionModel using neural network layers\n",
        "# Parameters Initialization: When you create an nn.Linear layer, PyTorch automatically initializes the following:\n",
        "# a Weight Matrix (W) of shape (out_features,in_features)\n",
        "# a Bias Vector (b) a vector of shape (our_features,)\n",
        "\n",
        "\n",
        "class LinearRegressionModelV1(nn.Module):\n",
        "    def __init__(self):\n",
        "      super().__init__()\n",
        "\n",
        "      # using nn.Linear for creating the model parameters\n",
        "      self.linearLayer=nn.Linear(in_features=1,\n",
        "                                 out_features=1)\n",
        "\n",
        "    def forward(self,x:torch.Tensor)->torch.Tensor:\n",
        "      return self.linearLayer(x)\n",
        "\n",
        "torch.manual_seed(42)\n",
        "model_1=LinearRegressionModelV1()\n",
        "model_1,model_1.state_dict()"
      ],
      "metadata": {
        "colab": {
          "base_uri": "https://localhost:8080/"
        },
        "id": "re9bzS5pcmtp",
        "outputId": "f70eb42c-8dba-4bc8-d894-743f87850225"
      },
      "execution_count": 144,
      "outputs": [
        {
          "output_type": "execute_result",
          "data": {
            "text/plain": [
              "(LinearRegressionModelV1(\n",
              "   (linearLayer): Linear(in_features=1, out_features=1, bias=True)\n",
              " ),\n",
              " OrderedDict([('linearLayer.weight', tensor([[0.7645]])),\n",
              "              ('linearLayer.bias', tensor([0.8300]))]))"
            ]
          },
          "metadata": {},
          "execution_count": 144
        }
      ]
    },
    {
      "cell_type": "code",
      "source": [
        "# checking our predictions without any training\n",
        "# there is no need of this step\n",
        "\n",
        "model_1.eval()\n",
        "with torch.inference_mode():\n",
        "  y_pred=model_1(X_test)\n",
        "\n",
        "y_pred"
      ],
      "metadata": {
        "colab": {
          "base_uri": "https://localhost:8080/"
        },
        "id": "_-Gs6yz_jENW",
        "outputId": "cefec171-9496-481d-adba-edbb3e54f2d1"
      },
      "execution_count": 145,
      "outputs": [
        {
          "output_type": "execute_result",
          "data": {
            "text/plain": [
              "tensor([[2.0533],\n",
              "        [2.1297],\n",
              "        [2.2062],\n",
              "        [2.2826]])"
            ]
          },
          "metadata": {},
          "execution_count": 145
        }
      ]
    },
    {
      "cell_type": "code",
      "source": [
        "plot_prediction(predictions=y_pred)\n",
        "# totally off"
      ],
      "metadata": {
        "colab": {
          "base_uri": "https://localhost:8080/",
          "height": 599
        },
        "id": "DbZkLeLjmpYI",
        "outputId": "13e2b209-1528-4da6-f758-a9c3bf72aeac"
      },
      "execution_count": 146,
      "outputs": [
        {
          "output_type": "display_data",
          "data": {
            "text/plain": [
              "<Figure size 1000x700 with 1 Axes>"
            ],
            "image/png": "[encoded data removed]"
          },
          "metadata": {}
        }
      ]
    },
    {
      "cell_type": "code",
      "source": [
        "# Check model device\n",
        "next(model_1.parameters()).device"
      ],
      "metadata": {
        "colab": {
          "base_uri": "https://localhost:8080/"
        },
        "id": "uB06XBdDouMl",
        "outputId": "65a656ed-8758-4a3b-9b8b-e3adfd56cef6"
      },
      "execution_count": 147,
      "outputs": [
        {
          "output_type": "execute_result",
          "data": {
            "text/plain": [
              "device(type='cpu')"
            ]
          },
          "metadata": {},
          "execution_count": 147
        }
      ]
    },
    {
      "cell_type": "code",
      "source": [
        "# Set model to GPU if it's available, otherwise it'll default to CPU\n",
        "model_1.to(device) # the device variable was set above to be \"cuda\" if available or \"cpu\" if not\n",
        "next(model_1.parameters()).device"
      ],
      "metadata": {
        "colab": {
          "base_uri": "https://localhost:8080/"
        },
        "id": "v7B7l6Roowu1",
        "outputId": "3e8be9be-7544-4377-fdbc-8deecdb75d1d"
      },
      "execution_count": 148,
      "outputs": [
        {
          "output_type": "execute_result",
          "data": {
            "text/plain": [
              "device(type='cpu')"
            ]
          },
          "metadata": {},
          "execution_count": 148
        }
      ]
    },
    {
      "cell_type": "markdown",
      "source": [
        "Step 3\n",
        "Training and Testing Loop"
      ],
      "metadata": {
        "id": "cZWoz5BtnHGR"
      }
    },
    {
      "cell_type": "code",
      "source": [
        "# we need a loss and optimisation function\n",
        "\n",
        "my_loss_fnc=nn.L1Loss()\n",
        "\n",
        "my_optimizer =torch.optim.SGD(params=model_1.parameters(),\n",
        "                           lr=0.01)"
      ],
      "metadata": {
        "id": "usnTIxQonvox"
      },
      "execution_count": 149,
      "outputs": []
    },
    {
      "cell_type": "code",
      "source": [
        "# now instead of writing everything together we can split into a training and testing function\n",
        "\n",
        "epochs_arr=[]\n",
        "train_loss_arr=[]\n",
        "test_loss_arr=[]\n",
        "\n",
        "# Put data on the available device\n",
        "# Without this, error will happen (not all model/data on device)\n",
        "X_train = X_train.to(device)\n",
        "X_test = X_test.to(device)\n",
        "y_train = y_train.to(device)\n",
        "y_test = y_test.to(device)"
      ],
      "metadata": {
        "id": "kb4KfKTxmsnn"
      },
      "execution_count": 150,
      "outputs": []
    },
    {
      "cell_type": "code",
      "source": [
        "def training_loop(model,loss_fnc,optimizer,data,labels):\n",
        "  # set model to train mode\n",
        "  model.train()\n",
        "  # forward pass\n",
        "  y_pred=model(data)\n",
        "  # calculate Loss\n",
        "  train_loss=my_loss_fnc(y_pred,labels)\n",
        "  # optimizer zero grad\n",
        "  my_optimizer.zero_grad()\n",
        "  # backpropagation\n",
        "  train_loss.backward()\n",
        "  # set the gradients\n",
        "  my_optimizer.step()\n",
        "\n",
        "  return train_loss"
      ],
      "metadata": {
        "id": "ZED_27lsnYEq"
      },
      "execution_count": 151,
      "outputs": []
    },
    {
      "cell_type": "code",
      "source": [
        "def testing_loop(model,loss_fnc,optimizer,data,labels):\n",
        "  # set model to eval mode\n",
        "  model.eval()\n",
        "  # inference_mode\n",
        "  with torch.inference_mode():\n",
        "    y_pred=model(data)\n",
        "    test_loss=loss_fnc(y_pred,labels)\n",
        "  return test_loss\n",
        "\n"
      ],
      "metadata": {
        "id": "4f0YLGirp5Lv"
      },
      "execution_count": 152,
      "outputs": []
    },
    {
      "cell_type": "code",
      "source": [
        "torch.manual_seed(42)\n",
        "epochs=500\n",
        "\n",
        "for epoch in range(epochs):\n",
        "  train_loss=training_loop(model_1,my_loss_fnc,my_optimizer,X_train,y_train)\n",
        "  test_loss=testing_loop(model_1,my_loss_fnc,my_optimizer,X_test,y_test)\n",
        "  if(epoch%10==0):\n",
        "    print(f\"Epoch: {epoch} | Train loss: {train_loss} | Test loss: {test_loss}\")"
      ],
      "metadata": {
        "colab": {
          "base_uri": "https://localhost:8080/"
        },
        "id": "XxyArWnuqjn4",
        "outputId": "917dce81-df4c-43e2-e7db-1e8bbac22365"
      },
      "execution_count": 153,
      "outputs": [
        {
          "output_type": "stream",
          "name": "stdout",
          "text": [
            "Epoch: 0 | Train loss: 0.4534117877483368 | Test loss: 0.594825267791748\n",
            "Epoch: 10 | Train loss: 0.2971619665622711 | Test loss: 0.3635755181312561\n",
            "Epoch: 20 | Train loss: 0.14091208577156067 | Test loss: 0.13232573866844177\n",
            "Epoch: 30 | Train loss: 0.018940109759569168 | Test loss: 0.03429916501045227\n",
            "Epoch: 40 | Train loss: 0.009479165077209473 | Test loss: 0.016830533742904663\n",
            "Epoch: 50 | Train loss: 0.003849536180496216 | Test loss: 0.022486865520477295\n",
            "Epoch: 60 | Train loss: 0.003849536180496216 | Test loss: 0.022486865520477295\n",
            "Epoch: 70 | Train loss: 0.003849536180496216 | Test loss: 0.022486865520477295\n",
            "Epoch: 80 | Train loss: 0.003849536180496216 | Test loss: 0.022486865520477295\n",
            "Epoch: 90 | Train loss: 0.003849536180496216 | Test loss: 0.022486865520477295\n",
            "Epoch: 100 | Train loss: 0.003849536180496216 | Test loss: 0.022486865520477295\n",
            "Epoch: 110 | Train loss: 0.003849536180496216 | Test loss: 0.022486865520477295\n",
            "Epoch: 120 | Train loss: 0.003849536180496216 | Test loss: 0.022486865520477295\n",
            "Epoch: 130 | Train loss: 0.003849536180496216 | Test loss: 0.022486865520477295\n",
            "Epoch: 140 | Train loss: 0.003849536180496216 | Test loss: 0.022486865520477295\n",
            "Epoch: 150 | Train loss: 0.003849536180496216 | Test loss: 0.022486865520477295\n",
            "Epoch: 160 | Train loss: 0.003849536180496216 | Test loss: 0.022486865520477295\n",
            "Epoch: 170 | Train loss: 0.003849536180496216 | Test loss: 0.022486865520477295\n",
            "Epoch: 180 | Train loss: 0.003849536180496216 | Test loss: 0.022486865520477295\n",
            "Epoch: 190 | Train loss: 0.003849536180496216 | Test loss: 0.022486865520477295\n",
            "Epoch: 200 | Train loss: 0.003849536180496216 | Test loss: 0.022486865520477295\n",
            "Epoch: 210 | Train loss: 0.003849536180496216 | Test loss: 0.022486865520477295\n",
            "Epoch: 220 | Train loss: 0.003849536180496216 | Test loss: 0.022486865520477295\n",
            "Epoch: 230 | Train loss: 0.003849536180496216 | Test loss: 0.022486865520477295\n",
            "Epoch: 240 | Train loss: 0.003849536180496216 | Test loss: 0.022486865520477295\n",
            "Epoch: 250 | Train loss: 0.003849536180496216 | Test loss: 0.022486865520477295\n",
            "Epoch: 260 | Train loss: 0.003849536180496216 | Test loss: 0.022486865520477295\n",
            "Epoch: 270 | Train loss: 0.003849536180496216 | Test loss: 0.022486865520477295\n",
            "Epoch: 280 | Train loss: 0.003849536180496216 | Test loss: 0.022486865520477295\n",
            "Epoch: 290 | Train loss: 0.003849536180496216 | Test loss: 0.022486865520477295\n",
            "Epoch: 300 | Train loss: 0.003849536180496216 | Test loss: 0.022486865520477295\n",
            "Epoch: 310 | Train loss: 0.003849536180496216 | Test loss: 0.022486865520477295\n",
            "Epoch: 320 | Train loss: 0.003849536180496216 | Test loss: 0.022486865520477295\n",
            "Epoch: 330 | Train loss: 0.003849536180496216 | Test loss: 0.022486865520477295\n",
            "Epoch: 340 | Train loss: 0.003849536180496216 | Test loss: 0.022486865520477295\n",
            "Epoch: 350 | Train loss: 0.003849536180496216 | Test loss: 0.022486865520477295\n",
            "Epoch: 360 | Train loss: 0.003849536180496216 | Test loss: 0.022486865520477295\n",
            "Epoch: 370 | Train loss: 0.003849536180496216 | Test loss: 0.022486865520477295\n",
            "Epoch: 380 | Train loss: 0.003849536180496216 | Test loss: 0.022486865520477295\n",
            "Epoch: 390 | Train loss: 0.003849536180496216 | Test loss: 0.022486865520477295\n",
            "Epoch: 400 | Train loss: 0.003849536180496216 | Test loss: 0.022486865520477295\n",
            "Epoch: 410 | Train loss: 0.003849536180496216 | Test loss: 0.022486865520477295\n",
            "Epoch: 420 | Train loss: 0.003849536180496216 | Test loss: 0.022486865520477295\n",
            "Epoch: 430 | Train loss: 0.003849536180496216 | Test loss: 0.022486865520477295\n",
            "Epoch: 440 | Train loss: 0.003849536180496216 | Test loss: 0.022486865520477295\n",
            "Epoch: 450 | Train loss: 0.003849536180496216 | Test loss: 0.022486865520477295\n",
            "Epoch: 460 | Train loss: 0.003849536180496216 | Test loss: 0.022486865520477295\n",
            "Epoch: 470 | Train loss: 0.003849536180496216 | Test loss: 0.022486865520477295\n",
            "Epoch: 480 | Train loss: 0.003849536180496216 | Test loss: 0.022486865520477295\n",
            "Epoch: 490 | Train loss: 0.003849536180496216 | Test loss: 0.022486865520477295\n"
          ]
        }
      ]
    },
    {
      "cell_type": "code",
      "source": [
        "# Find our model's learned parameters\n",
        "from pprint import pprint # pprint = pretty print, see: https://docs.python.org/3/library/pprint.html\n",
        "print(\"The model learned the following values for weights and bias:\")\n",
        "pprint(model_1.state_dict())\n",
        "print(\"\\nAnd the original values for weights and bias are:\")\n",
        "print(f\"weights: {weight}, bias: {bias}\")"
      ],
      "metadata": {
        "colab": {
          "base_uri": "https://localhost:8080/"
        },
        "id": "GBsVQ0XKrqwV",
        "outputId": "ef3c94ac-d206-45c2-ad92-d34522d6f5b7"
      },
      "execution_count": 154,
      "outputs": [
        {
          "output_type": "stream",
          "name": "stdout",
          "text": [
            "The model learned the following values for weights and bias:\n",
            "OrderedDict([('linearLayer.weight', tensor([[0.5968]])),\n",
            "             ('linearLayer.bias', tensor([0.5063]))])\n",
            "\n",
            "And the original values for weights and bias are:\n",
            "weights: 0.6, bias: 0.5\n"
          ]
        }
      ]
    },
    {
      "cell_type": "markdown",
      "source": [
        "Step 4 PREDICTING USING OUR TRAINED MODEL"
      ],
      "metadata": {
        "id": "xzwNt73DsrkQ"
      }
    },
    {
      "cell_type": "code",
      "source": [
        "model_1.eval()\n",
        "with torch.inference_mode():\n",
        "  final_y_pred=model_1(X_test)\n",
        "final_y_pred"
      ],
      "metadata": {
        "colab": {
          "base_uri": "https://localhost:8080/"
        },
        "id": "u2UEbAvxsdCm",
        "outputId": "7b2fd7d8-3f29-4930-9970-b2381b67447e"
      },
      "execution_count": 157,
      "outputs": [
        {
          "output_type": "execute_result",
          "data": {
            "text/plain": [
              "tensor([[1.4611],\n",
              "        [1.5208],\n",
              "        [1.5805],\n",
              "        [1.6402]])"
            ]
          },
          "metadata": {},
          "execution_count": 157
        }
      ]
    },
    {
      "cell_type": "code",
      "source": [
        "plot_prediction(predictions=final_y_pred)\n",
        "\n",
        "# so close cant even differentiate"
      ],
      "metadata": {
        "colab": {
          "base_uri": "https://localhost:8080/",
          "height": 599
        },
        "id": "DYav1tkds8PT",
        "outputId": "768eaa10-7762-4ed6-e68d-fbb39037e40c"
      },
      "execution_count": 160,
      "outputs": [
        {
          "output_type": "display_data",
          "data": {
            "text/plain": [
              "<Figure size 1000x700 with 1 Axes>"
            ],
            "image/png": "[encoded data removed]"
          },
          "metadata": {}
        }
      ]
    },
    {
      "cell_type": "markdown",
      "source": [
        "STEP 5 SAVING AND LOADING OUR MODEL"
      ],
      "metadata": {
        "id": "sp_sbTifthgO"
      }
    },
    {
      "cell_type": "code",
      "source": [
        "from pathlib import Path\n",
        "\n",
        "# 1. Create models directory\n",
        "MODEL_PATH = Path(\"models\")\n",
        "MODEL_PATH.mkdir(parents=True, exist_ok=True)\n",
        "\n",
        "# 2. Create model save path\n",
        "MODEL_NAME = \"01_pytorch_workflow_model_1.pth\"\n",
        "MODEL_SAVE_PATH = MODEL_PATH / MODEL_NAME\n",
        "\n",
        "# 3. Save the model state dict\n",
        "print(f\"Saving model to: {MODEL_SAVE_PATH}\")\n",
        "torch.save(obj=model_1.state_dict(), # only saving the state_dict() only saves the models learned parameters\n",
        "           f=MODEL_SAVE_PATH)"
      ],
      "metadata": {
        "colab": {
          "base_uri": "https://localhost:8080/"
        },
        "id": "fHOVRXdttAF4",
        "outputId": "4ef2e923-bd54-424f-a832-a8f0858df0b1"
      },
      "execution_count": 161,
      "outputs": [
        {
          "output_type": "stream",
          "name": "stdout",
          "text": [
            "Saving model to: models/01_pytorch_workflow_model_1.pth\n"
          ]
        }
      ]
    },
    {
      "cell_type": "code",
      "source": [
        "loaded_model_1=LinearRegressionModelV1()\n",
        "\n",
        "loaded_model_1.load_state_dict(torch.load(MODEL_SAVE_PATH))"
      ],
      "metadata": {
        "colab": {
          "base_uri": "https://localhost:8080/"
        },
        "id": "NduiFFuMtvVl",
        "outputId": "d68d56fb-6c89-43f1-c392-859a9fc3d23d"
      },
      "execution_count": 162,
      "outputs": [
        {
          "output_type": "stream",
          "name": "stderr",
          "text": [
            "<ipython-input-162-7a8ed5faf76e>:3: FutureWarning: You are using `torch.load` with `weights_only=False` (the current default value), which uses the default pickle module implicitly. It is possible to construct malicious pickle data which will execute arbitrary code during unpickling (See https://github.com/pytorch/pytorch/blob/main/SECURITY.md#untrusted-models for more details). In a future release, the default value for `weights_only` will be flipped to `True`. This limits the functions that could be executed during unpickling. Arbitrary objects will no longer be allowed to be loaded via this mode unless they are explicitly allowlisted by the user via `torch.serialization.add_safe_globals`. We recommend you start setting `weights_only=True` for any use case where you don't have full control of the loaded file. Please open an issue on GitHub for any issues related to this experimental feature.\n",
            "  loaded_model_1.load_state_dict(torch.load(MODEL_SAVE_PATH))\n"
          ]
        },
        {
          "output_type": "execute_result",
          "data": {
            "text/plain": [
              "<All keys matched successfully>"
            ]
          },
          "metadata": {},
          "execution_count": 162
        }
      ]
    },
    {
      "cell_type": "code",
      "source": [
        "# Evaluate loaded model\n",
        "loaded_model_1.eval()\n",
        "with torch.inference_mode():\n",
        "    loaded_model_1_preds = loaded_model_1(X_test)\n",
        "final_y_pred == loaded_model_1_preds"
      ],
      "metadata": {
        "colab": {
          "base_uri": "https://localhost:8080/"
        },
        "id": "FzBYztOauHnp",
        "outputId": "ec83714b-1876-47bc-a91c-33e5270422b9"
      },
      "execution_count": 163,
      "outputs": [
        {
          "output_type": "execute_result",
          "data": {
            "text/plain": [
              "tensor([[True],\n",
              "        [True],\n",
              "        [True],\n",
              "        [True]])"
            ]
          },
          "metadata": {},
          "execution_count": 163
        }
      ]
    },
    {
      "cell_type": "markdown",
      "source": [
        "# **EXERCISES**"
      ],
      "metadata": {
        "id": "H24YJ9XOugV2"
      }
    },
    {
      "cell_type": "markdown",
      "source": [
        "write device agnostic code"
      ],
      "metadata": {
        "id": "2VpX8PQM4XDR"
      }
    },
    {
      "cell_type": "code",
      "source": [
        "device = \"cuda\" if torch.cuda.is_available() else \"cpu\"\n",
        "device"
      ],
      "metadata": {
        "colab": {
          "base_uri": "https://localhost:8080/",
          "height": 36
        },
        "id": "edI-37HguQQh",
        "outputId": "d312a42a-8003-4bc2-e055-56b02ee9389c"
      },
      "execution_count": 165,
      "outputs": [
        {
          "output_type": "execute_result",
          "data": {
            "text/plain": [
              "'cpu'"
            ],
            "application/vnd.google.colaboratory.intrinsic+json": {
              "type": "string"
            }
          },
          "metadata": {},
          "execution_count": 165
        }
      ]
    },
    {
      "cell_type": "markdown",
      "source": [
        "# 1"
      ],
      "metadata": {
        "id": "A4JNIyJH8lz7"
      }
    },
    {
      "cell_type": "code",
      "source": [
        "weight=0.3\n",
        "bias=0.9\n",
        "x=torch.arange(0,10,0.1,device=device).unsqueeze(dim=1)\n",
        "y=weight*x + bias\n",
        "print(y,y.size(),y.device,len(y))"
      ],
      "metadata": {
        "colab": {
          "base_uri": "https://localhost:8080/"
        },
        "collapsed": true,
        "id": "frdr8a1H4iWp",
        "outputId": "db835628-0e49-48f1-8059-d20b06cb95bb"
      },
      "execution_count": 173,
      "outputs": [
        {
          "output_type": "stream",
          "name": "stdout",
          "text": [
            "tensor([[0.9000],\n",
            "        [0.9300],\n",
            "        [0.9600],\n",
            "        [0.9900],\n",
            "        [1.0200],\n",
            "        [1.0500],\n",
            "        [1.0800],\n",
            "        [1.1100],\n",
            "        [1.1400],\n",
            "        [1.1700],\n",
            "        [1.2000],\n",
            "        [1.2300],\n",
            "        [1.2600],\n",
            "        [1.2900],\n",
            "        [1.3200],\n",
            "        [1.3500],\n",
            "        [1.3800],\n",
            "        [1.4100],\n",
            "        [1.4400],\n",
            "        [1.4700],\n",
            "        [1.5000],\n",
            "        [1.5300],\n",
            "        [1.5600],\n",
            "        [1.5900],\n",
            "        [1.6200],\n",
            "        [1.6500],\n",
            "        [1.6800],\n",
            "        [1.7100],\n",
            "        [1.7400],\n",
            "        [1.7700],\n",
            "        [1.8000],\n",
            "        [1.8300],\n",
            "        [1.8600],\n",
            "        [1.8900],\n",
            "        [1.9200],\n",
            "        [1.9500],\n",
            "        [1.9800],\n",
            "        [2.0100],\n",
            "        [2.0400],\n",
            "        [2.0700],\n",
            "        [2.1000],\n",
            "        [2.1300],\n",
            "        [2.1600],\n",
            "        [2.1900],\n",
            "        [2.2200],\n",
            "        [2.2500],\n",
            "        [2.2800],\n",
            "        [2.3100],\n",
            "        [2.3400],\n",
            "        [2.3700],\n",
            "        [2.4000],\n",
            "        [2.4300],\n",
            "        [2.4600],\n",
            "        [2.4900],\n",
            "        [2.5200],\n",
            "        [2.5500],\n",
            "        [2.5800],\n",
            "        [2.6100],\n",
            "        [2.6400],\n",
            "        [2.6700],\n",
            "        [2.7000],\n",
            "        [2.7300],\n",
            "        [2.7600],\n",
            "        [2.7900],\n",
            "        [2.8200],\n",
            "        [2.8500],\n",
            "        [2.8800],\n",
            "        [2.9100],\n",
            "        [2.9400],\n",
            "        [2.9700],\n",
            "        [3.0000],\n",
            "        [3.0300],\n",
            "        [3.0600],\n",
            "        [3.0900],\n",
            "        [3.1200],\n",
            "        [3.1500],\n",
            "        [3.1800],\n",
            "        [3.2100],\n",
            "        [3.2400],\n",
            "        [3.2700],\n",
            "        [3.3000],\n",
            "        [3.3300],\n",
            "        [3.3600],\n",
            "        [3.3900],\n",
            "        [3.4200],\n",
            "        [3.4500],\n",
            "        [3.4800],\n",
            "        [3.5100],\n",
            "        [3.5400],\n",
            "        [3.5700],\n",
            "        [3.6000],\n",
            "        [3.6300],\n",
            "        [3.6600],\n",
            "        [3.6900],\n",
            "        [3.7200],\n",
            "        [3.7500],\n",
            "        [3.7800],\n",
            "        [3.8100],\n",
            "        [3.8400],\n",
            "        [3.8700]]) torch.Size([100, 1]) cpu 100\n"
          ]
        }
      ]
    },
    {
      "cell_type": "code",
      "source": [
        "split=int(0.8*len(x))\n",
        "X_train,y_train=x[:split] , y[:split]\n",
        "X_test,y_test=x[split:] , y[split: ]\n",
        "\n",
        "X_train=X_train.to(device)\n",
        "y_train=y_train.to(device)\n",
        "X_test=X_test.to(device)\n",
        "y_test=y_test.to(device)"
      ],
      "metadata": {
        "id": "mHBlcBOg49yA"
      },
      "execution_count": 177,
      "outputs": []
    },
    {
      "cell_type": "code",
      "source": [
        "def plot_prediction(train_data=X_train,train_labels=y_train,\n",
        "                    test_data=X_test,test_labels=y_test,\n",
        "                    predictions=None):\n",
        "  plt.figure(figsize=(5,5))\n",
        "\n",
        "  plt.scatter(train_data,train_labels,c='b',s=4,label=\"training data\")\n",
        "\n",
        "  plt.scatter(test_data,test_labels,c='g',s=4,label=\"testing data\")\n",
        "\n",
        "  if (predictions !=None):\n",
        "    plt.scatter(test_data,predictions,c=\"r\",s=4,label=\"prediction\")\n",
        "\n",
        "  plt.legend()\n",
        "  plt.show()\n",
        ""
      ],
      "metadata": {
        "id": "Uj0R_WqH7rbt"
      },
      "execution_count": 178,
      "outputs": []
    },
    {
      "cell_type": "code",
      "source": [
        "plot_prediction()"
      ],
      "metadata": {
        "colab": {
          "base_uri": "https://localhost:8080/",
          "height": 449
        },
        "id": "HvmMXxM58ddW",
        "outputId": "3372f1df-7da4-4914-82c2-662e223216d8"
      },
      "execution_count": 179,
      "outputs": [
        {
          "output_type": "display_data",
          "data": {
            "text/plain": [
              "<Figure size 500x500 with 1 Axes>"
            ],
            "image/png": "[encoded data removed]"
          },
          "metadata": {}
        }
      ]
    },
    {
      "cell_type": "markdown",
      "source": [
        "# 2\n"
      ],
      "metadata": {
        "id": "TK5V8Qfe8sWN"
      }
    },
    {
      "cell_type": "code",
      "source": [
        "class LinearRegressionModelV2(nn.Module):\n",
        "  def __init__(self):\n",
        "    super().__init__()\n",
        "\n",
        "    self.linearLayer=nn.Linear(in_features=1,\n",
        "                              out_features=1)\n",
        "\n",
        "\n",
        "\n",
        "  def forward(self,x:torch.Tensor)->torch.Tensor:\n",
        "    return self.linearLayer(x)\n",
        "\n",
        "\n",
        "torch.manual_seed(42)\n",
        "model_3=LinearRegressionModelV2();\n",
        "print(model_3.state_dict(),next(model_3.parameters()).device)"
      ],
      "metadata": {
        "colab": {
          "base_uri": "https://localhost:8080/"
        },
        "id": "UeAD3Cmd8fYM",
        "outputId": "485dee34-7144-4aaa-8dab-79560f01c006"
      },
      "execution_count": 186,
      "outputs": [
        {
          "output_type": "stream",
          "name": "stdout",
          "text": [
            "OrderedDict([('linearLayer.weight', tensor([[0.7645]])), ('linearLayer.bias', tensor([0.8300]))]) cpu\n"
          ]
        }
      ]
    },
    {
      "cell_type": "code",
      "source": [
        "model_3.to(device)\n",
        "print(next(model_3.parameters()).device)"
      ],
      "metadata": {
        "colab": {
          "base_uri": "https://localhost:8080/"
        },
        "id": "4w5lrLxG-MX3",
        "outputId": "2a63ed18-6a80-4c0d-dfb2-fcf82f307564"
      },
      "execution_count": 187,
      "outputs": [
        {
          "output_type": "stream",
          "name": "stdout",
          "text": [
            "cpu\n"
          ]
        }
      ]
    },
    {
      "cell_type": "markdown",
      "source": [
        "# 3\n"
      ],
      "metadata": {
        "id": "rvpWshKoNDHo"
      }
    },
    {
      "cell_type": "code",
      "source": [
        "loss_fnc_my=nn.L1Loss();\n",
        "\n",
        "optimizer_my=torch.optim.SGD(params=model_3.parameters(),\n",
        "                         lr=0.01)"
      ],
      "metadata": {
        "id": "YmJDKqr--qiu"
      },
      "execution_count": 193,
      "outputs": []
    },
    {
      "cell_type": "code",
      "source": [
        "# Training loop\n",
        "\n",
        "def training_loop(model,data,labels,loss_fnc,optimizer):\n",
        "  model.train()\n",
        "  y_pred=model(data)\n",
        "  train_loss=loss_fnc(y_pred,labels)\n",
        "  optimizer.zero_grad()\n",
        "  train_loss.backward()\n",
        "  optimizer.step()\n",
        "\n",
        "  return train_loss"
      ],
      "metadata": {
        "id": "vXGuEsx7NXup"
      },
      "execution_count": 194,
      "outputs": []
    },
    {
      "cell_type": "code",
      "source": [
        "# testing loop\n",
        "\n",
        "def testing_loop(model,data,labels,loss_fnc,optimizer):\n",
        "  model.eval()\n",
        "  with torch.inference_mode():\n",
        "    y_pred=model(data)\n",
        "    test_loss=loss_fnc(y_pred,labels)\n",
        "  return test_loss\n",
        ""
      ],
      "metadata": {
        "id": "HjQC5wH0OWr0"
      },
      "execution_count": 195,
      "outputs": []
    },
    {
      "cell_type": "code",
      "source": [
        "torch.manual_seed(42)\n",
        "epochs=300\n",
        "\n",
        "for epoch in range(epochs):\n",
        "  train_loss = training_loop(model_3,X_train,y_train,loss_fnc_my,optimizer_my)\n",
        "  if(epoch%20==0):\n",
        "    test_loss = testing_loop(model_3,X_test,y_test,loss_fnc_my,optimizer_my)\n",
        "    print(f\"Epoch {epoch} | Train loss {train_loss} | Test Loss {test_loss}\")"
      ],
      "metadata": {
        "colab": {
          "base_uri": "https://localhost:8080/"
        },
        "id": "UAzlMmYHO2ct",
        "outputId": "d35371f7-0ae4-46b6-a27f-31ff7fb252d3"
      },
      "execution_count": 196,
      "outputs": [
        {
          "output_type": "stream",
          "name": "stdout",
          "text": [
            "Epoch 0 | Train loss 1.7672735452651978 | Test Loss 3.7248260974884033\n",
            "Epoch 20 | Train loss 0.07500676810741425 | Test Loss 0.3603351414203644\n",
            "Epoch 40 | Train loss 0.08991314470767975 | Test Loss 0.26105359196662903\n",
            "Epoch 60 | Train loss 0.025813329964876175 | Test Loss 0.36515316367149353\n",
            "Epoch 80 | Train loss 0.037320829927921295 | Test Loss 0.3143957257270813\n",
            "Epoch 100 | Train loss 0.021646490320563316 | Test Loss 0.3375694155693054\n",
            "Epoch 120 | Train loss 0.01556048821657896 | Test Loss 0.3450304865837097\n",
            "Epoch 140 | Train loss 0.013060671277344227 | Test Loss 0.3475303053855896\n",
            "Epoch 160 | Train loss 0.012310720048844814 | Test Loss 0.3482802212238312\n",
            "Epoch 180 | Train loss 0.012310720048844814 | Test Loss 0.3482802212238312\n",
            "Epoch 200 | Train loss 0.012310720048844814 | Test Loss 0.3482802212238312\n",
            "Epoch 220 | Train loss 0.012310720048844814 | Test Loss 0.3482802212238312\n",
            "Epoch 240 | Train loss 0.012310720048844814 | Test Loss 0.3482802212238312\n",
            "Epoch 260 | Train loss 0.012310720048844814 | Test Loss 0.3482802212238312\n",
            "Epoch 280 | Train loss 0.012310720048844814 | Test Loss 0.3482802212238312\n"
          ]
        }
      ]
    },
    {
      "cell_type": "markdown",
      "source": [
        "# 4\n"
      ],
      "metadata": {
        "id": "9VvyC6UsPmb2"
      }
    },
    {
      "cell_type": "code",
      "source": [
        "model_3.eval()\n",
        "with torch.inference_mode():\n",
        "  y_pred=model_3(X_test)"
      ],
      "metadata": {
        "id": "YXuVmZJbPhxE"
      },
      "execution_count": 197,
      "outputs": []
    },
    {
      "cell_type": "code",
      "source": [
        "y_pred.device"
      ],
      "metadata": {
        "colab": {
          "base_uri": "https://localhost:8080/"
        },
        "id": "xzAVdDjvP3fL",
        "outputId": "44a39889-4d69-4253-be60-0b06e519f4cd"
      },
      "execution_count": 199,
      "outputs": [
        {
          "output_type": "execute_result",
          "data": {
            "text/plain": [
              "device(type='cpu')"
            ]
          },
          "metadata": {},
          "execution_count": 199
        }
      ]
    },
    {
      "cell_type": "code",
      "source": [
        "plot_prediction(predictions=y_pred)"
      ],
      "metadata": {
        "colab": {
          "base_uri": "https://localhost:8080/",
          "height": 449
        },
        "id": "EVx_15ZsPwEq",
        "outputId": "9f4f263f-c5dc-41df-d1b2-169005feab47"
      },
      "execution_count": 198,
      "outputs": [
        {
          "output_type": "display_data",
          "data": {
            "text/plain": [
              "<Figure size 500x500 with 1 Axes>"
            ],
            "image/png": "[encoded data removed]"
          },
          "metadata": {}
        }
      ]
    },
    {
      "cell_type": "markdown",
      "source": [
        "# 5"
      ],
      "metadata": {
        "id": "e7CYdZW9P7Cp"
      }
    },
    {
      "cell_type": "code",
      "source": [
        "from pathlib import Path\n",
        "\n",
        "MODEL_PATH=Path(\"models\")\n",
        "MODEL_PATH.mkdir(parents=True,exist_ok=True)\n",
        "\n",
        "\n",
        "MODEL_NAME=\"01_pytorch_model_3.pth\"\n",
        "MODEL_SAVE_PATH=MODEL_PATH/MODEL_NAME\n",
        "\n",
        "torch.save(obj=model_3.state_dict(),f=MODEL_SAVE_PATH)\n"
      ],
      "metadata": {
        "id": "7WkgvydtPzg7"
      },
      "execution_count": 200,
      "outputs": []
    },
    {
      "cell_type": "code",
      "source": [
        "loaded_model_3=LinearRegressionModelV2()\n",
        "loaded_model_3.load_state_dict(torch.load(f=MODEL_SAVE_PATH))\n"
      ],
      "metadata": {
        "colab": {
          "base_uri": "https://localhost:8080/"
        },
        "id": "eNea2OjQQjiq",
        "outputId": "b3d672dc-bb9e-4b3d-9548-edca38b8a976"
      },
      "execution_count": 201,
      "outputs": [
        {
          "output_type": "stream",
          "name": "stderr",
          "text": [
            "<ipython-input-201-17a88170b04a>:2: FutureWarning: You are using `torch.load` with `weights_only=False` (the current default value), which uses the default pickle module implicitly. It is possible to construct malicious pickle data which will execute arbitrary code during unpickling (See https://github.com/pytorch/pytorch/blob/main/SECURITY.md#untrusted-models for more details). In a future release, the default value for `weights_only` will be flipped to `True`. This limits the functions that could be executed during unpickling. Arbitrary objects will no longer be allowed to be loaded via this mode unless they are explicitly allowlisted by the user via `torch.serialization.add_safe_globals`. We recommend you start setting `weights_only=True` for any use case where you don't have full control of the loaded file. Please open an issue on GitHub for any issues related to this experimental feature.\n",
            "  loaded_model_3.load_state_dict(torch.load(f=MODEL_SAVE_PATH))\n"
          ]
        },
        {
          "output_type": "execute_result",
          "data": {
            "text/plain": [
              "<All keys matched successfully>"
            ]
          },
          "metadata": {},
          "execution_count": 201
        }
      ]
    },
    {
      "cell_type": "code",
      "source": [
        "print(model_3.state_dict(),loaded_model_3.state_dict())"
      ],
      "metadata": {
        "colab": {
          "base_uri": "https://localhost:8080/"
        },
        "id": "UpOZ6O_UQ2qy",
        "outputId": "b7e61afa-ce7f-4aea-c105-3fcb6287230e"
      },
      "execution_count": 202,
      "outputs": [
        {
          "output_type": "stream",
          "name": "stdout",
          "text": [
            "OrderedDict([('linearLayer.weight', tensor([[0.2994]])), ('linearLayer.bias', tensor([0.8900]))]) OrderedDict([('linearLayer.weight', tensor([[0.2994]])), ('linearLayer.bias', tensor([0.8900]))])\n"
          ]
        }
      ]
    },
    {
      "cell_type": "code",
      "source": [
        "loaded_model_3.eval()\n",
        "with torch.inference_mode():\n",
        "  y_load_pred=loaded_model_3(X_test)\n",
        "y_load_pred==y_pred"
      ],
      "metadata": {
        "colab": {
          "base_uri": "https://localhost:8080/"
        },
        "id": "JMaWEGEqQ7HI",
        "outputId": "67d24c57-6d77-40d7-e70a-b3ff40155a67"
      },
      "execution_count": 204,
      "outputs": [
        {
          "output_type": "execute_result",
          "data": {
            "text/plain": [
              "tensor([[True],\n",
              "        [True],\n",
              "        [True],\n",
              "        [True],\n",
              "        [True],\n",
              "        [True],\n",
              "        [True],\n",
              "        [True],\n",
              "        [True],\n",
              "        [True],\n",
              "        [True],\n",
              "        [True],\n",
              "        [True],\n",
              "        [True],\n",
              "        [True],\n",
              "        [True],\n",
              "        [True],\n",
              "        [True],\n",
              "        [True],\n",
              "        [True]])"
            ]
          },
          "metadata": {},
          "execution_count": 204
        }
      ]
    },
    {
      "cell_type": "code",
      "source": [],
      "metadata": {
        "id": "XNXTdJkrRb4C"
      },
      "execution_count": null,
      "outputs": []
    },
    {
      "cell_type": "code",
      "source": [],
      "metadata": {
        "id": "do4i5KyeRKYc"
      },
      "execution_count": null,
      "outputs": []
    }
  ]
}