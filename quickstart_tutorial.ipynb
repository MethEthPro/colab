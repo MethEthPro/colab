{
  "cells": [
    {
      "cell_type": "markdown",
      "metadata": {
        "id": "view-in-github",
        "colab_type": "text"
      },
      "source": [
        "<a href=\"https://colab.research.google.com/github/MethEthPro/colab/blob/main/quickstart_tutorial.ipynb\" target=\"_parent\"><img src=\"https://colab.research.google.com/assets/colab-badge.svg\" alt=\"Open In Colab\"/></a>"
      ]
    },
    {
      "cell_type": "code",
      "execution_count": null,
      "metadata": {
        "id": "mHeinB9MTztw"
      },
      "outputs": [],
      "source": [
        "# For tips on running notebooks in Google Colab, see\n",
        "# https://pytorch.org/tutorials/beginner/colab\n",
        "%matplotlib inline"
      ]
    },
    {
      "cell_type": "markdown",
      "metadata": {
        "id": "u8Gu1bvDTzty"
      },
      "source": [
        "[Learn the Basics](intro.html) \\|\\| **Quickstart** \\|\\|\n",
        "[Tensors](tensorqs_tutorial.html) \\|\\| [Datasets &\n",
        "DataLoaders](data_tutorial.html) \\|\\|\n",
        "[Transforms](transforms_tutorial.html) \\|\\| [Build\n",
        "Model](buildmodel_tutorial.html) \\|\\|\n",
        "[Autograd](autogradqs_tutorial.html) \\|\\|\n",
        "[Optimization](optimization_tutorial.html) \\|\\| [Save & Load\n",
        "Model](saveloadrun_tutorial.html)\n",
        "\n",
        "Quickstart\n",
        "==========\n",
        "\n",
        "This section runs through the API for common tasks in machine learning.\n",
        "Refer to the links in each section to dive deeper.\n",
        "\n",
        "Working with data\n",
        "-----------------\n",
        "\n",
        "PyTorch has two [primitives to work with\n",
        "data](https://pytorch.org/docs/stable/data.html):\n",
        "`torch.utils.data.DataLoader` and `torch.utils.data.Dataset`. `Dataset`\n",
        "stores the samples and their corresponding labels, and `DataLoader`\n",
        "wraps an iterable around the `Dataset`.\n"
      ]
    },
    {
      "cell_type": "code",
      "execution_count": 1,
      "metadata": {
        "id": "jJx8ziJBTzt0"
      },
      "outputs": [],
      "source": [
        "import torch\n",
        "from torch import nn\n",
        "from torch.utils.data import DataLoader\n",
        "from torchvision import datasets\n",
        "from torchvision.transforms import ToTensor"
      ]
    },
    {
      "cell_type": "markdown",
      "metadata": {
        "id": "zvIUooziTzt1"
      },
      "source": [
        "PyTorch offers domain-specific libraries such as\n",
        "[TorchText](https://pytorch.org/text/stable/index.html),\n",
        "[TorchVision](https://pytorch.org/vision/stable/index.html), and\n",
        "[TorchAudio](https://pytorch.org/audio/stable/index.html), all of which\n",
        "include datasets. For this tutorial, we will be using a TorchVision\n",
        "dataset.\n",
        "\n",
        "The `torchvision.datasets` module contains `Dataset` objects for many\n",
        "real-world vision data like CIFAR, COCO ([full list\n",
        "here](https://pytorch.org/vision/stable/datasets.html)). In this\n",
        "tutorial, we use the FashionMNIST dataset. Every TorchVision `Dataset`\n",
        "includes two arguments: `transform` and `target_transform` to modify the\n",
        "samples and labels respectively.\n"
      ]
    },
    {
      "cell_type": "code",
      "execution_count": 2,
      "metadata": {
        "collapsed": true,
        "id": "_veVCRBoTzt2",
        "outputId": "f743dc06-7c78-4032-f08c-701ec475a3a9",
        "colab": {
          "base_uri": "https://localhost:8080/"
        }
      },
      "outputs": [
        {
          "output_type": "stream",
          "name": "stdout",
          "text": [
            "Downloading http://fashion-mnist.s3-website.eu-central-1.amazonaws.com/train-images-idx3-ubyte.gz\n",
            "Downloading http://fashion-mnist.s3-website.eu-central-1.amazonaws.com/train-images-idx3-ubyte.gz to data/FashionMNIST/raw/train-images-idx3-ubyte.gz\n"
          ]
        },
        {
          "output_type": "stream",
          "name": "stderr",
          "text": [
            "100%|██████████| 26.4M/26.4M [00:02<00:00, 11.9MB/s]\n"
          ]
        },
        {
          "output_type": "stream",
          "name": "stdout",
          "text": [
            "Extracting data/FashionMNIST/raw/train-images-idx3-ubyte.gz to data/FashionMNIST/raw\n",
            "\n",
            "Downloading http://fashion-mnist.s3-website.eu-central-1.amazonaws.com/train-labels-idx1-ubyte.gz\n",
            "Downloading http://fashion-mnist.s3-website.eu-central-1.amazonaws.com/train-labels-idx1-ubyte.gz to data/FashionMNIST/raw/train-labels-idx1-ubyte.gz\n"
          ]
        },
        {
          "output_type": "stream",
          "name": "stderr",
          "text": [
            "100%|██████████| 29.5k/29.5k [00:00<00:00, 268kB/s]\n"
          ]
        },
        {
          "output_type": "stream",
          "name": "stdout",
          "text": [
            "Extracting data/FashionMNIST/raw/train-labels-idx1-ubyte.gz to data/FashionMNIST/raw\n",
            "\n",
            "Downloading http://fashion-mnist.s3-website.eu-central-1.amazonaws.com/t10k-images-idx3-ubyte.gz\n",
            "Downloading http://fashion-mnist.s3-website.eu-central-1.amazonaws.com/t10k-images-idx3-ubyte.gz to data/FashionMNIST/raw/t10k-images-idx3-ubyte.gz\n"
          ]
        },
        {
          "output_type": "stream",
          "name": "stderr",
          "text": [
            "100%|██████████| 4.42M/4.42M [00:00<00:00, 4.99MB/s]\n"
          ]
        },
        {
          "output_type": "stream",
          "name": "stdout",
          "text": [
            "Extracting data/FashionMNIST/raw/t10k-images-idx3-ubyte.gz to data/FashionMNIST/raw\n",
            "\n",
            "Downloading http://fashion-mnist.s3-website.eu-central-1.amazonaws.com/t10k-labels-idx1-ubyte.gz\n",
            "Downloading http://fashion-mnist.s3-website.eu-central-1.amazonaws.com/t10k-labels-idx1-ubyte.gz to data/FashionMNIST/raw/t10k-labels-idx1-ubyte.gz\n"
          ]
        },
        {
          "output_type": "stream",
          "name": "stderr",
          "text": [
            "100%|██████████| 5.15k/5.15k [00:00<00:00, 13.1MB/s]"
          ]
        },
        {
          "output_type": "stream",
          "name": "stdout",
          "text": [
            "Extracting data/FashionMNIST/raw/t10k-labels-idx1-ubyte.gz to data/FashionMNIST/raw\n",
            "\n"
          ]
        },
        {
          "output_type": "stream",
          "name": "stderr",
          "text": [
            "\n"
          ]
        }
      ],
      "source": [
        "# Download training data from open datasets.\n",
        "training_data = datasets.FashionMNIST(\n",
        "    root=\"data\",\n",
        "    train=True,\n",
        "    download=True,\n",
        "    transform=ToTensor(),\n",
        ")\n",
        "\n",
        "# Download test data from open datasets.\n",
        "test_data = datasets.FashionMNIST(\n",
        "    root=\"data\",\n",
        "    train=False,\n",
        "    download=True,\n",
        "    transform=ToTensor(),\n",
        ")"
      ]
    },
    {
      "cell_type": "markdown",
      "source": [
        "# Iterating and Visualizing the Dataset"
      ],
      "metadata": {
        "id": "QtoZDKafWpf0"
      }
    },
    {
      "cell_type": "code",
      "source": [
        "import matplotlib.pyplot as plt\n",
        "\n",
        "labels_map = {\n",
        "    0: \"T-Shirt\",\n",
        "    1: \"Trouser\",\n",
        "    2: \"Pullover\",\n",
        "    3: \"Dress\",\n",
        "    4: \"Coat\",\n",
        "    5: \"Sandal\",\n",
        "    6: \"Shirt\",\n",
        "    7: \"Sneaker\",\n",
        "    8: \"Bag\",\n",
        "    9: \"Ankle Boot\",\n",
        "}\n",
        "# this converts all the labels into a form that we can understand\n",
        "\n",
        "figure = plt.figure(figsize=(8, 8))\n",
        "cols, rows = 3, 3\n",
        "# this defines a space to plot our data , with 3 rows and 3 columns\n",
        "\n",
        "print(len(training_data))\n",
        "# we see that we have 60000 samples\n",
        "\n",
        "\n",
        "for i in range(1, cols * rows + 1):\n",
        "    sample_idx = torch.randint(len(training_data), size=(1,)).item()\n",
        "    # we get a random id\n",
        "    print(sample_idx)\n",
        "    img, label = training_data[sample_idx]\n",
        "    # from the id we get a tuple (image tensor , label)\n",
        "    figure.add_subplot(rows, cols, i)\n",
        "    # plot it\n",
        "    plt.title(labels_map[label])\n",
        "    # converts the labels to text , so we can understand it\n",
        "    plt.axis(\"off\")\n",
        "    plt.imshow(img.squeeze(), cmap=\"gray\")\n",
        "    # convert image to greyscale\n",
        "plt.show()"
      ],
      "metadata": {
        "id": "rl-WTpFCWm7G",
        "outputId": "25660894-e350-44d1-a604-50d0670a6718",
        "colab": {
          "base_uri": "https://localhost:8080/",
          "height": 849
        }
      },
      "execution_count": 11,
      "outputs": [
        {
          "output_type": "stream",
          "name": "stdout",
          "text": [
            "60000\n",
            "18035\n",
            "55155\n",
            "23466\n",
            "38234\n",
            "57057\n",
            "50489\n",
            "37999\n",
            "47645\n",
            "8515\n"
          ]
        },
        {
          "output_type": "display_data",
          "data": {
            "text/plain": [
              "<Figure size 800x800 with 9 Axes>"
            ],
            "image/png": "[encoded data removed]"
          },
          "metadata": {}
        }
      ]
    },
    {
      "cell_type": "markdown",
      "metadata": {
        "id": "CJqwA7GeTzt2"
      },
      "source": [
        "We pass the `Dataset` as an argument to `DataLoader`. This wraps an\n",
        "iterable over our dataset, and supports automatic batching, sampling,\n",
        "shuffling and multiprocess data loading. Here we define a batch size of\n",
        "64, i.e. each element in the dataloader iterable will return a batch of\n",
        "64 features and labels.\n"
      ]
    },
    {
      "cell_type": "code",
      "execution_count": 12,
      "metadata": {
        "id": "aUxAxAFDTzt2",
        "outputId": "980644a7-6d2e-4d23-bc82-c9c3bbb487a5",
        "colab": {
          "base_uri": "https://localhost:8080/"
        }
      },
      "outputs": [
        {
          "output_type": "stream",
          "name": "stdout",
          "text": [
            "Shape of X [N, C, H, W]: torch.Size([64, 1, 28, 28])\n",
            "Shape of y: torch.Size([64]) torch.int64\n"
          ]
        }
      ],
      "source": [
        "batch_size = 64\n",
        "# Batch size refers to the number of samples processed before the model's\n",
        "# internal parameters (like weights) are updated during training in machine\n",
        "# learning and deep learning.\n",
        "\n",
        "\n",
        "# Create data loaders.\n",
        "train_dataloader = DataLoader(training_data, batch_size=batch_size)\n",
        "test_dataloader = DataLoader(test_data, batch_size=batch_size)\n",
        "\n",
        "\n",
        "# X is a batch of input data(image in this case)\n",
        "# Y is the corresponding labels for batch of input data\n",
        "for X, y in test_dataloader:\n",
        "\n",
        "    # N is batch size (no of samples in the batch)\n",
        "    # C is the number of channels in each input(1 for grascale img , 3 for rgb)\n",
        "    # H is the height of each image\n",
        "    # W is the width of each image\n",
        "\n",
        "\n",
        "    # X.shape is of [N,C,H,W] format\n",
        "    # Typically, y.shape will be [N], where N is the batch size.\n",
        "    # This means there is one label for each input in the batch.\n",
        "\n",
        "    print(f\"Shape of X [N, C, H, W]: {X.shape}\")\n",
        "    print(f\"Shape of y: {y.shape} {y.dtype}\")\n",
        "    break"
      ]
    },
    {
      "cell_type": "markdown",
      "metadata": {
        "id": "htMApu8STzt3"
      },
      "source": [
        "Read more about [loading data in PyTorch](data_tutorial.html).\n"
      ]
    },
    {
      "cell_type": "markdown",
      "metadata": {
        "id": "5PcvATixTzt3"
      },
      "source": [
        "------------------------------------------------------------------------\n"
      ]
    },
    {
      "cell_type": "markdown",
      "metadata": {
        "id": "4KyRTzmCTzt4"
      },
      "source": [
        "Creating Models\n",
        "===============\n",
        "\n",
        "To define a neural network in PyTorch, we create a class that inherits\n",
        "from\n",
        "[nn.Module](https://pytorch.org/docs/stable/generated/torch.nn.Module.html).\n",
        "We define the layers of the network in the `__init__` function and\n",
        "specify how data will pass through the network in the `forward`\n",
        "function. To accelerate operations in the neural network, we move it to\n",
        "the GPU or MPS if available.\n"
      ]
    },
    {
      "cell_type": "code",
      "execution_count": 13,
      "metadata": {
        "id": "UHy9Pc1ITzt4",
        "outputId": "9c630fd6-d3fa-4dc3-a34e-424542ec1b4b",
        "colab": {
          "base_uri": "https://localhost:8080/"
        }
      },
      "outputs": [
        {
          "output_type": "stream",
          "name": "stdout",
          "text": [
            "Using cpu device\n",
            "NeuralNetwork(\n",
            "  (flatten): Flatten(start_dim=1, end_dim=-1)\n",
            "  (linear_relu_stack): Sequential(\n",
            "    (0): Linear(in_features=784, out_features=512, bias=True)\n",
            "    (1): ReLU()\n",
            "    (2): Linear(in_features=512, out_features=512, bias=True)\n",
            "    (3): ReLU()\n",
            "    (4): Linear(in_features=512, out_features=10, bias=True)\n",
            "  )\n",
            ")\n"
          ]
        }
      ],
      "source": [
        "# Get cpu, gpu or mps device for training.\n",
        "device = (\n",
        "    \"cuda\"\n",
        "    if torch.cuda.is_available()\n",
        "    else \"mps\"\n",
        "    if torch.backends.mps.is_available()\n",
        "    else \"cpu\"\n",
        ")\n",
        "print(f\"Using {device} device\")\n",
        "\n",
        "\n",
        "# Define the model class\n",
        "class NeuralNetwork(nn.Module):  # Inherit from PyTorch's nn.Module\n",
        "    def __init__(self):\n",
        "        super().__init__()  # Initialize the parent class (nn.Module)\n",
        "\n",
        "        # Define a layer to flatten input tensors from [N, C, H, W] to [N, C*H*W]\n",
        "        self.flatten = nn.Flatten()\n",
        "        # [N,1,28,28]-->[N,1*28*28]\n",
        "\n",
        "        # Define a sequence of layers for the network\n",
        "        self.linear_relu_stack = nn.Sequential(\n",
        "            nn.Linear(28*28, 512),  # Fully connected layer: 28*28 pixels -> 512 neurons\n",
        "            nn.ReLU(),              # ReLU activation function\n",
        "            nn.Linear(512, 512),    # Fully connected layer: 512 -> 512 neurons\n",
        "            nn.ReLU(),              # ReLU activation function , it turns negative values to zero\n",
        "            nn.Linear(512, 10)      # Fully connected layer: 512 -> 10 neurons (output classes)\n",
        "        )\n",
        "\n",
        "    # Forward pass: Defines how input data flows through the network\n",
        "    def forward(self, x):\n",
        "        x = self.flatten(x)          # Flatten the input image to a 1D vector\n",
        "        logits = self.linear_relu_stack(x)  # Pass the flattened input through the stack of layers\n",
        "        return logits                # Return the raw output (logits)\n",
        "\n",
        "# Create the model instance and move it to the specified device (CPU or GPU)\n",
        "model = NeuralNetwork().to(device)\n",
        "\n",
        "# Print the model architecture\n",
        "print(model)"
      ]
    },
    {
      "cell_type": "markdown",
      "metadata": {
        "id": "-T9UxXHGTzt4"
      },
      "source": [
        "Read more about [building neural networks in\n",
        "PyTorch](buildmodel_tutorial.html).\n"
      ]
    },
    {
      "cell_type": "markdown",
      "metadata": {
        "id": "JnZy2s_ETzt5"
      },
      "source": [
        "------------------------------------------------------------------------\n"
      ]
    },
    {
      "cell_type": "markdown",
      "metadata": {
        "id": "ICNFJxYqTzt5"
      },
      "source": [
        "Optimizing the Model Parameters\n",
        "===============================\n",
        "\n",
        "To train a model, we need a [loss\n",
        "function](https://pytorch.org/docs/stable/nn.html#loss-functions) and an\n",
        "[optimizer](https://pytorch.org/docs/stable/optim.html).\n"
      ]
    },
    {
      "cell_type": "code",
      "execution_count": 14,
      "metadata": {
        "id": "N1mBqji_Tzt5"
      },
      "outputs": [],
      "source": [
        "# Define the loss function\n",
        "loss_fn = nn.CrossEntropyLoss()\n",
        "# CrossEntropyLoss combines:\n",
        "#   - LogSoftmax: Converts raw logits into log probabilities.\n",
        "#   - Negative Log-Likelihood Loss: Measures the difference between predicted probabilities and true labels.\n",
        "# Use this for multi-class classification tasks.\n",
        "\n",
        "# Define the optimizer\n",
        "optimizer = torch.optim.SGD(model.parameters(), lr=1e-3)\n",
        "# SGD: Stochastic Gradient Descent, a common optimization algorithm.\n",
        "# - model.parameters(): Passes the model's parameters to the optimizer so it knows what to update.\n",
        "# - lr=1e-3: Sets the learning rate (step size for updates)."
      ]
    },
    {
      "cell_type": "markdown",
      "metadata": {
        "id": "js6rPqIITzt5"
      },
      "source": [
        "In a single training loop, the model makes predictions on the training\n",
        "dataset (fed to it in batches), and backpropagates the prediction error\n",
        "to adjust the model\\'s parameters.\n"
      ]
    },
    {
      "cell_type": "code",
      "execution_count": 15,
      "metadata": {
        "id": "x1PfKtjcTzt5"
      },
      "outputs": [],
      "source": [
        "def train(dataloader, model, loss_fn, optimizer):\n",
        "    size = len(dataloader.dataset)  # Total number of samples in the dataset\n",
        "    model.train()  # Set the model to training mode (activates features like dropout, batch norm)\n",
        "\n",
        "    for batch, (X, y) in enumerate(dataloader):  # Iterate through batches\n",
        "        # Move data and labels to the specified device (CPU or GPU)\n",
        "        X, y = X.to(device), y.to(device)\n",
        "\n",
        "        # Compute prediction and calculate loss\n",
        "        pred = model(X)           # Forward pass: Get model predictions for input X\n",
        "        loss = loss_fn(pred, y)   # Compute the loss between predictions and true labels\n",
        "\n",
        "        # Backpropagation to compute gradients\n",
        "        loss.backward()           # Calculate gradients of the loss with respect to model parameters\n",
        "        optimizer.step()          # Update model parameters based on gradients\n",
        "        optimizer.zero_grad()     # Reset gradients to avoid accumulation\n",
        "\n",
        "        # Print progress every 100 batches\n",
        "        if batch % 100 == 0:\n",
        "            loss, current = loss.item(), (batch + 1) * len(X)  # Get current loss and sample count\n",
        "            print(f\"loss: {loss:>7f}  [{current:>5d}/{size:>5d}]\")  # Log loss and progress\n"
      ]
    },
    {
      "cell_type": "markdown",
      "metadata": {
        "id": "9AfKGWuMTzt5"
      },
      "source": [
        "We also check the model\\'s performance against the test dataset to\n",
        "ensure it is learning.\n"
      ]
    },
    {
      "cell_type": "code",
      "execution_count": 16,
      "metadata": {
        "id": "v42YpIFNTzt6"
      },
      "outputs": [],
      "source": [
        "def test(dataloader, model, loss_fn):\n",
        "    size = len(dataloader.dataset)  # Total number of samples in the dataset\n",
        "    num_batches = len(dataloader)  # Total number of batches in the dataloader\n",
        "    model.eval()  # Set the model to evaluation mode (disables dropout, batch norm updates)\n",
        "\n",
        "    # Initialize variables to accumulate loss and count correct predictions\n",
        "    test_loss, correct = 0, 0\n",
        "\n",
        "    # Disable gradient computation for evaluation (saves memory and speeds up computations)\n",
        "    with torch.no_grad():\n",
        "        for X, y in dataloader:  # Iterate through the test dataset in batches\n",
        "            X, y = X.to(device), y.to(device)  # Move data and labels to the same device as the model\n",
        "\n",
        "            # Forward pass: Get predictions from the model\n",
        "            pred = model(X)\n",
        "\n",
        "            # Accumulate the test loss\n",
        "            test_loss += loss_fn(pred, y).item()  # Add the loss for this batch\n",
        "\n",
        "            # Count the number of correct predictions\n",
        "            correct += (pred.argmax(1) == y).type(torch.float).sum().item()\n",
        "            # pred.argmax(1): Index of the class with the highest score for each sample\n",
        "            # (pred.argmax(1) == y): Boolean tensor indicating correct predictions\n",
        "            # .sum().item(): Counts the number of correct predictions and converts it to a Python float\n",
        "\n",
        "    # Compute the average loss across all batches\n",
        "    test_loss /= num_batches\n",
        "\n",
        "    # Compute accuracy as the fraction of correctly predicted samples\n",
        "    correct /= size\n",
        "\n",
        "    # Print the test results\n",
        "    print(f\"Test Error: \\n Accuracy: {(100*correct):>0.1f}%, Avg loss: {test_loss:>8f} \\n\")\n"
      ]
    },
    {
      "cell_type": "markdown",
      "metadata": {
        "id": "0317ALjCTzt6"
      },
      "source": [
        "The training process is conducted over several iterations (*epochs*).\n",
        "During each epoch, the model learns parameters to make better\n",
        "predictions. We print the model\\'s accuracy and loss at each epoch;\n",
        "we\\'d like to see the accuracy increase and the loss decrease with every\n",
        "epoch.\n"
      ]
    },
    {
      "cell_type": "code",
      "execution_count": 17,
      "metadata": {
        "id": "VIiMI2pNTzt6",
        "outputId": "20b9ca44-57d7-4ff0-e64c-5682b36090b2",
        "colab": {
          "base_uri": "https://localhost:8080/"
        }
      },
      "outputs": [
        {
          "output_type": "stream",
          "name": "stdout",
          "text": [
            "Epoch 1\n",
            "-------------------------------\n",
            "loss: 2.291164  [   64/60000]\n",
            "loss: 2.277608  [ 6464/60000]\n",
            "loss: 2.257710  [12864/60000]\n",
            "loss: 2.256182  [19264/60000]\n",
            "loss: 2.230392  [25664/60000]\n",
            "loss: 2.197989  [32064/60000]\n",
            "loss: 2.211783  [38464/60000]\n",
            "loss: 2.171612  [44864/60000]\n",
            "loss: 2.165118  [51264/60000]\n",
            "loss: 2.133054  [57664/60000]\n",
            "Test Error: \n",
            " Accuracy: 47.1%, Avg loss: 2.126137 \n",
            "\n",
            "Epoch 2\n",
            "-------------------------------\n",
            "loss: 2.136465  [   64/60000]\n",
            "loss: 2.120872  [ 6464/60000]\n",
            "loss: 2.062234  [12864/60000]\n",
            "loss: 2.081539  [19264/60000]\n",
            "loss: 2.016933  [25664/60000]\n",
            "loss: 1.955593  [32064/60000]\n",
            "loss: 1.980476  [38464/60000]\n",
            "loss: 1.897045  [44864/60000]\n",
            "loss: 1.896902  [51264/60000]\n",
            "loss: 1.820390  [57664/60000]\n",
            "Test Error: \n",
            " Accuracy: 59.9%, Avg loss: 1.824966 \n",
            "\n",
            "Epoch 3\n",
            "-------------------------------\n",
            "loss: 1.859795  [   64/60000]\n",
            "loss: 1.822054  [ 6464/60000]\n",
            "loss: 1.713081  [12864/60000]\n",
            "loss: 1.752915  [19264/60000]\n",
            "loss: 1.636796  [25664/60000]\n",
            "loss: 1.598245  [32064/60000]\n",
            "loss: 1.608252  [38464/60000]\n",
            "loss: 1.523541  [44864/60000]\n",
            "loss: 1.546859  [51264/60000]\n",
            "loss: 1.438495  [57664/60000]\n",
            "Test Error: \n",
            " Accuracy: 61.9%, Avg loss: 1.465708 \n",
            "\n",
            "Epoch 4\n",
            "-------------------------------\n",
            "loss: 1.533847  [   64/60000]\n",
            "loss: 1.495763  [ 6464/60000]\n",
            "loss: 1.363121  [12864/60000]\n",
            "loss: 1.431343  [19264/60000]\n",
            "loss: 1.312759  [25664/60000]\n",
            "loss: 1.316736  [32064/60000]\n",
            "loss: 1.322881  [38464/60000]\n",
            "loss: 1.259424  [44864/60000]\n",
            "loss: 1.295860  [51264/60000]\n",
            "loss: 1.197537  [57664/60000]\n",
            "Test Error: \n",
            " Accuracy: 63.3%, Avg loss: 1.223671 \n",
            "\n",
            "Epoch 5\n",
            "-------------------------------\n",
            "loss: 1.298284  [   64/60000]\n",
            "loss: 1.277812  [ 6464/60000]\n",
            "loss: 1.128583  [12864/60000]\n",
            "loss: 1.230612  [19264/60000]\n",
            "loss: 1.105112  [25664/60000]\n",
            "loss: 1.132622  [32064/60000]\n",
            "loss: 1.150904  [38464/60000]\n",
            "loss: 1.092512  [44864/60000]\n",
            "loss: 1.137094  [51264/60000]\n",
            "loss: 1.056290  [57664/60000]\n",
            "Test Error: \n",
            " Accuracy: 64.7%, Avg loss: 1.072546 \n",
            "\n",
            "Done!\n"
          ]
        }
      ],
      "source": [
        "epochs = 5\n",
        "for t in range(epochs):\n",
        "    print(f\"Epoch {t+1}\\n-------------------------------\")\n",
        "    train(train_dataloader, model, loss_fn, optimizer)\n",
        "    test(test_dataloader, model, loss_fn)\n",
        "print(\"Done!\")"
      ]
    },
    {
      "cell_type": "markdown",
      "metadata": {
        "id": "9DFNPaLSTzt6"
      },
      "source": [
        "Read more about [Training your model](optimization_tutorial.html).\n"
      ]
    },
    {
      "cell_type": "markdown",
      "metadata": {
        "id": "Pm6O2Qm_Tzt6"
      },
      "source": [
        "------------------------------------------------------------------------\n"
      ]
    },
    {
      "cell_type": "markdown",
      "metadata": {
        "id": "dWvnC88gTzt6"
      },
      "source": [
        "Saving Models\n",
        "=============\n",
        "\n",
        "A common way to save a model is to serialize the internal state\n",
        "dictionary (containing the model parameters).\n"
      ]
    },
    {
      "cell_type": "code",
      "execution_count": 18,
      "metadata": {
        "id": "czJB_fC6Tzt7",
        "outputId": "baaac45e-2d3a-4421-9a0e-289879b964c9",
        "colab": {
          "base_uri": "https://localhost:8080/"
        }
      },
      "outputs": [
        {
          "output_type": "stream",
          "name": "stdout",
          "text": [
            "Saved PyTorch Model State to model.pth\n"
          ]
        }
      ],
      "source": [
        "torch.save(model.state_dict(), \"model.pth\")\n",
        "print(\"Saved PyTorch Model State to model.pth\")"
      ]
    },
    {
      "cell_type": "markdown",
      "metadata": {
        "id": "NWwFjSGuTzt7"
      },
      "source": [
        "Loading Models\n",
        "==============\n",
        "\n",
        "The process for loading a model includes re-creating the model structure\n",
        "and loading the state dictionary into it.\n"
      ]
    },
    {
      "cell_type": "code",
      "execution_count": 19,
      "metadata": {
        "id": "7VejsAsXTzt7",
        "outputId": "84a047eb-2da7-423f-bbde-636755cd2b22",
        "colab": {
          "base_uri": "https://localhost:8080/"
        }
      },
      "outputs": [
        {
          "output_type": "execute_result",
          "data": {
            "text/plain": [
              "<All keys matched successfully>"
            ]
          },
          "metadata": {},
          "execution_count": 19
        }
      ],
      "source": [
        "model = NeuralNetwork().to(device)\n",
        "model.load_state_dict(torch.load(\"model.pth\", weights_only=True))"
      ]
    },
    {
      "cell_type": "markdown",
      "metadata": {
        "id": "FSaJz1gITzt7"
      },
      "source": [
        "This model can now be used to make predictions.\n"
      ]
    },
    {
      "cell_type": "code",
      "execution_count": 22,
      "metadata": {
        "id": "xan8HzwWTzt7",
        "outputId": "d1cf9fc7-645d-450e-d913-13bc497624d9",
        "colab": {
          "base_uri": "https://localhost:8080/"
        }
      },
      "outputs": [
        {
          "output_type": "stream",
          "name": "stdout",
          "text": [
            "Predicted: \"Ankle boot\", Actual: \"Ankle boot\"\n"
          ]
        }
      ],
      "source": [
        "classes = [\n",
        "    \"T-shirt/top\",\n",
        "    \"Trouser\",\n",
        "    \"Pullover\",\n",
        "    \"Dress\",\n",
        "    \"Coat\",\n",
        "    \"Sandal\",\n",
        "    \"Shirt\",\n",
        "    \"Sneaker\",\n",
        "    \"Bag\",\n",
        "    \"Ankle boot\",\n",
        "]\n",
        "\n",
        "model.eval()\n",
        "x, y = test_data[0][0], test_data[0][1]\n",
        "with torch.no_grad():\n",
        "    x = x.to(device)\n",
        "    pred = model(x)\n",
        "    predicted, actual = classes[pred[0].argmax(0)], classes[y]\n",
        "    print(f'Predicted: \"{predicted}\", Actual: \"{actual}\"')"
      ]
    },
    {
      "cell_type": "markdown",
      "metadata": {
        "id": "ga8H9LZ_Tzt7"
      },
      "source": [
        "Read more about [Saving & Loading your\n",
        "model](saveloadrun_tutorial.html).\n"
      ]
    }
  ],
  "metadata": {
    "kernelspec": {
      "display_name": "Python 3",
      "language": "python",
      "name": "python3"
    },
    "language_info": {
      "codemirror_mode": {
        "name": "ipython",
        "version": 3
      },
      "file_extension": ".py",
      "mimetype": "text/x-python",
      "name": "python",
      "nbconvert_exporter": "python",
      "pygments_lexer": "ipython3",
      "version": "3.10.12"
    },
    "colab": {
      "provenance": [],
      "include_colab_link": true
    }
  },
  "nbformat": 4,
  "nbformat_minor": 0
}